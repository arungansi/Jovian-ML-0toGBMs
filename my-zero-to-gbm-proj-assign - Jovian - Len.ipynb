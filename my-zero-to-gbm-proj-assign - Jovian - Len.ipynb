{
 "cells": [
  {
   "cell_type": "markdown",
   "source": [
    "##### my-zero-to-gbm-proj-assign"
   ],
   "metadata": {}
  },
  {
   "cell_type": "markdown",
   "source": [
    "## Optiver Realized Volatility Prediction"
   ],
   "metadata": {}
  },
  {
   "cell_type": "markdown",
   "source": [
    "This dataset contains stock market data relevant to the practical execution of trades in the financial markets. In particular, it includes order book snapshots and executed trades. With one second resolution, it provides a uniquely fine grained look at the micro-structure of modern financial markets.\r\n",
    "\r\n",
    "This is a code competition where only the first few rows of the test set are available for download. The rows that are visible are intended to illustrate the hidden test set format and folder structure. The remainder will only be available to your notebook when it is submitted. The hidden test set contains data that can be used to construct features to predict roughly 150,000 target values. Loading the entire dataset will take slightly more than 3 GB of memory, by our estimation.\r\n",
    "\r\n",
    "This is also a forecasting competition, where the final private leaderboard will be determined using data gathered after the training period closes, which means that the public and private leaderboards will have zero overlap. During the active training stage of the competition a large fraction of the test data will be filler, intended only to ensure the hidden dataset has approximately the same size as the actual test data. The filler data will be removed entirely during the forecasting phase of the competition and replaced with real"
   ],
   "metadata": {}
  },
  {
   "cell_type": "code",
   "execution_count": null,
   "source": [
    "!pip install jovian --upgrade --quiet"
   ],
   "outputs": [],
   "metadata": {}
  },
  {
   "cell_type": "code",
   "execution_count": null,
   "source": [
    "import jovian"
   ],
   "outputs": [],
   "metadata": {}
  },
  {
   "cell_type": "markdown",
   "source": [
    "#### Data Description\r\n",
    "\r\n",
    "book_[train/test].parquet A parquet file partitioned by stock_id. Provides order book data on the most competitive buy and sell orders entered into the market. The top two levels of the book are shared. The first level of the book will be more competitive in price terms, it will then receive execution priority over the second level.\r\n",
    "\r\n",
    "stock_id - ID code for the stock. Not all stock IDs exist in every time bucket. Parquet coerces this column to the categorical data type when loaded; you may wish to convert it to int8.\r\n",
    "time_id - ID code for the time bucket. Time IDs are not necessarily sequential but are consistent across all stocks.\r\n",
    "seconds_in_bucket - Number of seconds from the start of the bucket, always starting from 0.\r\n",
    "bid_price[1/2] - Normalized prices of the most/second most competitive buy level.\r\n",
    "ask_price[1/2] - Normalized prices of the most/second most competitive sell level.\r\n",
    "bid_size[1/2] - The number of shares on the most/second most competitive buy level.\r\n",
    "ask_size[1/2] - The number of shares on the most/second most competitive sell level.\r\n",
    "trade_[train/test].parquet A parquet file partitioned by stock_id. Contains data on trades that actually executed. Usually, in the market, there are more passive buy/sell intention updates (book updates) than actual trades, therefore one may expect this file to be more sparse than the order book.\r\n",
    "\r\n",
    "stock_id - Same as above.\r\n",
    "time_id - Same as above.\r\n",
    "seconds_in_bucket - Same as above. Note that since trade and book data are taken from the same time window and trade data is more sparse in general, this field is not necessarily starting from 0.\r\n",
    "price - The average price of executed transactions happening in one second. Prices have been normalized and the average has been weighted by the number of shares traded in each transaction.\r\n",
    "size - The sum number of shares traded.\r\n",
    "order_count - The number of unique trade orders taking place.\r\n",
    "train.csv The ground truth values for the training set.\r\n",
    "\r\n",
    "stock_id - Same as above, but since this is a csv the column will load as an integer instead of categorical.\r\n",
    "time_id - Same as above.\r\n",
    "target - The realized volatility computed over the 10 minute window following the feature data under the same stock/time_id. There is no overlap between feature and target data. You can find more info in our tutorial notebook.\r\n",
    "test.csv Provides the mapping between the other data files and the submission file. As with other test files, most of the data is only available to your notebook upon submission with just the first few rows available for download.\r\n",
    "\r\n",
    "stock_id - Same as above.\r\n",
    "time_id - Same as above.\r\n",
    "row_id - Unique identifier for the submission row. There is one row for each existing time ID/stock ID pair. Each time window is not necessarily containing every individual stock.\r\n",
    "sample_submission.csv - A sample submission file in the correct format.\r\n",
    "\r\n",
    "row_id - Same as in test.csv.\r\n",
    "target - Same definition as in train.csv. The benchmark is using the median target value from train.csv."
   ],
   "metadata": {}
  },
  {
   "cell_type": "code",
   "execution_count": null,
   "source": [
    "# Execute this to save new versions of the notebook\r\n",
    "#jovian.commit(project=\"my-zero-to-gbm-proj-assign\")\r\n",
    "jovian.commit(filename=\"my-zero-to-gbm-proj-assign.ipynb\")"
   ],
   "outputs": [],
   "metadata": {}
  },
  {
   "cell_type": "code",
   "execution_count": 1,
   "source": [
    "import pandas as pd\r\n",
    "import numpy as np\r\n",
    "import plotly.express as px\r\n",
    "#train = pd.read_csv('../../../data/optiver-realized-volatility-prediction/train.csv')\r\n",
    "train = pd.read_csv('D:\\\\Edu\\\\Kaggle\\\\optiver-realized-volatility-prediction\\\\train.csv')"
   ],
   "outputs": [],
   "metadata": {}
  },
  {
   "cell_type": "code",
   "execution_count": null,
   "source": [
    "train.info()"
   ],
   "outputs": [],
   "metadata": {}
  },
  {
   "cell_type": "markdown",
   "source": [
    "## Points to be addressed before ML modeling\r\n",
    "\r\n",
    "1. stock_id - ID code for the stock. <font color='red'> Not all stock IDs exist in every time bucket </font>. Parquet coerces this column to the categorical data type when loaded;  <font color='red'> you may wish to convert it to int8 </font>\r\n",
    "2. We have missing “seconds_in_bucket” field?.A: That means there is no related market activities during the last second. For book data you can also assume the top-2 level book shape stays the same as the last available book update within the gap seconds, or, in another word, <font color='red'> you can forward fill the missing data point for all field in book data.</font>\r\n",
    "3. I'm trying to make trade data fixed sized. Since missing seconds_in_bucket implies no trade happening within that one-second window, is it technically correct to resample trade data to 600 seconds and fill it with zeros?. Hi, it is correct to assume 0 for order count and size. Some assumptions are required for the price, though. A price of 0 might cause issues.\r\n",
    "4. the trade data at T seconds contains a 1-second aggregation of executed orders between [T, T+1 second]\r\n",
    "5. One time_id represents a unique 20-minutes trading window which is consistent across all stocks As an example, let’s say time_id = 1 is representing a window between 1900-01-01 12:00:00 and 1900-01-01 12:20:00, then the book data of all stocks for that time_id are is taken from the same window. The data in the first 10 minutes window is shared with all of you, while the order book data of the second 10-minutes is used to build the target for you to predict. The dataset is rolling in such a way that feature and target data will always have zero overlap. Note that time_id is randomly shuffled, so it will not contain any information other than serving as a bridge between different dataset.\r\n",
    "6. We can demonstrate the data structure in below way:\r\n",
    "<img src = https://www.optiver.com/wp-content/uploads/2021/05/DataBucketing.png>\r\n",
    "7. In our competition, we shared the last snapshot of order book for each second. Imagine you have a time_id starting from 1900-01-01 12:00:00, the book update data on seconds_in_bucket = 1 represents the last snapshot of order book update between 12:00:00 and 12:00:01. Similarly to order book data in terms of granularity, but the trade data represents the aggregation of all individual orders happened within one second.\r\n",
    "8. So per stock, under the same time_id, the trade data on seconds_in_bucket = 1 represents the aggregation of all individual executed orders between 12:00:00 and 12:00:01. The size is the sum of the size in each individual order, while the price is aggregated as a volume weighted average price of all trades. A straightforward WAP formula can be found on Investopedia.\r\n",
    "9. Q: Why we have missing “seconds_in_bucket” field?\r\n",
    "A: That means there is no related market activities during the last second.\r\n",
    "\r\n",
    "For book data you can also assume the top-2 level book shape stays the same as the last available book update within the gap seconds, or, in another word, you can forward fill the missing data point for all field in book data. For trade data, it implies no trade happening within that one-second window. One thing to note that trade data tends to be more sparse than book data in many cases.\r\n",
    "\r\n",
    "10. \r\n"
   ],
   "metadata": {}
  },
  {
   "cell_type": "markdown",
   "source": [
    "Taking the first row of data, it implies that the realized vol of the target bucket for time_id 5, stock_id 0 is 0.004136. How does the book and trade data in feature bucket look like for us to build signals?"
   ],
   "metadata": {}
  },
  {
   "cell_type": "code",
   "execution_count": null,
   "source": [
    "book_example = pd.read_parquet('D:\\\\Edu\\\\Kaggle\\\\optiver-realized-volatility-prediction\\\\book_train.parquet/stock_id=0')\r\n",
    "trade_example =  pd.read_parquet('D:\\\\Edu\\\\Kaggle\\\\optiver-realized-volatility-prediction\\\\trade_train.parquet/stock_id=0')\r\n",
    "stock_id = '0'\r\n",
    "book_example = book_example[book_example['time_id']==5]\r\n",
    "book_example.loc[:,'stock_id'] = stock_id\r\n",
    "trade_example = trade_example[trade_example['time_id']==5]\r\n",
    "trade_example.loc[:,'stock_id'] = stock_id"
   ],
   "outputs": [],
   "metadata": {}
  },
  {
   "cell_type": "markdown",
   "source": [
    "#### Book data snapshot"
   ],
   "metadata": {}
  },
  {
   "cell_type": "code",
   "execution_count": null,
   "source": [
    "book_example.info()"
   ],
   "outputs": [],
   "metadata": {}
  },
  {
   "cell_type": "markdown",
   "source": [
    "### Trade Book Snapshot"
   ],
   "metadata": {}
  },
  {
   "cell_type": "code",
   "execution_count": null,
   "source": [
    "trade_example.info()"
   ],
   "outputs": [],
   "metadata": {}
  },
  {
   "cell_type": "markdown",
   "source": [
    "##### Realized volatility calculation\r\n",
    "\r\n",
    "our target is to predict short-term realized volatility. Although the order book and trade data for the target cannot be shared, we can still present the realized volatility calculation using the feature data we provided.\r\n",
    "\r\n",
    "As realized volatility is a statistical measure of price changes on a given stock, to calculate the price change we first need to have a stock valuation at the fixed interval (1 second). We will use weighted averaged price, or WAP, of the order book data we provided."
   ],
   "metadata": {}
  },
  {
   "cell_type": "code",
   "execution_count": null,
   "source": [
    "book_example['bid_size'] = (book_example['bid_size1'] + book_example['bid_size2'])\r\n",
    "book_example['bid_price'] = (book_example['bid_price1'] * book_example['bid_size1'] + book_example['bid_price2'] * book_example['bid_size2'])/book_example['bid_size']\r\n",
    "\r\n",
    "book_example['ask_size'] = (book_example['ask_size1'] + book_example['ask_size2'])\r\n",
    "book_example['ask_price'] = (book_example['ask_price1'] * book_example['ask_size1'] + book_example['ask_price2'] * book_example['ask_size2'])/(book_example['ask_size1'] + book_example['ask_size2'])\r\n",
    "\r\n",
    "book_example['wap'] = (book_example['bid_price'] * book_example['ask_size'] + book_example['ask_price'] * book_example['bid_size']) / (book_example['bid_size'] +  book_example['ask_size'])\r\n",
    "\r\n",
    "book_example['wap1'] = (book_example['bid_price1'] * book_example['ask_size1'] + book_example['ask_price1'] * book_example['bid_size1']) / (book_example['bid_size1'] +  book_example['ask_size1'])\r\n",
    "\r\n",
    "book_example['wap2'] = (book_example['bid_price2'] * book_example['ask_size2'] + book_example['ask_price2'] * book_example['bid_size2']) / (book_example['bid_size2'] +  book_example['ask_size2'])\r\n"
   ],
   "outputs": [],
   "metadata": {}
  },
  {
   "cell_type": "markdown",
   "source": [
    "The WAP of the stock is plotted below"
   ],
   "metadata": {}
  },
  {
   "cell_type": "code",
   "execution_count": null,
   "source": [
    "fig = px.line(book_example, x=\"seconds_in_bucket\", y=\"wap\", title='WAP of stock_id_0, time_id_5')\r\n",
    "fig.show()"
   ],
   "outputs": [],
   "metadata": {}
  },
  {
   "cell_type": "markdown",
   "source": [
    "### Log returns\n",
    "\n",
    "How can we compare the price of a stock between yesterday and today?\n",
    "\n",
    "The easiest method would be to just take the difference. This is definitely the most intuitive way, however price differences are not always comparable across stocks. For example, let's assume that we have invested \\$ 1000 in both stock A and stock B and that stock A moves from  \\$ 100 to  \\$ 102 and stock B moves from  \\$ 10 to  \\$ 11. We had a total of 10 shares of A ( \\$1000 / \\$100=10 ) which led to a profit of  10⋅(\\$102−\\$100)=\\$20  and a total of 100 shares of B that yielded \\$100. So the price increase was larger for stock A, although the move was proportionally much larger for stock B.\n",
    "\n",
    "We can solve the above problem by dividing the move by the starting price of the stock, effectively computing the percentage change in price, also known as the stock return. In our example, the return for stock A was  \\$102−\\$100/\\$100=2% , while for stock B it was  \\$11−\\$10/\\$10=10% . The stock return coincides with the percentage change in our invested capital.\n",
    "\n",
    "Returns are widely used in finance, however log returns are preferred whenever some mathematical modelling is required. Calling  St  the price of the stock  S  at time  t , we can define the log return between  t1  and  t2  as:\n",
    "\n",
    " - r(t1,t2)=log(St2/St1)\n",
    " \n",
    "Usually, we look at log returns over fixed time intervals, so with 10-minute log return we mean  rt=rt−10min,t .\n",
    "\n",
    "Log returns present several advantages, for example:\n",
    "\n",
    "- they are additive across time  r(t1,t2) + r(t2,t3) = (rt1,t3) \n",
    "- regular returns cannot go below -100%, while log returns are not bounded\n",
    "\n",
    "Next we will compute the log return\n",
    "\n",
    "To compute the Log Return, we will simply take the logarithm of the ratio between two consecutive WAP. The first row will have an empty return as the previous book update is unknown, therefore the empty return data point will be dropped."
   ],
   "metadata": {}
  },
  {
   "cell_type": "code",
   "execution_count": null,
   "source": [
    "def log_return(list_stock_prices):\r\n",
    "    return np.log(list_stock_prices).diff()"
   ],
   "outputs": [],
   "metadata": {}
  },
  {
   "cell_type": "code",
   "execution_count": null,
   "source": [
    "book_example.loc[:,'log_return'] = log_return(book_example['wap'])\r\n"
   ],
   "outputs": [],
   "metadata": {}
  },
  {
   "cell_type": "code",
   "execution_count": null,
   "source": [
    "book_example['log_return'] = book_example['log_return'].fillna(book_example['log_return'].mean())"
   ],
   "outputs": [],
   "metadata": {}
  },
  {
   "cell_type": "code",
   "execution_count": null,
   "source": [
    "book_example.head()"
   ],
   "outputs": [],
   "metadata": {}
  },
  {
   "cell_type": "code",
   "execution_count": null,
   "source": [
    "#~ means NOT \r\n",
    "# also the null condition is applied because when we .diff() method the first row will have empty value as we cannot have diff of return with respect to the previous time id as the first row is the very first time id\r\n",
    "book_example = book_example[~book_example['log_return'].isnull()]"
   ],
   "outputs": [],
   "metadata": {}
  },
  {
   "cell_type": "code",
   "execution_count": null,
   "source": [
    "book_example['log_return'].isnull().sum()"
   ],
   "outputs": [],
   "metadata": {}
  },
  {
   "cell_type": "markdown",
   "source": [
    "Let's plot the tick-to-tick return of this instrument over this time bucket"
   ],
   "metadata": {}
  },
  {
   "cell_type": "code",
   "execution_count": null,
   "source": [
    "fig = px.line(book_example, x=\"seconds_in_bucket\", y=\"log_return\", title='Log return of stock_id_0, time_id_5')\r\n",
    "fig.show()"
   ],
   "outputs": [],
   "metadata": {}
  },
  {
   "cell_type": "markdown",
   "source": [
    "###Realized volatility\r\n",
    "\r\n",
    "When we trade options, a valuable input to our models is the standard deviation of the stock log returns. The standard deviation will be different for log returns computed over longer or shorter intervals, for this reason it is usually normalized to a 1-year period and the annualized standard deviation is called volatility.\r\n",
    "\r\n",
    "In this competition, you will be given 10 minutes of book data and we ask you to predict what the volatility will be in the following 10 minutes. Volatility will be measured as follows:\r\n",
    "\r\n",
    "We will compute the log returns over all consecutive book updates and we define the realized volatility,  σ , as the squared root of the sum of squared log returns.\r\n",
    "\r\n",
    "\\sigma = \\sqrt{\\sum_{t}r_{t-1, t}^2}\r\n",
    " \r\n",
    "Where we use WAP as price of the stock to compute log returns.\r\n",
    "\r\n",
    "We want to keep definitions as simple and clear as possible, so that Kagglers without financial knowledge will not be penalized. So we are not annualizing the volatility and we are assuming that log returns have 0 mean.\r\n",
    "\r\n",
    "\r\n",
    "The realized vol of stock 0 in this feature bucket, will be:"
   ],
   "metadata": {}
  },
  {
   "cell_type": "code",
   "execution_count": null,
   "source": [
    "def realized_volatility(series_log_return):\r\n",
    "    return np.sqrt(np.sum(series_log_return**2))\r\n",
    "\r\n",
    "realized_vol = realized_volatility(book_example['log_return'])\r\n",
    "print(f'Realized volatility for stock_id 0 on time_id 5 is {realized_vol}')"
   ],
   "outputs": [],
   "metadata": {}
  },
  {
   "cell_type": "markdown",
   "source": [
    "### Naive prediction: using past realized volatility as target\n",
    "\n",
    "A commonly known fact about volatility is that it tends to be autocorrelated. We can use this property to implement a naive model that just \"predicts\" realized volatility by using whatever the realized volatility was in the initial 10 minutes.\n",
    "\n",
    "Let's calculate the past realized volatility across the training set to see how predictive a single naive signal can be."
   ],
   "metadata": {}
  },
  {
   "cell_type": "code",
   "execution_count": 2,
   "source": [
    "import glob\r\n",
    "list_order_book_file_train = glob.glob('D:\\\\Edu\\\\Kaggle\\\\optiver-realized-volatility-prediction\\\\book_train.parquet/*')\r\n",
    "list_trade_book_file_train = glob.glob('D:\\\\Edu\\\\Kaggle\\\\optiver-realized-volatility-prediction\\\\trade_train.parquet/*')\r\n",
    "#list_order_book_file_train"
   ],
   "outputs": [],
   "metadata": {}
  },
  {
   "cell_type": "markdown",
   "source": [
    "As the data is partitioned by stock_id (each stock id is one folder), we try to calculcate realized volatility stock by stock and combine them into one target file. Note that the stock id as the partition column is not present if we load the single file so we will remedy that manually. We will reuse the log return and realized volatility functions defined in the previous session."
   ],
   "metadata": {}
  },
  {
   "cell_type": "code",
   "execution_count": 3,
   "source": [
    "def compute_wap(df_stock_book):\r\n",
    "       df_stock_book['bid_price'] = (df_stock_book['bid_price1'] * df_stock_book['bid_size1'] + df_stock_book['bid_price2'] * df_stock_book['bid_size2'])/(df_stock_book['bid_size1'] + df_stock_book['bid_size2'])\r\n",
    "       df_stock_book['bid_size'] = (df_stock_book['bid_size1'] + df_stock_book['bid_size2'])\r\n",
    "\r\n",
    "       df_stock_book['ask_price'] = (df_stock_book['ask_price1'] * df_stock_book['ask_size1'] + df_stock_book['ask_price2'] * df_stock_book['ask_size2'])/(df_stock_book['ask_size1'] + df_stock_book['ask_size2'])\r\n",
    "       df_stock_book['ask_size'] = (df_stock_book['ask_size1'] + df_stock_book['ask_size2'])\r\n",
    "\r\n",
    "       df_stock_book['wap'] = (df_stock_book['bid_price'] * df_stock_book['ask_size'] + df_stock_book['ask_price'] * df_stock_book['bid_size']) / (df_stock_book['bid_size'] +  df_stock_book['ask_size'])\r\n",
    "       return df_stock_book['wap']"
   ],
   "outputs": [],
   "metadata": {}
  },
  {
   "cell_type": "code",
   "execution_count": null,
   "source": [
    "# def realized_volatility_per_time_id(file_path, prediction_column_name):\r\n",
    "#     df_book_data = pd.read_parquet(file_path)\r\n",
    "# #    df_book_data['wap'] = (df_book_data['bid_price1'] * df_book_data['ask_size1']+df_book_data['ask_price1'] * df_book_data['bid_size1'])  / (\r\n",
    "# #                                     df_book_data['bid_size1']+ df_book_data[\r\n",
    "# #                                  'ask_size1'])\r\n",
    "#     df_book_data['wap'] = compute_wap(df_book_data)\r\n",
    "#     df_book_data['log_return'] = df_book_data.groupby(['time_id'])['wap'].apply(log_return)\r\n",
    "#     df_book_data = df_book_data[~df_book_data['log_return'].isnull()]\r\n",
    "#     df_realized_vol_per_stock =  pd.DataFrame(df_book_data.groupby(['time_id'])['log_return'].agg(realized_volatility)).reset_index()\r\n",
    "#     df_realized_vol_per_stock = df_realized_vol_per_stock.rename(columns = {'log_return':prediction_column_name})\r\n",
    "#     stock_id = file_path.split('=')[1]\r\n",
    "#     df_realized_vol_per_stock['row_id'] = df_realized_vol_per_stock['time_id'].apply(lambda x:f'{stock_id}-{x}')\r\n",
    "#     return df_realized_vol_per_stock[['row_id',prediction_column_name]]"
   ],
   "outputs": [],
   "metadata": {}
  },
  {
   "cell_type": "code",
   "execution_count": null,
   "source": [
    "# df_order_book = pd.DataFrame()\r\n",
    "# for file in list_order_book_file_train:\r\n",
    "#      df_stock_book = pd.read_parquet(file)\r\n",
    "#      df_stock_book['stock_id'] = file.split('=')[1]\r\n",
    "#      df_order_book = pd.concat([df_order_book,df_stock_book])\r\n"
   ],
   "outputs": [],
   "metadata": {}
  },
  {
   "cell_type": "code",
   "execution_count": 4,
   "source": [
    "import random\r\n",
    "# # Get current state and store\r\n",
    "# state = random.getstate()\r\n",
    "# # set current state\r\n",
    "# random.setstate(state)\r\n",
    "random.seed(42)\r\n",
    "list_order_book_file_train_50 = random.sample(list_order_book_file_train, 50)\r\n",
    "list_trade_book_file_train_50 = [ l.replace('book','trade') for l in list_order_book_file_train_50]\r\n",
    "#list_trade_book_file_train_50 = random.sample(list_trade_book_file_train, 50)\r\n",
    "# list_order_book_file_train_50_old = list_order_book_file_train_50\r\n",
    "# random.seed(42)\r\n",
    "# list_order_book_file_train_50 = random.sample(list_order_book_file_train, 5)\r\n",
    "# assert(list_order_book_file_train_50 == list_order_book_file_train_50_old)\r\n",
    "#list(zip(list_order_book_file_train_50,list_order_book_file_train_50_old))"
   ],
   "outputs": [],
   "metadata": {}
  },
  {
   "cell_type": "code",
   "execution_count": null,
   "source": [
    "!pip install pyarrow"
   ],
   "outputs": [],
   "metadata": {}
  },
  {
   "cell_type": "code",
   "execution_count": null,
   "source": [
    "pd.io.parquet.get_engine('auto')\r\n",
    "pd.io.parquet.PyArrowImpl()"
   ],
   "outputs": [],
   "metadata": {}
  },
  {
   "cell_type": "code",
   "execution_count": 5,
   "source": [
    "# df_order_book_50 = pd.DataFrame()\r\n",
    "# df_trade_book_50 = pd.DataFrame()\r\n",
    "# for file in list_order_book_file_train_50:\r\n",
    "#      df_stock_book = pd.read_parquet(file)\r\n",
    "#      df_stock_book['stock_id'] = file.split('=')[1]\r\n",
    "#      df_order_book_50 = pd.concat([df_order_book_50,df_stock_book])\r\n",
    "\r\n",
    "\r\n",
    "\r\n",
    "df_order_book_5 = pd.DataFrame()\r\n",
    "for file in list_order_book_file_train_50[:5]:\r\n",
    "     df_stock_book = pd.read_parquet(file)\r\n",
    "     df_stock_book['stock_id'] = file.split('=')[1]\r\n",
    "     df_order_book_5 = pd.concat([df_order_book_5,df_stock_book])\r\n",
    "\r\n",
    "\r\n",
    "df_trade_book_5 = pd.DataFrame()\r\n",
    "for file in list_trade_book_file_train_50[:5]:\r\n",
    "     df_stock_book = pd.read_parquet(file)\r\n",
    "     df_stock_book['stock_id'] = file.split('=')[1]\r\n",
    "     df_trade_book_5 = pd.concat([df_trade_book_5,df_stock_book])\r\n"
   ],
   "outputs": [],
   "metadata": {}
  },
  {
   "cell_type": "code",
   "execution_count": null,
   "source": [
    "df_order_book_5.stock_id.unique(),df_trade_book_5.stock_id.unique()\r\n"
   ],
   "outputs": [],
   "metadata": {}
  },
  {
   "cell_type": "code",
   "execution_count": null,
   "source": [
    "# df_order_book = pd.DataFrame()\r\n",
    "# for file in list_order_book_file_train:\r\n",
    "#      df_stock_book = pd.read_parquet(file)\r\n",
    "#      df_stock_book['stock_id'] = file.split('=')[1]\r\n",
    "#      df_order_book = pd.concat([df_order_book,df_stock_book])\r\n",
    "\r\n",
    "\r\n",
    "# df_trade_book = pd.DataFrame()\r\n",
    "# for file in list_trade_book_file_train:\r\n",
    "#      df_stock_book = pd.read_parquet(file)\r\n",
    "#      df_stock_book['stock_id'] = file.split('=')[1]\r\n",
    "#      df_trade_book = pd.concat([df_trade_book,df_stock_book])\r\n"
   ],
   "outputs": [],
   "metadata": {}
  },
  {
   "cell_type": "code",
   "execution_count": null,
   "source": [
    "#grouped.filter(a_lt_112)\r\n",
    "#len(df_order_book_50.loc[df_order_book_50.seconds_in_bucket == 0])\r\n",
    "#print(df_order_book_50.time_id.nunique(),df_order_book_50.stock_id.nunique(),df_order_book_50.seconds_in_bucket.nunique())\r\n",
    "#There are a total of 3830 time series, 112 stocks and 600 seconds bucket \r\n",
    "# In this 3830 Times Ids there are a maximum possible order booking of 3830*600 = 2,298,000. But the actual is  "
   ],
   "outputs": [],
   "metadata": {}
  },
  {
   "cell_type": "code",
   "execution_count": 6,
   "source": [
    "# with open('book_index.csv','w+') as f:\r\n",
    "#     for items in list(df_order_book_50.index):\r\n",
    "#         f.write('%s\\n' %items)\r\n",
    "#new_index\r\n",
    "df_order_book_5.reset_index(inplace=True,drop=True)\r\n",
    "df_trade_book_5.reset_index(inplace=True,drop=True)\r\n",
    "\r\n",
    "# df_order_book.reset_index(inplace=True,drop=True)\r\n",
    "# df_trade_book.reset_index(inplace=True,drop=True)\r\n",
    "\r\n",
    "#df_order_book_50.head(-1)\r\n",
    "#df_order_book_50[df_order_book_50.index != df_order_book_50['index']]\r\n",
    "#(72311913, 11)"
   ],
   "outputs": [],
   "metadata": {}
  },
  {
   "cell_type": "code",
   "execution_count": 8,
   "source": [
    "#df_order_book_5.index\r\n",
    "df_order_book_5_idxed = df_order_book_5.copy()\r\n",
    "df_trade_book_5_idxed = df_trade_book_5.copy()\r\n"
   ],
   "outputs": [],
   "metadata": {}
  },
  {
   "cell_type": "code",
   "execution_count": null,
   "source": [
    "# df_order_book_50_idxed.drop(columns=['index', 'bid_price1', 'ask_price1',\r\n",
    "#        'bid_price2', 'ask_price2', 'bid_size1', 'ask_size1', 'bid_size2',\r\n",
    "#        'ask_size2'],inplace=True)"
   ],
   "outputs": [],
   "metadata": {}
  },
  {
   "cell_type": "code",
   "execution_count": 7,
   "source": [
    "new_index = pd.Index(np.arange(0,600), name=\"seconds_in_bucket\")"
   ],
   "outputs": [],
   "metadata": {}
  },
  {
   "cell_type": "code",
   "execution_count": null,
   "source": [
    "print(df_order_book_5_idxed.shape, df_trade_book_5_idxed.shape)"
   ],
   "outputs": [],
   "metadata": {}
  },
  {
   "cell_type": "code",
   "execution_count": null,
   "source": [
    "df_order_book_5_idxed.stock_id.unique()"
   ],
   "outputs": [],
   "metadata": {}
  },
  {
   "cell_type": "code",
   "execution_count": null,
   "source": [
    "df_trade_book_5_idxed.stock_id.unique()"
   ],
   "outputs": [],
   "metadata": {}
  },
  {
   "cell_type": "code",
   "execution_count": null,
   "source": [
    "#df_order_book_50_idxed.reindex( pd.MultiIndex.from_product([df_order_book_50_idxed['time_id'],df_order_book_50_idxed['stock_id'],new_index], names=['time_id', 'stock_id','seconds_in_bucket']))\r\n",
    "#df_order_book_50_idxed.reindex(pd.MultiIndex.from_frame(df_order_book_50_idxed[['time_id','stock_id','seconds_in_bucket']]))"
   ],
   "outputs": [],
   "metadata": {}
  },
  {
   "cell_type": "code",
   "execution_count": null,
   "source": [
    "#print(df_order_book_50_idxed.time_id.nunique(),df_order_book_50_idxed.stock_id.nunique(),df_order_book_50_idxed.seconds_in_bucket.nunique())\r\n",
    "#df_order_book_50_idxed.set_index(['time_id','stock_id'],inplace=True)\r\n",
    "#72311913 rows × 9 columns\r\n",
    "# 72312513\r\n",
    "# 2,202,009,600"
   ],
   "outputs": [],
   "metadata": {}
  },
  {
   "cell_type": "code",
   "execution_count": null,
   "source": [
    "#for a given time_id and stiock_id itself, the number of \"seconds_in_bucket\" is not the same. THis is the same across\r\n",
    "#df_order_book_50_idxed.reindex(new_index,level=2)"
   ],
   "outputs": [],
   "metadata": {}
  },
  {
   "cell_type": "code",
   "execution_count": 9,
   "source": [
    "df_order_trade_merged = pd.merge(\r\n",
    "    df_order_book_5_idxed,\r\n",
    "    df_trade_book_5_idxed,\r\n",
    "    how=\"outer\",\r\n",
    "    on=['time_id','stock_id','seconds_in_bucket'],\r\n",
    "    sort=True,\r\n",
    "    suffixes=(\"_x\", \"_y\"),\r\n",
    "    copy=True,\r\n",
    "    indicator=False,\r\n",
    "    validate=\"m:m\"\r\n",
    ")"
   ],
   "outputs": [],
   "metadata": {}
  },
  {
   "cell_type": "code",
   "execution_count": null,
   "source": [
    "df_order_trade_merged.head()"
   ],
   "outputs": [],
   "metadata": {}
  },
  {
   "cell_type": "code",
   "execution_count": null,
   "source": [
    "#df_order_trade_merged_5.info()\r\n",
    "#book_example.info()\r\n",
    "#trade_example.info()\r\n",
    "df_order_trade_merged.stock_id.unique()\r\n"
   ],
   "outputs": [],
   "metadata": {}
  },
  {
   "cell_type": "code",
   "execution_count": 10,
   "source": [
    "df_order_trade_merged['stock_id'] = df_order_trade_merged['stock_id'].astype('int8')"
   ],
   "outputs": [],
   "metadata": {}
  },
  {
   "cell_type": "code",
   "execution_count": 11,
   "source": [
    "grouped = df_order_trade_merged.groupby(['time_id','stock_id'])\r\n",
    "#df_order_book_50_idxed.index.levels[2]"
   ],
   "outputs": [],
   "metadata": {}
  },
  {
   "cell_type": "code",
   "execution_count": 12,
   "source": [
    "#grouped.seconds_in_bucket.max()\r\n",
    "#pd.concat([df_order_book_50_idxed],keys=new_index,names=['secs_in_bucket'])\r\n",
    "#nw_idx = pd.MultiIndex.append(df_order_book_50_idxed.index,other=new_index)\r\n",
    "#72312513\r\n",
    "#df_order_book_50_idxed.reset_index(pd.MultiIndex.from_arrays(arrays=[df_order_book_50_idxed.index.levels[0],df_order_book_50_idxed.index.levels[1],new_index]))\r\n",
    "#grouped.count()\r\n",
    "#191,473\r\n",
    "#191,500 (3830 time_id * 50 stocks). 27 rows are missing where some stock_id is not present for all time_ids.\r\n",
    "#114,883,800 rows should be there ideally  (191473 * 600). Actual number of rows are 72,311,913. There is a missing number of 42,571,887 rows during due to the missing secods_in_bucket\r\n",
    "#df_order_book_50_idxed.shape\r\n",
    "#len(df_order_book_50_idxed.index.levels[0]) * len(df_order_book_50_idxed.index.levels[1]) * len(new_index)\r\n",
    "#df_order_book_50_idxed.index.get_level_values(1)\r\n",
    "#df_order_book_50_idxed.reindex(pd.MultiIndex.from_product([df_order_book_50_idxed.index,new_index],names=['time_id', 'stock_id','secs_in_bucket']),method='nearest')\r\n",
    "#s=grouped.apply(lambda x : x.set_index('seconds_in_bucket').reindex(new_index).reset_index().ffill()).reset_index(drop=True)\r\n",
    "\r\n",
    "#s1=grouped.apply(lambda x : x.set_index('seconds_in_bucket'))\r\n",
    "# converts the column \"seconds_in_bucket\" into an index along with the other 2 index introduced by the GroupBy operation \r\n",
    "# it is as good as groupby (['time_id', 'stock_id','seconds_in_bucket'])\r\n",
    "# No use because the missing sequences is not introduced yet\r\n",
    "\r\n",
    "s2=grouped.apply(lambda x : x.set_index('seconds_in_bucket').reindex(new_index))\r\n",
    "# the best of all\r\n",
    "# creates a multiindex(['time_id', 'stock_id','seconds_in_bucket']) and also does not reintroduce the column \"seconds_in_bucket\" as a normal column into the dataframe\r\n",
    "\r\n",
    "#s3=grouped.apply(lambda x : x.set_index('seconds_in_bucket').reindex(new_index).reset_index())\r\n",
    "# creates a multiindex(['time_id', 'stock_id','seconds_in_bucket']) but reintroduces the column \"seconds_in_bucket\" as a normal column into the dataframe\r\n",
    "# 2nd best\r\n",
    "\r\n",
    "#s5=grouped.apply(lambda x : x.set_index('seconds_in_bucket').reindex(new_index).reset_index(drop=True))\r\n",
    "# creates a multiindex(['time_id', 'stock_id',None]). The \"seconds_in_bucket\" is used for the new sequential ordering but it is removed as index column name and also as removed a normal column. \r\n",
    "# the sequence introduced by the new_index only is used in the multiindex\r\n",
    "\r\n",
    "#s4=grouped.apply(lambda x : x.set_index('seconds_in_bucket').reindex(new_index).reset_index()).reset_index(drop=True)\r\n",
    "# resets the indx back to the original rangeIndex but introduces the sequential order. \r\n",
    "\r\n",
    "#s6=grouped.apply(lambda x : x.reindex(new_index))\r\n",
    "#introduce a new index as per names and values of \"new_index\" and the existing columns ['time_id', 'stock_id','seconds_in_bucket'] stay as it is.\r\n",
    "# BADLY resets all the values of all the columns in the dataframe to null (except of coursse the Index column values)\r\n",
    "\r\n",
    "#We can use the drop parameter to avoid the old index being added as a column:\r\n",
    "\r\n"
   ],
   "outputs": [],
   "metadata": {}
  },
  {
   "cell_type": "code",
   "execution_count": 13,
   "source": [
    "s2.drop(columns=['time_id','stock_id'],inplace=True)"
   ],
   "outputs": [],
   "metadata": {}
  },
  {
   "cell_type": "code",
   "execution_count": 56,
   "source": [
    "s2.info()"
   ],
   "outputs": [
    {
     "output_type": "stream",
     "name": "stdout",
     "text": [
      "<class 'pandas.core.frame.DataFrame'>\n",
      "MultiIndex: 11489400 entries, (5, 2, 0) to (32767, 111, 599)\n",
      "Data columns (total 11 columns):\n",
      " #   Column       Dtype  \n",
      "---  ------       -----  \n",
      " 0   bid_price1   float32\n",
      " 1   ask_price1   float32\n",
      " 2   bid_price2   float32\n",
      " 3   ask_price2   float32\n",
      " 4   bid_size1    float64\n",
      " 5   ask_size1    float64\n",
      " 6   bid_size2    float64\n",
      " 7   ask_size2    float64\n",
      " 8   price        float32\n",
      " 9   size         float64\n",
      " 10  order_count  float64\n",
      "dtypes: float32(5), float64(6)\n",
      "memory usage: 799.9 MB\n"
     ]
    }
   ],
   "metadata": {}
  },
  {
   "cell_type": "code",
   "execution_count": 57,
   "source": [
    "print(s2.shape)"
   ],
   "outputs": [
    {
     "output_type": "stream",
     "name": "stdout",
     "text": [
      "(11489400, 11)\n"
     ]
    }
   ],
   "metadata": {}
  },
  {
   "cell_type": "code",
   "execution_count": 58,
   "source": [
    "print(s2.index)"
   ],
   "outputs": [
    {
     "output_type": "stream",
     "name": "stdout",
     "text": [
      "MultiIndex([(    5,   2,   0),\n",
      "            (    5,   2,   1),\n",
      "            (    5,   2,   2),\n",
      "            (    5,   2,   3),\n",
      "            (    5,   2,   4),\n",
      "            (    5,   2,   5),\n",
      "            (    5,   2,   6),\n",
      "            (    5,   2,   7),\n",
      "            (    5,   2,   8),\n",
      "            (    5,   2,   9),\n",
      "            ...\n",
      "            (32767, 111, 590),\n",
      "            (32767, 111, 591),\n",
      "            (32767, 111, 592),\n",
      "            (32767, 111, 593),\n",
      "            (32767, 111, 594),\n",
      "            (32767, 111, 595),\n",
      "            (32767, 111, 596),\n",
      "            (32767, 111, 597),\n",
      "            (32767, 111, 598),\n",
      "            (32767, 111, 599)],\n",
      "           names=['time_id', 'stock_id', 'seconds_in_bucket'], length=11489400)\n"
     ]
    }
   ],
   "metadata": {}
  },
  {
   "cell_type": "code",
   "execution_count": 59,
   "source": [
    "#s2[['bid_size1','ask_size1','bid_size2','ask_size2']] = s2[['bid_size1','ask_size1','bid_size2','ask_size2']].astype('int16')\r\n",
    "#s2['stock_id'] = s2['stock_id'].astype('int8')\r\n",
    "# s.info()\r\n",
    "# #s = s.reindex(columns=['time_id','stock_id','seconds_in_bucket'])"
   ],
   "outputs": [],
   "metadata": {}
  },
  {
   "cell_type": "code",
   "execution_count": 60,
   "source": [
    "s2.head()"
   ],
   "outputs": [
    {
     "output_type": "execute_result",
     "data": {
      "text/plain": [
       "                                    bid_price1  ask_price1  bid_price2  \\\n",
       "time_id stock_id seconds_in_bucket                                       \n",
       "5       2        0                    1.000607    1.000769    1.000526   \n",
       "                 1                    1.000526    1.000769    1.000445   \n",
       "                 2                    1.000526    1.000769    1.000364   \n",
       "                 3                    1.000607    1.000769    1.000526   \n",
       "                 4                    1.000526    1.000769    1.000445   \n",
       "\n",
       "                                    ask_price2  bid_size1  ask_size1  \\\n",
       "time_id stock_id seconds_in_bucket                                     \n",
       "5       2        0                     1.00085      100.0      200.0   \n",
       "                 1                     1.00085        1.0      200.0   \n",
       "                 2                     1.00085        1.0      300.0   \n",
       "                 3                     1.00085      100.0      300.0   \n",
       "                 4                     1.00085        1.0      300.0   \n",
       "\n",
       "                                    bid_size2  ask_size2     price   size  \\\n",
       "time_id stock_id seconds_in_bucket                                          \n",
       "5       2        0                        1.0        1.0  1.000688  101.0   \n",
       "                 1                      100.0      101.0       NaN    NaN   \n",
       "                 2                      112.0      101.0       NaN    NaN   \n",
       "                 3                        1.0        1.0       NaN    NaN   \n",
       "                 4                      300.0      101.0       NaN    NaN   \n",
       "\n",
       "                                    order_count  \n",
       "time_id stock_id seconds_in_bucket               \n",
       "5       2        0                          2.0  \n",
       "                 1                          NaN  \n",
       "                 2                          NaN  \n",
       "                 3                          NaN  \n",
       "                 4                          NaN  "
      ],
      "text/html": [
       "<div>\n",
       "<style scoped>\n",
       "    .dataframe tbody tr th:only-of-type {\n",
       "        vertical-align: middle;\n",
       "    }\n",
       "\n",
       "    .dataframe tbody tr th {\n",
       "        vertical-align: top;\n",
       "    }\n",
       "\n",
       "    .dataframe thead th {\n",
       "        text-align: right;\n",
       "    }\n",
       "</style>\n",
       "<table border=\"1\" class=\"dataframe\">\n",
       "  <thead>\n",
       "    <tr style=\"text-align: right;\">\n",
       "      <th></th>\n",
       "      <th></th>\n",
       "      <th></th>\n",
       "      <th>bid_price1</th>\n",
       "      <th>ask_price1</th>\n",
       "      <th>bid_price2</th>\n",
       "      <th>ask_price2</th>\n",
       "      <th>bid_size1</th>\n",
       "      <th>ask_size1</th>\n",
       "      <th>bid_size2</th>\n",
       "      <th>ask_size2</th>\n",
       "      <th>price</th>\n",
       "      <th>size</th>\n",
       "      <th>order_count</th>\n",
       "    </tr>\n",
       "    <tr>\n",
       "      <th>time_id</th>\n",
       "      <th>stock_id</th>\n",
       "      <th>seconds_in_bucket</th>\n",
       "      <th></th>\n",
       "      <th></th>\n",
       "      <th></th>\n",
       "      <th></th>\n",
       "      <th></th>\n",
       "      <th></th>\n",
       "      <th></th>\n",
       "      <th></th>\n",
       "      <th></th>\n",
       "      <th></th>\n",
       "      <th></th>\n",
       "    </tr>\n",
       "  </thead>\n",
       "  <tbody>\n",
       "    <tr>\n",
       "      <th rowspan=\"5\" valign=\"top\">5</th>\n",
       "      <th rowspan=\"5\" valign=\"top\">2</th>\n",
       "      <th>0</th>\n",
       "      <td>1.000607</td>\n",
       "      <td>1.000769</td>\n",
       "      <td>1.000526</td>\n",
       "      <td>1.00085</td>\n",
       "      <td>100.0</td>\n",
       "      <td>200.0</td>\n",
       "      <td>1.0</td>\n",
       "      <td>1.0</td>\n",
       "      <td>1.000688</td>\n",
       "      <td>101.0</td>\n",
       "      <td>2.0</td>\n",
       "    </tr>\n",
       "    <tr>\n",
       "      <th>1</th>\n",
       "      <td>1.000526</td>\n",
       "      <td>1.000769</td>\n",
       "      <td>1.000445</td>\n",
       "      <td>1.00085</td>\n",
       "      <td>1.0</td>\n",
       "      <td>200.0</td>\n",
       "      <td>100.0</td>\n",
       "      <td>101.0</td>\n",
       "      <td>NaN</td>\n",
       "      <td>NaN</td>\n",
       "      <td>NaN</td>\n",
       "    </tr>\n",
       "    <tr>\n",
       "      <th>2</th>\n",
       "      <td>1.000526</td>\n",
       "      <td>1.000769</td>\n",
       "      <td>1.000364</td>\n",
       "      <td>1.00085</td>\n",
       "      <td>1.0</td>\n",
       "      <td>300.0</td>\n",
       "      <td>112.0</td>\n",
       "      <td>101.0</td>\n",
       "      <td>NaN</td>\n",
       "      <td>NaN</td>\n",
       "      <td>NaN</td>\n",
       "    </tr>\n",
       "    <tr>\n",
       "      <th>3</th>\n",
       "      <td>1.000607</td>\n",
       "      <td>1.000769</td>\n",
       "      <td>1.000526</td>\n",
       "      <td>1.00085</td>\n",
       "      <td>100.0</td>\n",
       "      <td>300.0</td>\n",
       "      <td>1.0</td>\n",
       "      <td>1.0</td>\n",
       "      <td>NaN</td>\n",
       "      <td>NaN</td>\n",
       "      <td>NaN</td>\n",
       "    </tr>\n",
       "    <tr>\n",
       "      <th>4</th>\n",
       "      <td>1.000526</td>\n",
       "      <td>1.000769</td>\n",
       "      <td>1.000445</td>\n",
       "      <td>1.00085</td>\n",
       "      <td>1.0</td>\n",
       "      <td>300.0</td>\n",
       "      <td>300.0</td>\n",
       "      <td>101.0</td>\n",
       "      <td>NaN</td>\n",
       "      <td>NaN</td>\n",
       "      <td>NaN</td>\n",
       "    </tr>\n",
       "  </tbody>\n",
       "</table>\n",
       "</div>"
      ]
     },
     "metadata": {},
     "execution_count": 60
    }
   ],
   "metadata": {}
  },
  {
   "cell_type": "code",
   "execution_count": 61,
   "source": [
    "s2.isnull().sum()\r\n",
    "#3029793"
   ],
   "outputs": [
    {
     "output_type": "execute_result",
     "data": {
      "text/plain": [
       "bid_price1     3029793\n",
       "ask_price1     3029793\n",
       "bid_price2     3029793\n",
       "ask_price2     3029793\n",
       "bid_size1      3029793\n",
       "ask_size1      3029793\n",
       "bid_size2      3029793\n",
       "ask_size2      3029793\n",
       "price          9393476\n",
       "size           9393476\n",
       "order_count    9393476\n",
       "dtype: int64"
      ]
     },
     "metadata": {},
     "execution_count": 61
    }
   ],
   "metadata": {}
  },
  {
   "cell_type": "code",
   "execution_count": 62,
   "source": [
    "# #s.drop(columns=['index'],inplace=True)\r\n",
    "# nw_idx = pd.MultiIndex.from_frame(s[['time_id', 'stock_id','seconds_in_bucket']])\r\n",
    "# nw_idx.set_axis(nw_idx,axis = 1, inplace = False)\r\n",
    "# s.reindex(index=nw_idx, columns = ['bid_price1','ask_price1','bid_price2','ask_price2','bid_size1','ask_size1','bid_size2','ask_size2'],copy=False)\r\n",
    "#s.set_index(['time_id', 'stock_id','seconds_in_bucket'],inplace=True)"
   ],
   "outputs": [],
   "metadata": {}
  },
  {
   "cell_type": "code",
   "execution_count": 14,
   "source": [
    "s2[['size','order_count']] = s2[['size','order_count']].fillna(0) \r\n"
   ],
   "outputs": [],
   "metadata": {}
  },
  {
   "cell_type": "code",
   "execution_count": 15,
   "source": [
    "s2.isna().sum()"
   ],
   "outputs": [
    {
     "output_type": "execute_result",
     "data": {
      "text/plain": [
       "bid_price1     3029793\n",
       "ask_price1     3029793\n",
       "bid_price2     3029793\n",
       "ask_price2     3029793\n",
       "bid_size1      3029793\n",
       "ask_size1      3029793\n",
       "bid_size2      3029793\n",
       "ask_size2      3029793\n",
       "price          9393476\n",
       "size                 0\n",
       "order_count          0\n",
       "dtype: int64"
      ]
     },
     "metadata": {},
     "execution_count": 15
    }
   ],
   "metadata": {}
  },
  {
   "cell_type": "code",
   "execution_count": 69,
   "source": [
    "s2.loc(axis=0)[:,:,0].isna().sum()\r\n"
   ],
   "outputs": [
    {
     "output_type": "execute_result",
     "data": {
      "text/plain": [
       "bid_price1         0\n",
       "ask_price1         0\n",
       "bid_price2         0\n",
       "ask_price2         0\n",
       "bid_size1          0\n",
       "ask_size1          0\n",
       "bid_size2          0\n",
       "ask_size2          0\n",
       "price          14413\n",
       "size               0\n",
       "order_count        0\n",
       "dtype: int64"
      ]
     },
     "metadata": {},
     "execution_count": 69
    }
   ],
   "metadata": {}
  },
  {
   "cell_type": "code",
   "execution_count": 70,
   "source": [
    "s2.loc(axis=0)[:,:,0][s2.loc(axis=0)[:,:,0]['price'].isna()]"
   ],
   "outputs": [
    {
     "output_type": "execute_result",
     "data": {
      "text/plain": [
       "                                    bid_price1  ask_price1  bid_price2  \\\n",
       "time_id stock_id seconds_in_bucket                                       \n",
       "5       68       0                    1.000354    1.000472    1.000236   \n",
       "        100      0                    0.999077    1.000103    0.999009   \n",
       "        111      0                    1.001884    1.002048    1.001720   \n",
       "11      68       0                    0.999941    1.000059    0.999824   \n",
       "        81       0                    0.996471    0.996785    0.996419   \n",
       "...                                        ...         ...         ...   \n",
       "32763   68       0                    0.998702    0.998975    0.998565   \n",
       "        100      0                    1.004087    1.004697    1.003721   \n",
       "32767   2        0                    0.999298    0.999454    0.999220   \n",
       "        68       0                    1.000636    1.000764    1.000509   \n",
       "        81       0                    0.998934    0.999645    0.998815   \n",
       "\n",
       "                                    ask_price2  bid_size1  ask_size1  \\\n",
       "time_id stock_id seconds_in_bucket                                     \n",
       "5       68       0                    1.000591      101.0       40.0   \n",
       "        100      0                    1.000239      100.0        7.0   \n",
       "        111      0                    1.002211      500.0      509.0   \n",
       "11      68       0                    1.000176      100.0      200.0   \n",
       "        81       0                    0.997569      286.0      201.0   \n",
       "...                                        ...        ...        ...   \n",
       "32763   68       0                    0.999112      123.0      201.0   \n",
       "        100      0                    1.004941      100.0        9.0   \n",
       "32767   2        0                    0.999532      408.0      300.0   \n",
       "        68       0                    1.000891      300.0      211.0   \n",
       "        81       0                    0.999763      100.0      200.0   \n",
       "\n",
       "                                    bid_size2  ask_size2  price  size  \\\n",
       "time_id stock_id seconds_in_bucket                                      \n",
       "5       68       0                      201.0      321.0    NaN   0.0   \n",
       "        100      0                       64.0      100.0    NaN   0.0   \n",
       "        111      0                      710.0     2091.0    NaN   0.0   \n",
       "11      68       0                      200.0      300.0    NaN   0.0   \n",
       "        81       0                       20.0      100.0    NaN   0.0   \n",
       "...                                       ...        ...    ...   ...   \n",
       "32763   68       0                      396.0      100.0    NaN   0.0   \n",
       "        100      0                      200.0      200.0    NaN   0.0   \n",
       "32767   2        0                      600.0      500.0    NaN   0.0   \n",
       "        68       0                      400.0        8.0    NaN   0.0   \n",
       "        81       0                      300.0      100.0    NaN   0.0   \n",
       "\n",
       "                                    order_count  \n",
       "time_id stock_id seconds_in_bucket               \n",
       "5       68       0                          0.0  \n",
       "        100      0                          0.0  \n",
       "        111      0                          0.0  \n",
       "11      68       0                          0.0  \n",
       "        81       0                          0.0  \n",
       "...                                         ...  \n",
       "32763   68       0                          0.0  \n",
       "        100      0                          0.0  \n",
       "32767   2        0                          0.0  \n",
       "        68       0                          0.0  \n",
       "        81       0                          0.0  \n",
       "\n",
       "[14413 rows x 11 columns]"
      ],
      "text/html": [
       "<div>\n",
       "<style scoped>\n",
       "    .dataframe tbody tr th:only-of-type {\n",
       "        vertical-align: middle;\n",
       "    }\n",
       "\n",
       "    .dataframe tbody tr th {\n",
       "        vertical-align: top;\n",
       "    }\n",
       "\n",
       "    .dataframe thead th {\n",
       "        text-align: right;\n",
       "    }\n",
       "</style>\n",
       "<table border=\"1\" class=\"dataframe\">\n",
       "  <thead>\n",
       "    <tr style=\"text-align: right;\">\n",
       "      <th></th>\n",
       "      <th></th>\n",
       "      <th></th>\n",
       "      <th>bid_price1</th>\n",
       "      <th>ask_price1</th>\n",
       "      <th>bid_price2</th>\n",
       "      <th>ask_price2</th>\n",
       "      <th>bid_size1</th>\n",
       "      <th>ask_size1</th>\n",
       "      <th>bid_size2</th>\n",
       "      <th>ask_size2</th>\n",
       "      <th>price</th>\n",
       "      <th>size</th>\n",
       "      <th>order_count</th>\n",
       "    </tr>\n",
       "    <tr>\n",
       "      <th>time_id</th>\n",
       "      <th>stock_id</th>\n",
       "      <th>seconds_in_bucket</th>\n",
       "      <th></th>\n",
       "      <th></th>\n",
       "      <th></th>\n",
       "      <th></th>\n",
       "      <th></th>\n",
       "      <th></th>\n",
       "      <th></th>\n",
       "      <th></th>\n",
       "      <th></th>\n",
       "      <th></th>\n",
       "      <th></th>\n",
       "    </tr>\n",
       "  </thead>\n",
       "  <tbody>\n",
       "    <tr>\n",
       "      <th rowspan=\"3\" valign=\"top\">5</th>\n",
       "      <th>68</th>\n",
       "      <th>0</th>\n",
       "      <td>1.000354</td>\n",
       "      <td>1.000472</td>\n",
       "      <td>1.000236</td>\n",
       "      <td>1.000591</td>\n",
       "      <td>101.0</td>\n",
       "      <td>40.0</td>\n",
       "      <td>201.0</td>\n",
       "      <td>321.0</td>\n",
       "      <td>NaN</td>\n",
       "      <td>0.0</td>\n",
       "      <td>0.0</td>\n",
       "    </tr>\n",
       "    <tr>\n",
       "      <th>100</th>\n",
       "      <th>0</th>\n",
       "      <td>0.999077</td>\n",
       "      <td>1.000103</td>\n",
       "      <td>0.999009</td>\n",
       "      <td>1.000239</td>\n",
       "      <td>100.0</td>\n",
       "      <td>7.0</td>\n",
       "      <td>64.0</td>\n",
       "      <td>100.0</td>\n",
       "      <td>NaN</td>\n",
       "      <td>0.0</td>\n",
       "      <td>0.0</td>\n",
       "    </tr>\n",
       "    <tr>\n",
       "      <th>111</th>\n",
       "      <th>0</th>\n",
       "      <td>1.001884</td>\n",
       "      <td>1.002048</td>\n",
       "      <td>1.001720</td>\n",
       "      <td>1.002211</td>\n",
       "      <td>500.0</td>\n",
       "      <td>509.0</td>\n",
       "      <td>710.0</td>\n",
       "      <td>2091.0</td>\n",
       "      <td>NaN</td>\n",
       "      <td>0.0</td>\n",
       "      <td>0.0</td>\n",
       "    </tr>\n",
       "    <tr>\n",
       "      <th rowspan=\"2\" valign=\"top\">11</th>\n",
       "      <th>68</th>\n",
       "      <th>0</th>\n",
       "      <td>0.999941</td>\n",
       "      <td>1.000059</td>\n",
       "      <td>0.999824</td>\n",
       "      <td>1.000176</td>\n",
       "      <td>100.0</td>\n",
       "      <td>200.0</td>\n",
       "      <td>200.0</td>\n",
       "      <td>300.0</td>\n",
       "      <td>NaN</td>\n",
       "      <td>0.0</td>\n",
       "      <td>0.0</td>\n",
       "    </tr>\n",
       "    <tr>\n",
       "      <th>81</th>\n",
       "      <th>0</th>\n",
       "      <td>0.996471</td>\n",
       "      <td>0.996785</td>\n",
       "      <td>0.996419</td>\n",
       "      <td>0.997569</td>\n",
       "      <td>286.0</td>\n",
       "      <td>201.0</td>\n",
       "      <td>20.0</td>\n",
       "      <td>100.0</td>\n",
       "      <td>NaN</td>\n",
       "      <td>0.0</td>\n",
       "      <td>0.0</td>\n",
       "    </tr>\n",
       "    <tr>\n",
       "      <th>...</th>\n",
       "      <th>...</th>\n",
       "      <th>...</th>\n",
       "      <td>...</td>\n",
       "      <td>...</td>\n",
       "      <td>...</td>\n",
       "      <td>...</td>\n",
       "      <td>...</td>\n",
       "      <td>...</td>\n",
       "      <td>...</td>\n",
       "      <td>...</td>\n",
       "      <td>...</td>\n",
       "      <td>...</td>\n",
       "      <td>...</td>\n",
       "    </tr>\n",
       "    <tr>\n",
       "      <th rowspan=\"2\" valign=\"top\">32763</th>\n",
       "      <th>68</th>\n",
       "      <th>0</th>\n",
       "      <td>0.998702</td>\n",
       "      <td>0.998975</td>\n",
       "      <td>0.998565</td>\n",
       "      <td>0.999112</td>\n",
       "      <td>123.0</td>\n",
       "      <td>201.0</td>\n",
       "      <td>396.0</td>\n",
       "      <td>100.0</td>\n",
       "      <td>NaN</td>\n",
       "      <td>0.0</td>\n",
       "      <td>0.0</td>\n",
       "    </tr>\n",
       "    <tr>\n",
       "      <th>100</th>\n",
       "      <th>0</th>\n",
       "      <td>1.004087</td>\n",
       "      <td>1.004697</td>\n",
       "      <td>1.003721</td>\n",
       "      <td>1.004941</td>\n",
       "      <td>100.0</td>\n",
       "      <td>9.0</td>\n",
       "      <td>200.0</td>\n",
       "      <td>200.0</td>\n",
       "      <td>NaN</td>\n",
       "      <td>0.0</td>\n",
       "      <td>0.0</td>\n",
       "    </tr>\n",
       "    <tr>\n",
       "      <th rowspan=\"3\" valign=\"top\">32767</th>\n",
       "      <th>2</th>\n",
       "      <th>0</th>\n",
       "      <td>0.999298</td>\n",
       "      <td>0.999454</td>\n",
       "      <td>0.999220</td>\n",
       "      <td>0.999532</td>\n",
       "      <td>408.0</td>\n",
       "      <td>300.0</td>\n",
       "      <td>600.0</td>\n",
       "      <td>500.0</td>\n",
       "      <td>NaN</td>\n",
       "      <td>0.0</td>\n",
       "      <td>0.0</td>\n",
       "    </tr>\n",
       "    <tr>\n",
       "      <th>68</th>\n",
       "      <th>0</th>\n",
       "      <td>1.000636</td>\n",
       "      <td>1.000764</td>\n",
       "      <td>1.000509</td>\n",
       "      <td>1.000891</td>\n",
       "      <td>300.0</td>\n",
       "      <td>211.0</td>\n",
       "      <td>400.0</td>\n",
       "      <td>8.0</td>\n",
       "      <td>NaN</td>\n",
       "      <td>0.0</td>\n",
       "      <td>0.0</td>\n",
       "    </tr>\n",
       "    <tr>\n",
       "      <th>81</th>\n",
       "      <th>0</th>\n",
       "      <td>0.998934</td>\n",
       "      <td>0.999645</td>\n",
       "      <td>0.998815</td>\n",
       "      <td>0.999763</td>\n",
       "      <td>100.0</td>\n",
       "      <td>200.0</td>\n",
       "      <td>300.0</td>\n",
       "      <td>100.0</td>\n",
       "      <td>NaN</td>\n",
       "      <td>0.0</td>\n",
       "      <td>0.0</td>\n",
       "    </tr>\n",
       "  </tbody>\n",
       "</table>\n",
       "<p>14413 rows × 11 columns</p>\n",
       "</div>"
      ]
     },
     "metadata": {},
     "execution_count": 70
    }
   ],
   "metadata": {}
  },
  {
   "cell_type": "code",
   "execution_count": null,
   "source": [
    "s2.head(10)"
   ],
   "outputs": [],
   "metadata": {}
  },
  {
   "cell_type": "code",
   "execution_count": 67,
   "source": [
    "s2.loc[32767,2,:].head(10)"
   ],
   "outputs": [
    {
     "output_type": "execute_result",
     "data": {
      "text/plain": [
       "                                    bid_price1  ask_price1  bid_price2  \\\n",
       "time_id stock_id seconds_in_bucket                                       \n",
       "32767   2        0                    0.999298    0.999454    0.999220   \n",
       "                 1                    0.999298    0.999454    0.999220   \n",
       "                 2                         NaN         NaN         NaN   \n",
       "                 3                    0.999298    0.999376    0.999220   \n",
       "                 4                    0.999298    0.999376    0.999220   \n",
       "                 5                    0.999298    0.999376    0.999220   \n",
       "                 6                    0.999220    0.999298    0.999143   \n",
       "                 7                    0.999220    0.999298    0.999143   \n",
       "                 8                    0.999220    0.999298    0.999143   \n",
       "                 9                    0.999220    0.999298    0.999143   \n",
       "\n",
       "                                    ask_price2  bid_size1  ask_size1  \\\n",
       "time_id stock_id seconds_in_bucket                                     \n",
       "32767   2        0                    0.999532      408.0      300.0   \n",
       "                 1                    0.999532      408.0      400.0   \n",
       "                 2                         NaN        NaN        NaN   \n",
       "                 3                    0.999454      108.0      300.0   \n",
       "                 4                    0.999454      308.0      200.0   \n",
       "                 5                    0.999454      208.0      200.0   \n",
       "                 6                    0.999376      118.0      200.0   \n",
       "                 7                    0.999376      108.0      300.0   \n",
       "                 8                    0.999376      108.0      200.0   \n",
       "                 9                    0.999376      208.0      200.0   \n",
       "\n",
       "                                    bid_size2  ask_size2     price   size  \\\n",
       "time_id stock_id seconds_in_bucket                                          \n",
       "32767   2        0                      600.0      500.0       NaN    0.0   \n",
       "                 1                      600.0      500.0       NaN    0.0   \n",
       "                 2                        NaN        NaN       NaN    0.0   \n",
       "                 3                      600.0      600.0       NaN    0.0   \n",
       "                 4                      600.0      600.0  0.999298   99.0   \n",
       "                 5                      600.0      800.0       NaN    0.0   \n",
       "                 6                      400.0      400.0  0.999298  308.0   \n",
       "                 7                      400.0      600.0       NaN    0.0   \n",
       "                 8                      400.0      700.0       NaN    0.0   \n",
       "                 9                      400.0      700.0       NaN    0.0   \n",
       "\n",
       "                                    order_count  \n",
       "time_id stock_id seconds_in_bucket               \n",
       "32767   2        0                          0.0  \n",
       "                 1                          0.0  \n",
       "                 2                          0.0  \n",
       "                 3                          0.0  \n",
       "                 4                          1.0  \n",
       "                 5                          0.0  \n",
       "                 6                          6.0  \n",
       "                 7                          0.0  \n",
       "                 8                          0.0  \n",
       "                 9                          0.0  "
      ],
      "text/html": [
       "<div>\n",
       "<style scoped>\n",
       "    .dataframe tbody tr th:only-of-type {\n",
       "        vertical-align: middle;\n",
       "    }\n",
       "\n",
       "    .dataframe tbody tr th {\n",
       "        vertical-align: top;\n",
       "    }\n",
       "\n",
       "    .dataframe thead th {\n",
       "        text-align: right;\n",
       "    }\n",
       "</style>\n",
       "<table border=\"1\" class=\"dataframe\">\n",
       "  <thead>\n",
       "    <tr style=\"text-align: right;\">\n",
       "      <th></th>\n",
       "      <th></th>\n",
       "      <th></th>\n",
       "      <th>bid_price1</th>\n",
       "      <th>ask_price1</th>\n",
       "      <th>bid_price2</th>\n",
       "      <th>ask_price2</th>\n",
       "      <th>bid_size1</th>\n",
       "      <th>ask_size1</th>\n",
       "      <th>bid_size2</th>\n",
       "      <th>ask_size2</th>\n",
       "      <th>price</th>\n",
       "      <th>size</th>\n",
       "      <th>order_count</th>\n",
       "    </tr>\n",
       "    <tr>\n",
       "      <th>time_id</th>\n",
       "      <th>stock_id</th>\n",
       "      <th>seconds_in_bucket</th>\n",
       "      <th></th>\n",
       "      <th></th>\n",
       "      <th></th>\n",
       "      <th></th>\n",
       "      <th></th>\n",
       "      <th></th>\n",
       "      <th></th>\n",
       "      <th></th>\n",
       "      <th></th>\n",
       "      <th></th>\n",
       "      <th></th>\n",
       "    </tr>\n",
       "  </thead>\n",
       "  <tbody>\n",
       "    <tr>\n",
       "      <th rowspan=\"10\" valign=\"top\">32767</th>\n",
       "      <th rowspan=\"10\" valign=\"top\">2</th>\n",
       "      <th>0</th>\n",
       "      <td>0.999298</td>\n",
       "      <td>0.999454</td>\n",
       "      <td>0.999220</td>\n",
       "      <td>0.999532</td>\n",
       "      <td>408.0</td>\n",
       "      <td>300.0</td>\n",
       "      <td>600.0</td>\n",
       "      <td>500.0</td>\n",
       "      <td>NaN</td>\n",
       "      <td>0.0</td>\n",
       "      <td>0.0</td>\n",
       "    </tr>\n",
       "    <tr>\n",
       "      <th>1</th>\n",
       "      <td>0.999298</td>\n",
       "      <td>0.999454</td>\n",
       "      <td>0.999220</td>\n",
       "      <td>0.999532</td>\n",
       "      <td>408.0</td>\n",
       "      <td>400.0</td>\n",
       "      <td>600.0</td>\n",
       "      <td>500.0</td>\n",
       "      <td>NaN</td>\n",
       "      <td>0.0</td>\n",
       "      <td>0.0</td>\n",
       "    </tr>\n",
       "    <tr>\n",
       "      <th>2</th>\n",
       "      <td>NaN</td>\n",
       "      <td>NaN</td>\n",
       "      <td>NaN</td>\n",
       "      <td>NaN</td>\n",
       "      <td>NaN</td>\n",
       "      <td>NaN</td>\n",
       "      <td>NaN</td>\n",
       "      <td>NaN</td>\n",
       "      <td>NaN</td>\n",
       "      <td>0.0</td>\n",
       "      <td>0.0</td>\n",
       "    </tr>\n",
       "    <tr>\n",
       "      <th>3</th>\n",
       "      <td>0.999298</td>\n",
       "      <td>0.999376</td>\n",
       "      <td>0.999220</td>\n",
       "      <td>0.999454</td>\n",
       "      <td>108.0</td>\n",
       "      <td>300.0</td>\n",
       "      <td>600.0</td>\n",
       "      <td>600.0</td>\n",
       "      <td>NaN</td>\n",
       "      <td>0.0</td>\n",
       "      <td>0.0</td>\n",
       "    </tr>\n",
       "    <tr>\n",
       "      <th>4</th>\n",
       "      <td>0.999298</td>\n",
       "      <td>0.999376</td>\n",
       "      <td>0.999220</td>\n",
       "      <td>0.999454</td>\n",
       "      <td>308.0</td>\n",
       "      <td>200.0</td>\n",
       "      <td>600.0</td>\n",
       "      <td>600.0</td>\n",
       "      <td>0.999298</td>\n",
       "      <td>99.0</td>\n",
       "      <td>1.0</td>\n",
       "    </tr>\n",
       "    <tr>\n",
       "      <th>5</th>\n",
       "      <td>0.999298</td>\n",
       "      <td>0.999376</td>\n",
       "      <td>0.999220</td>\n",
       "      <td>0.999454</td>\n",
       "      <td>208.0</td>\n",
       "      <td>200.0</td>\n",
       "      <td>600.0</td>\n",
       "      <td>800.0</td>\n",
       "      <td>NaN</td>\n",
       "      <td>0.0</td>\n",
       "      <td>0.0</td>\n",
       "    </tr>\n",
       "    <tr>\n",
       "      <th>6</th>\n",
       "      <td>0.999220</td>\n",
       "      <td>0.999298</td>\n",
       "      <td>0.999143</td>\n",
       "      <td>0.999376</td>\n",
       "      <td>118.0</td>\n",
       "      <td>200.0</td>\n",
       "      <td>400.0</td>\n",
       "      <td>400.0</td>\n",
       "      <td>0.999298</td>\n",
       "      <td>308.0</td>\n",
       "      <td>6.0</td>\n",
       "    </tr>\n",
       "    <tr>\n",
       "      <th>7</th>\n",
       "      <td>0.999220</td>\n",
       "      <td>0.999298</td>\n",
       "      <td>0.999143</td>\n",
       "      <td>0.999376</td>\n",
       "      <td>108.0</td>\n",
       "      <td>300.0</td>\n",
       "      <td>400.0</td>\n",
       "      <td>600.0</td>\n",
       "      <td>NaN</td>\n",
       "      <td>0.0</td>\n",
       "      <td>0.0</td>\n",
       "    </tr>\n",
       "    <tr>\n",
       "      <th>8</th>\n",
       "      <td>0.999220</td>\n",
       "      <td>0.999298</td>\n",
       "      <td>0.999143</td>\n",
       "      <td>0.999376</td>\n",
       "      <td>108.0</td>\n",
       "      <td>200.0</td>\n",
       "      <td>400.0</td>\n",
       "      <td>700.0</td>\n",
       "      <td>NaN</td>\n",
       "      <td>0.0</td>\n",
       "      <td>0.0</td>\n",
       "    </tr>\n",
       "    <tr>\n",
       "      <th>9</th>\n",
       "      <td>0.999220</td>\n",
       "      <td>0.999298</td>\n",
       "      <td>0.999143</td>\n",
       "      <td>0.999376</td>\n",
       "      <td>208.0</td>\n",
       "      <td>200.0</td>\n",
       "      <td>400.0</td>\n",
       "      <td>700.0</td>\n",
       "      <td>NaN</td>\n",
       "      <td>0.0</td>\n",
       "      <td>0.0</td>\n",
       "    </tr>\n",
       "  </tbody>\n",
       "</table>\n",
       "</div>"
      ]
     },
     "metadata": {},
     "execution_count": 67
    }
   ],
   "metadata": {}
  },
  {
   "cell_type": "code",
   "execution_count": null,
   "source": [
    "s2.loc[32767,68,:].head(10)"
   ],
   "outputs": [],
   "metadata": {}
  },
  {
   "cell_type": "code",
   "execution_count": null,
   "source": [
    "s2.loc[32767,81,:].head(40)"
   ],
   "outputs": [],
   "metadata": {}
  },
  {
   "cell_type": "code",
   "execution_count": null,
   "source": [
    "s2.loc[32767,100,:].head(1)"
   ],
   "outputs": [],
   "metadata": {}
  },
  {
   "cell_type": "code",
   "execution_count": null,
   "source": [
    "s2.loc[32767,111,:].head(1)"
   ],
   "outputs": [],
   "metadata": {}
  },
  {
   "cell_type": "code",
   "execution_count": null,
   "source": [
    "s2.index"
   ],
   "outputs": [],
   "metadata": {}
  },
  {
   "cell_type": "code",
   "execution_count": null,
   "source": [
    "# s2.fillna(method='bfill',limit=1,inplace=True,axis=0)"
   ],
   "outputs": [],
   "metadata": {}
  },
  {
   "cell_type": "code",
   "execution_count": 16,
   "source": [
    "bf = s2.groupby(['time_id','stock_id'])"
   ],
   "outputs": [],
   "metadata": {}
  },
  {
   "cell_type": "code",
   "execution_count": 17,
   "source": [
    "bf['price'].first()"
   ],
   "outputs": [
    {
     "output_type": "execute_result",
     "data": {
      "text/plain": [
       "time_id  stock_id\n",
       "5        2           1.000688\n",
       "         68          1.000585\n",
       "         81          1.003518\n",
       "         100         1.000103\n",
       "         111         1.002161\n",
       "                       ...   \n",
       "32767    2           0.999298\n",
       "         68          1.000764\n",
       "         81          0.999430\n",
       "         100         0.999315\n",
       "         111         1.000101\n",
       "Name: price, Length: 19149, dtype: float32"
      ]
     },
     "metadata": {},
     "execution_count": 17
    }
   ],
   "metadata": {}
  },
  {
   "cell_type": "code",
   "execution_count": 18,
   "source": [
    "#s2.loc[(:,:,0),'price'] = bf['price'].first()\r\n",
    "s2.loc[s2.index.get_level_values(2)==0,'price'] = bf['price'].first()"
   ],
   "outputs": [],
   "metadata": {}
  },
  {
   "cell_type": "code",
   "execution_count": null,
   "source": [
    "s2.loc[5,111,:].head(10)"
   ],
   "outputs": [],
   "metadata": {}
  },
  {
   "cell_type": "code",
   "execution_count": 19,
   "source": [
    "s2.isna().sum()"
   ],
   "outputs": [
    {
     "output_type": "execute_result",
     "data": {
      "text/plain": [
       "bid_price1     3029793\n",
       "ask_price1     3029793\n",
       "bid_price2     3029793\n",
       "ask_price2     3029793\n",
       "bid_size1      3029793\n",
       "ask_size1      3029793\n",
       "bid_size2      3029793\n",
       "ask_size2      3029793\n",
       "price          9379063\n",
       "size                 0\n",
       "order_count          0\n",
       "dtype: int64"
      ]
     },
     "metadata": {},
     "execution_count": 19
    }
   ],
   "metadata": {}
  },
  {
   "cell_type": "code",
   "execution_count": 20,
   "source": [
    "#s2.loc[:,:,1:] = s2.loc[:,:,1:].fillna(method='ffill')\r\n",
    "#s2.loc[:,:,1:].fillna(method='ffill',inplace=True)\r\n",
    "s2.fillna(method='ffill',inplace=True)"
   ],
   "outputs": [],
   "metadata": {}
  },
  {
   "cell_type": "code",
   "execution_count": 21,
   "source": [
    "s2.isna().sum()"
   ],
   "outputs": [
    {
     "output_type": "execute_result",
     "data": {
      "text/plain": [
       "bid_price1     0\n",
       "ask_price1     0\n",
       "bid_price2     0\n",
       "ask_price2     0\n",
       "bid_size1      0\n",
       "ask_size1      0\n",
       "bid_size2      0\n",
       "ask_size2      0\n",
       "price          0\n",
       "size           0\n",
       "order_count    0\n",
       "dtype: int64"
      ]
     },
     "metadata": {},
     "execution_count": 21
    }
   ],
   "metadata": {}
  },
  {
   "cell_type": "markdown",
   "source": [
    "Looping through each individual stocks, we can get the past realized volatility as prediction for each individual stocks."
   ],
   "metadata": {}
  },
  {
   "cell_type": "code",
   "execution_count": 22,
   "source": [
    "s2['order_count'] = s2['order_count'].astype('int16')\r\n",
    "s2[['bid_size1','ask_size1','bid_size2','ask_size2','size']] = s2[['bid_size1','ask_size1','bid_size2','ask_size2','size']].astype('int32')\r\n"
   ],
   "outputs": [],
   "metadata": {}
  },
  {
   "cell_type": "code",
   "execution_count": 79,
   "source": [
    "s2.info()"
   ],
   "outputs": [
    {
     "output_type": "stream",
     "name": "stdout",
     "text": [
      "<class 'pandas.core.frame.DataFrame'>\n",
      "MultiIndex: 11489400 entries, (5, 2, 0) to (32767, 111, 599)\n",
      "Data columns (total 11 columns):\n",
      " #   Column       Dtype  \n",
      "---  ------       -----  \n",
      " 0   bid_price1   float32\n",
      " 1   ask_price1   float32\n",
      " 2   bid_price2   float32\n",
      " 3   ask_price2   float32\n",
      " 4   bid_size1    int32  \n",
      " 5   ask_size1    int32  \n",
      " 6   bid_size2    int32  \n",
      " 7   ask_size2    int32  \n",
      " 8   price        float32\n",
      " 9   size         int32  \n",
      " 10  order_count  int16  \n",
      "dtypes: float32(5), int16(1), int32(5)\n",
      "memory usage: 515.2 MB\n"
     ]
    }
   ],
   "metadata": {}
  },
  {
   "cell_type": "code",
   "execution_count": 23,
   "source": [
    "# s2['bid_size'] = (s2['bid_size1'] + s2['bid_size2'])\r\n",
    "# s2['bid_price'] = (s2['bid_price1'] * s2['bid_size1'] + s2['bid_price2'] * s2['bid_size2'])/(s2['bid_size1'] + s2['bid_size2'])\r\n",
    "\r\n",
    "# s2['ask_size'] = (s2['ask_size1'] + s2['ask_size2'])\r\n",
    "# s2['ask_price'] = (s2['ask_price1'] * s2['ask_size1'] + s2['ask_price2'] * s2['ask_size2'])/(s2['ask_size1'] + s2['ask_size2'])\r\n",
    "\r\n",
    "#s2['wap'] = (((s2['bid_price1'] * s2['bid_size1'] + s2['bid_price2'] * s2['bid_size2'])/(s2['bid_size1'] + s2['bid_size2']) * (s2['ask_size1'] + s2['ask_size2'])) + ((s2['ask_price1'] * s2['ask_size1'] + s2['ask_price2'] * s2['ask_size2'])/(s2['ask_size1'] + s2['ask_size2'])) * (s2['bid_size1'] + s2['bid_size2'])) / ((s2['bid_size1'] + s2['bid_size2']) +  (s2['ask_size1'] + s2['ask_size2']))\r\n",
    "\r\n",
    "s2['order_wap'] = (((s2['bid_price1'] * s2['bid_size1'] + s2['bid_price2'] * s2['bid_size2'])/(s2['bid_size1'] + s2['bid_size2']) * (s2['ask_size1'] + s2['ask_size2'])) + ((s2['ask_price1'] * s2['ask_size1'] + s2['ask_price2'] * s2['ask_size2'])/(s2['ask_size1'] + s2['ask_size2'])) * (s2['bid_size1'] + s2['bid_size2'])) / ((s2['bid_size1'] + s2['bid_size2']) +  (s2['ask_size1'] + s2['ask_size2']))\r\n"
   ],
   "outputs": [],
   "metadata": {}
  },
  {
   "cell_type": "code",
   "execution_count": 24,
   "source": [
    "s2['trade_wap'] = s2.groupby(['time_id','stock_id'])['price'].apply(lambda x: x - x.mean())\r\n",
    "#s2['trade_wap_sq'] = s2.groupby(['time_id','stock_id'])['price'].apply(lambda x: x - x.mean())"
   ],
   "outputs": [],
   "metadata": {}
  },
  {
   "cell_type": "code",
   "execution_count": 25,
   "source": [
    "pd.options.display.float_format = '{:,.16f}'.format"
   ],
   "outputs": [],
   "metadata": {}
  },
  {
   "cell_type": "code",
   "execution_count": 26,
   "source": [
    "def log_return(list_stock_prices):\r\n",
    "    return np.log(list_stock_prices).diff()\r\n",
    "\r\n",
    "def trade_volatility(trade_wap_prices):\r\n",
    "    return np.sqrt(np.sum(trade_wap_prices**2)/len(trade_wap_prices))\r\n",
    "\r\n",
    "def order_volatility(series_log_return):\r\n",
    "    return np.sqrt(np.sum(series_log_return**2))"
   ],
   "outputs": [],
   "metadata": {}
  },
  {
   "cell_type": "code",
   "execution_count": 27,
   "source": [
    "s2['log_return'] = s2.groupby(['time_id','stock_id'])['order_wap'].apply(log_return)"
   ],
   "outputs": [],
   "metadata": {}
  },
  {
   "cell_type": "code",
   "execution_count": 28,
   "source": [
    "s2['log_return'].isna().sum()"
   ],
   "outputs": [
    {
     "output_type": "execute_result",
     "data": {
      "text/plain": [
       "19149"
      ]
     },
     "metadata": {},
     "execution_count": 28
    }
   ],
   "metadata": {}
  },
  {
   "cell_type": "code",
   "execution_count": 29,
   "source": [
    "#remove the rows with null values of log return\r\n",
    "#s2[~s2['log_return'].isnull()]['log_return']\r\n",
    "df_realized_vol_per_stock =  pd.DataFrame(s2[~s2['log_return'].isnull()]['log_return'].groupby(['time_id','stock_id']).agg(order_volatility))"
   ],
   "outputs": [],
   "metadata": {}
  },
  {
   "cell_type": "code",
   "execution_count": 30,
   "source": [
    "df_realized_vol_per_stock.isna().sum()"
   ],
   "outputs": [
    {
     "output_type": "execute_result",
     "data": {
      "text/plain": [
       "log_return    0\n",
       "dtype: int64"
      ]
     },
     "metadata": {},
     "execution_count": 30
    }
   ],
   "metadata": {}
  },
  {
   "cell_type": "code",
   "execution_count": null,
   "source": [
    "# find the volatility values without converting or removing the null values   \r\n",
    "df_realized_vol_per_stock1 =  pd.DataFrame(s2['log_return'].groupby(['time_id','stock_id']).agg(order_volatility))"
   ],
   "outputs": [],
   "metadata": {}
  },
  {
   "cell_type": "code",
   "execution_count": null,
   "source": [
    "assert df_realized_vol_per_stock1.values == df_realized_vol_per_stock.values"
   ],
   "outputs": [],
   "metadata": {}
  },
  {
   "cell_type": "code",
   "execution_count": null,
   "source": [
    "\r\n",
    "np.testing.assert_array_equal(df_realized_vol_per_stock1.values, df_realized_vol_per_stock.values, err_msg='not matching', verbose=True)"
   ],
   "outputs": [],
   "metadata": {}
  },
  {
   "cell_type": "markdown",
   "source": [
    "Max absolute difference: 3.7252903e-09\r\n",
    "Max relative difference: 1.6754667e-07\r\n",
    "\r\n",
    "This error is ignorable. So we will leave the null values as it is in the log return"
   ],
   "metadata": {}
  },
  {
   "cell_type": "code",
   "execution_count": null,
   "source": [
    "#converting all null values to zeros\r\n",
    "df_realized_vol_per_stock2 =  pd.DataFrame(s2['log_return'].fillna(0).groupby(['time_id','stock_id']).agg(order_volatility))"
   ],
   "outputs": [],
   "metadata": {}
  },
  {
   "cell_type": "code",
   "execution_count": null,
   "source": [
    "np.testing.assert_array_equal(df_realized_vol_per_stock1,df_realized_vol_per_stock2) "
   ],
   "outputs": [],
   "metadata": {}
  },
  {
   "cell_type": "code",
   "execution_count": null,
   "source": [
    "np.testing.assert_array_equal(df_realized_vol_per_stock,df_realized_vol_per_stock2) "
   ],
   "outputs": [],
   "metadata": {}
  },
  {
   "cell_type": "code",
   "execution_count": 31,
   "source": [
    "df_realized_vol_per_stock"
   ],
   "outputs": [
    {
     "output_type": "execute_result",
     "data": {
      "text/plain": [
       "                         log_return\n",
       "time_id stock_id                   \n",
       "5       2        0.0018733931133985\n",
       "        68       0.0023004176145590\n",
       "        81       0.0054617860000476\n",
       "        100      0.0046436459937157\n",
       "        111      0.0029989438960921\n",
       "...                             ...\n",
       "32767   2        0.0010246982159702\n",
       "        68       0.0013834203207654\n",
       "        81       0.0026151711543734\n",
       "        100      0.0019775423480388\n",
       "        111      0.0012556054605663\n",
       "\n",
       "[19149 rows x 1 columns]"
      ],
      "text/html": [
       "<div>\n",
       "<style scoped>\n",
       "    .dataframe tbody tr th:only-of-type {\n",
       "        vertical-align: middle;\n",
       "    }\n",
       "\n",
       "    .dataframe tbody tr th {\n",
       "        vertical-align: top;\n",
       "    }\n",
       "\n",
       "    .dataframe thead th {\n",
       "        text-align: right;\n",
       "    }\n",
       "</style>\n",
       "<table border=\"1\" class=\"dataframe\">\n",
       "  <thead>\n",
       "    <tr style=\"text-align: right;\">\n",
       "      <th></th>\n",
       "      <th></th>\n",
       "      <th>log_return</th>\n",
       "    </tr>\n",
       "    <tr>\n",
       "      <th>time_id</th>\n",
       "      <th>stock_id</th>\n",
       "      <th></th>\n",
       "    </tr>\n",
       "  </thead>\n",
       "  <tbody>\n",
       "    <tr>\n",
       "      <th rowspan=\"5\" valign=\"top\">5</th>\n",
       "      <th>2</th>\n",
       "      <td>0.0018733931133985</td>\n",
       "    </tr>\n",
       "    <tr>\n",
       "      <th>68</th>\n",
       "      <td>0.0023004176145590</td>\n",
       "    </tr>\n",
       "    <tr>\n",
       "      <th>81</th>\n",
       "      <td>0.0054617860000476</td>\n",
       "    </tr>\n",
       "    <tr>\n",
       "      <th>100</th>\n",
       "      <td>0.0046436459937157</td>\n",
       "    </tr>\n",
       "    <tr>\n",
       "      <th>111</th>\n",
       "      <td>0.0029989438960921</td>\n",
       "    </tr>\n",
       "    <tr>\n",
       "      <th>...</th>\n",
       "      <th>...</th>\n",
       "      <td>...</td>\n",
       "    </tr>\n",
       "    <tr>\n",
       "      <th rowspan=\"5\" valign=\"top\">32767</th>\n",
       "      <th>2</th>\n",
       "      <td>0.0010246982159702</td>\n",
       "    </tr>\n",
       "    <tr>\n",
       "      <th>68</th>\n",
       "      <td>0.0013834203207654</td>\n",
       "    </tr>\n",
       "    <tr>\n",
       "      <th>81</th>\n",
       "      <td>0.0026151711543734</td>\n",
       "    </tr>\n",
       "    <tr>\n",
       "      <th>100</th>\n",
       "      <td>0.0019775423480388</td>\n",
       "    </tr>\n",
       "    <tr>\n",
       "      <th>111</th>\n",
       "      <td>0.0012556054605663</td>\n",
       "    </tr>\n",
       "  </tbody>\n",
       "</table>\n",
       "<p>19149 rows × 1 columns</p>\n",
       "</div>"
      ]
     },
     "metadata": {},
     "execution_count": 31
    }
   ],
   "metadata": {}
  },
  {
   "cell_type": "code",
   "execution_count": null,
   "source": [
    "df_realized_vol_per_stock.index.get_level_values(0)"
   ],
   "outputs": [],
   "metadata": {}
  },
  {
   "cell_type": "code",
   "execution_count": 32,
   "source": [
    "#df_realized_vol_per_stock['row_id'] = df_realized_vol_per_stock.apply(lambda x: fff(x.index.get_level_values(1),x.index.get_level_values(0)), axis=1 )\r\n",
    "#df_realized_vol_per_stock['row_id'] = df_realized_vol_per_stock.apply(lambda x: x.index.get_level_values(1)+x.index.get_level_values(0))\r\n",
    "df_realized_vol_per_stock['row_id'] = df_realized_vol_per_stock.apply(lambda x: x.index.get_level_values(1).astype(str) + \"-\" + x.index.get_level_values(0).astype(str))\r\n",
    "\r\n",
    "#f'{stock_id}-{x}'"
   ],
   "outputs": [],
   "metadata": {}
  },
  {
   "cell_type": "code",
   "execution_count": 33,
   "source": [
    "df_realized_vol_per_stock['trade_return'] = pd.DataFrame(s2['trade_wap'].groupby(['time_id','stock_id']).agg(trade_volatility))\r\n"
   ],
   "outputs": [],
   "metadata": {}
  },
  {
   "cell_type": "code",
   "execution_count": 34,
   "source": [
    "df_realized_vol_per_stock"
   ],
   "outputs": [
    {
     "output_type": "execute_result",
     "data": {
      "text/plain": [
       "                         log_return     row_id       trade_return\n",
       "time_id stock_id                                                 \n",
       "5       2        0.0018733931133985        2-5 0.0005385612603277\n",
       "        68       0.0023004176145590       68-5 0.0005042065749876\n",
       "        81       0.0054617860000476       81-5 0.0012333415215835\n",
       "        100      0.0046436459937157      100-5 0.0010931357974187\n",
       "        111      0.0029989438960921      111-5 0.0005883899284527\n",
       "...                             ...        ...                ...\n",
       "32767   2        0.0010246982159702    2-32767 0.0003467606729828\n",
       "        68       0.0013834203207654   68-32767 0.0002697620948311\n",
       "        81       0.0026151711543734   81-32767 0.0005826270207763\n",
       "        100      0.0019775423480388  100-32767 0.0007258245022967\n",
       "        111      0.0012556054605663  111-32767 0.0003218931669835\n",
       "\n",
       "[19149 rows x 3 columns]"
      ],
      "text/html": [
       "<div>\n",
       "<style scoped>\n",
       "    .dataframe tbody tr th:only-of-type {\n",
       "        vertical-align: middle;\n",
       "    }\n",
       "\n",
       "    .dataframe tbody tr th {\n",
       "        vertical-align: top;\n",
       "    }\n",
       "\n",
       "    .dataframe thead th {\n",
       "        text-align: right;\n",
       "    }\n",
       "</style>\n",
       "<table border=\"1\" class=\"dataframe\">\n",
       "  <thead>\n",
       "    <tr style=\"text-align: right;\">\n",
       "      <th></th>\n",
       "      <th></th>\n",
       "      <th>log_return</th>\n",
       "      <th>row_id</th>\n",
       "      <th>trade_return</th>\n",
       "    </tr>\n",
       "    <tr>\n",
       "      <th>time_id</th>\n",
       "      <th>stock_id</th>\n",
       "      <th></th>\n",
       "      <th></th>\n",
       "      <th></th>\n",
       "    </tr>\n",
       "  </thead>\n",
       "  <tbody>\n",
       "    <tr>\n",
       "      <th rowspan=\"5\" valign=\"top\">5</th>\n",
       "      <th>2</th>\n",
       "      <td>0.0018733931133985</td>\n",
       "      <td>2-5</td>\n",
       "      <td>0.0005385612603277</td>\n",
       "    </tr>\n",
       "    <tr>\n",
       "      <th>68</th>\n",
       "      <td>0.0023004176145590</td>\n",
       "      <td>68-5</td>\n",
       "      <td>0.0005042065749876</td>\n",
       "    </tr>\n",
       "    <tr>\n",
       "      <th>81</th>\n",
       "      <td>0.0054617860000476</td>\n",
       "      <td>81-5</td>\n",
       "      <td>0.0012333415215835</td>\n",
       "    </tr>\n",
       "    <tr>\n",
       "      <th>100</th>\n",
       "      <td>0.0046436459937157</td>\n",
       "      <td>100-5</td>\n",
       "      <td>0.0010931357974187</td>\n",
       "    </tr>\n",
       "    <tr>\n",
       "      <th>111</th>\n",
       "      <td>0.0029989438960921</td>\n",
       "      <td>111-5</td>\n",
       "      <td>0.0005883899284527</td>\n",
       "    </tr>\n",
       "    <tr>\n",
       "      <th>...</th>\n",
       "      <th>...</th>\n",
       "      <td>...</td>\n",
       "      <td>...</td>\n",
       "      <td>...</td>\n",
       "    </tr>\n",
       "    <tr>\n",
       "      <th rowspan=\"5\" valign=\"top\">32767</th>\n",
       "      <th>2</th>\n",
       "      <td>0.0010246982159702</td>\n",
       "      <td>2-32767</td>\n",
       "      <td>0.0003467606729828</td>\n",
       "    </tr>\n",
       "    <tr>\n",
       "      <th>68</th>\n",
       "      <td>0.0013834203207654</td>\n",
       "      <td>68-32767</td>\n",
       "      <td>0.0002697620948311</td>\n",
       "    </tr>\n",
       "    <tr>\n",
       "      <th>81</th>\n",
       "      <td>0.0026151711543734</td>\n",
       "      <td>81-32767</td>\n",
       "      <td>0.0005826270207763</td>\n",
       "    </tr>\n",
       "    <tr>\n",
       "      <th>100</th>\n",
       "      <td>0.0019775423480388</td>\n",
       "      <td>100-32767</td>\n",
       "      <td>0.0007258245022967</td>\n",
       "    </tr>\n",
       "    <tr>\n",
       "      <th>111</th>\n",
       "      <td>0.0012556054605663</td>\n",
       "      <td>111-32767</td>\n",
       "      <td>0.0003218931669835</td>\n",
       "    </tr>\n",
       "  </tbody>\n",
       "</table>\n",
       "<p>19149 rows × 3 columns</p>\n",
       "</div>"
      ]
     },
     "metadata": {},
     "execution_count": 34
    }
   ],
   "metadata": {}
  },
  {
   "cell_type": "code",
   "execution_count": 94,
   "source": [
    "# def past_realized_volatility_per_stock(list_file,prediction_column_name):\r\n",
    "#     df_past_realized = pd.DataFrame()\r\n",
    "#     for file in list_file:\r\n",
    "#         df_past_realized = pd.concat([df_past_realized,\r\n",
    "#                                      realized_volatility_per_time_id(file,prediction_column_name)])\r\n",
    "#     return df_past_realized\r\n",
    "# df_past_realized_train = past_realized_volatility_per_stock(list_file=list_order_book_file_train,\r\n",
    "#                                                            prediction_column_name='pred')"
   ],
   "outputs": [],
   "metadata": {
    "tags": []
   }
  },
  {
   "cell_type": "markdown",
   "source": [
    "Let's join the output dataframe with train.csv to see the performance of the naive prediction on training set."
   ],
   "metadata": {}
  },
  {
   "cell_type": "code",
   "execution_count": 35,
   "source": [
    "train['row_id'] = train['stock_id'].astype(str) + '-' + train['time_id'].astype(str)\r\n",
    "train = train[['row_id','target']]\r\n"
   ],
   "outputs": [],
   "metadata": {}
  },
  {
   "cell_type": "markdown",
   "source": [
    "We will evaluate the naive prediction result by two metrics: RMSPE and R squared."
   ],
   "metadata": {}
  },
  {
   "cell_type": "code",
   "execution_count": 36,
   "source": [
    "df_joined = train.merge(df_realized_vol_per_stock, on = ['row_id'], how = 'inner')"
   ],
   "outputs": [],
   "metadata": {}
  },
  {
   "cell_type": "code",
   "execution_count": 37,
   "source": [
    "df_joined"
   ],
   "outputs": [
    {
     "output_type": "execute_result",
     "data": {
      "text/plain": [
       "          row_id             target         log_return       trade_return\n",
       "0            2-5 0.0018475460000000 0.0018733931133985 0.0005385612603277\n",
       "1           2-11 0.0008059180000000 0.0008151048469293 0.0003309202729724\n",
       "2           2-16 0.0015811100000000 0.0012939132651704 0.0002343668165850\n",
       "3           2-31 0.0015986860000000 0.0015225304382781 0.0005046058795415\n",
       "4           2-62 0.0015032210000000 0.0012425119932203 0.0002491848717909\n",
       "...          ...                ...                ...                ...\n",
       "19144  111-32751 0.0019392000000000 0.0024886340803033 0.0005013425834477\n",
       "19145  111-32753 0.0008449350000000 0.0009824073836777 0.0002220391470473\n",
       "19146  111-32758 0.0014585060000000 0.0019381003855530 0.0010461938800290\n",
       "19147  111-32763 0.0032180480000000 0.0025020021033653 0.0006868820055388\n",
       "19148  111-32767 0.0013489180000000 0.0012556054605663 0.0003218931669835\n",
       "\n",
       "[19149 rows x 4 columns]"
      ],
      "text/html": [
       "<div>\n",
       "<style scoped>\n",
       "    .dataframe tbody tr th:only-of-type {\n",
       "        vertical-align: middle;\n",
       "    }\n",
       "\n",
       "    .dataframe tbody tr th {\n",
       "        vertical-align: top;\n",
       "    }\n",
       "\n",
       "    .dataframe thead th {\n",
       "        text-align: right;\n",
       "    }\n",
       "</style>\n",
       "<table border=\"1\" class=\"dataframe\">\n",
       "  <thead>\n",
       "    <tr style=\"text-align: right;\">\n",
       "      <th></th>\n",
       "      <th>row_id</th>\n",
       "      <th>target</th>\n",
       "      <th>log_return</th>\n",
       "      <th>trade_return</th>\n",
       "    </tr>\n",
       "  </thead>\n",
       "  <tbody>\n",
       "    <tr>\n",
       "      <th>0</th>\n",
       "      <td>2-5</td>\n",
       "      <td>0.0018475460000000</td>\n",
       "      <td>0.0018733931133985</td>\n",
       "      <td>0.0005385612603277</td>\n",
       "    </tr>\n",
       "    <tr>\n",
       "      <th>1</th>\n",
       "      <td>2-11</td>\n",
       "      <td>0.0008059180000000</td>\n",
       "      <td>0.0008151048469293</td>\n",
       "      <td>0.0003309202729724</td>\n",
       "    </tr>\n",
       "    <tr>\n",
       "      <th>2</th>\n",
       "      <td>2-16</td>\n",
       "      <td>0.0015811100000000</td>\n",
       "      <td>0.0012939132651704</td>\n",
       "      <td>0.0002343668165850</td>\n",
       "    </tr>\n",
       "    <tr>\n",
       "      <th>3</th>\n",
       "      <td>2-31</td>\n",
       "      <td>0.0015986860000000</td>\n",
       "      <td>0.0015225304382781</td>\n",
       "      <td>0.0005046058795415</td>\n",
       "    </tr>\n",
       "    <tr>\n",
       "      <th>4</th>\n",
       "      <td>2-62</td>\n",
       "      <td>0.0015032210000000</td>\n",
       "      <td>0.0012425119932203</td>\n",
       "      <td>0.0002491848717909</td>\n",
       "    </tr>\n",
       "    <tr>\n",
       "      <th>...</th>\n",
       "      <td>...</td>\n",
       "      <td>...</td>\n",
       "      <td>...</td>\n",
       "      <td>...</td>\n",
       "    </tr>\n",
       "    <tr>\n",
       "      <th>19144</th>\n",
       "      <td>111-32751</td>\n",
       "      <td>0.0019392000000000</td>\n",
       "      <td>0.0024886340803033</td>\n",
       "      <td>0.0005013425834477</td>\n",
       "    </tr>\n",
       "    <tr>\n",
       "      <th>19145</th>\n",
       "      <td>111-32753</td>\n",
       "      <td>0.0008449350000000</td>\n",
       "      <td>0.0009824073836777</td>\n",
       "      <td>0.0002220391470473</td>\n",
       "    </tr>\n",
       "    <tr>\n",
       "      <th>19146</th>\n",
       "      <td>111-32758</td>\n",
       "      <td>0.0014585060000000</td>\n",
       "      <td>0.0019381003855530</td>\n",
       "      <td>0.0010461938800290</td>\n",
       "    </tr>\n",
       "    <tr>\n",
       "      <th>19147</th>\n",
       "      <td>111-32763</td>\n",
       "      <td>0.0032180480000000</td>\n",
       "      <td>0.0025020021033653</td>\n",
       "      <td>0.0006868820055388</td>\n",
       "    </tr>\n",
       "    <tr>\n",
       "      <th>19148</th>\n",
       "      <td>111-32767</td>\n",
       "      <td>0.0013489180000000</td>\n",
       "      <td>0.0012556054605663</td>\n",
       "      <td>0.0003218931669835</td>\n",
       "    </tr>\n",
       "  </tbody>\n",
       "</table>\n",
       "<p>19149 rows × 4 columns</p>\n",
       "</div>"
      ]
     },
     "metadata": {},
     "execution_count": 37
    }
   ],
   "metadata": {}
  },
  {
   "cell_type": "code",
   "execution_count": 38,
   "source": [
    "from sklearn.metrics import r2_score\r\n",
    "def rmspe(y_true, y_pred):\r\n",
    "    return  (np.sqrt(np.mean(np.square((y_true - y_pred) / y_true)))) * 100"
   ],
   "outputs": [],
   "metadata": {}
  },
  {
   "cell_type": "code",
   "execution_count": null,
   "source": [
    "R2 = round(r2_score(y_true = df_joined['target'], y_pred = df_joined['log_return']),3)\r\n",
    "RMSPE = round(rmspe(y_true = df_joined['target'], y_pred = df_joined['log_return']),3)\r\n",
    "print(f'Performance of the naive prediction: R2 score: {R2}, RMSPE: {RMSPE}%')"
   ],
   "outputs": [],
   "metadata": {}
  },
  {
   "cell_type": "code",
   "execution_count": null,
   "source": [
    "R2 = round(r2_score(y_true = df_joined['target'], y_pred = df_joined['log_return'] + np.sqrt(df_joined['trade_return'])),3)\r\n",
    "RMSPE = round(rmspe(y_true = df_joined['target'], y_pred = df_joined['log_return'] + np.sqrt(df_joined['trade_return'])),3)\r\n",
    "print(f'Performance of the naive prediction: R2 score: {R2}, RMSPE: {RMSPE}%')"
   ],
   "outputs": [],
   "metadata": {}
  },
  {
   "cell_type": "code",
   "execution_count": null,
   "source": [
    "jovian.commit(filename=\"my-zero-to-gbm-proj-assign.ipynb\")"
   ],
   "outputs": [],
   "metadata": {}
  },
  {
   "cell_type": "markdown",
   "source": [
    "## Machine Learning\r\n",
    "\r\n",
    "Now we will start applying ML techniques to predict the volataility of the next 10 minutes window for each time-id/stock-id based on the order book volatility and trade volatility\r\n",
    "\r\n",
    "we will learn the hyper parameters givne using the training targets for the same\r\n",
    "\r\n",
    "we will use 2 different models to do the same"
   ],
   "metadata": {}
  },
  {
   "cell_type": "markdown",
   "source": [
    "## Graident Bossting\r\n",
    "\r\n",
    "We're now ready to train our gradient boosting machine (GBM) model. Here's how a GBM model works:"
   ],
   "metadata": {}
  },
  {
   "cell_type": "code",
   "execution_count": null,
   "source": [
    "from xgboost import XGBRegressor"
   ],
   "outputs": [],
   "metadata": {}
  },
  {
   "cell_type": "markdown",
   "source": [
    "## Intel Extension for Scikit-learn\r\n",
    "\r\n",
    "Intel(R) Extension for Scikit-learn* dynamically patches scikit-learn estimators to use Intel(R) oneAPI Data Analytics Library as the underlying solver, while getting the same solution faster.\r\n",
    "\r\n",
    "To install these Intel-optimized packages for scikit-learn on Windows, Mac, and Linux x86_64, simply:\r\n",
    "\r\n",
    "conda install scikit-learn-intelex\r\n",
    "\r\n",
    "Once installed, there are two ways in which you can enable the replacement patching functionality for scikit-learn. You can enable it when you run your application:\r\n",
    "\r\n",
    "python -m sklearnex my_application.py\r\n",
    "\r\n",
    "Or you can explicitly enable the patching in your code:\r\n",
    "\r\n",
    "from sklearnex import patch_sklearn\r\n",
    "\r\n",
    "patch_sklearn()"
   ],
   "metadata": {}
  },
  {
   "cell_type": "code",
   "execution_count": 39,
   "source": [
    "from sklearnex import patch_sklearn\r\n",
    "patch_sklearn()"
   ],
   "outputs": [
    {
     "output_type": "stream",
     "name": "stderr",
     "text": [
      "Intel(R) Extension for Scikit-learn* enabled (https://github.com/intel/scikit-learn-intelex)\n"
     ]
    }
   ],
   "metadata": {}
  },
  {
   "cell_type": "code",
   "execution_count": null,
   "source": [
    "Lazy"
   ],
   "outputs": [],
   "metadata": {}
  },
  {
   "cell_type": "markdown",
   "source": [
    "### Cross Validation\r\n",
    "\r\n",
    " create a validation set before training our XGBoost model. We'll use a different validation strategy this time, called <b> ShuffleSplit </b> cross validation (source):"
   ],
   "metadata": {}
  },
  {
   "cell_type": "code",
   "execution_count": 40,
   "source": [
    "from sklearn.model_selection import ShuffleSplit"
   ],
   "outputs": [],
   "metadata": {}
  },
  {
   "cell_type": "code",
   "execution_count": 41,
   "source": [
    "ss = ShuffleSplit(n_splits = 5, test_size = 0.25, random_state=42)"
   ],
   "outputs": [],
   "metadata": {}
  },
  {
   "cell_type": "markdown",
   "source": [
    "Let's define a helper function train_and_evaluate which trains a model the given parameters and returns the trained model, training error and validation error."
   ],
   "metadata": {}
  },
  {
   "cell_type": "code",
   "execution_count": 42,
   "source": [
    "# def train_and_evaluate(X_train, train_targets, X_val, val_targets, **params):\r\n",
    "#     model = XGBRegressor(random_state=42, n_jobs=-1, **params)\r\n",
    "#     model.fit(X_train, train_targets)\r\n",
    "#     train_R2 = round(r2_score(train_targets, model.predict(X_train)),3)\r\n",
    "#     train_RMSPE = round(rmspe(train_targets, model.predict(X_train)),3)\r\n",
    "#     val_R2 = round(r2_score(val_targets, model.predict(X_val)),3)\r\n",
    "#     val_RMSPE = round(rmspe(val_targets, model.predict(X_val),),3)\r\n",
    "\r\n",
    "#     # train_rmse = rmse(model.predict(X_train), train_targets)\r\n",
    "#     # val_rmse = rmse(model.predict(X_val), val_targets)\r\n",
    "#     return model, train_R2, train_RMSPE, val_R2, val_RMSPE\r\n",
    "# #n_jobs = -1 means that use all the available threads in that machine where the alogorithm is running "
   ],
   "outputs": [],
   "metadata": {}
  },
  {
   "cell_type": "markdown",
   "source": [
    "Now we will train the model for each split data of the ShuffleSplit"
   ],
   "metadata": {}
  },
  {
   "cell_type": "code",
   "execution_count": 43,
   "source": [
    "df_joined.info()"
   ],
   "outputs": [
    {
     "output_type": "stream",
     "name": "stdout",
     "text": [
      "<class 'pandas.core.frame.DataFrame'>\n",
      "Int64Index: 19149 entries, 0 to 19148\n",
      "Data columns (total 4 columns):\n",
      " #   Column        Non-Null Count  Dtype  \n",
      "---  ------        --------------  -----  \n",
      " 0   row_id        19149 non-null  object \n",
      " 1   target        19149 non-null  float64\n",
      " 2   log_return    19149 non-null  float64\n",
      " 3   trade_return  19149 non-null  float32\n",
      "dtypes: float32(1), float64(2), object(1)\n",
      "memory usage: 673.2+ KB\n"
     ]
    }
   ],
   "metadata": {}
  },
  {
   "cell_type": "code",
   "execution_count": 44,
   "source": [
    "inputs = df_joined[['log_return', 'trade_return']].copy()\r\n",
    "targets = df_joined['target'].copy()"
   ],
   "outputs": [],
   "metadata": {}
  },
  {
   "cell_type": "code",
   "execution_count": 45,
   "source": [
    "inputs\r\n",
    "#targets"
   ],
   "outputs": [
    {
     "output_type": "execute_result",
     "data": {
      "text/plain": [
       "              log_return       trade_return\n",
       "0     0.0018733931133985 0.0005385612603277\n",
       "1     0.0008151048469293 0.0003309202729724\n",
       "2     0.0012939132651704 0.0002343668165850\n",
       "3     0.0015225304382781 0.0005046058795415\n",
       "4     0.0012425119932203 0.0002491848717909\n",
       "...                  ...                ...\n",
       "19144 0.0024886340803033 0.0005013425834477\n",
       "19145 0.0009824073836777 0.0002220391470473\n",
       "19146 0.0019381003855530 0.0010461938800290\n",
       "19147 0.0025020021033653 0.0006868820055388\n",
       "19148 0.0012556054605663 0.0003218931669835\n",
       "\n",
       "[19149 rows x 2 columns]"
      ],
      "text/html": [
       "<div>\n",
       "<style scoped>\n",
       "    .dataframe tbody tr th:only-of-type {\n",
       "        vertical-align: middle;\n",
       "    }\n",
       "\n",
       "    .dataframe tbody tr th {\n",
       "        vertical-align: top;\n",
       "    }\n",
       "\n",
       "    .dataframe thead th {\n",
       "        text-align: right;\n",
       "    }\n",
       "</style>\n",
       "<table border=\"1\" class=\"dataframe\">\n",
       "  <thead>\n",
       "    <tr style=\"text-align: right;\">\n",
       "      <th></th>\n",
       "      <th>log_return</th>\n",
       "      <th>trade_return</th>\n",
       "    </tr>\n",
       "  </thead>\n",
       "  <tbody>\n",
       "    <tr>\n",
       "      <th>0</th>\n",
       "      <td>0.0018733931133985</td>\n",
       "      <td>0.0005385612603277</td>\n",
       "    </tr>\n",
       "    <tr>\n",
       "      <th>1</th>\n",
       "      <td>0.0008151048469293</td>\n",
       "      <td>0.0003309202729724</td>\n",
       "    </tr>\n",
       "    <tr>\n",
       "      <th>2</th>\n",
       "      <td>0.0012939132651704</td>\n",
       "      <td>0.0002343668165850</td>\n",
       "    </tr>\n",
       "    <tr>\n",
       "      <th>3</th>\n",
       "      <td>0.0015225304382781</td>\n",
       "      <td>0.0005046058795415</td>\n",
       "    </tr>\n",
       "    <tr>\n",
       "      <th>4</th>\n",
       "      <td>0.0012425119932203</td>\n",
       "      <td>0.0002491848717909</td>\n",
       "    </tr>\n",
       "    <tr>\n",
       "      <th>...</th>\n",
       "      <td>...</td>\n",
       "      <td>...</td>\n",
       "    </tr>\n",
       "    <tr>\n",
       "      <th>19144</th>\n",
       "      <td>0.0024886340803033</td>\n",
       "      <td>0.0005013425834477</td>\n",
       "    </tr>\n",
       "    <tr>\n",
       "      <th>19145</th>\n",
       "      <td>0.0009824073836777</td>\n",
       "      <td>0.0002220391470473</td>\n",
       "    </tr>\n",
       "    <tr>\n",
       "      <th>19146</th>\n",
       "      <td>0.0019381003855530</td>\n",
       "      <td>0.0010461938800290</td>\n",
       "    </tr>\n",
       "    <tr>\n",
       "      <th>19147</th>\n",
       "      <td>0.0025020021033653</td>\n",
       "      <td>0.0006868820055388</td>\n",
       "    </tr>\n",
       "    <tr>\n",
       "      <th>19148</th>\n",
       "      <td>0.0012556054605663</td>\n",
       "      <td>0.0003218931669835</td>\n",
       "    </tr>\n",
       "  </tbody>\n",
       "</table>\n",
       "<p>19149 rows × 2 columns</p>\n",
       "</div>"
      ]
     },
     "metadata": {},
     "execution_count": 45
    }
   ],
   "metadata": {}
  },
  {
   "cell_type": "code",
   "execution_count": 46,
   "source": [
    "from lazypredict.Supervised import LazyRegressor\r\n"
   ],
   "outputs": [
    {
     "output_type": "stream",
     "name": "stderr",
     "text": [
      "C:\\ProgramData\\Anaconda3\\lib\\site-packages\\sklearn\\utils\\deprecation.py:143: FutureWarning: The sklearn.utils.testing module is  deprecated in version 0.22 and will be removed in version 0.24. The corresponding classes / functions should instead be imported from sklearn.utils. Anything that cannot be imported from sklearn.utils is now part of the private API.\n",
      "  warnings.warn(message, FutureWarning)\n"
     ]
    }
   ],
   "metadata": {}
  },
  {
   "cell_type": "code",
   "execution_count": 47,
   "source": [
    "# models = []\r\n",
    "\r\n",
    "# for train_idxs, val_idxs in ss.split(inputs):\r\n",
    "#     X_train, train_targets = inputs.iloc[train_idxs], targets.iloc[train_idxs]\r\n",
    "#     X_val, val_targets = inputs.iloc[val_idxs], targets.iloc[val_idxs]\r\n",
    "#     model, train_R2, train_RMSPE, val_R2, val_RMSPE = train_and_evaluate(X_train, \r\n",
    "#                                                      train_targets, \r\n",
    "#                                                      X_val, \r\n",
    "#                                                      val_targets, \r\n",
    "#                                                      max_depth=5, \r\n",
    "#                                                      n_estimators=50)\r\n",
    "#     models.append(model)\r\n",
    "#     print('Train R2: {}, Train RMSPE: {}, Validation R2: {}, Validation RMSPE: {}'.format(train_R2, train_RMSPE, val_R2, val_RMSPE))"
   ],
   "outputs": [],
   "metadata": {}
  },
  {
   "cell_type": "markdown",
   "source": [
    "Let's also define a function to average predictions from the 5 different models."
   ],
   "metadata": {}
  },
  {
   "cell_type": "code",
   "execution_count": null,
   "source": [
    "def predict_avg(models, inputs):\r\n",
    "    return np.mean([model.predict(inputs) for model in models], axis=0)"
   ],
   "outputs": [],
   "metadata": {}
  },
  {
   "cell_type": "code",
   "execution_count": null,
   "source": [
    "preds = predict_avg(models, inputs)"
   ],
   "outputs": [],
   "metadata": {}
  },
  {
   "cell_type": "code",
   "execution_count": null,
   "source": [
    "preds"
   ],
   "outputs": [],
   "metadata": {}
  },
  {
   "cell_type": "code",
   "execution_count": 48,
   "source": [
    "# explicitly require this experimental feature\r\n",
    "from sklearn.experimental import enable_halving_search_cv\r\n",
    "# now you can import normally from model_selection\r\n",
    "from sklearn.model_selection import HalvingGridSearchCV"
   ],
   "outputs": [
    {
     "output_type": "error",
     "ename": "ImportError",
     "evalue": "cannot import name 'enable_halving_search_cv' from 'sklearn.experimental' (C:\\ProgramData\\Anaconda3\\lib\\site-packages\\sklearn\\experimental\\__init__.py)",
     "traceback": [
      "\u001b[1;31m---------------------------------------------------------------------------\u001b[0m",
      "\u001b[1;31mImportError\u001b[0m                               Traceback (most recent call last)",
      "\u001b[1;32m~\\AppData\\Local\\Temp/ipykernel_18772/3765649220.py\u001b[0m in \u001b[0;36m<module>\u001b[1;34m\u001b[0m\n\u001b[0;32m      1\u001b[0m \u001b[1;31m# explicitly require this experimental feature\u001b[0m\u001b[1;33m\u001b[0m\u001b[1;33m\u001b[0m\u001b[1;33m\u001b[0m\u001b[0m\n\u001b[1;32m----> 2\u001b[1;33m \u001b[1;32mfrom\u001b[0m \u001b[0msklearn\u001b[0m\u001b[1;33m.\u001b[0m\u001b[0mexperimental\u001b[0m \u001b[1;32mimport\u001b[0m \u001b[0menable_halving_search_cv\u001b[0m\u001b[1;33m\u001b[0m\u001b[1;33m\u001b[0m\u001b[0m\n\u001b[0m\u001b[0;32m      3\u001b[0m \u001b[1;31m# now you can import normally from model_selection\u001b[0m\u001b[1;33m\u001b[0m\u001b[1;33m\u001b[0m\u001b[1;33m\u001b[0m\u001b[0m\n\u001b[0;32m      4\u001b[0m \u001b[1;32mfrom\u001b[0m \u001b[0msklearn\u001b[0m\u001b[1;33m.\u001b[0m\u001b[0mmodel_selection\u001b[0m \u001b[1;32mimport\u001b[0m \u001b[0mHalvingGridSearchCV\u001b[0m\u001b[1;33m\u001b[0m\u001b[1;33m\u001b[0m\u001b[0m\n",
      "\u001b[1;31mImportError\u001b[0m: cannot import name 'enable_halving_search_cv' from 'sklearn.experimental' (C:\\ProgramData\\Anaconda3\\lib\\site-packages\\sklearn\\experimental\\__init__.py)"
     ]
    }
   ],
   "metadata": {}
  },
  {
   "cell_type": "code",
   "execution_count": 49,
   "source": [
    "# model = XGBRegressor(random_state=42, n_jobs=-1)\r\n",
    "# param_grid = {\"max_depth\": [[2, 3, 4, 5, 6, 7, 8, 9, 10, 11, 12, 13, 14, 15, 16, 17, 18, 19, 20, None]],\r\n",
    "#               \"n_estimators\" : list(range(10,51,2)),\r\n",
    "#               \"learning_rate\": np.logspace(-3,3,100),\r\n",
    "#               # \"booster\": ['gbtree', 'gblinear','dart'],\r\n",
    "#               # \"gamma\": np.logspace(-1,1,100),\r\n",
    "#               \"subsample\": np.linspace(0.1,1.0,9, endpoint=False),\r\n",
    "#               # \"num_parallel_tree\": range(1,6,1),\r\n",
    "#               # \"reg_alpha\": np.logspace(-3,3,300),\r\n",
    "#               # \"reg_lambda\": np.logspace(-3,3,300)\r\n",
    "#             }\r\n"
   ],
   "outputs": [],
   "metadata": {}
  },
  {
   "cell_type": "code",
   "execution_count": 50,
   "source": [
    "# models = []\r\n",
    "# for train_idxs, val_idxs in ss.split(inputs):\r\n",
    "#     X_train, train_targets = inputs.iloc[train_idxs], targets.iloc[train_idxs]\r\n",
    "#     X_val, val_targets = inputs.iloc[val_idxs], targets.iloc[val_idxs]\r\n",
    "#     grid_search = HalvingGridSearchCV(model, param_grid, random_state=42).fit(X_train, train_targets)\r\n",
    "#     model, train_R2, train_RMSPE, val_R2, val_RMSPE = train_and_evaluate(X_train, \r\n",
    "#                                                     train_targets, \r\n",
    "#                                                     X_val, \r\n",
    "#                                                     val_targets, \r\n",
    "#                                                     **grid_search.best_params_)\r\n",
    "#     models.append(model)\r\n",
    "#     print('Train R2: {}, Train RMSPE: {}, Validation R2: {}, Validation RMSPE: {}'.format(train_R2, train_RMSPE, val_R2, val_RMSPE))\r\n"
   ],
   "outputs": [],
   "metadata": {}
  },
  {
   "cell_type": "code",
   "execution_count": 51,
   "source": [
    "models = []\r\n",
    "for train_idxs, val_idxs in ss.split(inputs):\r\n",
    "    X_train, train_targets = inputs.iloc[train_idxs], targets.iloc[train_idxs]\r\n",
    "    X_val, val_targets = inputs.iloc[val_idxs], targets.iloc[val_idxs]\r\n",
    "    X_train = np.ascontiguousarray(X_train).reshape(-1,2)\r\n",
    "    train_targets = np.ascontiguousarray(train_targets).reshape(-1,1)\r\n",
    "    X_val = np.ascontiguousarray(X_val).reshape(-1,2)\r\n",
    "    val_targets = np.ascontiguousarray(val_targets).reshape(-1,1)\r\n",
    "    reg = LazyRegressor(ignore_warnings=False, random_state=11111, verbose=True)\r\n",
    "    models, predictions = reg.fit(X_train, X_val, train_targets, val_targets)  # pass all sets\r\n",
    "    print(models.head(100))\r\n"
   ],
   "outputs": [
    {
     "output_type": "stream",
     "name": "stderr",
     "text": [
      "  2%|▏         | 1/50 [00:01<00:49,  1.01s/it]"
     ]
    },
    {
     "output_type": "stream",
     "name": "stdout",
     "text": [
      "{'Model': 'AdaBoostRegressor', 'R-Squared': 0.20996987801794598, 'Adjusted R-Squared': 0.2096396668906808, 'RMSE': 0.002632727723268154, 'Time taken': 1.011321783065796}\n"
     ]
    },
    {
     "output_type": "stream",
     "name": "stderr",
     "text": [
      "  4%|▍         | 2/50 [00:01<00:33,  1.43it/s]"
     ]
    },
    {
     "output_type": "stream",
     "name": "stdout",
     "text": [
      "{'Model': 'BaggingRegressor', 'R-Squared': 0.701250799510781, 'Adjusted R-Squared': 0.7011259304614647, 'RMSE': 0.0016189651396941558, 'Time taken': 0.4757659435272217}\n"
     ]
    },
    {
     "output_type": "stream",
     "name": "stderr",
     "text": [
      "  8%|▊         | 4/50 [00:02<00:19,  2.39it/s]"
     ]
    },
    {
     "output_type": "stream",
     "name": "stdout",
     "text": [
      "{'Model': 'BayesianRidge', 'R-Squared': 0.7486151250239319, 'Adjusted R-Squared': 0.748510052975875, 'RMSE': 0.0014850931454843722, 'Time taken': 0.4839937686920166}\n",
      "{'Model': 'DecisionTreeRegressor', 'R-Squared': 0.5394243732664539, 'Adjusted R-Squared': 0.5392318651675057, 'RMSE': 0.002010178378710145, 'Time taken': 0.1406240463256836}\n",
      "{'Model': 'DummyRegressor', 'R-Squared': -4.718467147224459e-06, 'Adjusted R-Squared': -0.00042269327110422417, 'RMSE': 0.0029620006273835655, 'Time taken': 0.020943164825439453}\n",
      "{'Model': 'ElasticNet', 'R-Squared': -4.718467147224459e-06, 'Adjusted R-Squared': -0.00042269327110422417, 'RMSE': 0.0029620006273835655, 'Time taken': 0.02792501449584961}\n"
     ]
    },
    {
     "output_type": "stream",
     "name": "stderr",
     "text": [
      " 14%|█▍        | 7/50 [00:02<00:07,  5.66it/s]"
     ]
    },
    {
     "output_type": "stream",
     "name": "stdout",
     "text": [
      "{'Model': 'ElasticNet', 'R-Squared': -4.718467147446503e-06, 'Adjusted R-Squared': -0.0004226932711044462, 'RMSE': 0.002962000627383566, 'Time taken': 0.04986715316772461}\n"
     ]
    },
    {
     "output_type": "stream",
     "name": "stderr",
     "text": [
      " 18%|█▊        | 9/50 [00:02<00:08,  5.12it/s]"
     ]
    },
    {
     "output_type": "stream",
     "name": "stdout",
     "text": [
      "{'Model': 'ElasticNetCV', 'R-Squared': 0.7485648126960589, 'Adjusted R-Squared': 0.7484597196188159, 'RMSE': 0.0014852417517899166, 'Time taken': 0.3809788227081299}\n",
      "{'Model': 'ExtraTreeRegressor', 'R-Squared': 0.4950721580495092, 'Adjusted R-Squared': 0.4948611119295717, 'RMSE': 0.002104741580219756, 'Time taken': 0.06781768798828125}\n"
     ]
    },
    {
     "output_type": "stream",
     "name": "stderr",
     "text": [
      " 22%|██▏       | 11/50 [00:05<00:22,  1.72it/s]"
     ]
    },
    {
     "output_type": "stream",
     "name": "stdout",
     "text": [
      "{'Model': 'ExtraTreesRegressor', 'R-Squared': 0.6941864425889398, 'Adjusted R-Squared': 0.6940586208303563, 'RMSE': 0.0016379946877834635, 'Time taken': 2.5741124153137207}\n",
      "{'Model': 'GammaRegressor', 'R-Squared': -3.3814029369149994, 'Adjusted R-Squared': -3.3832342443076495, 'RMSE': 0.0061999861463881735, 'Time taken': 0.03988957405090332}\n"
     ]
    },
    {
     "output_type": "stream",
     "name": "stderr",
     "text": [
      " 24%|██▍       | 12/50 [01:38<12:03, 19.03s/it]"
     ]
    },
    {
     "output_type": "stream",
     "name": "stdout",
     "text": [
      "{'Model': 'GaussianProcessRegressor', 'R-Squared': -12378.165092444315, 'Adjusted R-Squared': -12383.3392471329, 'RMSE': 0.32955643712923144, 'Time taken': 93.12120842933655}\n",
      "{'Model': 'GeneralizedLinearRegressor', 'R-Squared': 0.6049596052821177, 'Adjusted R-Squared': 0.6047944891296755, 'RMSE': 0.001861679321341796, 'Time taken': 0.05585312843322754}\n"
     ]
    },
    {
     "output_type": "stream",
     "name": "stderr",
     "text": [
      " 28%|██▊       | 14/50 [01:40<07:28, 12.45s/it]"
     ]
    },
    {
     "output_type": "stream",
     "name": "stdout",
     "text": [
      "{'Model': 'GradientBoostingRegressor', 'R-Squared': 0.7599437585252269, 'Adjusted R-Squared': 0.7598434215381946, 'RMSE': 0.0014512446196324289, 'Time taken': 1.718398094177246}\n"
     ]
    },
    {
     "output_type": "stream",
     "name": "stderr",
     "text": [
      " 32%|███▏      | 16/50 [01:41<04:25,  7.81s/it]"
     ]
    },
    {
     "output_type": "stream",
     "name": "stdout",
     "text": [
      "{'Model': 'HistGradientBoostingRegressor', 'R-Squared': 0.7620974697960778, 'Adjusted R-Squared': 0.7619980330018442, 'RMSE': 0.0014447198904762868, 'Time taken': 0.8563096523284912}\n",
      "{'Model': 'HuberRegressor', 'R-Squared': 0.7491556432289046, 'Adjusted R-Squared': 0.7490507971027724, 'RMSE': 0.0014834956909035174, 'Time taken': 0.12366867065429688}\n"
     ]
    },
    {
     "output_type": "stream",
     "name": "stderr",
     "text": [
      " 34%|███▍      | 17/50 [01:41<03:16,  5.95s/it]"
     ]
    },
    {
     "output_type": "stream",
     "name": "stdout",
     "text": [
      "{'Model': 'KNeighborsRegressor', 'R-Squared': 0.7309676476543834, 'Adjusted R-Squared': 0.7308551994402368, 'RMSE': 0.0015363365973130709, 'Time taken': 0.23236989974975586}\n",
      "{'Model': 'KNeighborsRegressor', 'R-Squared': 0.7309676476543834, 'Adjusted R-Squared': 0.7308551994402368, 'RMSE': 0.0015363365973130709, 'Time taken': 0.0669400691986084}\n"
     ]
    },
    {
     "output_type": "stream",
     "name": "stderr",
     "text": [
      " 42%|████▏     | 21/50 [02:23<03:41,  7.64s/it]"
     ]
    },
    {
     "output_type": "stream",
     "name": "stdout",
     "text": [
      "{'Model': 'KernelRidge', 'R-Squared': -0.7491722594005004, 'Adjusted R-Squared': -0.7499033658830083, 'RMSE': 0.0039174224886623955, 'Time taken': 41.6612913608551}\n",
      "{'Model': 'Lars', 'R-Squared': 0.7486198930287027, 'Adjusted R-Squared': 0.7485148229735423, 'RMSE': 0.001485079061572642, 'Time taken': 0.0688164234161377}\n",
      "{'Model': 'LarsCV', 'R-Squared': 0.7486198930287027, 'Adjusted R-Squared': 0.7485148229735423, 'RMSE': 0.001485079061572642, 'Time taken': 0.09374880790710449}\n"
     ]
    },
    {
     "output_type": "stream",
     "name": "stderr",
     "text": [
      " 44%|████▍     | 22/50 [02:23<02:49,  6.07s/it]"
     ]
    },
    {
     "output_type": "stream",
     "name": "stdout",
     "text": [
      "{'Model': 'Lasso', 'R-Squared': -4.718467147446503e-06, 'Adjusted R-Squared': -0.0004226932711044462, 'RMSE': 0.002962000627383566, 'Time taken': 0.11070418357849121}\n",
      "{'Model': 'Lasso', 'R-Squared': -4.718467147224459e-06, 'Adjusted R-Squared': -0.00042269327110422417, 'RMSE': 0.0029620006273835655, 'Time taken': 0.05684828758239746}\n"
     ]
    },
    {
     "output_type": "stream",
     "name": "stderr",
     "text": [
      " 52%|█████▏    | 26/50 [02:24<01:01,  2.56s/it]"
     ]
    },
    {
     "output_type": "stream",
     "name": "stdout",
     "text": [
      "{'Model': 'LassoCV', 'R-Squared': 0.7485651895876517, 'Adjusted R-Squared': 0.7484600966679391, 'RMSE': 0.0014852406386296122, 'Time taken': 0.48270654678344727}\n",
      "{'Model': 'LassoLars', 'R-Squared': -4.718467147224459e-06, 'Adjusted R-Squared': -0.00042269327110422417, 'RMSE': 0.0029620006273835655, 'Time taken': 0.044881343841552734}\n",
      "{'Model': 'LassoLarsCV', 'R-Squared': 0.7486198930287027, 'Adjusted R-Squared': 0.7485148229735423, 'RMSE': 0.001485079061572642, 'Time taken': 0.06781840324401855}\n",
      "{'Model': 'LassoLarsIC', 'R-Squared': 0.7486198930287027, 'Adjusted R-Squared': 0.7485148229735423, 'RMSE': 0.001485079061572642, 'Time taken': 0.03490877151489258}\n",
      "{'Model': 'LinearRegression', 'R-Squared': 0.7486198930287027, 'Adjusted R-Squared': 0.7485148229735423, 'RMSE': 0.001485079061572642, 'Time taken': 0.05086207389831543}\n"
     ]
    },
    {
     "output_type": "stream",
     "name": "stderr",
     "text": [
      " 58%|█████▊    | 29/50 [02:24<00:31,  1.49s/it]"
     ]
    },
    {
     "output_type": "stream",
     "name": "stdout",
     "text": [
      "{'Model': 'LinearRegression', 'R-Squared': 0.7486198930287027, 'Adjusted R-Squared': 0.7485148229735423, 'RMSE': 0.0014850790615726418, 'Time taken': 0.06382966041564941}\n",
      "{'Model': 'LinearSVR', 'R-Squared': 0.4808907484789381, 'Adjusted R-Squared': 0.4806737749150839, 'RMSE': 0.0021340938095250443, 'Time taken': 1.7453274726867676}\n"
     ]
    },
    {
     "output_type": "stream",
     "name": "stderr",
     "text": [
      " 62%|██████▏   | 31/50 [02:31<00:39,  2.09s/it]"
     ]
    },
    {
     "output_type": "stream",
     "name": "stdout",
     "text": [
      "{'Model': 'MLPRegressor', 'R-Squared': 0.14446924039603926, 'Adjusted R-Squared': 0.14411165178178476, 'RMSE': 0.002739693226059079, 'Time taken': 5.387579441070557}\n"
     ]
    },
    {
     "output_type": "stream",
     "name": "stderr",
     "text": [
      " 64%|██████▍   | 32/50 [02:43<01:09,  3.84s/it]"
     ]
    },
    {
     "output_type": "stream",
     "name": "stdout",
     "text": [
      "{'Model': 'NuSVR', 'R-Squared': 0.683509447382525, 'Adjusted R-Squared': 0.6833771629300203, 'RMSE': 0.001666343366303911, 'Time taken': 12.297771215438843}\n"
     ]
    },
    {
     "output_type": "stream",
     "name": "stderr",
     "text": [
      " 72%|███████▏  | 36/50 [03:44<01:54,  8.18s/it]"
     ]
    },
    {
     "output_type": "stream",
     "name": "stdout",
     "text": [
      "{'Model': 'NuSVR', 'R-Squared': 0.7410370167614384, 'Adjusted R-Squared': 0.7409287772700116, 'RMSE': 0.0015073113393341713, 'Time taken': 60.800373792648315}\n",
      "{'Model': 'OrthogonalMatchingPursuit', 'R-Squared': 0.7488841739064882, 'Adjusted R-Squared': 0.7487792143135547, 'RMSE': 0.0014842982097941666, 'Time taken': 0.01994466781616211}\n",
      "{'Model': 'OrthogonalMatchingPursuitCV', 'R-Squared': 0.7486198930287027, 'Adjusted R-Squared': 0.7485148229735423, 'RMSE': 0.001485079061572642, 'Time taken': 0.055849552154541016}\n",
      "{'Model': 'PassiveAggressiveRegressor', 'R-Squared': -1.4903548015531132, 'Adjusted R-Squared': -1.4913957022016202, 'RMSE': 0.004674280110773235, 'Time taken': 0.03391146659851074}\n",
      "{'Model': 'PoissonRegressor', 'R-Squared': 0.009145189035349, 'Adjusted R-Squared': 0.008731038644141265, 'RMSE': 0.00294841853547195, 'Time taken': 0.026929616928100586}\n",
      "{'Model': 'RANSACRegressor', 'R-Squared': 0.6510219503724994, 'Adjusted R-Squared': 0.6508760870288726, 'RMSE': 0.0017497789077482065, 'Time taken': 0.03889966011047363}\n"
     ]
    },
    {
     "output_type": "stream",
     "name": "stderr",
     "text": [
      " 78%|███████▊  | 39/50 [03:48<01:00,  5.50s/it]"
     ]
    },
    {
     "output_type": "stream",
     "name": "stdout",
     "text": [
      "{'Model': 'RandomForestRegressor', 'R-Squared': 0.7215284759069547, 'Adjusted R-Squared': 0.7214120823754633, 'RMSE': 0.0015630559264799525, 'Time taken': 4.137917995452881}\n"
     ]
    },
    {
     "output_type": "stream",
     "name": "stderr",
     "text": [
      " 82%|████████▏ | 41/50 [03:49<00:37,  4.12s/it]"
     ]
    },
    {
     "output_type": "stream",
     "name": "stdout",
     "text": [
      "{'Model': 'RandomForestRegressor', 'R-Squared': 0.7050158958763711, 'Adjusted R-Squared': 0.7048926005350447, 'RMSE': 0.0016087309915884566, 'Time taken': 0.8717114925384521}\n",
      "{'Model': 'Ridge', 'R-Squared': 0.7486110228628744, 'Adjusted R-Squared': 0.7485059491002257, 'RMSE': 0.0014851052624950233, 'Time taken': 0.020587921142578125}\n",
      "{'Model': 'Ridge', 'R-Squared': 0.7486110228628746, 'Adjusted R-Squared': 0.7485059491002259, 'RMSE': 0.0014851052624950225, 'Time taken': 0.015956640243530273}\n",
      "{'Model': 'RidgeCV', 'R-Squared': 0.7485307104575166, 'Adjusted R-Squared': 0.7484256031264644, 'RMSE': 0.001485342470292666, 'Time taken': 0.026931285858154297}\n",
      "{'Model': 'SGDRegressor', 'R-Squared': 0.7493368633511437, 'Adjusted R-Squared': 0.7492320929700993, 'RMSE': 0.001482959725401744, 'Time taken': 0.04288363456726074}\n"
     ]
    },
    {
     "output_type": "stream",
     "name": "stderr",
     "text": [
      " 90%|█████████ | 45/50 [03:51<00:12,  2.49s/it]"
     ]
    },
    {
     "output_type": "stream",
     "name": "stdout",
     "text": [
      "SVR model failed to execute\n",
      "Input model support vectors are empty\n",
      "{'Model': 'SVR', 'R-Squared': -34.43582064371428, 'Adjusted R-Squared': -34.45063185401468, 'RMSE': 0.017632153946000508, 'Time taken': 0.02294468879699707}\n",
      "{'Model': 'TransformedTargetRegressor', 'R-Squared': 0.7486198930287027, 'Adjusted R-Squared': 0.7485148229735423, 'RMSE': 0.001485079061572642, 'Time taken': 0.032907962799072266}\n",
      "{'Model': 'TweedieRegressor', 'R-Squared': 0.6049596052821177, 'Adjusted R-Squared': 0.6047944891296755, 'RMSE': 0.001861679321341796, 'Time taken': 0.029921531677246094}\n"
     ]
    },
    {
     "output_type": "stream",
     "name": "stderr",
     "text": [
      "100%|██████████| 50/50 [03:52<00:00,  1.43s/it]"
     ]
    },
    {
     "output_type": "stream",
     "name": "stdout",
     "text": [
      "{'Model': 'XGBRegressor', 'R-Squared': 0.7397609597081922, 'Adjusted R-Squared': 0.7396521868595853, 'RMSE': 0.0015110204633625851, 'Time taken': 0.6263217926025391}\n",
      "{'Model': 'LGBMRegressor', 'R-Squared': 0.7545367806289182, 'Adjusted R-Squared': 0.7544341836720232, 'RMSE': 0.0014674973799150164, 'Time taken': 0.21641921997070312}\n"
     ]
    },
    {
     "output_type": "stream",
     "name": "stderr",
     "text": [
      "100%|██████████| 50/50 [03:52<00:00,  4.64s/it]\n"
     ]
    },
    {
     "output_type": "stream",
     "name": "stdout",
     "text": [
      "                               Adjusted R-Squared  R-Squared  RMSE  Time Taken\n",
      "Model                                                                         \n",
      "HistGradientBoostingRegressor                0.76       0.76  0.00        0.86\n",
      "GradientBoostingRegressor                    0.76       0.76  0.00        1.72\n",
      "LGBMRegressor                                0.75       0.75  0.00        0.22\n",
      "SGDRegressor                                 0.75       0.75  0.00        0.04\n",
      "HuberRegressor                               0.75       0.75  0.00        0.12\n",
      "OrthogonalMatchingPursuit                    0.75       0.75  0.00        0.02\n",
      "LinearRegression                             0.75       0.75  0.00        0.06\n",
      "LinearRegression                             0.75       0.75  0.00        0.05\n",
      "LassoLarsIC                                  0.75       0.75  0.00        0.03\n",
      "LassoLarsCV                                  0.75       0.75  0.00        0.07\n",
      "LarsCV                                       0.75       0.75  0.00        0.09\n",
      "Lars                                         0.75       0.75  0.00        0.07\n",
      "OrthogonalMatchingPursuitCV                  0.75       0.75  0.00        0.06\n",
      "TransformedTargetRegressor                   0.75       0.75  0.00        0.03\n",
      "BayesianRidge                                0.75       0.75  0.00        0.48\n",
      "Ridge                                        0.75       0.75  0.00        0.02\n",
      "Ridge                                        0.75       0.75  0.00        0.02\n",
      "LassoCV                                      0.75       0.75  0.00        0.48\n",
      "ElasticNetCV                                 0.75       0.75  0.00        0.38\n",
      "RidgeCV                                      0.75       0.75  0.00        0.03\n",
      "NuSVR                                        0.74       0.74  0.00       60.80\n",
      "XGBRegressor                                 0.74       0.74  0.00        0.63\n",
      "KNeighborsRegressor                          0.73       0.73  0.00        0.07\n",
      "KNeighborsRegressor                          0.73       0.73  0.00        0.23\n",
      "RandomForestRegressor                        0.72       0.72  0.00        4.14\n",
      "RandomForestRegressor                        0.70       0.71  0.00        0.87\n",
      "BaggingRegressor                             0.70       0.70  0.00        0.48\n",
      "ExtraTreesRegressor                          0.69       0.69  0.00        2.57\n",
      "NuSVR                                        0.68       0.68  0.00       12.30\n",
      "RANSACRegressor                              0.65       0.65  0.00        0.04\n",
      "TweedieRegressor                             0.60       0.60  0.00        0.03\n",
      "GeneralizedLinearRegressor                   0.60       0.60  0.00        0.06\n",
      "DecisionTreeRegressor                        0.54       0.54  0.00        0.14\n",
      "ExtraTreeRegressor                           0.49       0.50  0.00        0.07\n",
      "LinearSVR                                    0.48       0.48  0.00        1.75\n",
      "AdaBoostRegressor                            0.21       0.21  0.00        1.01\n",
      "MLPRegressor                                 0.14       0.14  0.00        5.39\n",
      "PoissonRegressor                             0.01       0.01  0.00        0.03\n",
      "Lasso                                       -0.00      -0.00  0.00        0.06\n",
      "ElasticNet                                  -0.00      -0.00  0.00        0.03\n",
      "DummyRegressor                              -0.00      -0.00  0.00        0.02\n",
      "LassoLars                                   -0.00      -0.00  0.00        0.04\n",
      "Lasso                                       -0.00      -0.00  0.00        0.11\n",
      "ElasticNet                                  -0.00      -0.00  0.00        0.05\n",
      "KernelRidge                                 -0.75      -0.75  0.00       41.66\n",
      "PassiveAggressiveRegressor                  -1.49      -1.49  0.00        0.03\n",
      "GammaRegressor                              -3.38      -3.38  0.01        0.04\n",
      "SVR                                        -34.45     -34.44  0.02        0.02\n",
      "GaussianProcessRegressor                -12383.34  -12378.17  0.33       93.12\n"
     ]
    },
    {
     "output_type": "stream",
     "name": "stderr",
     "text": [
      "  2%|▏         | 1/50 [00:00<00:20,  2.38it/s]"
     ]
    },
    {
     "output_type": "stream",
     "name": "stdout",
     "text": [
      "{'Model': 'AdaBoostRegressor', 'R-Squared': 0.5801210232393802, 'Adjusted R-Squared': 0.5799455252344645, 'RMSE': 0.0018222979023733506, 'Time taken': 0.4198763370513916}\n"
     ]
    },
    {
     "output_type": "stream",
     "name": "stderr",
     "text": [
      "  8%|▊         | 4/50 [00:01<00:10,  4.46it/s]"
     ]
    },
    {
     "output_type": "stream",
     "name": "stdout",
     "text": [
      "{'Model': 'BaggingRegressor', 'R-Squared': 0.7497022089471614, 'Adjusted R-Squared': 0.7495975912706503, 'RMSE': 0.0014069731790334323, 'Time taken': 0.5265929698944092}\n",
      "{'Model': 'BayesianRidge', 'R-Squared': 0.7888865962371998, 'Adjusted R-Squared': 0.7887983565700053, 'RMSE': 0.001292156790241887, 'Time taken': 0.021942138671875}\n",
      "{'Model': 'DecisionTreeRegressor', 'R-Squared': 0.5795422624823741, 'Adjusted R-Squared': 0.5793665225711859, 'RMSE': 0.0018235533966723255, 'Time taken': 0.11369657516479492}\n",
      "{'Model': 'DummyRegressor', 'R-Squared': -0.0007081399628106055, 'Adjusted R-Squared': -0.0011264087778419807, 'RMSE': 0.0028132674825683173, 'Time taken': 0.020943880081176758}\n",
      "{'Model': 'ElasticNet', 'R-Squared': -0.0007081399628106055, 'Adjusted R-Squared': -0.0011264087778419807, 'RMSE': 0.0028132674825683173, 'Time taken': 0.019950389862060547}\n",
      "{'Model': 'ElasticNet', 'R-Squared': -0.0007081399628106055, 'Adjusted R-Squared': -0.0011264087778419807, 'RMSE': 0.0028132674825683173, 'Time taken': 0.028919696807861328}\n"
     ]
    },
    {
     "output_type": "stream",
     "name": "stderr",
     "text": [
      " 16%|█▌        | 8/50 [00:01<00:05,  7.96it/s]"
     ]
    },
    {
     "output_type": "stream",
     "name": "stdout",
     "text": [
      "{'Model': 'ElasticNetCV', 'R-Squared': 0.7888749862728612, 'Adjusted R-Squared': 0.7887867417530171, 'RMSE': 0.0012921923201697344, 'Time taken': 0.21143436431884766}\n",
      "{'Model': 'ExtraTreeRegressor', 'R-Squared': 0.5865295806085582, 'Adjusted R-Squared': 0.5863567612065137, 'RMSE': 0.0018083376831981525, 'Time taken': 0.05984163284301758}\n"
     ]
    },
    {
     "output_type": "stream",
     "name": "stderr",
     "text": [
      " 20%|██        | 10/50 [00:03<00:17,  2.27it/s]"
     ]
    },
    {
     "output_type": "stream",
     "name": "stdout",
     "text": [
      "{'Model': 'ExtraTreesRegressor', 'R-Squared': 0.7539317195180837, 'Adjusted R-Squared': 0.753828869662083, 'RMSE': 0.0013950350759486998, 'Time taken': 2.192169427871704}\n",
      "{'Model': 'GammaRegressor', 'R-Squared': -0.20211602273957818, 'Adjusted R-Squared': -0.20261847457771376, 'RMSE': 0.0030834045084735433, 'Time taken': 0.03390812873840332}\n"
     ]
    },
    {
     "output_type": "stream",
     "name": "stderr",
     "text": [
      " 24%|██▍       | 12/50 [01:07<06:28, 10.24s/it]"
     ]
    },
    {
     "output_type": "stream",
     "name": "stdout",
     "text": [
      "{'Model': 'GaussianProcessRegressor', 'R-Squared': -24325.3522264472, 'Adjusted R-Squared': -24335.519980773824, 'RMSE': 0.4386274484842845, 'Time taken': 64.06651306152344}\n",
      "{'Model': 'GeneralizedLinearRegressor', 'R-Squared': 0.6429987142256075, 'Adjusted R-Squared': 0.6428494973872483, 'RMSE': 0.0016803207881599972, 'Time taken': 0.02892303466796875}\n"
     ]
    },
    {
     "output_type": "stream",
     "name": "stderr",
     "text": [
      " 28%|██▊       | 14/50 [01:09<04:23,  7.32s/it]"
     ]
    },
    {
     "output_type": "stream",
     "name": "stdout",
     "text": [
      "{'Model': 'GradientBoostingRegressor', 'R-Squared': 0.8092484511024698, 'Adjusted R-Squared': 0.8091687221374133, 'RMSE': 0.0012282629358111973, 'Time taken': 1.4471402168273926}\n"
     ]
    },
    {
     "output_type": "stream",
     "name": "stderr",
     "text": [
      " 32%|███▏      | 16/50 [01:09<02:45,  4.87s/it]"
     ]
    },
    {
     "output_type": "stream",
     "name": "stdout",
     "text": [
      "{'Model': 'HistGradientBoostingRegressor', 'R-Squared': 0.7990542428493113, 'Adjusted R-Squared': 0.7989702529821636, 'RMSE': 0.0012606563930569023, 'Time taken': 0.4652392864227295}\n",
      "{'Model': 'HuberRegressor', 'R-Squared': 0.7851235713739186, 'Adjusted R-Squared': 0.7850337588645661, 'RMSE': 0.001303622053198005, 'Time taken': 0.13065624237060547}\n"
     ]
    },
    {
     "output_type": "stream",
     "name": "stderr",
     "text": [
      " 34%|███▍      | 17/50 [01:10<02:05,  3.82s/it]"
     ]
    },
    {
     "output_type": "stream",
     "name": "stdout",
     "text": [
      "{'Model': 'KNeighborsRegressor', 'R-Squared': 0.7629163077285634, 'Adjusted R-Squared': 0.7628172131863392, 'RMSE': 0.001369330089118619, 'Time taken': 0.19846558570861816}\n",
      "{'Model': 'KNeighborsRegressor', 'R-Squared': 0.7629163077285634, 'Adjusted R-Squared': 0.7628172131863392, 'RMSE': 0.001369330089118619, 'Time taken': 0.05385780334472656}\n"
     ]
    },
    {
     "output_type": "stream",
     "name": "stderr",
     "text": [
      " 42%|████▏     | 21/50 [01:45<02:53,  5.98s/it]"
     ]
    },
    {
     "output_type": "stream",
     "name": "stdout",
     "text": [
      "{'Model': 'KernelRidge', 'R-Squared': -0.8490800107127987, 'Adjusted R-Squared': -0.8498528759210382, 'RMSE': 0.0038241521411656026, 'Time taken': 35.48918914794922}\n",
      "{'Model': 'Lars', 'R-Squared': 0.7888897792043734, 'Adjusted R-Squared': 0.7888015408675727, 'RMSE': 0.001292147049249425, 'Time taken': 0.03690218925476074}\n",
      "{'Model': 'LarsCV', 'R-Squared': 0.7888897792043734, 'Adjusted R-Squared': 0.7888015408675727, 'RMSE': 0.001292147049249425, 'Time taken': 0.0937490463256836}\n",
      "{'Model': 'Lasso', 'R-Squared': -0.0007081399628106055, 'Adjusted R-Squared': -0.0011264087778419807, 'RMSE': 0.0028132674825683173, 'Time taken': 0.04388260841369629}\n",
      "{'Model': 'Lasso', 'R-Squared': -0.0007081399628106055, 'Adjusted R-Squared': -0.0011264087778419807, 'RMSE': 0.0028132674825683173, 'Time taken': 0.04488062858581543}\n"
     ]
    },
    {
     "output_type": "stream",
     "name": "stderr",
     "text": [
      " 52%|█████▏    | 26/50 [01:46<00:59,  2.46s/it]"
     ]
    },
    {
     "output_type": "stream",
     "name": "stdout",
     "text": [
      "{'Model': 'LassoCV', 'R-Squared': 0.7888756826251824, 'Adjusted R-Squared': 0.7887874383963945, 'RMSE': 0.0012921901891530265, 'Time taken': 0.4677469730377197}\n",
      "{'Model': 'LassoLars', 'R-Squared': -0.0007081399628106055, 'Adjusted R-Squared': -0.0011264087778419807, 'RMSE': 0.0028132674825683173, 'Time taken': 0.03191494941711426}\n",
      "{'Model': 'LassoLarsCV', 'R-Squared': 0.7888897792043734, 'Adjusted R-Squared': 0.7888015408675727, 'RMSE': 0.001292147049249425, 'Time taken': 0.07280492782592773}\n",
      "{'Model': 'LassoLarsIC', 'R-Squared': 0.7888897792043734, 'Adjusted R-Squared': 0.7888015408675727, 'RMSE': 0.001292147049249425, 'Time taken': 0.03490567207336426}\n",
      "{'Model': 'LinearRegression', 'R-Squared': 0.7888897792043735, 'Adjusted R-Squared': 0.7888015408675728, 'RMSE': 0.0012921470492494249, 'Time taken': 0.0329129695892334}\n"
     ]
    },
    {
     "output_type": "stream",
     "name": "stderr",
     "text": [
      " 58%|█████▊    | 29/50 [01:46<00:32,  1.53s/it]"
     ]
    },
    {
     "output_type": "stream",
     "name": "stdout",
     "text": [
      "{'Model': 'LinearRegression', 'R-Squared': 0.7888897792043735, 'Adjusted R-Squared': 0.7888015408675728, 'RMSE': 0.0012921470492494249, 'Time taken': 0.03390836715698242}\n",
      "{'Model': 'LinearSVR', 'R-Squared': 0.7270402968508133, 'Adjusted R-Squared': 0.7269262071107301, 'RMSE': 0.0014692868062136934, 'Time taken': 1.1628854274749756}\n"
     ]
    },
    {
     "output_type": "stream",
     "name": "stderr",
     "text": [
      " 62%|██████▏   | 31/50 [01:49<00:28,  1.51s/it]"
     ]
    },
    {
     "output_type": "stream",
     "name": "stdout",
     "text": [
      "{'Model': 'MLPRegressor', 'R-Squared': 0.30370611683311766, 'Adjusted R-Squared': 0.30341508490702906, 'RMSE': 0.0023466785312073247, 'Time taken': 1.7622807025909424}\n",
      "{'Model': 'NuSVR', 'R-Squared': 0.5951654050866242, 'Adjusted R-Squared': 0.5949961952245915, 'RMSE': 0.0017893533844654164, 'Time taken': 8.07439112663269}\n"
     ]
    },
    {
     "output_type": "stream",
     "name": "stderr",
     "text": [
      " 72%|███████▏  | 36/50 [03:13<01:52,  8.01s/it]"
     ]
    },
    {
     "output_type": "stream",
     "name": "stdout",
     "text": [
      "{'Model': 'NuSVR', 'R-Squared': 0.7646624906590216, 'Adjusted R-Squared': 0.7645641259738216, 'RMSE': 0.0013642780337385526, 'Time taken': 75.94571852684021}\n",
      "{'Model': 'OrthogonalMatchingPursuit', 'R-Squared': 0.7898172797853222, 'Adjusted R-Squared': 0.7897294291185658, 'RMSE': 0.0012893054379266512, 'Time taken': 0.028922319412231445}\n",
      "{'Model': 'OrthogonalMatchingPursuitCV', 'R-Squared': 0.7888897792043735, 'Adjusted R-Squared': 0.7888015408675728, 'RMSE': 0.0012921470492494249, 'Time taken': 0.05983924865722656}\n",
      "{'Model': 'PassiveAggressiveRegressor', 'R-Squared': -1.5980039689859837, 'Adjusted R-Squared': -1.59908986406184, 'RMSE': 0.004532911241736305, 'Time taken': 0.030916690826416016}\n",
      "{'Model': 'PoissonRegressor', 'R-Squared': 0.008930873776230697, 'Adjusted R-Squared': 0.008516633807067131, 'RMSE': 0.0027996857305239375, 'Time taken': 0.029920578002929688}\n",
      "{'Model': 'RANSACRegressor', 'R-Squared': 0.7794539918905876, 'Adjusted R-Squared': 0.7793618096510435, 'RMSE': 0.001320708311325554, 'Time taken': 0.05784463882446289}\n"
     ]
    },
    {
     "output_type": "stream",
     "name": "stderr",
     "text": [
      " 78%|███████▊  | 39/50 [03:18<01:04,  5.86s/it]"
     ]
    },
    {
     "output_type": "stream",
     "name": "stdout",
     "text": [
      "{'Model': 'RandomForestRegressor', 'R-Squared': 0.7692677703491732, 'Adjusted R-Squared': 0.7691713305457664, 'RMSE': 0.001350863420031986, 'Time taken': 5.356663465499878}\n"
     ]
    },
    {
     "output_type": "stream",
     "name": "stderr",
     "text": [
      " 88%|████████▊ | 44/50 [03:20<00:17,  2.98s/it]"
     ]
    },
    {
     "output_type": "stream",
     "name": "stdout",
     "text": [
      "{'Model': 'RandomForestRegressor', 'R-Squared': 0.7575041259151087, 'Adjusted R-Squared': 0.7574027692279259, 'RMSE': 0.0013848715295712312, 'Time taken': 1.1100289821624756}\n",
      "{'Model': 'Ridge', 'R-Squared': 0.7888842495078382, 'Adjusted R-Squared': 0.7887960088597746, 'RMSE': 0.0012921639720072286, 'Time taken': 0.021939992904663086}\n",
      "{'Model': 'Ridge', 'R-Squared': 0.7888842495078383, 'Adjusted R-Squared': 0.7887960088597747, 'RMSE': 0.0012921639720072284, 'Time taken': 0.026927947998046875}\n",
      "{'Model': 'RidgeCV', 'R-Squared': 0.78883401176905, 'Adjusted R-Squared': 0.7887457501229764, 'RMSE': 0.001292317706474078, 'Time taken': 0.03390908241271973}\n",
      "{'Model': 'SGDRegressor', 'R-Squared': 0.788326751705269, 'Adjusted R-Squared': 0.7882382780382702, 'RMSE': 0.0012938689694327252, 'Time taken': 0.05684852600097656}\n"
     ]
    },
    {
     "output_type": "stream",
     "name": "stderr",
     "text": [
      " 92%|█████████▏| 46/50 [03:22<00:09,  2.49s/it]"
     ]
    },
    {
     "output_type": "stream",
     "name": "stdout",
     "text": [
      "SVR model failed to execute\n",
      "Input model support vectors are empty\n",
      "{'Model': 'SVR', 'R-Squared': -38.45852248893621, 'Adjusted R-Squared': -38.47501507931821, 'RMSE': 0.017665572634849067, 'Time taken': 0.02393651008605957}\n",
      "{'Model': 'TransformedTargetRegressor', 'R-Squared': 0.7888897792043735, 'Adjusted R-Squared': 0.7888015408675728, 'RMSE': 0.0012921470492494249, 'Time taken': 0.03290200233459473}\n",
      "{'Model': 'TweedieRegressor', 'R-Squared': 0.6429987142256075, 'Adjusted R-Squared': 0.6428494973872483, 'RMSE': 0.0016803207881599972, 'Time taken': 0.050862789154052734}\n"
     ]
    },
    {
     "output_type": "stream",
     "name": "stderr",
     "text": [
      " 98%|█████████▊| 49/50 [03:23<00:01,  1.72s/it]"
     ]
    },
    {
     "output_type": "stream",
     "name": "stdout",
     "text": [
      "{'Model': 'XGBRegressor', 'R-Squared': 0.7848680715313233, 'Adjusted R-Squared': 0.784778152229978, 'RMSE': 0.0013043968619547714, 'Time taken': 0.7280523777008057}\n"
     ]
    },
    {
     "output_type": "stream",
     "name": "stderr",
     "text": [
      "100%|██████████| 50/50 [03:23<00:00,  4.07s/it]"
     ]
    },
    {
     "output_type": "stream",
     "name": "stdout",
     "text": [
      "{'Model': 'LGBMRegressor', 'R-Squared': 0.7937914262620884, 'Adjusted R-Squared': 0.7937052366805888, 'RMSE': 0.0012770581392994786, 'Time taken': 0.30817365646362305}\n",
      "                               Adjusted R-Squared  R-Squared  RMSE  Time Taken\n",
      "Model                                                                         \n",
      "GradientBoostingRegressor                    0.81       0.81  0.00        1.45\n",
      "HistGradientBoostingRegressor                0.80       0.80  0.00        0.47\n",
      "LGBMRegressor                                0.79       0.79  0.00        0.31\n",
      "OrthogonalMatchingPursuit                    0.79       0.79  0.00        0.03\n",
      "LinearRegression                             0.79       0.79  0.00        0.03\n",
      "TransformedTargetRegressor                   0.79       0.79  0.00        0.03\n",
      "OrthogonalMatchingPursuitCV                  0.79       0.79  0.00        0.06\n",
      "LinearRegression                             0.79       0.79  0.00        0.03\n",
      "Lars                                         0.79       0.79  0.00        0.04\n",
      "LassoLarsIC                                  0.79       0.79  0.00        0.03\n",
      "LarsCV                                       0.79       0.79  0.00        0.09\n",
      "LassoLarsCV                                  0.79       0.79  0.00        0.07\n",
      "BayesianRidge                                0.79       0.79  0.00        0.02\n",
      "Ridge                                        0.79       0.79  0.00        0.03\n",
      "Ridge                                        0.79       0.79  0.00        0.02\n",
      "LassoCV                                      0.79       0.79  0.00        0.47\n",
      "ElasticNetCV                                 0.79       0.79  0.00        0.21\n",
      "RidgeCV                                      0.79       0.79  0.00        0.03\n",
      "SGDRegressor                                 0.79       0.79  0.00        0.06\n",
      "HuberRegressor                               0.79       0.79  0.00        0.13\n",
      "XGBRegressor                                 0.78       0.78  0.00        0.73\n",
      "RANSACRegressor                              0.78       0.78  0.00        0.06\n",
      "RandomForestRegressor                        0.77       0.77  0.00        5.36\n",
      "NuSVR                                        0.76       0.76  0.00       75.95\n",
      "KNeighborsRegressor                          0.76       0.76  0.00        0.05\n",
      "KNeighborsRegressor                          0.76       0.76  0.00        0.20\n",
      "RandomForestRegressor                        0.76       0.76  0.00        1.11\n",
      "ExtraTreesRegressor                          0.75       0.75  0.00        2.19\n",
      "BaggingRegressor                             0.75       0.75  0.00        0.53\n",
      "LinearSVR                                    0.73       0.73  0.00        1.16\n",
      "GeneralizedLinearRegressor                   0.64       0.64  0.00        0.03\n",
      "TweedieRegressor                             0.64       0.64  0.00        0.05\n",
      "NuSVR                                        0.59       0.60  0.00        8.07\n",
      "ExtraTreeRegressor                           0.59       0.59  0.00        0.06\n",
      "AdaBoostRegressor                            0.58       0.58  0.00        0.42\n",
      "DecisionTreeRegressor                        0.58       0.58  0.00        0.11\n",
      "MLPRegressor                                 0.30       0.30  0.00        1.76\n",
      "PoissonRegressor                             0.01       0.01  0.00        0.03\n",
      "Lasso                                       -0.00      -0.00  0.00        0.04\n",
      "Lasso                                       -0.00      -0.00  0.00        0.04\n",
      "ElasticNet                                  -0.00      -0.00  0.00        0.03\n",
      "ElasticNet                                  -0.00      -0.00  0.00        0.02\n",
      "DummyRegressor                              -0.00      -0.00  0.00        0.02\n",
      "LassoLars                                   -0.00      -0.00  0.00        0.03\n",
      "GammaRegressor                              -0.20      -0.20  0.00        0.03\n",
      "KernelRidge                                 -0.85      -0.85  0.00       35.49\n",
      "PassiveAggressiveRegressor                  -1.60      -1.60  0.00        0.03\n",
      "SVR                                        -38.48     -38.46  0.02        0.02\n",
      "GaussianProcessRegressor                -24335.52  -24325.35  0.44       64.07\n"
     ]
    },
    {
     "output_type": "stream",
     "name": "stderr",
     "text": [
      "\n",
      "  2%|▏         | 1/50 [00:00<00:26,  1.82it/s]"
     ]
    },
    {
     "output_type": "stream",
     "name": "stdout",
     "text": [
      "{'Model': 'AdaBoostRegressor', 'R-Squared': 0.5889813436630165, 'Adjusted R-Squared': 0.5888095490313187, 'RMSE': 0.0018465010097882205, 'Time taken': 0.5475361347198486}\n"
     ]
    },
    {
     "output_type": "stream",
     "name": "stderr",
     "text": [
      "  8%|▊         | 4/50 [00:01<00:11,  3.86it/s]"
     ]
    },
    {
     "output_type": "stream",
     "name": "stdout",
     "text": [
      "{'Model': 'BaggingRegressor', 'R-Squared': 0.7166859121843343, 'Adjusted R-Squared': 0.7165674945927708, 'RMSE': 0.0015330378132241997, 'Time taken': 0.5654861927032471}\n",
      "{'Model': 'BayesianRidge', 'R-Squared': 0.7583677278296443, 'Adjusted R-Squared': 0.7582667321045993, 'RMSE': 0.0014157815576457046, 'Time taken': 0.02493429183959961}\n",
      "{'Model': 'DecisionTreeRegressor', 'R-Squared': 0.5683211509527699, 'Adjusted R-Squared': 0.5681407209218201, 'RMSE': 0.0018923399887729368, 'Time taken': 0.13364553451538086}\n",
      "{'Model': 'DummyRegressor', 'R-Squared': -3.447629646879946e-06, 'Adjusted R-Squared': -0.00042142190242833166, 'RMSE': 0.0028801793383588137, 'Time taken': 0.022938013076782227}\n",
      "{'Model': 'ElasticNet', 'R-Squared': -3.447629646879946e-06, 'Adjusted R-Squared': -0.00042142190242833166, 'RMSE': 0.0028801793383588137, 'Time taken': 0.03490638732910156}\n",
      "{'Model': 'ElasticNet', 'R-Squared': -3.4476296466579015e-06, 'Adjusted R-Squared': -0.0004214219024281096, 'RMSE': 0.0028801793383588133, 'Time taken': 0.03889870643615723}\n"
     ]
    },
    {
     "output_type": "stream",
     "name": "stderr",
     "text": [
      " 16%|█▌        | 8/50 [00:01<00:06,  6.36it/s]"
     ]
    },
    {
     "output_type": "stream",
     "name": "stdout",
     "text": [
      "{'Model': 'ElasticNetCV', 'R-Squared': 0.7584263242036613, 'Adjusted R-Squared': 0.7583253529703086, 'RMSE': 0.0014156098821178052, 'Time taken': 0.30219268798828125}\n",
      "{'Model': 'ExtraTreeRegressor', 'R-Squared': 0.5178015939896548, 'Adjusted R-Squared': 0.5176000481564216, 'RMSE': 0.0020000076973150905, 'Time taken': 0.0797872543334961}\n"
     ]
    },
    {
     "output_type": "stream",
     "name": "stderr",
     "text": [
      " 20%|██        | 10/50 [00:04<00:23,  1.68it/s]"
     ]
    },
    {
     "output_type": "stream",
     "name": "stdout",
     "text": [
      "{'Model': 'ExtraTreesRegressor', 'R-Squared': 0.729878589550043, 'Adjusted R-Squared': 0.7297656861391967, 'RMSE': 0.0014969189499176765, 'Time taken': 3.0159292221069336}\n",
      "{'Model': 'GammaRegressor', 'R-Squared': -2.215917927967207, 'Adjusted R-Squared': -2.2172620942902865, 'RMSE': 0.005165011113177595, 'Time taken': 0.05684781074523926}\n"
     ]
    },
    {
     "output_type": "stream",
     "name": "stderr",
     "text": [
      " 24%|██▍       | 12/50 [01:15<07:13, 11.41s/it]"
     ]
    },
    {
     "output_type": "stream",
     "name": "stdout",
     "text": [
      "{'Model': 'GaussianProcessRegressor', 'R-Squared': -36265.16643454303, 'Adjusted R-Squared': -36280.32470682497, 'RMSE': 0.5484911279105266, 'Time taken': 70.91792440414429}\n",
      "{'Model': 'GeneralizedLinearRegressor', 'R-Squared': 0.6312640658726986, 'Adjusted R-Squared': 0.6311099442701376, 'RMSE': 0.0017489464538322217, 'Time taken': 0.024934053421020508}\n"
     ]
    },
    {
     "output_type": "stream",
     "name": "stderr",
     "text": [
      " 28%|██▊       | 14/50 [01:17<04:52,  8.12s/it]"
     ]
    },
    {
     "output_type": "stream",
     "name": "stdout",
     "text": [
      "{'Model': 'GradientBoostingRegressor', 'R-Squared': 0.7800407968743265, 'Adjusted R-Squared': 0.7799488599033231, 'RMSE': 0.0013507962637593497, 'Time taken': 1.3932690620422363}\n"
     ]
    },
    {
     "output_type": "stream",
     "name": "stderr",
     "text": [
      " 32%|███▏      | 16/50 [01:17<03:03,  5.40s/it]"
     ]
    },
    {
     "output_type": "stream",
     "name": "stdout",
     "text": [
      "{'Model': 'HistGradientBoostingRegressor', 'R-Squared': 0.7812291246567348, 'Adjusted R-Squared': 0.7811376843744596, 'RMSE': 0.0013471424893624607, 'Time taken': 0.5006589889526367}\n",
      "{'Model': 'HuberRegressor', 'R-Squared': 0.7514719855822504, 'Adjusted R-Squared': 0.7513681076242911, 'RMSE': 0.0014358413525522688, 'Time taken': 0.11170125007629395}\n"
     ]
    },
    {
     "output_type": "stream",
     "name": "stderr",
     "text": [
      " 34%|███▍      | 17/50 [01:17<02:18,  4.21s/it]"
     ]
    },
    {
     "output_type": "stream",
     "name": "stdout",
     "text": [
      "{'Model': 'KNeighborsRegressor', 'R-Squared': 0.7644414871792784, 'Adjusted R-Squared': 0.7643430301206282, 'RMSE': 0.0013978745039540735, 'Time taken': 0.13763165473937988}\n",
      "{'Model': 'KNeighborsRegressor', 'R-Squared': 0.7644414871792784, 'Adjusted R-Squared': 0.7643430301206282, 'RMSE': 0.0013978745039540735, 'Time taken': 0.07680988311767578}\n"
     ]
    },
    {
     "output_type": "stream",
     "name": "stderr",
     "text": [
      " 42%|████▏     | 21/50 [01:53<02:58,  6.15s/it]"
     ]
    },
    {
     "output_type": "stream",
     "name": "stdout",
     "text": [
      "{'Model': 'KernelRidge', 'R-Squared': -0.8133490901885321, 'Adjusted R-Squared': -0.8141070208427383, 'RMSE': 0.003878461558492346, 'Time taken': 35.68050718307495}\n",
      "{'Model': 'Lars', 'R-Squared': 0.7583695766251786, 'Adjusted R-Squared': 0.7582685816728798, 'RMSE': 0.0014157761413666529, 'Time taken': 0.03391385078430176}\n",
      "{'Model': 'LarsCV', 'R-Squared': 0.7583695766251786, 'Adjusted R-Squared': 0.7582685816728798, 'RMSE': 0.0014157761413666529, 'Time taken': 0.07579326629638672}\n",
      "{'Model': 'Lasso', 'R-Squared': -3.4476296466579015e-06, 'Adjusted R-Squared': -0.0004214219024281096, 'RMSE': 0.0028801793383588133, 'Time taken': 0.031913042068481445}\n",
      "{'Model': 'Lasso', 'R-Squared': -3.447629646879946e-06, 'Adjusted R-Squared': -0.00042142190242833166, 'RMSE': 0.0028801793383588137, 'Time taken': 0.035904884338378906}\n"
     ]
    },
    {
     "output_type": "stream",
     "name": "stderr",
     "text": [
      " 52%|█████▏    | 26/50 [01:54<01:00,  2.52s/it]"
     ]
    },
    {
     "output_type": "stream",
     "name": "stdout",
     "text": [
      "{'Model': 'LassoCV', 'R-Squared': 0.7584264505281259, 'Adjusted R-Squared': 0.7583254793475733, 'RMSE': 0.001415609511990176, 'Time taken': 0.3540506362915039}\n",
      "{'Model': 'LassoLars', 'R-Squared': -3.447629646879946e-06, 'Adjusted R-Squared': -0.00042142190242833166, 'RMSE': 0.0028801793383588137, 'Time taken': 0.02892303466796875}\n",
      "{'Model': 'LassoLarsCV', 'R-Squared': 0.7583695766251786, 'Adjusted R-Squared': 0.7582685816728798, 'RMSE': 0.0014157761413666529, 'Time taken': 0.07280540466308594}\n",
      "{'Model': 'LassoLarsIC', 'R-Squared': 0.7583695766251786, 'Adjusted R-Squared': 0.7582685816728798, 'RMSE': 0.0014157761413666529, 'Time taken': 0.03589916229248047}\n",
      "{'Model': 'LinearRegression', 'R-Squared': 0.7583695766251785, 'Adjusted R-Squared': 0.7582685816728797, 'RMSE': 0.0014157761413666533, 'Time taken': 0.028923988342285156}\n",
      "{'Model': 'LinearRegression', 'R-Squared': 0.7583695766251785, 'Adjusted R-Squared': 0.7582685816728797, 'RMSE': 0.0014157761413666533, 'Time taken': 0.028921127319335938}\n"
     ]
    },
    {
     "output_type": "stream",
     "name": "stderr",
     "text": [
      " 60%|██████    | 30/50 [01:55<00:30,  1.50s/it]"
     ]
    },
    {
     "output_type": "stream",
     "name": "stdout",
     "text": [
      "{'Model': 'LinearSVR', 'R-Squared': 0.6072708285535731, 'Adjusted R-Squared': 0.6071066784296666, 'RMSE': 0.0018049507764253626, 'Time taken': 1.0571718215942383}\n"
     ]
    },
    {
     "output_type": "stream",
     "name": "stderr",
     "text": [
      " 62%|██████▏   | 31/50 [01:57<00:30,  1.58s/it]"
     ]
    },
    {
     "output_type": "stream",
     "name": "stdout",
     "text": [
      "{'Model': 'MLPRegressor', 'R-Squared': 0.09509340647774933, 'Adjusted R-Squared': 0.09471518010637114, 'RMSE': 0.0027398113360346038, 'Time taken': 2.0844223499298096}\n"
     ]
    },
    {
     "output_type": "stream",
     "name": "stderr",
     "text": [
      " 64%|██████▍   | 32/50 [02:05<00:47,  2.62s/it]"
     ]
    },
    {
     "output_type": "stream",
     "name": "stdout",
     "text": [
      "{'Model': 'NuSVR', 'R-Squared': 0.6309270239013403, 'Adjusted R-Squared': 0.6307727614243921, 'RMSE': 0.001749745580886485, 'Time taken': 7.789820194244385}\n"
     ]
    },
    {
     "output_type": "stream",
     "name": "stderr",
     "text": [
      " 70%|███████   | 35/50 [03:03<02:08,  8.58s/it]"
     ]
    },
    {
     "output_type": "stream",
     "name": "stdout",
     "text": [
      "{'Model': 'NuSVR', 'R-Squared': 0.7090091559669645, 'Adjusted R-Squared': 0.708887529699866, 'RMSE': 0.0015536687981177189, 'Time taken': 57.967835664749146}\n",
      "{'Model': 'OrthogonalMatchingPursuit', 'R-Squared': 0.7597226292514545, 'Adjusted R-Squared': 0.7596221998383934, 'RMSE': 0.001411806631137687, 'Time taken': 0.030916929244995117}\n",
      "{'Model': 'OrthogonalMatchingPursuitCV', 'R-Squared': 0.7583695766251786, 'Adjusted R-Squared': 0.7582685816728798, 'RMSE': 0.0014157761413666529, 'Time taken': 0.08377456665039062}\n",
      "{'Model': 'PassiveAggressiveRegressor', 'R-Squared': -1.5685389013399886, 'Adjusted R-Squared': -1.5696124808180825, 'RMSE': 0.0046159580759898775, 'Time taken': 0.04088878631591797}\n",
      "{'Model': 'PoissonRegressor', 'R-Squared': 0.009670133118690472, 'Adjusted R-Squared': 0.00925620213984768, 'RMSE': 0.0028662147087397854, 'Time taken': 0.04188895225524902}\n"
     ]
    },
    {
     "output_type": "stream",
     "name": "stderr",
     "text": [
      " 76%|███████▌  | 38/50 [03:03<00:58,  4.90s/it]"
     ]
    },
    {
     "output_type": "stream",
     "name": "stdout",
     "text": [
      "{'Model': 'RANSACRegressor', 'R-Squared': 0.40555750218917574, 'Adjusted R-Squared': 0.40530904137504375, 'RMSE': 0.002220617239585154, 'Time taken': 0.1047205924987793}\n",
      "{'Model': 'RandomForestRegressor', 'R-Squared': 0.7384130068027019, 'Adjusted R-Squared': 0.7383036705464021, 'RMSE': 0.0014730817696275128, 'Time taken': 6.5843751430511475}\n"
     ]
    },
    {
     "output_type": "stream",
     "name": "stderr",
     "text": [
      " 88%|████████▊ | 44/50 [03:11<00:15,  2.51s/it]"
     ]
    },
    {
     "output_type": "stream",
     "name": "stdout",
     "text": [
      "{'Model': 'RandomForestRegressor', 'R-Squared': 0.7300726813505312, 'Adjusted R-Squared': 0.7299598590647842, 'RMSE': 0.001496381058635356, 'Time taken': 0.9564430713653564}\n",
      "{'Model': 'Ridge', 'R-Squared': 0.7583662152613898, 'Adjusted R-Squared': 0.7582652189041323, 'RMSE': 0.0014157859888892404, 'Time taken': 0.017986059188842773}\n",
      "{'Model': 'Ridge', 'R-Squared': 0.7583662152613899, 'Adjusted R-Squared': 0.7582652189041323, 'RMSE': 0.0014157859888892404, 'Time taken': 0.021909475326538086}\n",
      "{'Model': 'RidgeCV', 'R-Squared': 0.7583354365760766, 'Adjusted R-Squared': 0.7582344273541648, 'RMSE': 0.0014158761555931804, 'Time taken': 0.04487943649291992}\n",
      "{'Model': 'SGDRegressor', 'R-Squared': 0.7583579162137726, 'Adjusted R-Squared': 0.7582569163877386, 'RMSE': 0.0014158103016616963, 'Time taken': 0.032909393310546875}\n"
     ]
    },
    {
     "output_type": "stream",
     "name": "stderr",
     "text": [
      " 92%|█████████▏| 46/50 [03:13<00:08,  2.12s/it]"
     ]
    },
    {
     "output_type": "stream",
     "name": "stdout",
     "text": [
      "SVR model failed to execute\n",
      "Input model support vectors are empty\n",
      "{'Model': 'SVR', 'R-Squared': -36.44771374292773, 'Adjusted R-Squared': -36.46336586988402, 'RMSE': 0.01762509376323704, 'Time taken': 0.023937702178955078}\n",
      "{'Model': 'TransformedTargetRegressor', 'R-Squared': 0.7583695766251785, 'Adjusted R-Squared': 0.7582685816728797, 'RMSE': 0.0014157761413666533, 'Time taken': 0.031914472579956055}\n",
      "{'Model': 'TweedieRegressor', 'R-Squared': 0.6312640658726986, 'Adjusted R-Squared': 0.6311099442701376, 'RMSE': 0.0017489464538322217, 'Time taken': 0.03987526893615723}\n"
     ]
    },
    {
     "output_type": "stream",
     "name": "stderr",
     "text": [
      " 98%|█████████▊| 49/50 [03:13<00:01,  1.48s/it]"
     ]
    },
    {
     "output_type": "stream",
     "name": "stdout",
     "text": [
      "{'Model': 'XGBRegressor', 'R-Squared': 0.7655103782082411, 'Adjusted R-Squared': 0.7654123679170011, 'RMSE': 0.0013946993387239245, 'Time taken': 0.697136402130127}\n"
     ]
    },
    {
     "output_type": "stream",
     "name": "stderr",
     "text": [
      "100%|██████████| 50/50 [03:14<00:00,  3.88s/it]"
     ]
    },
    {
     "output_type": "stream",
     "name": "stdout",
     "text": [
      "{'Model': 'LGBMRegressor', 'R-Squared': 0.7734399841967783, 'Adjusted R-Squared': 0.773345288265408, 'RMSE': 0.001370914642440543, 'Time taken': 0.292217493057251}\n",
      "                               Adjusted R-Squared  R-Squared  RMSE  Time Taken\n",
      "Model                                                                         \n",
      "HistGradientBoostingRegressor                0.78       0.78  0.00        0.50\n",
      "GradientBoostingRegressor                    0.78       0.78  0.00        1.39\n",
      "LGBMRegressor                                0.77       0.77  0.00        0.29\n",
      "XGBRegressor                                 0.77       0.77  0.00        0.70\n",
      "KNeighborsRegressor                          0.76       0.76  0.00        0.08\n",
      "KNeighborsRegressor                          0.76       0.76  0.00        0.14\n",
      "OrthogonalMatchingPursuit                    0.76       0.76  0.00        0.03\n",
      "LassoCV                                      0.76       0.76  0.00        0.35\n",
      "ElasticNetCV                                 0.76       0.76  0.00        0.30\n",
      "Lars                                         0.76       0.76  0.00        0.03\n",
      "LarsCV                                       0.76       0.76  0.00        0.08\n",
      "LassoLarsIC                                  0.76       0.76  0.00        0.04\n",
      "LassoLarsCV                                  0.76       0.76  0.00        0.07\n",
      "OrthogonalMatchingPursuitCV                  0.76       0.76  0.00        0.08\n",
      "LinearRegression                             0.76       0.76  0.00        0.03\n",
      "LinearRegression                             0.76       0.76  0.00        0.03\n",
      "TransformedTargetRegressor                   0.76       0.76  0.00        0.03\n",
      "BayesianRidge                                0.76       0.76  0.00        0.02\n",
      "Ridge                                        0.76       0.76  0.00        0.02\n",
      "Ridge                                        0.76       0.76  0.00        0.02\n",
      "SGDRegressor                                 0.76       0.76  0.00        0.03\n",
      "RidgeCV                                      0.76       0.76  0.00        0.04\n",
      "HuberRegressor                               0.75       0.75  0.00        0.11\n",
      "RandomForestRegressor                        0.74       0.74  0.00        6.58\n",
      "RandomForestRegressor                        0.73       0.73  0.00        0.96\n",
      "ExtraTreesRegressor                          0.73       0.73  0.00        3.02\n",
      "BaggingRegressor                             0.72       0.72  0.00        0.57\n",
      "NuSVR                                        0.71       0.71  0.00       57.97\n",
      "TweedieRegressor                             0.63       0.63  0.00        0.04\n",
      "GeneralizedLinearRegressor                   0.63       0.63  0.00        0.02\n",
      "NuSVR                                        0.63       0.63  0.00        7.79\n",
      "LinearSVR                                    0.61       0.61  0.00        1.06\n",
      "AdaBoostRegressor                            0.59       0.59  0.00        0.55\n",
      "DecisionTreeRegressor                        0.57       0.57  0.00        0.13\n",
      "ExtraTreeRegressor                           0.52       0.52  0.00        0.08\n",
      "RANSACRegressor                              0.41       0.41  0.00        0.10\n",
      "MLPRegressor                                 0.09       0.10  0.00        2.08\n",
      "PoissonRegressor                             0.01       0.01  0.00        0.04\n",
      "Lasso                                       -0.00      -0.00  0.00        0.03\n",
      "ElasticNet                                  -0.00      -0.00  0.00        0.04\n",
      "Lasso                                       -0.00      -0.00  0.00        0.04\n",
      "ElasticNet                                  -0.00      -0.00  0.00        0.03\n",
      "DummyRegressor                              -0.00      -0.00  0.00        0.02\n",
      "LassoLars                                   -0.00      -0.00  0.00        0.03\n",
      "KernelRidge                                 -0.81      -0.81  0.00       35.68\n",
      "PassiveAggressiveRegressor                  -1.57      -1.57  0.00        0.04\n",
      "GammaRegressor                              -2.22      -2.22  0.01        0.06\n",
      "SVR                                        -36.46     -36.45  0.02        0.02\n",
      "GaussianProcessRegressor                -36280.32  -36265.17  0.55       70.92\n"
     ]
    },
    {
     "output_type": "stream",
     "name": "stderr",
     "text": [
      "\n",
      "  2%|▏         | 1/50 [00:00<00:24,  2.01it/s]"
     ]
    },
    {
     "output_type": "stream",
     "name": "stdout",
     "text": [
      "{'Model': 'AdaBoostRegressor', 'R-Squared': 0.4847517031390902, 'Adjusted R-Squared': 0.48453634334938867, 'RMSE': 0.002077565514034374, 'Time taken': 0.4966731071472168}\n"
     ]
    },
    {
     "output_type": "stream",
     "name": "stderr",
     "text": [
      "  8%|▊         | 4/50 [00:01<00:09,  4.73it/s]"
     ]
    },
    {
     "output_type": "stream",
     "name": "stdout",
     "text": [
      "{'Model': 'BaggingRegressor', 'R-Squared': 0.7262516442089173, 'Adjusted R-Squared': 0.7261372248334561, 'RMSE': 0.0015143358538811191, 'Time taken': 0.4508345127105713}\n",
      "{'Model': 'BayesianRidge', 'R-Squared': 0.7517227426338846, 'Adjusted R-Squared': 0.7516189694855602, 'RMSE': 0.0014421648786852796, 'Time taken': 0.01691269874572754}\n",
      "{'Model': 'DecisionTreeRegressor', 'R-Squared': 0.5280461178627631, 'Adjusted R-Squared': 0.5278488539621833, 'RMSE': 0.001988365534630708, 'Time taken': 0.09773969650268555}\n",
      "{'Model': 'DummyRegressor', 'R-Squared': -0.0001428929063498341, 'Adjusted R-Squared': -0.0005609254634684202, 'RMSE': 0.002894526112665168, 'Time taken': 0.023937463760375977}\n",
      "{'Model': 'ElasticNet', 'R-Squared': -0.0001428929063498341, 'Adjusted R-Squared': -0.0005609254634684202, 'RMSE': 0.002894526112665168, 'Time taken': 0.021940946578979492}\n",
      "{'Model': 'ElasticNet', 'R-Squared': -0.0001428929063498341, 'Adjusted R-Squared': -0.0005609254634684202, 'RMSE': 0.002894526112665168, 'Time taken': 0.01795172691345215}\n"
     ]
    },
    {
     "output_type": "stream",
     "name": "stderr",
     "text": [
      " 16%|█▌        | 8/50 [00:01<00:05,  8.23it/s]"
     ]
    },
    {
     "output_type": "stream",
     "name": "stdout",
     "text": [
      "{'Model': 'ElasticNetCV', 'R-Squared': 0.7517002269822819, 'Adjusted R-Squared': 0.7515964444230269, 'RMSE': 0.0014422302703892052, 'Time taken': 0.22140717506408691}\n",
      "{'Model': 'ExtraTreeRegressor', 'R-Squared': 0.5319339633045563, 'Adjusted R-Squared': 0.5317383244177453, 'RMSE': 0.001980158753722118, 'Time taken': 0.04688382148742676}\n"
     ]
    },
    {
     "output_type": "stream",
     "name": "stderr",
     "text": [
      " 20%|██        | 10/50 [00:03<00:18,  2.21it/s]"
     ]
    },
    {
     "output_type": "stream",
     "name": "stdout",
     "text": [
      "{'Model': 'ExtraTreesRegressor', 'R-Squared': 0.7305531146827344, 'Adjusted R-Squared': 0.7304404932050679, 'RMSE': 0.001502391193126959, 'Time taken': 2.2948832511901855}\n",
      "{'Model': 'GammaRegressor', 'R-Squared': 0.4467810820150947, 'Adjusted R-Squared': 0.44654985153735804, 'RMSE': 0.0021527567355922937, 'Time taken': 0.0329132080078125}\n"
     ]
    },
    {
     "output_type": "stream",
     "name": "stderr",
     "text": [
      " 24%|██▍       | 12/50 [01:14<07:06, 11.24s/it]"
     ]
    },
    {
     "output_type": "stream",
     "name": "stdout",
     "text": [
      "{'Model': 'GaussianProcessRegressor', 'R-Squared': -58861.59569310628, 'Adjusted R-Squared': -58886.19865891322, 'RMSE': 0.7022086097395944, 'Time taken': 70.46789455413818}\n",
      "{'Model': 'GeneralizedLinearRegressor', 'R-Squared': 0.6138554262778149, 'Adjusted R-Squared': 0.6136940283368651, 'RMSE': 0.0017985454348400586, 'Time taken': 0.0329129695892334}\n"
     ]
    },
    {
     "output_type": "stream",
     "name": "stderr",
     "text": [
      " 28%|██▊       | 14/50 [01:15<04:48,  8.00s/it]"
     ]
    },
    {
     "output_type": "stream",
     "name": "stdout",
     "text": [
      "{'Model': 'GradientBoostingRegressor', 'R-Squared': 0.774143195186851, 'Adjusted R-Squared': 0.7740487931785697, 'RMSE': 0.0013755077296015083, 'Time taken': 1.3643476963043213}\n"
     ]
    },
    {
     "output_type": "stream",
     "name": "stderr",
     "text": [
      " 32%|███▏      | 16/50 [01:16<03:00,  5.31s/it]"
     ]
    },
    {
     "output_type": "stream",
     "name": "stdout",
     "text": [
      "{'Model': 'HistGradientBoostingRegressor', 'R-Squared': 0.7719028685014067, 'Adjusted R-Squared': 0.7718075300974365, 'RMSE': 0.0013823128878444255, 'Time taken': 0.4258265495300293}\n",
      "{'Model': 'HuberRegressor', 'R-Squared': 0.7430657600548422, 'Adjusted R-Squared': 0.7429583685229946, 'RMSE': 0.0014670922980334537, 'Time taken': 0.11170196533203125}\n"
     ]
    },
    {
     "output_type": "stream",
     "name": "stderr",
     "text": [
      " 34%|███▍      | 17/50 [01:16<02:16,  4.15s/it]"
     ]
    },
    {
     "output_type": "stream",
     "name": "stdout",
     "text": [
      "{'Model': 'KNeighborsRegressor', 'R-Squared': 0.7493299121611542, 'Adjusted R-Squared': 0.7492251388747011, 'RMSE': 0.0014490978159243297, 'Time taken': 0.18650031089782715}\n",
      "{'Model': 'KNeighborsRegressor', 'R-Squared': 0.7493299121611542, 'Adjusted R-Squared': 0.7492251388747011, 'RMSE': 0.0014490978159243297, 'Time taken': 0.06382966041564941}\n"
     ]
    },
    {
     "output_type": "stream",
     "name": "stderr",
     "text": [
      " 42%|████▏     | 21/50 [01:53<03:01,  6.24s/it]"
     ]
    },
    {
     "output_type": "stream",
     "name": "stdout",
     "text": [
      "{'Model': 'KernelRidge', 'R-Squared': -0.8043709128499061, 'Adjusted R-Squared': -0.8051250908699061, 'RMSE': 0.0038878486865548817, 'Time taken': 36.59095883369446}\n",
      "{'Model': 'Lars', 'R-Squared': 0.751720050498903, 'Adjusted R-Squared': 0.7516162762253393, 'RMSE': 0.0014421726975488267, 'Time taken': 0.04288530349731445}\n",
      "{'Model': 'LarsCV', 'R-Squared': 0.751720050498903, 'Adjusted R-Squared': 0.7516162762253393, 'RMSE': 0.0014421726975488267, 'Time taken': 0.06781840324401855}\n",
      "{'Model': 'Lasso', 'R-Squared': -0.0001428929063498341, 'Adjusted R-Squared': -0.0005609254634684202, 'RMSE': 0.002894526112665168, 'Time taken': 0.03390932083129883}\n",
      "{'Model': 'Lasso', 'R-Squared': -0.0001428929063498341, 'Adjusted R-Squared': -0.0005609254634684202, 'RMSE': 0.002894526112665168, 'Time taken': 0.03790140151977539}\n"
     ]
    },
    {
     "output_type": "stream",
     "name": "stderr",
     "text": [
      " 54%|█████▍    | 27/50 [01:53<00:51,  2.24s/it]"
     ]
    },
    {
     "output_type": "stream",
     "name": "stdout",
     "text": [
      "{'Model': 'LassoCV', 'R-Squared': 0.7517000383507499, 'Adjusted R-Squared': 0.7515962557126521, 'RMSE': 0.0014422308182150255, 'Time taken': 0.46375417709350586}\n",
      "{'Model': 'LassoLars', 'R-Squared': -0.0001428929063498341, 'Adjusted R-Squared': -0.0005609254634684202, 'RMSE': 0.002894526112665168, 'Time taken': 0.03490781784057617}\n",
      "{'Model': 'LassoLarsCV', 'R-Squared': 0.751720050498903, 'Adjusted R-Squared': 0.7516162762253393, 'RMSE': 0.0014421726975488267, 'Time taken': 0.05784440040588379}\n",
      "{'Model': 'LassoLarsIC', 'R-Squared': 0.751720050498903, 'Adjusted R-Squared': 0.7516162762253393, 'RMSE': 0.0014421726975488267, 'Time taken': 0.02293848991394043}\n",
      "{'Model': 'LinearRegression', 'R-Squared': 0.7517200504989029, 'Adjusted R-Squared': 0.7516162762253392, 'RMSE': 0.0014421726975488269, 'Time taken': 0.02892279624938965}\n",
      "{'Model': 'LinearRegression', 'R-Squared': 0.7517200504989029, 'Adjusted R-Squared': 0.7516162762253392, 'RMSE': 0.0014421726975488269, 'Time taken': 0.02992105484008789}\n"
     ]
    },
    {
     "output_type": "stream",
     "name": "stderr",
     "text": [
      " 60%|██████    | 30/50 [01:55<00:31,  1.60s/it]"
     ]
    },
    {
     "output_type": "stream",
     "name": "stdout",
     "text": [
      "{'Model': 'LinearSVR', 'R-Squared': 0.69443605800886, 'Adjusted R-Squared': 0.6943083405827404, 'RMSE': 0.0015999171631355684, 'Time taken': 1.2067694664001465}\n",
      "{'Model': 'MLPRegressor', 'R-Squared': 0.4416677009270813, 'Adjusted R-Squared': 0.4414343331949714, 'RMSE': 0.0021626827755210523, 'Time taken': 1.7652738094329834}\n"
     ]
    },
    {
     "output_type": "stream",
     "name": "stderr",
     "text": [
      " 64%|██████▍   | 32/50 [02:03<00:39,  2.21s/it]"
     ]
    },
    {
     "output_type": "stream",
     "name": "stdout",
     "text": [
      "{'Model': 'NuSVR', 'R-Squared': 0.6440453836838878, 'Adjusted R-Squared': 0.6438966043249259, 'RMSE': 0.001726806839294337, 'Time taken': 6.255258083343506}\n"
     ]
    },
    {
     "output_type": "stream",
     "name": "stderr",
     "text": [
      " 72%|███████▏  | 36/50 [03:16<01:50,  7.91s/it]"
     ]
    },
    {
     "output_type": "stream",
     "name": "stdout",
     "text": [
      "{'Model': 'NuSVR', 'R-Squared': 0.7552633124409227, 'Adjusted R-Squared': 0.7551610191545867, 'RMSE': 0.0014318449236029945, 'Time taken': 73.35641145706177}\n",
      "{'Model': 'OrthogonalMatchingPursuit', 'R-Squared': 0.7490261980908495, 'Adjusted R-Squared': 0.7489212978601665, 'RMSE': 0.0014499754199690173, 'Time taken': 0.02892446517944336}\n",
      "{'Model': 'OrthogonalMatchingPursuitCV', 'R-Squared': 0.751720050498903, 'Adjusted R-Squared': 0.7516162762253393, 'RMSE': 0.0014421726975488267, 'Time taken': 0.0578458309173584}\n",
      "{'Model': 'PassiveAggressiveRegressor', 'R-Squared': -1.5344107492148615, 'Adjusted R-Squared': -1.5354700640525687, 'RMSE': 0.00460770796899523, 'Time taken': 0.03690075874328613}\n",
      "{'Model': 'PoissonRegressor', 'R-Squared': 0.008828357164700873, 'Adjusted R-Squared': 0.008414074346378975, 'RMSE': 0.0028815149657711106, 'Time taken': 0.03590536117553711}\n",
      "{'Model': 'RANSACRegressor', 'R-Squared': 0.6480573751053273, 'Adjusted R-Squared': 0.647910272649781, 'RMSE': 0.0017170477772969716, 'Time taken': 0.06283068656921387}\n"
     ]
    },
    {
     "output_type": "stream",
     "name": "stderr",
     "text": [
      " 78%|███████▊  | 39/50 [03:22<01:03,  5.79s/it]"
     ]
    },
    {
     "output_type": "stream",
     "name": "stdout",
     "text": [
      "{'Model': 'RandomForestRegressor', 'R-Squared': 0.7392198485405641, 'Adjusted R-Squared': 0.7391108495221903, 'RMSE': 0.0014780315748536537, 'Time taken': 5.969022512435913}\n"
     ]
    },
    {
     "output_type": "stream",
     "name": "stderr",
     "text": [
      " 88%|████████▊ | 44/50 [03:24<00:16,  2.81s/it]"
     ]
    },
    {
     "output_type": "stream",
     "name": "stdout",
     "text": [
      "{'Model': 'RandomForestRegressor', 'R-Squared': 0.7278962473177517, 'Adjusted R-Squared': 0.727782515341709, 'RMSE': 0.001509780149332183, 'Time taken': 1.3084979057312012}\n",
      "{'Model': 'Ridge', 'R-Squared': 0.7517251754782663, 'Adjusted R-Squared': 0.7516214033468048, 'RMSE': 0.0014421578128521963, 'Time taken': 0.024933338165283203}\n",
      "{'Model': 'Ridge', 'R-Squared': 0.7517251754782667, 'Adjusted R-Squared': 0.7516214033468052, 'RMSE': 0.0014421578128521954, 'Time taken': 0.03490614891052246}\n",
      "{'Model': 'RidgeCV', 'R-Squared': 0.7517702660999077, 'Adjusted R-Squared': 0.751666512815101, 'RMSE': 0.0014420268476099537, 'Time taken': 0.03390812873840332}\n",
      "{'Model': 'SGDRegressor', 'R-Squared': 0.7500369435470992, 'Adjusted R-Squared': 0.7499324657805566, 'RMSE': 0.0014470527352275521, 'Time taken': 0.04288601875305176}\n"
     ]
    },
    {
     "output_type": "stream",
     "name": "stderr",
     "text": [
      " 92%|█████████▏| 46/50 [03:26<00:09,  2.36s/it]"
     ]
    },
    {
     "output_type": "stream",
     "name": "stdout",
     "text": [
      "SVR model failed to execute\n",
      "Input model support vectors are empty\n",
      "{'Model': 'SVR', 'R-Squared': -36.183457704244326, 'Adjusted R-Squared': -36.19899937935582, 'RMSE': 0.01764904992163427, 'Time taken': 0.03091740608215332}\n",
      "{'Model': 'TransformedTargetRegressor', 'R-Squared': 0.7517200504989029, 'Adjusted R-Squared': 0.7516162762253392, 'RMSE': 0.0014421726975488269, 'Time taken': 0.024932146072387695}\n",
      "{'Model': 'TweedieRegressor', 'R-Squared': 0.6138554262778149, 'Adjusted R-Squared': 0.6136940283368651, 'RMSE': 0.0017985454348400586, 'Time taken': 0.029920101165771484}\n"
     ]
    },
    {
     "output_type": "stream",
     "name": "stderr",
     "text": [
      " 98%|█████████▊| 49/50 [03:26<00:01,  1.63s/it]"
     ]
    },
    {
     "output_type": "stream",
     "name": "stdout",
     "text": [
      "{'Model': 'XGBRegressor', 'R-Squared': 0.751570197903569, 'Adjusted R-Squared': 0.7514663609956918, 'RMSE': 0.0014426078529498503, 'Time taken': 0.6741948127746582}\n"
     ]
    },
    {
     "output_type": "stream",
     "name": "stderr",
     "text": [
      "100%|██████████| 50/50 [03:27<00:00,  4.14s/it]"
     ]
    },
    {
     "output_type": "stream",
     "name": "stdout",
     "text": [
      "{'Model': 'LGBMRegressor', 'R-Squared': 0.7660123721755928, 'Adjusted R-Squared': 0.7659145717041929, 'RMSE': 0.001400047893726071, 'Time taken': 0.2852358818054199}\n",
      "                               Adjusted R-Squared  R-Squared  RMSE  Time Taken\n",
      "Model                                                                         \n",
      "GradientBoostingRegressor                    0.77       0.77  0.00        1.36\n",
      "HistGradientBoostingRegressor                0.77       0.77  0.00        0.43\n",
      "LGBMRegressor                                0.77       0.77  0.00        0.29\n",
      "NuSVR                                        0.76       0.76  0.00       73.36\n",
      "RidgeCV                                      0.75       0.75  0.00        0.03\n",
      "Ridge                                        0.75       0.75  0.00        0.03\n",
      "Ridge                                        0.75       0.75  0.00        0.02\n",
      "BayesianRidge                                0.75       0.75  0.00        0.02\n",
      "LassoLarsIC                                  0.75       0.75  0.00        0.02\n",
      "LassoLarsCV                                  0.75       0.75  0.00        0.06\n",
      "LarsCV                                       0.75       0.75  0.00        0.07\n",
      "Lars                                         0.75       0.75  0.00        0.04\n",
      "OrthogonalMatchingPursuitCV                  0.75       0.75  0.00        0.06\n",
      "LinearRegression                             0.75       0.75  0.00        0.03\n",
      "TransformedTargetRegressor                   0.75       0.75  0.00        0.02\n",
      "LinearRegression                             0.75       0.75  0.00        0.03\n",
      "ElasticNetCV                                 0.75       0.75  0.00        0.22\n",
      "LassoCV                                      0.75       0.75  0.00        0.46\n",
      "XGBRegressor                                 0.75       0.75  0.00        0.67\n",
      "SGDRegressor                                 0.75       0.75  0.00        0.04\n",
      "KNeighborsRegressor                          0.75       0.75  0.00        0.06\n",
      "KNeighborsRegressor                          0.75       0.75  0.00        0.19\n",
      "OrthogonalMatchingPursuit                    0.75       0.75  0.00        0.03\n",
      "HuberRegressor                               0.74       0.74  0.00        0.11\n",
      "RandomForestRegressor                        0.74       0.74  0.00        5.97\n",
      "ExtraTreesRegressor                          0.73       0.73  0.00        2.29\n",
      "RandomForestRegressor                        0.73       0.73  0.00        1.31\n",
      "BaggingRegressor                             0.73       0.73  0.00        0.45\n",
      "LinearSVR                                    0.69       0.69  0.00        1.21\n",
      "RANSACRegressor                              0.65       0.65  0.00        0.06\n",
      "NuSVR                                        0.64       0.64  0.00        6.26\n",
      "TweedieRegressor                             0.61       0.61  0.00        0.03\n",
      "GeneralizedLinearRegressor                   0.61       0.61  0.00        0.03\n",
      "ExtraTreeRegressor                           0.53       0.53  0.00        0.05\n",
      "DecisionTreeRegressor                        0.53       0.53  0.00        0.10\n",
      "AdaBoostRegressor                            0.48       0.48  0.00        0.50\n",
      "GammaRegressor                               0.45       0.45  0.00        0.03\n",
      "MLPRegressor                                 0.44       0.44  0.00        1.77\n",
      "PoissonRegressor                             0.01       0.01  0.00        0.04\n",
      "Lasso                                       -0.00      -0.00  0.00        0.04\n",
      "Lasso                                       -0.00      -0.00  0.00        0.03\n",
      "ElasticNet                                  -0.00      -0.00  0.00        0.02\n",
      "ElasticNet                                  -0.00      -0.00  0.00        0.02\n",
      "DummyRegressor                              -0.00      -0.00  0.00        0.02\n",
      "LassoLars                                   -0.00      -0.00  0.00        0.03\n",
      "KernelRidge                                 -0.81      -0.80  0.00       36.59\n",
      "PassiveAggressiveRegressor                  -1.54      -1.53  0.00        0.04\n",
      "SVR                                        -36.20     -36.18  0.02        0.03\n",
      "GaussianProcessRegressor                -58886.20  -58861.60  0.70       70.47\n"
     ]
    },
    {
     "output_type": "stream",
     "name": "stderr",
     "text": [
      "\n",
      "  2%|▏         | 1/50 [00:00<00:14,  3.31it/s]"
     ]
    },
    {
     "output_type": "stream",
     "name": "stdout",
     "text": [
      "{'Model': 'AdaBoostRegressor', 'R-Squared': 0.6742312502285908, 'Adjusted R-Squared': 0.674095087741748, 'RMSE': 0.001724248622396753, 'Time taken': 0.30219101905822754}\n"
     ]
    },
    {
     "output_type": "stream",
     "name": "stderr",
     "text": [
      "  4%|▍         | 2/50 [00:01<00:28,  1.71it/s]"
     ]
    },
    {
     "output_type": "stream",
     "name": "stdout",
     "text": [
      "{'Model': 'BaggingRegressor', 'R-Squared': 0.7182435360017086, 'Adjusted R-Squared': 0.718125769454583, 'RMSE': 0.0016035485790011348, 'Time taken': 0.7809107303619385}\n",
      "{'Model': 'BayesianRidge', 'R-Squared': 0.724306863105521, 'Adjusted R-Squared': 0.7241916308643948, 'RMSE': 0.0015862007634544627, 'Time taken': 0.03889632225036621}\n",
      "{'Model': 'DecisionTreeRegressor', 'R-Squared': 0.5605716924992572, 'Adjusted R-Squared': 0.560388023405213, 'RMSE': 0.002002576854070945, 'Time taken': 0.15159368515014648}\n"
     ]
    },
    {
     "output_type": "stream",
     "name": "stderr",
     "text": [
      " 14%|█▍        | 7/50 [00:01<00:05,  7.25it/s]"
     ]
    },
    {
     "output_type": "stream",
     "name": "stdout",
     "text": [
      "{'Model': 'DummyRegressor', 'R-Squared': -2.056380952630832e-06, 'Adjusted R-Squared': -0.0004200300722299044, 'RMSE': 0.0030209645127766927, 'Time taken': 0.032912254333496094}\n",
      "{'Model': 'ElasticNet', 'R-Squared': -2.056380952630832e-06, 'Adjusted R-Squared': -0.0004200300722299044, 'RMSE': 0.0030209645127766927, 'Time taken': 0.03590583801269531}\n",
      "{'Model': 'ElasticNet', 'R-Squared': -2.056380952630832e-06, 'Adjusted R-Squared': -0.0004200300722299044, 'RMSE': 0.0030209645127766927, 'Time taken': 0.029918193817138672}\n"
     ]
    },
    {
     "output_type": "stream",
     "name": "stderr",
     "text": [
      " 18%|█▊        | 9/50 [00:01<00:06,  6.16it/s]"
     ]
    },
    {
     "output_type": "stream",
     "name": "stdout",
     "text": [
      "{'Model': 'ElasticNetCV', 'R-Squared': 0.72416158124533, 'Adjusted R-Squared': 0.7240462882803333, 'RMSE': 0.0015866186480790435, 'Time taken': 0.34707117080688477}\n",
      "{'Model': 'ExtraTreeRegressor', 'R-Squared': 0.5234658900743879, 'Adjusted R-Squared': 0.5232667117630292, 'RMSE': 0.0020854134651757455, 'Time taken': 0.06482768058776855}\n"
     ]
    },
    {
     "output_type": "stream",
     "name": "stderr",
     "text": [
      " 22%|██▏       | 11/50 [00:05<00:25,  1.53it/s]"
     ]
    },
    {
     "output_type": "stream",
     "name": "stdout",
     "text": [
      "{'Model': 'ExtraTreesRegressor', 'R-Squared': 0.6983917096899783, 'Adjusted R-Squared': 0.6982656456187933, 'RMSE': 0.0016590780384761305, 'Time taken': 3.1934523582458496}\n",
      "{'Model': 'GammaRegressor', 'R-Squared': 0.16319771672328198, 'Adjusted R-Squared': 0.1628479561033126, 'RMSE': 0.002763481778816182, 'Time taken': 0.04986572265625}\n"
     ]
    },
    {
     "output_type": "stream",
     "name": "stderr",
     "text": [
      " 24%|██▍       | 12/50 [01:13<08:45, 13.83s/it]"
     ]
    },
    {
     "output_type": "stream",
     "name": "stdout",
     "text": [
      "{'Model': 'GaussianProcessRegressor', 'R-Squared': -68203.70916987574, 'Adjusted R-Squared': -68232.21688530725, 'RMSE': 0.788955227006443, 'Time taken': 68.82341647148132}\n",
      "{'Model': 'GeneralizedLinearRegressor', 'R-Squared': 0.5849868415444545, 'Adjusted R-Squared': 0.5848133773193946, 'RMSE': 0.0019461491033078177, 'Time taken': 0.022939205169677734}\n"
     ]
    },
    {
     "output_type": "stream",
     "name": "stderr",
     "text": [
      " 28%|██▊       | 14/50 [01:15<05:29,  9.16s/it]"
     ]
    },
    {
     "output_type": "stream",
     "name": "stdout",
     "text": [
      "{'Model': 'GradientBoostingRegressor', 'R-Squared': 0.7465157531487279, 'Adjusted R-Squared': 0.7464098036202633, 'RMSE': 0.0015209700575575659, 'Time taken': 1.3903100490570068}\n"
     ]
    },
    {
     "output_type": "stream",
     "name": "stderr",
     "text": [
      " 32%|███▏      | 16/50 [01:15<03:15,  5.76s/it]"
     ]
    },
    {
     "output_type": "stream",
     "name": "stdout",
     "text": [
      "{'Model': 'HistGradientBoostingRegressor', 'R-Squared': 0.7475165505811835, 'Adjusted R-Squared': 0.7474110193588559, 'RMSE': 0.0015179645683058142, 'Time taken': 0.4527862071990967}\n",
      "{'Model': 'HuberRegressor', 'R-Squared': 0.7214249088941702, 'Adjusted R-Squared': 0.7213084720744812, 'RMSE': 0.0015944698727305764, 'Time taken': 0.1266615390777588}\n"
     ]
    },
    {
     "output_type": "stream",
     "name": "stderr",
     "text": [
      " 36%|███▌      | 18/50 [01:16<01:45,  3.30s/it]"
     ]
    },
    {
     "output_type": "stream",
     "name": "stdout",
     "text": [
      "{'Model': 'KNeighborsRegressor', 'R-Squared': 0.7261742075482462, 'Adjusted R-Squared': 0.7260597558063646, 'RMSE': 0.001580819752067503, 'Time taken': 0.20345568656921387}\n",
      "{'Model': 'KNeighborsRegressor', 'R-Squared': 0.7261742075482462, 'Adjusted R-Squared': 0.7260597558063646, 'RMSE': 0.001580819752067503, 'Time taken': 0.10171699523925781}\n"
     ]
    },
    {
     "output_type": "stream",
     "name": "stderr",
     "text": [
      " 42%|████▏     | 21/50 [01:50<03:12,  6.65s/it]"
     ]
    },
    {
     "output_type": "stream",
     "name": "stdout",
     "text": [
      "{'Model': 'KernelRidge', 'R-Squared': -0.7378815442386173, 'Adjusted R-Squared': -0.7386079315089364, 'RMSE': 0.003982495215330015, 'Time taken': 34.58550214767456}\n",
      "{'Model': 'Lars', 'R-Squared': 0.7243080098032971, 'Adjusted R-Squared': 0.7241927780414594, 'RMSE': 0.0015861974646875804, 'Time taken': 0.03690171241760254}\n",
      "{'Model': 'LarsCV', 'R-Squared': 0.7243080098032971, 'Adjusted R-Squared': 0.7241927780414594, 'RMSE': 0.0015861974646875804, 'Time taken': 0.07081007957458496}\n",
      "{'Model': 'Lasso', 'R-Squared': -2.056380952630832e-06, 'Adjusted R-Squared': -0.0004200300722299044, 'RMSE': 0.0030209645127766927, 'Time taken': 0.03889584541320801}\n",
      "{'Model': 'Lasso', 'R-Squared': -2.056380952630832e-06, 'Adjusted R-Squared': -0.0004200300722299044, 'RMSE': 0.0030209645127766927, 'Time taken': 0.03490591049194336}\n"
     ]
    },
    {
     "output_type": "stream",
     "name": "stderr",
     "text": [
      " 52%|█████▏    | 26/50 [01:51<00:58,  2.44s/it]"
     ]
    },
    {
     "output_type": "stream",
     "name": "stdout",
     "text": [
      "{'Model': 'LassoCV', 'R-Squared': 0.7242060738809369, 'Adjusted R-Squared': 0.7240907995126531, 'RMSE': 0.001586490682416112, 'Time taken': 0.4667510986328125}\n",
      "{'Model': 'LassoLars', 'R-Squared': -2.056380952630832e-06, 'Adjusted R-Squared': -0.0004200300722299044, 'RMSE': 0.0030209645127766927, 'Time taken': 0.038895368576049805}\n",
      "{'Model': 'LassoLarsCV', 'R-Squared': 0.7243080098032971, 'Adjusted R-Squared': 0.7241927780414594, 'RMSE': 0.0015861974646875804, 'Time taken': 0.06582427024841309}\n",
      "{'Model': 'LassoLarsIC', 'R-Squared': 0.7243080098032971, 'Adjusted R-Squared': 0.7241927780414594, 'RMSE': 0.0015861974646875804, 'Time taken': 0.041887760162353516}\n",
      "{'Model': 'LinearRegression', 'R-Squared': 0.7243080098032972, 'Adjusted R-Squared': 0.7241927780414595, 'RMSE': 0.0015861974646875804, 'Time taken': 0.036901235580444336}"
     ]
    },
    {
     "output_type": "stream",
     "name": "stderr",
     "text": [
      " 58%|█████▊    | 29/50 [01:51<00:30,  1.47s/it]"
     ]
    },
    {
     "output_type": "stream",
     "name": "stdout",
     "text": [
      "\n",
      "{'Model': 'LinearRegression', 'R-Squared': 0.7243080098032972, 'Adjusted R-Squared': 0.7241927780414595, 'RMSE': 0.0015861974646875804, 'Time taken': 0.0329129695892334}\n",
      "{'Model': 'LinearSVR', 'R-Squared': 0.7169263625695165, 'Adjusted R-Squared': 0.7168080454796814, 'RMSE': 0.0016072923952082836, 'Time taken': 1.1898150444030762}\n"
     ]
    },
    {
     "output_type": "stream",
     "name": "stderr",
     "text": [
      " 62%|██████▏   | 31/50 [01:54<00:28,  1.51s/it]"
     ]
    },
    {
     "output_type": "stream",
     "name": "stdout",
     "text": [
      "{'Model': 'MLPRegressor', 'R-Squared': 0.3661033842445015, 'Adjusted R-Squared': 0.3658384326809674, 'RMSE': 0.0024052177140736963, 'Time taken': 2.054500102996826}\n",
      "{'Model': 'NuSVR', 'R-Squared': 0.5788745446288697, 'Adjusted R-Squared': 0.5786985256297594, 'RMSE': 0.001960428122685968, 'Time taken': 7.063094139099121}\n"
     ]
    },
    {
     "output_type": "stream",
     "name": "stderr",
     "text": [
      " 72%|███████▏  | 36/50 [03:19<01:53,  8.12s/it]"
     ]
    },
    {
     "output_type": "stream",
     "name": "stdout",
     "text": [
      "{'Model': 'NuSVR', 'R-Squared': 0.7198833946281927, 'Adjusted R-Squared': 0.7197663134974208, 'RMSE': 0.0015988753405425428, 'Time taken': 77.15478157997131}\n",
      "{'Model': 'OrthogonalMatchingPursuit', 'R-Squared': 0.7225257982447416, 'Adjusted R-Squared': 0.7224098215668919, 'RMSE': 0.0015913161942382086, 'Time taken': 0.03390908241271973}\n",
      "{'Model': 'OrthogonalMatchingPursuitCV', 'R-Squared': 0.7243080098032971, 'Adjusted R-Squared': 0.7241927780414594, 'RMSE': 0.0015861974646875804, 'Time taken': 0.05385541915893555}\n",
      "{'Model': 'PassiveAggressiveRegressor', 'R-Squared': -1.4263493810109455, 'Adjusted R-Squared': -1.4273635291325801, 'RMSE': 0.004705674095837723, 'Time taken': 0.038896799087524414}\n",
      "{'Model': 'PoissonRegressor', 'R-Squared': 0.008587390697252784, 'Adjusted R-Squared': 0.00817300716149405, 'RMSE': 0.0030079623515525027, 'Time taken': 0.03789806365966797}\n",
      "{'Model': 'RANSACRegressor', 'R-Squared': 0.7117401842866571, 'Adjusted R-Squared': 0.7116196995151991, 'RMSE': 0.0016219491312917, 'Time taken': 0.05385756492614746}\n"
     ]
    },
    {
     "output_type": "stream",
     "name": "stderr",
     "text": [
      " 78%|███████▊  | 39/50 [03:25<01:06,  6.01s/it]"
     ]
    },
    {
     "output_type": "stream",
     "name": "stdout",
     "text": [
      "{'Model': 'RandomForestRegressor', 'R-Squared': 0.723073110746413, 'Adjusted R-Squared': 0.7229573628303196, 'RMSE': 0.001589745999338186, 'Time taken': 6.1794593334198}\n"
     ]
    },
    {
     "output_type": "stream",
     "name": "stderr",
     "text": [
      " 88%|████████▊ | 44/50 [03:26<00:18,  3.05s/it]"
     ]
    },
    {
     "output_type": "stream",
     "name": "stdout",
     "text": [
      "{'Model': 'RandomForestRegressor', 'R-Squared': 0.708964318530688, 'Adjusted R-Squared': 0.7088426735227593, 'RMSE': 0.0016297398909852676, 'Time taken': 1.34739351272583}\n",
      "{'Model': 'Ridge', 'R-Squared': 0.7243057148330543, 'Adjusted R-Squared': 0.7241904821119813, 'RMSE': 0.0015862040667444673, 'Time taken': 0.02892327308654785}\n",
      "{'Model': 'Ridge', 'R-Squared': 0.7243057148330543, 'Adjusted R-Squared': 0.7241904821119813, 'RMSE': 0.0015862040667444673, 'Time taken': 0.03191542625427246}\n",
      "{'Model': 'RidgeCV', 'R-Squared': 0.7242843884088398, 'Adjusted R-Squared': 0.724169146773901, 'RMSE': 0.0015862654162327738, 'Time taken': 0.03390836715698242}\n",
      "{'Model': 'SGDRegressor', 'R-Squared': 0.7256147351538387, 'Adjusted R-Squared': 0.7255000495676961, 'RMSE': 0.0015824338690346447, 'Time taken': 0.04288506507873535}\n"
     ]
    },
    {
     "output_type": "stream",
     "name": "stderr",
     "text": [
      " 92%|█████████▏| 46/50 [03:28<00:10,  2.53s/it]"
     ]
    },
    {
     "output_type": "stream",
     "name": "stdout",
     "text": [
      "SVR model failed to execute\n",
      "Input model support vectors are empty\n",
      "{'Model': 'SVR', 'R-Squared': -28.14681106602343, 'Adjusted R-Squared': -28.158993641181645, 'RMSE': 0.016309501987898583, 'Time taken': 0.019946813583374023}\n",
      "{'Model': 'TransformedTargetRegressor', 'R-Squared': 0.7243080098032972, 'Adjusted R-Squared': 0.7241927780414595, 'RMSE': 0.0015861974646875804, 'Time taken': 0.028922557830810547}\n",
      "{'Model': 'TweedieRegressor', 'R-Squared': 0.5849868415444545, 'Adjusted R-Squared': 0.5848133773193946, 'RMSE': 0.0019461491033078177, 'Time taken': 0.018948078155517578}\n"
     ]
    },
    {
     "output_type": "stream",
     "name": "stderr",
     "text": [
      " 98%|█████████▊| 49/50 [03:29<00:01,  1.74s/it]"
     ]
    },
    {
     "output_type": "stream",
     "name": "stdout",
     "text": [
      "{'Model': 'XGBRegressor', 'R-Squared': 0.7379254588192357, 'Adjusted R-Squared': 0.7378159187811246, 'RMSE': 0.0015465273121664687, 'Time taken': 0.732041597366333}\n"
     ]
    },
    {
     "output_type": "stream",
     "name": "stderr",
     "text": [
      "100%|██████████| 50/50 [03:29<00:00,  4.20s/it]"
     ]
    },
    {
     "output_type": "stream",
     "name": "stdout",
     "text": [
      "{'Model': 'LGBMRegressor', 'R-Squared': 0.7497008893093954, 'Adjusted R-Squared': 0.7495962710813115, 'RMSE': 0.0015113840350644957, 'Time taken': 0.22539854049682617}\n",
      "                               Adjusted R-Squared  R-Squared  RMSE  Time Taken\n",
      "Model                                                                         \n",
      "LGBMRegressor                                0.75       0.75  0.00        0.23\n",
      "HistGradientBoostingRegressor                0.75       0.75  0.00        0.45\n",
      "GradientBoostingRegressor                    0.75       0.75  0.00        1.39\n",
      "XGBRegressor                                 0.74       0.74  0.00        0.73\n",
      "KNeighborsRegressor                          0.73       0.73  0.00        0.10\n",
      "KNeighborsRegressor                          0.73       0.73  0.00        0.20\n",
      "SGDRegressor                                 0.73       0.73  0.00        0.04\n",
      "LinearRegression                             0.72       0.72  0.00        0.03\n",
      "LinearRegression                             0.72       0.72  0.00        0.04\n",
      "TransformedTargetRegressor                   0.72       0.72  0.00        0.03\n",
      "LassoLarsIC                                  0.72       0.72  0.00        0.04\n",
      "LassoLarsCV                                  0.72       0.72  0.00        0.07\n",
      "Lars                                         0.72       0.72  0.00        0.04\n",
      "LarsCV                                       0.72       0.72  0.00        0.07\n",
      "OrthogonalMatchingPursuitCV                  0.72       0.72  0.00        0.05\n",
      "BayesianRidge                                0.72       0.72  0.00        0.04\n",
      "Ridge                                        0.72       0.72  0.00        0.03\n",
      "Ridge                                        0.72       0.72  0.00        0.03\n",
      "RidgeCV                                      0.72       0.72  0.00        0.03\n",
      "LassoCV                                      0.72       0.72  0.00        0.47\n",
      "ElasticNetCV                                 0.72       0.72  0.00        0.35\n",
      "RandomForestRegressor                        0.72       0.72  0.00        6.18\n",
      "OrthogonalMatchingPursuit                    0.72       0.72  0.00        0.03\n",
      "HuberRegressor                               0.72       0.72  0.00        0.13\n",
      "NuSVR                                        0.72       0.72  0.00       77.15\n",
      "BaggingRegressor                             0.72       0.72  0.00        0.78\n",
      "LinearSVR                                    0.72       0.72  0.00        1.19\n",
      "RANSACRegressor                              0.71       0.71  0.00        0.05\n",
      "RandomForestRegressor                        0.71       0.71  0.00        1.35\n",
      "ExtraTreesRegressor                          0.70       0.70  0.00        3.19\n",
      "AdaBoostRegressor                            0.67       0.67  0.00        0.30\n",
      "GeneralizedLinearRegressor                   0.58       0.58  0.00        0.02\n",
      "TweedieRegressor                             0.58       0.58  0.00        0.02\n",
      "NuSVR                                        0.58       0.58  0.00        7.06\n",
      "DecisionTreeRegressor                        0.56       0.56  0.00        0.15\n",
      "ExtraTreeRegressor                           0.52       0.52  0.00        0.06\n",
      "MLPRegressor                                 0.37       0.37  0.00        2.05\n",
      "GammaRegressor                               0.16       0.16  0.00        0.05\n",
      "PoissonRegressor                             0.01       0.01  0.00        0.04\n",
      "ElasticNet                                  -0.00      -0.00  0.00        0.03\n",
      "ElasticNet                                  -0.00      -0.00  0.00        0.04\n",
      "DummyRegressor                              -0.00      -0.00  0.00        0.03\n",
      "Lasso                                       -0.00      -0.00  0.00        0.04\n",
      "Lasso                                       -0.00      -0.00  0.00        0.03\n",
      "LassoLars                                   -0.00      -0.00  0.00        0.04\n",
      "KernelRidge                                 -0.74      -0.74  0.00       34.59\n",
      "PassiveAggressiveRegressor                  -1.43      -1.43  0.00        0.04\n",
      "SVR                                        -28.16     -28.15  0.02        0.02\n",
      "GaussianProcessRegressor                -68232.22  -68203.71  0.79       68.82\n"
     ]
    },
    {
     "output_type": "stream",
     "name": "stderr",
     "text": [
      "\n"
     ]
    }
   ],
   "metadata": {}
  },
  {
   "cell_type": "code",
   "execution_count": null,
   "source": [
    "# Fit LazyRegressor\r\n",
    "\r\n",
    "\r\n"
   ],
   "outputs": [],
   "metadata": {}
  },
  {
   "cell_type": "code",
   "execution_count": null,
   "source": [
    "grid_search.best_params_"
   ],
   "outputs": [],
   "metadata": {}
  },
  {
   "cell_type": "markdown",
   "source": [
    "Discussion on cross validation designs\r\n",
    "\r\n",
    "https://www.kaggle.com/vishnurapps/undersanding-kfold-stratifiedkfold-and-groupkfold"
   ],
   "metadata": {}
  },
  {
   "cell_type": "markdown",
   "source": [],
   "metadata": {}
  }
 ],
 "metadata": {
  "interpreter": {
   "hash": "b3ba2566441a7c06988d0923437866b63cedc61552a5af99d1f4fb67d367b25f"
  },
  "kernelspec": {
   "name": "python3",
   "display_name": "Python 3.8.11 64-bit ('base': conda)"
  },
  "language_info": {
   "codemirror_mode": {
    "name": "ipython",
    "version": 3
   },
   "file_extension": ".py",
   "mimetype": "text/x-python",
   "name": "python",
   "nbconvert_exporter": "python",
   "pygments_lexer": "ipython3",
   "version": "3.8.11"
  }
 },
 "nbformat": 4,
 "nbformat_minor": 4
}