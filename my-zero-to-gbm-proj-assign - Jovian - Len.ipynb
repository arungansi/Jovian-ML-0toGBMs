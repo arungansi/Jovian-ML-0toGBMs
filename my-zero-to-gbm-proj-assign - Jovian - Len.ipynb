{
 "cells": [
  {
   "cell_type": "markdown",
   "source": [
    "##### my-zero-to-gbm-proj-assign"
   ],
   "metadata": {}
  },
  {
   "cell_type": "markdown",
   "source": [
    "## Optiver Realized Volatility Prediction"
   ],
   "metadata": {}
  },
  {
   "cell_type": "markdown",
   "source": [
    "This dataset contains stock market data relevant to the practical execution of trades in the financial markets. In particular, it includes order book snapshots and executed trades. With one second resolution, it provides a uniquely fine grained look at the micro-structure of modern financial markets.\r\n",
    "\r\n",
    "This is a code competition where only the first few rows of the test set are available for download. The rows that are visible are intended to illustrate the hidden test set format and folder structure. The remainder will only be available to your notebook when it is submitted. The hidden test set contains data that can be used to construct features to predict roughly 150,000 target values. Loading the entire dataset will take slightly more than 3 GB of memory, by our estimation.\r\n",
    "\r\n",
    "This is also a forecasting competition, where the final private leaderboard will be determined using data gathered after the training period closes, which means that the public and private leaderboards will have zero overlap. During the active training stage of the competition a large fraction of the test data will be filler, intended only to ensure the hidden dataset has approximately the same size as the actual test data. The filler data will be removed entirely during the forecasting phase of the competition and replaced with real"
   ],
   "metadata": {}
  },
  {
   "cell_type": "code",
   "execution_count": 1,
   "source": [
    "!pip install jovian --upgrade --quiet"
   ],
   "outputs": [],
   "metadata": {}
  },
  {
   "cell_type": "code",
   "execution_count": 2,
   "source": [
    "import jovian"
   ],
   "outputs": [
    {
     "output_type": "display_data",
     "data": {
      "text/plain": [
       "<IPython.core.display.Javascript object>"
      ],
      "application/javascript": "if (window.IPython && IPython.notebook.kernel) IPython.notebook.kernel.execute('jovian.utils.jupyter.get_notebook_name_saved = lambda: \"' + IPython.notebook.notebook_name + '\"')"
     },
     "metadata": {}
    }
   ],
   "metadata": {}
  },
  {
   "cell_type": "markdown",
   "source": [
    "#### Data Description\r\n",
    "\r\n",
    "book_[train/test].parquet A parquet file partitioned by stock_id. Provides order book data on the most competitive buy and sell orders entered into the market. The top two levels of the book are shared. The first level of the book will be more competitive in price terms, it will then receive execution priority over the second level.\r\n",
    "\r\n",
    "stock_id - ID code for the stock. Not all stock IDs exist in every time bucket. Parquet coerces this column to the categorical data type when loaded; you may wish to convert it to int8.\r\n",
    "time_id - ID code for the time bucket. Time IDs are not necessarily sequential but are consistent across all stocks.\r\n",
    "seconds_in_bucket - Number of seconds from the start of the bucket, always starting from 0.\r\n",
    "bid_price[1/2] - Normalized prices of the most/second most competitive buy level.\r\n",
    "ask_price[1/2] - Normalized prices of the most/second most competitive sell level.\r\n",
    "bid_size[1/2] - The number of shares on the most/second most competitive buy level.\r\n",
    "ask_size[1/2] - The number of shares on the most/second most competitive sell level.\r\n",
    "trade_[train/test].parquet A parquet file partitioned by stock_id. Contains data on trades that actually executed. Usually, in the market, there are more passive buy/sell intention updates (book updates) than actual trades, therefore one may expect this file to be more sparse than the order book.\r\n",
    "\r\n",
    "stock_id - Same as above.\r\n",
    "time_id - Same as above.\r\n",
    "seconds_in_bucket - Same as above. Note that since trade and book data are taken from the same time window and trade data is more sparse in general, this field is not necessarily starting from 0.\r\n",
    "price - The average price of executed transactions happening in one second. Prices have been normalized and the average has been weighted by the number of shares traded in each transaction.\r\n",
    "size - The sum number of shares traded.\r\n",
    "order_count - The number of unique trade orders taking place.\r\n",
    "train.csv The ground truth values for the training set.\r\n",
    "\r\n",
    "stock_id - Same as above, but since this is a csv the column will load as an integer instead of categorical.\r\n",
    "time_id - Same as above.\r\n",
    "target - The realized volatility computed over the 10 minute window following the feature data under the same stock/time_id. There is no overlap between feature and target data. You can find more info in our tutorial notebook.\r\n",
    "test.csv Provides the mapping between the other data files and the submission file. As with other test files, most of the data is only available to your notebook upon submission with just the first few rows available for download.\r\n",
    "\r\n",
    "stock_id - Same as above.\r\n",
    "time_id - Same as above.\r\n",
    "row_id - Unique identifier for the submission row. There is one row for each existing time ID/stock ID pair. Each time window is not necessarily containing every individual stock.\r\n",
    "sample_submission.csv - A sample submission file in the correct format.\r\n",
    "\r\n",
    "row_id - Same as in test.csv.\r\n",
    "target - Same definition as in train.csv. The benchmark is using the median target value from train.csv."
   ],
   "metadata": {}
  },
  {
   "cell_type": "code",
   "execution_count": 3,
   "source": [
    "# Execute this to save new versions of the notebook\r\n",
    "#jovian.commit(project=\"my-zero-to-gbm-proj-assign\")\r\n",
    "jovian.commit(filename=\"my-zero-to-gbm-proj-assign.ipynb\")"
   ],
   "outputs": [
    {
     "output_type": "display_data",
     "data": {
      "text/plain": [
       "<IPython.core.display.Javascript object>"
      ],
      "application/javascript": "window.require && require([\"base/js/namespace\"],function(Jupyter){Jupyter.notebook.save_checkpoint()})"
     },
     "metadata": {}
    },
    {
     "output_type": "stream",
     "name": "stdout",
     "text": [
      "[jovian] Updating notebook \"arun-gansi/my-zero-to-gbm-proj-assign-da8f6\" on https://jovian.ai/\u001b[0m\n",
      "[jovian] Committed successfully! https://jovian.ai/arun-gansi/my-zero-to-gbm-proj-assign-da8f6\u001b[0m\n"
     ]
    },
    {
     "output_type": "execute_result",
     "data": {
      "text/plain": [
       "'https://jovian.ai/arun-gansi/my-zero-to-gbm-proj-assign-da8f6'"
      ]
     },
     "metadata": {},
     "execution_count": 3
    }
   ],
   "metadata": {}
  },
  {
   "cell_type": "code",
   "execution_count": 5,
   "source": [
    "import pandas as pd\r\n",
    "import numpy as np\r\n",
    "import plotly.express as px\r\n",
    "#train = pd.read_csv('../../../data/optiver-realized-volatility-prediction/train.csv')\r\n",
    "train = pd.read_csv('D:\\\\Edu\\\\Kaggle\\\\optiver-realized-volatility-prediction\\\\train.csv')"
   ],
   "outputs": [],
   "metadata": {}
  },
  {
   "cell_type": "code",
   "execution_count": null,
   "source": [
    "train.info()"
   ],
   "outputs": [],
   "metadata": {}
  },
  {
   "cell_type": "markdown",
   "source": [
    "## Points to be addressed before ML modeling\r\n",
    "\r\n",
    "1. stock_id - ID code for the stock. <font color='red'> Not all stock IDs exist in every time bucket </font>. Parquet coerces this column to the categorical data type when loaded;  <font color='red'> you may wish to convert it to int8 </font>\r\n",
    "2. We have missing “seconds_in_bucket” field?.A: That means there is no related market activities during the last second. For book data you can also assume the top-2 level book shape stays the same as the last available book update within the gap seconds, or, in another word, <font color='red'> you can forward fill the missing data point for all field in book data.</font>\r\n",
    "3. I'm trying to make trade data fixed sized. Since missing seconds_in_bucket implies no trade happening within that one-second window, is it technically correct to resample trade data to 600 seconds and fill it with zeros?. Hi, it is correct to assume 0 for order count and size. Some assumptions are required for the price, though. A price of 0 might cause issues.\r\n",
    "4. the trade data at T seconds contains a 1-second aggregation of executed orders between [T, T+1 second]\r\n",
    "5. One time_id represents a unique 20-minutes trading window which is consistent across all stocks As an example, let’s say time_id = 1 is representing a window between 1900-01-01 12:00:00 and 1900-01-01 12:20:00, then the book data of all stocks for that time_id are is taken from the same window. The data in the first 10 minutes window is shared with all of you, while the order book data of the second 10-minutes is used to build the target for you to predict. The dataset is rolling in such a way that feature and target data will always have zero overlap. Note that time_id is randomly shuffled, so it will not contain any information other than serving as a bridge between different dataset.\r\n",
    "6. We can demonstrate the data structure in below way:\r\n",
    "<img src = https://www.optiver.com/wp-content/uploads/2021/05/DataBucketing.png>\r\n",
    "7. In our competition, we shared the last snapshot of order book for each second. Imagine you have a time_id starting from 1900-01-01 12:00:00, the book update data on seconds_in_bucket = 1 represents the last snapshot of order book update between 12:00:00 and 12:00:01. Similarly to order book data in terms of granularity, but the trade data represents the aggregation of all individual orders happened within one second.\r\n",
    "8. So per stock, under the same time_id, the trade data on seconds_in_bucket = 1 represents the aggregation of all individual executed orders between 12:00:00 and 12:00:01. The size is the sum of the size in each individual order, while the price is aggregated as a volume weighted average price of all trades. A straightforward WAP formula can be found on Investopedia.\r\n",
    "9. Q: Why we have missing “seconds_in_bucket” field?\r\n",
    "A: That means there is no related market activities during the last second.\r\n",
    "\r\n",
    "For book data you can also assume the top-2 level book shape stays the same as the last available book update within the gap seconds, or, in another word, you can forward fill the missing data point for all field in book data. For trade data, it implies no trade happening within that one-second window. One thing to note that trade data tends to be more sparse than book data in many cases.\r\n",
    "\r\n",
    "10. \r\n"
   ],
   "metadata": {}
  },
  {
   "cell_type": "markdown",
   "source": [
    "Taking the first row of data, it implies that the realized vol of the target bucket for time_id 5, stock_id 0 is 0.004136. How does the book and trade data in feature bucket look like for us to build signals?"
   ],
   "metadata": {}
  },
  {
   "cell_type": "code",
   "execution_count": 6,
   "source": [
    "book_example = pd.read_parquet('D:\\\\Edu\\\\Kaggle\\\\optiver-realized-volatility-prediction\\\\book_train.parquet/stock_id=0')\r\n",
    "trade_example =  pd.read_parquet('D:\\\\Edu\\\\Kaggle\\\\optiver-realized-volatility-prediction\\\\trade_train.parquet/stock_id=0')\r\n",
    "stock_id = '0'\r\n",
    "book_example = book_example[book_example['time_id']==5]\r\n",
    "book_example.loc[:,'stock_id'] = stock_id\r\n",
    "trade_example = trade_example[trade_example['time_id']==5]\r\n",
    "trade_example.loc[:,'stock_id'] = stock_id"
   ],
   "outputs": [],
   "metadata": {}
  },
  {
   "cell_type": "markdown",
   "source": [
    "#### Book data snapshot"
   ],
   "metadata": {}
  },
  {
   "cell_type": "code",
   "execution_count": 7,
   "source": [
    "book_example.info()"
   ],
   "outputs": [
    {
     "output_type": "stream",
     "name": "stdout",
     "text": [
      "<class 'pandas.core.frame.DataFrame'>\n",
      "Int64Index: 302 entries, 0 to 301\n",
      "Data columns (total 11 columns):\n",
      " #   Column             Non-Null Count  Dtype  \n",
      "---  ------             --------------  -----  \n",
      " 0   time_id            302 non-null    int16  \n",
      " 1   seconds_in_bucket  302 non-null    int16  \n",
      " 2   bid_price1         302 non-null    float32\n",
      " 3   ask_price1         302 non-null    float32\n",
      " 4   bid_price2         302 non-null    float32\n",
      " 5   ask_price2         302 non-null    float32\n",
      " 6   bid_size1          302 non-null    int32  \n",
      " 7   ask_size1          302 non-null    int32  \n",
      " 8   bid_size2          302 non-null    int32  \n",
      " 9   ask_size2          302 non-null    int32  \n",
      " 10  stock_id           302 non-null    object \n",
      "dtypes: float32(4), int16(2), int32(4), object(1)\n",
      "memory usage: 15.3+ KB\n"
     ]
    }
   ],
   "metadata": {}
  },
  {
   "cell_type": "markdown",
   "source": [
    "### Trade Book Snapshot"
   ],
   "metadata": {}
  },
  {
   "cell_type": "code",
   "execution_count": 8,
   "source": [
    "trade_example.info()"
   ],
   "outputs": [
    {
     "output_type": "stream",
     "name": "stdout",
     "text": [
      "<class 'pandas.core.frame.DataFrame'>\n",
      "Int64Index: 40 entries, 0 to 39\n",
      "Data columns (total 6 columns):\n",
      " #   Column             Non-Null Count  Dtype  \n",
      "---  ------             --------------  -----  \n",
      " 0   time_id            40 non-null     int16  \n",
      " 1   seconds_in_bucket  40 non-null     int16  \n",
      " 2   price              40 non-null     float32\n",
      " 3   size               40 non-null     int32  \n",
      " 4   order_count        40 non-null     int16  \n",
      " 5   stock_id           40 non-null     object \n",
      "dtypes: float32(1), int16(3), int32(1), object(1)\n",
      "memory usage: 1.2+ KB\n"
     ]
    }
   ],
   "metadata": {}
  },
  {
   "cell_type": "markdown",
   "source": [
    "##### Realized volatility calculation\r\n",
    "\r\n",
    "our target is to predict short-term realized volatility. Although the order book and trade data for the target cannot be shared, we can still present the realized volatility calculation using the feature data we provided.\r\n",
    "\r\n",
    "As realized volatility is a statistical measure of price changes on a given stock, to calculate the price change we first need to have a stock valuation at the fixed interval (1 second). We will use weighted averaged price, or WAP, of the order book data we provided."
   ],
   "metadata": {}
  },
  {
   "cell_type": "code",
   "execution_count": 9,
   "source": [
    "book_example['bid_size'] = (book_example['bid_size1'] + book_example['bid_size2'])\r\n",
    "book_example['bid_price'] = (book_example['bid_price1'] * book_example['bid_size1'] + book_example['bid_price2'] * book_example['bid_size2'])/book_example['bid_size']\r\n",
    "\r\n",
    "book_example['ask_size'] = (book_example['ask_size1'] + book_example['ask_size2'])\r\n",
    "book_example['ask_price'] = (book_example['ask_price1'] * book_example['ask_size1'] + book_example['ask_price2'] * book_example['ask_size2'])/(book_example['ask_size1'] + book_example['ask_size2'])\r\n",
    "\r\n",
    "book_example['wap'] = (book_example['bid_price'] * book_example['ask_size'] + book_example['ask_price'] * book_example['bid_size']) / (book_example['bid_size'] +  book_example['ask_size'])\r\n",
    "\r\n",
    "book_example['wap1'] = (book_example['bid_price1'] * book_example['ask_size1'] + book_example['ask_price1'] * book_example['bid_size1']) / (book_example['bid_size1'] +  book_example['ask_size1'])\r\n",
    "\r\n",
    "book_example['wap2'] = (book_example['bid_price2'] * book_example['ask_size2'] + book_example['ask_price2'] * book_example['bid_size2']) / (book_example['bid_size2'] +  book_example['ask_size2'])\r\n"
   ],
   "outputs": [],
   "metadata": {}
  },
  {
   "cell_type": "markdown",
   "source": [
    "The WAP of the stock is plotted below"
   ],
   "metadata": {}
  },
  {
   "cell_type": "code",
   "execution_count": 10,
   "source": [
    "fig = px.line(book_example, x=\"seconds_in_bucket\", y=\"wap\", title='WAP of stock_id_0, time_id_5')\r\n",
    "fig.show()"
   ],
   "outputs": [
    {
     "output_type": "display_data",
     "data": {
      "application/vnd.plotly.v1+json": {
       "config": {
        "plotlyServerURL": "https://plot.ly"
       },
       "data": [
        {
         "hovertemplate": "seconds_in_bucket=%{x}<br>wap=%{y}<extra></extra>",
         "legendgroup": "",
         "line": {
          "color": "#636efa",
          "dash": "solid"
         },
         "mode": "lines",
         "name": "",
         "orientation": "v",
         "showlegend": false,
         "type": "scatter",
         "x": [
          0,
          1,
          5,
          6,
          7,
          11,
          12,
          14,
          15,
          16,
          17,
          18,
          19,
          21,
          24,
          25,
          44,
          46,
          47,
          48,
          50,
          51,
          55,
          57,
          59,
          60,
          63,
          68,
          69,
          78,
          79,
          81,
          83,
          85,
          90,
          92,
          93,
          94,
          97,
          98,
          101,
          103,
          105,
          106,
          110,
          111,
          113,
          114,
          115,
          118,
          119,
          122,
          123,
          124,
          126,
          127,
          128,
          129,
          132,
          133,
          134,
          138,
          140,
          141,
          143,
          144,
          145,
          147,
          148,
          149,
          150,
          151,
          152,
          153,
          154,
          158,
          159,
          160,
          161,
          164,
          165,
          166,
          167,
          168,
          169,
          171,
          173,
          174,
          175,
          177,
          178,
          181,
          182,
          183,
          185,
          186,
          187,
          188,
          189,
          190,
          191,
          192,
          193,
          194,
          195,
          196,
          197,
          198,
          199,
          200,
          201,
          203,
          204,
          205,
          206,
          207,
          209,
          211,
          212,
          213,
          215,
          216,
          218,
          219,
          221,
          222,
          223,
          224,
          225,
          226,
          227,
          228,
          230,
          231,
          232,
          233,
          234,
          235,
          237,
          239,
          248,
          253,
          254,
          255,
          256,
          257,
          258,
          259,
          260,
          263,
          264,
          265,
          269,
          278,
          282,
          283,
          287,
          288,
          290,
          293,
          295,
          296,
          298,
          301,
          303,
          304,
          305,
          306,
          308,
          309,
          310,
          311,
          312,
          313,
          314,
          316,
          322,
          323,
          329,
          331,
          336,
          338,
          340,
          345,
          348,
          350,
          353,
          356,
          363,
          365,
          366,
          367,
          374,
          378,
          380,
          382,
          385,
          386,
          388,
          389,
          391,
          394,
          398,
          399,
          400,
          401,
          402,
          403,
          404,
          406,
          410,
          411,
          416,
          425,
          426,
          427,
          428,
          430,
          431,
          433,
          434,
          435,
          437,
          438,
          440,
          441,
          442,
          443,
          444,
          445,
          446,
          447,
          448,
          449,
          464,
          465,
          466,
          467,
          470,
          471,
          472,
          473,
          474,
          475,
          477,
          478,
          479,
          488,
          489,
          495,
          496,
          498,
          503,
          511,
          513,
          514,
          515,
          516,
          518,
          519,
          520,
          521,
          522,
          523,
          524,
          525,
          526,
          528,
          531,
          532,
          534,
          535,
          538,
          539,
          540,
          541,
          542,
          545,
          546,
          548,
          549,
          550,
          551,
          552,
          555,
          558,
          561,
          562,
          563,
          571,
          572,
          573,
          574,
          575,
          579,
          581,
          584,
          585,
          586,
          587,
          588,
          593
         ],
         "xaxis": "x",
         "y": [
          1.0014153049230474,
          1.0014240509126244,
          1.001424681849596,
          1.001421940664183,
          1.001421940664183,
          1.001424681849596,
          1.001421940664183,
          1.001421940664183,
          1.001421940664183,
          1.001421940664183,
          1.001424681849596,
          1.001421940664183,
          1.001421940664183,
          1.001456901286742,
          1.0022547684273755,
          1.0021900320694048,
          1.0021949093209948,
          1.0036719808998917,
          1.0035453765131508,
          1.002943939641532,
          1.0025254854676318,
          1.0025119290037643,
          1.002696280554202,
          1.003021316121993,
          1.0031591807636777,
          1.0032391784446166,
          1.0028941207524489,
          1.0032716624817186,
          1.003249723875096,
          1.0038702978267813,
          1.004104370973389,
          1.004109053152231,
          1.004104370973389,
          1.0041072125098978,
          1.0041940164197272,
          1.004192775395139,
          1.0041544236302684,
          1.004129878706812,
          1.0041624463266063,
          1.0041612313982733,
          1.004128925791115,
          1.0038910299746533,
          1.0039773563991727,
          1.0039142464196937,
          1.0039185521948768,
          1.0039207317466539,
          1.0039284566247682,
          1.004026431960969,
          1.0040914533151457,
          1.003909617246145,
          1.0039020840534914,
          1.0043248506867017,
          1.0042948024867695,
          1.0042018521409015,
          1.0048736549850203,
          1.0045556010980379,
          1.0049375111117538,
          1.0049164838174258,
          1.0049215160685478,
          1.0047186351329942,
          1.0048485292890459,
          1.0048472715490426,
          1.0045862741561482,
          1.0044961542205106,
          1.0045727206174968,
          1.0043924467443033,
          1.0043911133698316,
          1.0040098129719397,
          1.0037038588338474,
          1.0036263692147203,
          1.003730479543736,
          1.0040184984265805,
          1.0038469259073821,
          1.0038372950862824,
          1.0038358314308597,
          1.0038469259073821,
          1.0037689754729393,
          1.0038469259073821,
          1.003797998883898,
          1.0038277857774858,
          1.0038291106787511,
          1.0038277857774858,
          1.0038291106787511,
          1.0038327222550634,
          1.0036579724502426,
          1.003657098334076,
          1.0037224508787315,
          1.0036579724502426,
          1.003657098334076,
          1.003766109615437,
          1.003918220719078,
          1.0038163103893223,
          1.0038174279179917,
          1.003918220719078,
          1.0038622715242473,
          1.0038630560332655,
          1.004404357126618,
          1.0043061525839494,
          1.0041239034355378,
          1.004022849977766,
          1.0039056947125227,
          1.003911050706128,
          1.0039109661688213,
          1.0039120562451642,
          1.0039109661688213,
          1.0038610998671003,
          1.0040335779142853,
          1.0038651960730047,
          1.0038610148312046,
          1.0039650573323804,
          1.0039664282392888,
          1.0041576217187098,
          1.0040905171517442,
          1.0040883608528857,
          1.003952029685883,
          1.0036620271481302,
          1.0036265948360057,
          1.0042106913589928,
          1.0039848249823575,
          1.0039545257451863,
          1.0039835104864592,
          1.0039492230641758,
          1.0040973533902848,
          1.004201663408533,
          1.0042036484515071,
          1.004110218195026,
          1.004070480939687,
          1.004318656072892,
          1.0042690391429976,
          1.0043556364432291,
          1.00437158498928,
          1.0042221364538348,
          1.004001127052082,
          1.004163443278285,
          1.0041647083472724,
          1.00424738149042,
          1.004311493575914,
          1.0041775659688612,
          1.0041522539458514,
          1.0041833854116677,
          1.0041821544867702,
          1.0041243005736766,
          1.0039163572975138,
          1.0039144876844994,
          1.0036720585526506,
          1.0044525134295983,
          1.0042832116089244,
          1.0042319870231176,
          1.0042701563224417,
          1.003848520799603,
          1.0041977630937649,
          1.0037994543161481,
          1.0039934784758324,
          1.0040163704711866,
          1.0038016476851543,
          1.0035629155669343,
          1.0036299582556651,
          1.0035285318104423,
          1.0035285607732773,
          1.0035366105364383,
          1.0035529188513812,
          1.0035530322937165,
          1.0035483350189789,
          1.003834198969897,
          1.0039112445621308,
          1.003670362808467,
          1.003574485368486,
          1.0037407681787303,
          1.0036372568564205,
          1.0043141255794328,
          1.0040687864850215,
          1.0040668527829375,
          1.0044553174439825,
          1.004186774564598,
          1.004088416365063,
          1.00394019542001,
          1.0042628337617827,
          1.0037980161461175,
          1.0036839876911723,
          1.0040599301803943,
          1.004051355824518,
          1.004051355824518,
          1.0036787412967554,
          1.003656318653656,
          1.00368525329047,
          1.003656318653656,
          1.00368525329047,
          1.003656318653656,
          1.00368525329047,
          1.003656318653656,
          1.0039567586293066,
          1.0039608233853392,
          1.0039903142445146,
          1.0039699422347057,
          1.0045365036067784,
          1.0043270914378113,
          1.0043374949479607,
          1.0042640536758565,
          1.0042627729368552,
          1.0044091159325017,
          1.0044094315460697,
          1.0044394063993074,
          1.0043020204370003,
          1.0042888374642944,
          1.0042838578702604,
          1.0042747788297057,
          1.0042326134868471,
          1.0044614540734227,
          1.004386485185714,
          1.0043852329309304,
          1.0043851181008476,
          1.0043851181008476,
          1.0043650319795585,
          1.0038512545175984,
          1.0041553758527253,
          1.0041912705922733,
          1.0041923465308602,
          1.0041490770734807,
          1.0040380580294255,
          1.0039298240113976,
          1.0039570989841196,
          1.0041044578600908,
          1.0039989166414207,
          1.0040455931569896,
          1.0040690584959415,
          1.003959292637175,
          1.0040104221823625,
          1.0040624357166916,
          1.0040101125802048,
          1.0040878808487776,
          1.004016639929173,
          1.0040178112692715,
          1.0037207775437869,
          1.0037097380586857,
          1.0039889843459797,
          1.00399238514409,
          1.003863650462239,
          1.0038626593678837,
          1.0034147795674684,
          1.0036310235053365,
          1.003448580776145,
          1.0034248432114556,
          1.003503262539683,
          1.0039406279582248,
          1.0038532254742643,
          1.003926597510674,
          1.0039406279582248,
          1.0040088119669857,
          1.0040060356259346,
          1.0040172449107438,
          1.0040106534683526,
          1.0040117803471758,
          1.004020162815774,
          1.00392328750095,
          1.0039241907204883,
          1.0038653405371816,
          1.0040177999627897,
          1.0040301455983915,
          1.0040224883790223,
          1.0035122305378374,
          1.0035120471508585,
          1.003587719391404,
          1.0035436307915677,
          1.0035403395471303,
          1.003540107462659,
          1.0034486584364737,
          1.0036020083948556,
          1.0036214455940942,
          1.0036307684577432,
          1.0035317720930077,
          1.0038330325003568,
          1.0038301538159493,
          1.003512415522132,
          1.0035080766176077,
          1.0037139660120011,
          1.0034562191449328,
          1.0033271033794453,
          1.0031182382488708,
          1.0031184019045618,
          1.0030226207536619,
          1.0027250732060267,
          1.00279976594041,
          1.0020280055382154,
          1.0020281098985884,
          1.0020281098985884,
          1.002383034267005,
          1.0025581261690926,
          1.0025519213234608,
          1.002479840330599,
          1.0026325868060848,
          1.003359691401852,
          1.0036870971596055,
          1.0032509488541537,
          1.0034315039340713,
          1.0034352219435199,
          1.0036979037472324,
          1.0034813904067128,
          1.0037448844868384,
          1.0037387605586083,
          1.0037448844868384,
          1.0037387605586083,
          1.0037448844868384
         ],
         "yaxis": "y"
        }
       ],
       "layout": {
        "legend": {
         "tracegroupgap": 0
        },
        "template": {
         "data": {
          "bar": [
           {
            "error_x": {
             "color": "#2a3f5f"
            },
            "error_y": {
             "color": "#2a3f5f"
            },
            "marker": {
             "line": {
              "color": "#E5ECF6",
              "width": 0.5
             },
             "pattern": {
              "fillmode": "overlay",
              "size": 10,
              "solidity": 0.2
             }
            },
            "type": "bar"
           }
          ],
          "barpolar": [
           {
            "marker": {
             "line": {
              "color": "#E5ECF6",
              "width": 0.5
             },
             "pattern": {
              "fillmode": "overlay",
              "size": 10,
              "solidity": 0.2
             }
            },
            "type": "barpolar"
           }
          ],
          "carpet": [
           {
            "aaxis": {
             "endlinecolor": "#2a3f5f",
             "gridcolor": "white",
             "linecolor": "white",
             "minorgridcolor": "white",
             "startlinecolor": "#2a3f5f"
            },
            "baxis": {
             "endlinecolor": "#2a3f5f",
             "gridcolor": "white",
             "linecolor": "white",
             "minorgridcolor": "white",
             "startlinecolor": "#2a3f5f"
            },
            "type": "carpet"
           }
          ],
          "choropleth": [
           {
            "colorbar": {
             "outlinewidth": 0,
             "ticks": ""
            },
            "type": "choropleth"
           }
          ],
          "contour": [
           {
            "colorbar": {
             "outlinewidth": 0,
             "ticks": ""
            },
            "colorscale": [
             [
              0,
              "#0d0887"
             ],
             [
              0.1111111111111111,
              "#46039f"
             ],
             [
              0.2222222222222222,
              "#7201a8"
             ],
             [
              0.3333333333333333,
              "#9c179e"
             ],
             [
              0.4444444444444444,
              "#bd3786"
             ],
             [
              0.5555555555555556,
              "#d8576b"
             ],
             [
              0.6666666666666666,
              "#ed7953"
             ],
             [
              0.7777777777777778,
              "#fb9f3a"
             ],
             [
              0.8888888888888888,
              "#fdca26"
             ],
             [
              1,
              "#f0f921"
             ]
            ],
            "type": "contour"
           }
          ],
          "contourcarpet": [
           {
            "colorbar": {
             "outlinewidth": 0,
             "ticks": ""
            },
            "type": "contourcarpet"
           }
          ],
          "heatmap": [
           {
            "colorbar": {
             "outlinewidth": 0,
             "ticks": ""
            },
            "colorscale": [
             [
              0,
              "#0d0887"
             ],
             [
              0.1111111111111111,
              "#46039f"
             ],
             [
              0.2222222222222222,
              "#7201a8"
             ],
             [
              0.3333333333333333,
              "#9c179e"
             ],
             [
              0.4444444444444444,
              "#bd3786"
             ],
             [
              0.5555555555555556,
              "#d8576b"
             ],
             [
              0.6666666666666666,
              "#ed7953"
             ],
             [
              0.7777777777777778,
              "#fb9f3a"
             ],
             [
              0.8888888888888888,
              "#fdca26"
             ],
             [
              1,
              "#f0f921"
             ]
            ],
            "type": "heatmap"
           }
          ],
          "heatmapgl": [
           {
            "colorbar": {
             "outlinewidth": 0,
             "ticks": ""
            },
            "colorscale": [
             [
              0,
              "#0d0887"
             ],
             [
              0.1111111111111111,
              "#46039f"
             ],
             [
              0.2222222222222222,
              "#7201a8"
             ],
             [
              0.3333333333333333,
              "#9c179e"
             ],
             [
              0.4444444444444444,
              "#bd3786"
             ],
             [
              0.5555555555555556,
              "#d8576b"
             ],
             [
              0.6666666666666666,
              "#ed7953"
             ],
             [
              0.7777777777777778,
              "#fb9f3a"
             ],
             [
              0.8888888888888888,
              "#fdca26"
             ],
             [
              1,
              "#f0f921"
             ]
            ],
            "type": "heatmapgl"
           }
          ],
          "histogram": [
           {
            "marker": {
             "pattern": {
              "fillmode": "overlay",
              "size": 10,
              "solidity": 0.2
             }
            },
            "type": "histogram"
           }
          ],
          "histogram2d": [
           {
            "colorbar": {
             "outlinewidth": 0,
             "ticks": ""
            },
            "colorscale": [
             [
              0,
              "#0d0887"
             ],
             [
              0.1111111111111111,
              "#46039f"
             ],
             [
              0.2222222222222222,
              "#7201a8"
             ],
             [
              0.3333333333333333,
              "#9c179e"
             ],
             [
              0.4444444444444444,
              "#bd3786"
             ],
             [
              0.5555555555555556,
              "#d8576b"
             ],
             [
              0.6666666666666666,
              "#ed7953"
             ],
             [
              0.7777777777777778,
              "#fb9f3a"
             ],
             [
              0.8888888888888888,
              "#fdca26"
             ],
             [
              1,
              "#f0f921"
             ]
            ],
            "type": "histogram2d"
           }
          ],
          "histogram2dcontour": [
           {
            "colorbar": {
             "outlinewidth": 0,
             "ticks": ""
            },
            "colorscale": [
             [
              0,
              "#0d0887"
             ],
             [
              0.1111111111111111,
              "#46039f"
             ],
             [
              0.2222222222222222,
              "#7201a8"
             ],
             [
              0.3333333333333333,
              "#9c179e"
             ],
             [
              0.4444444444444444,
              "#bd3786"
             ],
             [
              0.5555555555555556,
              "#d8576b"
             ],
             [
              0.6666666666666666,
              "#ed7953"
             ],
             [
              0.7777777777777778,
              "#fb9f3a"
             ],
             [
              0.8888888888888888,
              "#fdca26"
             ],
             [
              1,
              "#f0f921"
             ]
            ],
            "type": "histogram2dcontour"
           }
          ],
          "mesh3d": [
           {
            "colorbar": {
             "outlinewidth": 0,
             "ticks": ""
            },
            "type": "mesh3d"
           }
          ],
          "parcoords": [
           {
            "line": {
             "colorbar": {
              "outlinewidth": 0,
              "ticks": ""
             }
            },
            "type": "parcoords"
           }
          ],
          "pie": [
           {
            "automargin": true,
            "type": "pie"
           }
          ],
          "scatter": [
           {
            "marker": {
             "colorbar": {
              "outlinewidth": 0,
              "ticks": ""
             }
            },
            "type": "scatter"
           }
          ],
          "scatter3d": [
           {
            "line": {
             "colorbar": {
              "outlinewidth": 0,
              "ticks": ""
             }
            },
            "marker": {
             "colorbar": {
              "outlinewidth": 0,
              "ticks": ""
             }
            },
            "type": "scatter3d"
           }
          ],
          "scattercarpet": [
           {
            "marker": {
             "colorbar": {
              "outlinewidth": 0,
              "ticks": ""
             }
            },
            "type": "scattercarpet"
           }
          ],
          "scattergeo": [
           {
            "marker": {
             "colorbar": {
              "outlinewidth": 0,
              "ticks": ""
             }
            },
            "type": "scattergeo"
           }
          ],
          "scattergl": [
           {
            "marker": {
             "colorbar": {
              "outlinewidth": 0,
              "ticks": ""
             }
            },
            "type": "scattergl"
           }
          ],
          "scattermapbox": [
           {
            "marker": {
             "colorbar": {
              "outlinewidth": 0,
              "ticks": ""
             }
            },
            "type": "scattermapbox"
           }
          ],
          "scatterpolar": [
           {
            "marker": {
             "colorbar": {
              "outlinewidth": 0,
              "ticks": ""
             }
            },
            "type": "scatterpolar"
           }
          ],
          "scatterpolargl": [
           {
            "marker": {
             "colorbar": {
              "outlinewidth": 0,
              "ticks": ""
             }
            },
            "type": "scatterpolargl"
           }
          ],
          "scatterternary": [
           {
            "marker": {
             "colorbar": {
              "outlinewidth": 0,
              "ticks": ""
             }
            },
            "type": "scatterternary"
           }
          ],
          "surface": [
           {
            "colorbar": {
             "outlinewidth": 0,
             "ticks": ""
            },
            "colorscale": [
             [
              0,
              "#0d0887"
             ],
             [
              0.1111111111111111,
              "#46039f"
             ],
             [
              0.2222222222222222,
              "#7201a8"
             ],
             [
              0.3333333333333333,
              "#9c179e"
             ],
             [
              0.4444444444444444,
              "#bd3786"
             ],
             [
              0.5555555555555556,
              "#d8576b"
             ],
             [
              0.6666666666666666,
              "#ed7953"
             ],
             [
              0.7777777777777778,
              "#fb9f3a"
             ],
             [
              0.8888888888888888,
              "#fdca26"
             ],
             [
              1,
              "#f0f921"
             ]
            ],
            "type": "surface"
           }
          ],
          "table": [
           {
            "cells": {
             "fill": {
              "color": "#EBF0F8"
             },
             "line": {
              "color": "white"
             }
            },
            "header": {
             "fill": {
              "color": "#C8D4E3"
             },
             "line": {
              "color": "white"
             }
            },
            "type": "table"
           }
          ]
         },
         "layout": {
          "annotationdefaults": {
           "arrowcolor": "#2a3f5f",
           "arrowhead": 0,
           "arrowwidth": 1
          },
          "autotypenumbers": "strict",
          "coloraxis": {
           "colorbar": {
            "outlinewidth": 0,
            "ticks": ""
           }
          },
          "colorscale": {
           "diverging": [
            [
             0,
             "#8e0152"
            ],
            [
             0.1,
             "#c51b7d"
            ],
            [
             0.2,
             "#de77ae"
            ],
            [
             0.3,
             "#f1b6da"
            ],
            [
             0.4,
             "#fde0ef"
            ],
            [
             0.5,
             "#f7f7f7"
            ],
            [
             0.6,
             "#e6f5d0"
            ],
            [
             0.7,
             "#b8e186"
            ],
            [
             0.8,
             "#7fbc41"
            ],
            [
             0.9,
             "#4d9221"
            ],
            [
             1,
             "#276419"
            ]
           ],
           "sequential": [
            [
             0,
             "#0d0887"
            ],
            [
             0.1111111111111111,
             "#46039f"
            ],
            [
             0.2222222222222222,
             "#7201a8"
            ],
            [
             0.3333333333333333,
             "#9c179e"
            ],
            [
             0.4444444444444444,
             "#bd3786"
            ],
            [
             0.5555555555555556,
             "#d8576b"
            ],
            [
             0.6666666666666666,
             "#ed7953"
            ],
            [
             0.7777777777777778,
             "#fb9f3a"
            ],
            [
             0.8888888888888888,
             "#fdca26"
            ],
            [
             1,
             "#f0f921"
            ]
           ],
           "sequentialminus": [
            [
             0,
             "#0d0887"
            ],
            [
             0.1111111111111111,
             "#46039f"
            ],
            [
             0.2222222222222222,
             "#7201a8"
            ],
            [
             0.3333333333333333,
             "#9c179e"
            ],
            [
             0.4444444444444444,
             "#bd3786"
            ],
            [
             0.5555555555555556,
             "#d8576b"
            ],
            [
             0.6666666666666666,
             "#ed7953"
            ],
            [
             0.7777777777777778,
             "#fb9f3a"
            ],
            [
             0.8888888888888888,
             "#fdca26"
            ],
            [
             1,
             "#f0f921"
            ]
           ]
          },
          "colorway": [
           "#636efa",
           "#EF553B",
           "#00cc96",
           "#ab63fa",
           "#FFA15A",
           "#19d3f3",
           "#FF6692",
           "#B6E880",
           "#FF97FF",
           "#FECB52"
          ],
          "font": {
           "color": "#2a3f5f"
          },
          "geo": {
           "bgcolor": "white",
           "lakecolor": "white",
           "landcolor": "#E5ECF6",
           "showlakes": true,
           "showland": true,
           "subunitcolor": "white"
          },
          "hoverlabel": {
           "align": "left"
          },
          "hovermode": "closest",
          "mapbox": {
           "style": "light"
          },
          "paper_bgcolor": "white",
          "plot_bgcolor": "#E5ECF6",
          "polar": {
           "angularaxis": {
            "gridcolor": "white",
            "linecolor": "white",
            "ticks": ""
           },
           "bgcolor": "#E5ECF6",
           "radialaxis": {
            "gridcolor": "white",
            "linecolor": "white",
            "ticks": ""
           }
          },
          "scene": {
           "xaxis": {
            "backgroundcolor": "#E5ECF6",
            "gridcolor": "white",
            "gridwidth": 2,
            "linecolor": "white",
            "showbackground": true,
            "ticks": "",
            "zerolinecolor": "white"
           },
           "yaxis": {
            "backgroundcolor": "#E5ECF6",
            "gridcolor": "white",
            "gridwidth": 2,
            "linecolor": "white",
            "showbackground": true,
            "ticks": "",
            "zerolinecolor": "white"
           },
           "zaxis": {
            "backgroundcolor": "#E5ECF6",
            "gridcolor": "white",
            "gridwidth": 2,
            "linecolor": "white",
            "showbackground": true,
            "ticks": "",
            "zerolinecolor": "white"
           }
          },
          "shapedefaults": {
           "line": {
            "color": "#2a3f5f"
           }
          },
          "ternary": {
           "aaxis": {
            "gridcolor": "white",
            "linecolor": "white",
            "ticks": ""
           },
           "baxis": {
            "gridcolor": "white",
            "linecolor": "white",
            "ticks": ""
           },
           "bgcolor": "#E5ECF6",
           "caxis": {
            "gridcolor": "white",
            "linecolor": "white",
            "ticks": ""
           }
          },
          "title": {
           "x": 0.05
          },
          "xaxis": {
           "automargin": true,
           "gridcolor": "white",
           "linecolor": "white",
           "ticks": "",
           "title": {
            "standoff": 15
           },
           "zerolinecolor": "white",
           "zerolinewidth": 2
          },
          "yaxis": {
           "automargin": true,
           "gridcolor": "white",
           "linecolor": "white",
           "ticks": "",
           "title": {
            "standoff": 15
           },
           "zerolinecolor": "white",
           "zerolinewidth": 2
          }
         }
        },
        "title": {
         "text": "WAP of stock_id_0, time_id_5"
        },
        "xaxis": {
         "anchor": "y",
         "domain": [
          0,
          1
         ],
         "title": {
          "text": "seconds_in_bucket"
         }
        },
        "yaxis": {
         "anchor": "x",
         "domain": [
          0,
          1
         ],
         "title": {
          "text": "wap"
         }
        }
       }
      }
     },
     "metadata": {}
    }
   ],
   "metadata": {}
  },
  {
   "cell_type": "markdown",
   "source": [
    "### Log returns\n",
    "\n",
    "How can we compare the price of a stock between yesterday and today?\n",
    "\n",
    "The easiest method would be to just take the difference. This is definitely the most intuitive way, however price differences are not always comparable across stocks. For example, let's assume that we have invested \\$ 1000 in both stock A and stock B and that stock A moves from  \\$ 100 to  \\$ 102 and stock B moves from  \\$ 10 to  \\$ 11. We had a total of 10 shares of A ( \\$1000 / \\$100=10 ) which led to a profit of  10⋅(\\$102−\\$100)=\\$20  and a total of 100 shares of B that yielded \\$100. So the price increase was larger for stock A, although the move was proportionally much larger for stock B.\n",
    "\n",
    "We can solve the above problem by dividing the move by the starting price of the stock, effectively computing the percentage change in price, also known as the stock return. In our example, the return for stock A was  \\$102−\\$100/\\$100=2% , while for stock B it was  \\$11−\\$10/\\$10=10% . The stock return coincides with the percentage change in our invested capital.\n",
    "\n",
    "Returns are widely used in finance, however log returns are preferred whenever some mathematical modelling is required. Calling  St  the price of the stock  S  at time  t , we can define the log return between  t1  and  t2  as:\n",
    "\n",
    " - r(t1,t2)=log(St2/St1)\n",
    " \n",
    "Usually, we look at log returns over fixed time intervals, so with 10-minute log return we mean  rt=rt−10min,t .\n",
    "\n",
    "Log returns present several advantages, for example:\n",
    "\n",
    "- they are additive across time  r(t1,t2) + r(t2,t3) = (rt1,t3) \n",
    "- regular returns cannot go below -100%, while log returns are not bounded\n",
    "\n",
    "Next we will compute the log return\n",
    "\n",
    "To compute the Log Return, we will simply take the logarithm of the ratio between two consecutive WAP. The first row will have an empty return as the previous book update is unknown, therefore the empty return data point will be dropped."
   ],
   "metadata": {}
  },
  {
   "cell_type": "code",
   "execution_count": 11,
   "source": [
    "def log_return(list_stock_prices):\r\n",
    "    return np.log(list_stock_prices).diff()"
   ],
   "outputs": [],
   "metadata": {}
  },
  {
   "cell_type": "code",
   "execution_count": 12,
   "source": [
    "book_example.loc[:,'log_return'] = log_return(book_example['wap'])\r\n"
   ],
   "outputs": [],
   "metadata": {}
  },
  {
   "cell_type": "code",
   "execution_count": 13,
   "source": [
    "book_example['log_return'] = book_example['log_return'].fillna(book_example['log_return'].mean())"
   ],
   "outputs": [],
   "metadata": {}
  },
  {
   "cell_type": "code",
   "execution_count": 14,
   "source": [
    "book_example.head()"
   ],
   "outputs": [
    {
     "output_type": "execute_result",
     "data": {
      "text/plain": [
       "   time_id  seconds_in_bucket  bid_price1  ask_price1  bid_price2  ask_price2  \\\n",
       "0        5                  0    1.001422    1.002301     1.00137    1.002353   \n",
       "1        5                  1    1.001422    1.002301     1.00137    1.002353   \n",
       "2        5                  5    1.001422    1.002301     1.00137    1.002405   \n",
       "3        5                  6    1.001422    1.002301     1.00137    1.002405   \n",
       "4        5                  7    1.001422    1.002301     1.00137    1.002405   \n",
       "\n",
       "   bid_size1  ask_size1  bid_size2  ask_size2 stock_id  bid_size  bid_price  \\\n",
       "0          3        226          2        100        0         5   1.001401   \n",
       "1          3        100          2        100        0         5   1.001401   \n",
       "2          3        100          2        100        0         5   1.001401   \n",
       "3          3        126          2        100        0         5   1.001401   \n",
       "4          3        126          2        100        0         5   1.001401   \n",
       "\n",
       "   ask_size  ask_price       wap      wap1      wap2    log_return  \n",
       "0       326   1.002317  1.001415  1.001434  1.001390  7.719553e-06  \n",
       "1       200   1.002327  1.001424  1.001448  1.001390  8.733591e-06  \n",
       "2       200   1.002353  1.001425  1.001448  1.001391  6.300396e-07  \n",
       "3       226   1.002347  1.001422  1.001443  1.001391 -2.737289e-06  \n",
       "4       226   1.002347  1.001422  1.001443  1.001391  0.000000e+00  "
      ],
      "text/html": [
       "<div>\n",
       "<style scoped>\n",
       "    .dataframe tbody tr th:only-of-type {\n",
       "        vertical-align: middle;\n",
       "    }\n",
       "\n",
       "    .dataframe tbody tr th {\n",
       "        vertical-align: top;\n",
       "    }\n",
       "\n",
       "    .dataframe thead th {\n",
       "        text-align: right;\n",
       "    }\n",
       "</style>\n",
       "<table border=\"1\" class=\"dataframe\">\n",
       "  <thead>\n",
       "    <tr style=\"text-align: right;\">\n",
       "      <th></th>\n",
       "      <th>time_id</th>\n",
       "      <th>seconds_in_bucket</th>\n",
       "      <th>bid_price1</th>\n",
       "      <th>ask_price1</th>\n",
       "      <th>bid_price2</th>\n",
       "      <th>ask_price2</th>\n",
       "      <th>bid_size1</th>\n",
       "      <th>ask_size1</th>\n",
       "      <th>bid_size2</th>\n",
       "      <th>ask_size2</th>\n",
       "      <th>stock_id</th>\n",
       "      <th>bid_size</th>\n",
       "      <th>bid_price</th>\n",
       "      <th>ask_size</th>\n",
       "      <th>ask_price</th>\n",
       "      <th>wap</th>\n",
       "      <th>wap1</th>\n",
       "      <th>wap2</th>\n",
       "      <th>log_return</th>\n",
       "    </tr>\n",
       "  </thead>\n",
       "  <tbody>\n",
       "    <tr>\n",
       "      <th>0</th>\n",
       "      <td>5</td>\n",
       "      <td>0</td>\n",
       "      <td>1.001422</td>\n",
       "      <td>1.002301</td>\n",
       "      <td>1.00137</td>\n",
       "      <td>1.002353</td>\n",
       "      <td>3</td>\n",
       "      <td>226</td>\n",
       "      <td>2</td>\n",
       "      <td>100</td>\n",
       "      <td>0</td>\n",
       "      <td>5</td>\n",
       "      <td>1.001401</td>\n",
       "      <td>326</td>\n",
       "      <td>1.002317</td>\n",
       "      <td>1.001415</td>\n",
       "      <td>1.001434</td>\n",
       "      <td>1.001390</td>\n",
       "      <td>7.719553e-06</td>\n",
       "    </tr>\n",
       "    <tr>\n",
       "      <th>1</th>\n",
       "      <td>5</td>\n",
       "      <td>1</td>\n",
       "      <td>1.001422</td>\n",
       "      <td>1.002301</td>\n",
       "      <td>1.00137</td>\n",
       "      <td>1.002353</td>\n",
       "      <td>3</td>\n",
       "      <td>100</td>\n",
       "      <td>2</td>\n",
       "      <td>100</td>\n",
       "      <td>0</td>\n",
       "      <td>5</td>\n",
       "      <td>1.001401</td>\n",
       "      <td>200</td>\n",
       "      <td>1.002327</td>\n",
       "      <td>1.001424</td>\n",
       "      <td>1.001448</td>\n",
       "      <td>1.001390</td>\n",
       "      <td>8.733591e-06</td>\n",
       "    </tr>\n",
       "    <tr>\n",
       "      <th>2</th>\n",
       "      <td>5</td>\n",
       "      <td>5</td>\n",
       "      <td>1.001422</td>\n",
       "      <td>1.002301</td>\n",
       "      <td>1.00137</td>\n",
       "      <td>1.002405</td>\n",
       "      <td>3</td>\n",
       "      <td>100</td>\n",
       "      <td>2</td>\n",
       "      <td>100</td>\n",
       "      <td>0</td>\n",
       "      <td>5</td>\n",
       "      <td>1.001401</td>\n",
       "      <td>200</td>\n",
       "      <td>1.002353</td>\n",
       "      <td>1.001425</td>\n",
       "      <td>1.001448</td>\n",
       "      <td>1.001391</td>\n",
       "      <td>6.300396e-07</td>\n",
       "    </tr>\n",
       "    <tr>\n",
       "      <th>3</th>\n",
       "      <td>5</td>\n",
       "      <td>6</td>\n",
       "      <td>1.001422</td>\n",
       "      <td>1.002301</td>\n",
       "      <td>1.00137</td>\n",
       "      <td>1.002405</td>\n",
       "      <td>3</td>\n",
       "      <td>126</td>\n",
       "      <td>2</td>\n",
       "      <td>100</td>\n",
       "      <td>0</td>\n",
       "      <td>5</td>\n",
       "      <td>1.001401</td>\n",
       "      <td>226</td>\n",
       "      <td>1.002347</td>\n",
       "      <td>1.001422</td>\n",
       "      <td>1.001443</td>\n",
       "      <td>1.001391</td>\n",
       "      <td>-2.737289e-06</td>\n",
       "    </tr>\n",
       "    <tr>\n",
       "      <th>4</th>\n",
       "      <td>5</td>\n",
       "      <td>7</td>\n",
       "      <td>1.001422</td>\n",
       "      <td>1.002301</td>\n",
       "      <td>1.00137</td>\n",
       "      <td>1.002405</td>\n",
       "      <td>3</td>\n",
       "      <td>126</td>\n",
       "      <td>2</td>\n",
       "      <td>100</td>\n",
       "      <td>0</td>\n",
       "      <td>5</td>\n",
       "      <td>1.001401</td>\n",
       "      <td>226</td>\n",
       "      <td>1.002347</td>\n",
       "      <td>1.001422</td>\n",
       "      <td>1.001443</td>\n",
       "      <td>1.001391</td>\n",
       "      <td>0.000000e+00</td>\n",
       "    </tr>\n",
       "  </tbody>\n",
       "</table>\n",
       "</div>"
      ]
     },
     "metadata": {},
     "execution_count": 14
    }
   ],
   "metadata": {}
  },
  {
   "cell_type": "code",
   "execution_count": 15,
   "source": [
    "#~ means NOT \r\n",
    "# also the null condition is applied because when we .diff() method the first row will have empty value as we cannot have diff of return with respect to the previous time id as the first row is the very first time id\r\n",
    "book_example = book_example[~book_example['log_return'].isnull()]"
   ],
   "outputs": [],
   "metadata": {}
  },
  {
   "cell_type": "code",
   "execution_count": 16,
   "source": [
    "book_example['log_return'].isnull().sum()"
   ],
   "outputs": [
    {
     "output_type": "execute_result",
     "data": {
      "text/plain": [
       "0"
      ]
     },
     "metadata": {},
     "execution_count": 16
    }
   ],
   "metadata": {}
  },
  {
   "cell_type": "markdown",
   "source": [
    "Let's plot the tick-to-tick return of this instrument over this time bucket"
   ],
   "metadata": {}
  },
  {
   "cell_type": "code",
   "execution_count": null,
   "source": [
    "fig = px.line(book_example, x=\"seconds_in_bucket\", y=\"log_return\", title='Log return of stock_id_0, time_id_5')\r\n",
    "fig.show()"
   ],
   "outputs": [],
   "metadata": {}
  },
  {
   "cell_type": "markdown",
   "source": [
    "###Realized volatility\r\n",
    "\r\n",
    "When we trade options, a valuable input to our models is the standard deviation of the stock log returns. The standard deviation will be different for log returns computed over longer or shorter intervals, for this reason it is usually normalized to a 1-year period and the annualized standard deviation is called volatility.\r\n",
    "\r\n",
    "In this competition, you will be given 10 minutes of book data and we ask you to predict what the volatility will be in the following 10 minutes. Volatility will be measured as follows:\r\n",
    "\r\n",
    "We will compute the log returns over all consecutive book updates and we define the realized volatility,  σ , as the squared root of the sum of squared log returns.\r\n",
    "\r\n",
    "\\sigma = \\sqrt{\\sum_{t}r_{t-1, t}^2}\r\n",
    " \r\n",
    "Where we use WAP as price of the stock to compute log returns.\r\n",
    "\r\n",
    "We want to keep definitions as simple and clear as possible, so that Kagglers without financial knowledge will not be penalized. So we are not annualizing the volatility and we are assuming that log returns have 0 mean.\r\n",
    "\r\n",
    "\r\n",
    "The realized vol of stock 0 in this feature bucket, will be:"
   ],
   "metadata": {}
  },
  {
   "cell_type": "code",
   "execution_count": 17,
   "source": [
    "def realized_volatility(series_log_return):\r\n",
    "    return np.sqrt(np.sum(series_log_return**2))\r\n",
    "\r\n",
    "realized_vol = realized_volatility(book_example['log_return'])\r\n",
    "print(f'Realized volatility for stock_id 0 on time_id 5 is {realized_vol}')"
   ],
   "outputs": [
    {
     "output_type": "stream",
     "name": "stdout",
     "text": [
      "Realized volatility for stock_id 0 on time_id 5 is 0.0037818447045652633\n"
     ]
    }
   ],
   "metadata": {}
  },
  {
   "cell_type": "markdown",
   "source": [
    "### Naive prediction: using past realized volatility as target\n",
    "\n",
    "A commonly known fact about volatility is that it tends to be autocorrelated. We can use this property to implement a naive model that just \"predicts\" realized volatility by using whatever the realized volatility was in the initial 10 minutes.\n",
    "\n",
    "Let's calculate the past realized volatility across the training set to see how predictive a single naive signal can be."
   ],
   "metadata": {}
  },
  {
   "cell_type": "code",
   "execution_count": 18,
   "source": [
    "import glob\r\n",
    "list_order_book_file_train = glob.glob('D:\\\\Edu\\\\Kaggle\\\\optiver-realized-volatility-prediction\\\\book_train.parquet/*')\r\n",
    "list_trade_book_file_train = glob.glob('D:\\\\Edu\\\\Kaggle\\\\optiver-realized-volatility-prediction\\\\trade_train.parquet/*')\r\n",
    "#list_order_book_file_train"
   ],
   "outputs": [],
   "metadata": {}
  },
  {
   "cell_type": "markdown",
   "source": [
    "As the data is partitioned by stock_id (each stock id is one folder), we try to calculcate realized volatility stock by stock and combine them into one target file. Note that the stock id as the partition column is not present if we load the single file so we will remedy that manually. We will reuse the log return and realized volatility functions defined in the previous session."
   ],
   "metadata": {}
  },
  {
   "cell_type": "code",
   "execution_count": 19,
   "source": [
    "def compute_wap(df_stock_book):\r\n",
    "       df_stock_book['bid_price'] = (df_stock_book['bid_price1'] * df_stock_book['bid_size1'] + df_stock_book['bid_price2'] * df_stock_book['bid_size2'])/(df_stock_book['bid_size1'] + df_stock_book['bid_size2'])\r\n",
    "       df_stock_book['bid_size'] = (df_stock_book['bid_size1'] + df_stock_book['bid_size2'])\r\n",
    "\r\n",
    "       df_stock_book['ask_price'] = (df_stock_book['ask_price1'] * df_stock_book['ask_size1'] + df_stock_book['ask_price2'] * df_stock_book['ask_size2'])/(df_stock_book['ask_size1'] + df_stock_book['ask_size2'])\r\n",
    "       df_stock_book['ask_size'] = (df_stock_book['ask_size1'] + df_stock_book['ask_size2'])\r\n",
    "\r\n",
    "       df_stock_book['wap'] = (df_stock_book['bid_price'] * df_stock_book['ask_size'] + df_stock_book['ask_price'] * df_stock_book['bid_size']) / (df_stock_book['bid_size'] +  df_stock_book['ask_size'])\r\n",
    "       return df_stock_book['wap']"
   ],
   "outputs": [],
   "metadata": {}
  },
  {
   "cell_type": "code",
   "execution_count": 20,
   "source": [
    "# def realized_volatility_per_time_id(file_path, prediction_column_name):\r\n",
    "#     df_book_data = pd.read_parquet(file_path)\r\n",
    "# #    df_book_data['wap'] = (df_book_data['bid_price1'] * df_book_data['ask_size1']+df_book_data['ask_price1'] * df_book_data['bid_size1'])  / (\r\n",
    "# #                                     df_book_data['bid_size1']+ df_book_data[\r\n",
    "# #                                  'ask_size1'])\r\n",
    "#     df_book_data['wap'] = compute_wap(df_book_data)\r\n",
    "#     df_book_data['log_return'] = df_book_data.groupby(['time_id'])['wap'].apply(log_return)\r\n",
    "#     df_book_data = df_book_data[~df_book_data['log_return'].isnull()]\r\n",
    "#     df_realized_vol_per_stock =  pd.DataFrame(df_book_data.groupby(['time_id'])['log_return'].agg(realized_volatility)).reset_index()\r\n",
    "#     df_realized_vol_per_stock = df_realized_vol_per_stock.rename(columns = {'log_return':prediction_column_name})\r\n",
    "#     stock_id = file_path.split('=')[1]\r\n",
    "#     df_realized_vol_per_stock['row_id'] = df_realized_vol_per_stock['time_id'].apply(lambda x:f'{stock_id}-{x}')\r\n",
    "#     return df_realized_vol_per_stock[['row_id',prediction_column_name]]"
   ],
   "outputs": [],
   "metadata": {}
  },
  {
   "cell_type": "code",
   "execution_count": 21,
   "source": [
    "# df_order_book = pd.DataFrame()\r\n",
    "# for file in list_order_book_file_train:\r\n",
    "#      df_stock_book = pd.read_parquet(file)\r\n",
    "#      df_stock_book['stock_id'] = file.split('=')[1]\r\n",
    "#      df_order_book = pd.concat([df_order_book,df_stock_book])\r\n"
   ],
   "outputs": [],
   "metadata": {}
  },
  {
   "cell_type": "code",
   "execution_count": 24,
   "source": [
    "import random\r\n",
    "# # Get current state and store\r\n",
    "# state = random.getstate()\r\n",
    "# # set current state\r\n",
    "# random.setstate(state)\r\n",
    "random.seed(42)\r\n",
    "list_order_book_file_train_50 = random.sample(list_order_book_file_train, 50)\r\n",
    "list_trade_book_file_train_50 = [ l.replace('book','trade') for l in list_order_book_file_train_50]\r\n",
    "#list_trade_book_file_train_50 = random.sample(list_trade_book_file_train, 50)\r\n",
    "# list_order_book_file_train_50_old = list_order_book_file_train_50\r\n",
    "# random.seed(42)\r\n",
    "# list_order_book_file_train_50 = random.sample(list_order_book_file_train, 5)\r\n",
    "# assert(list_order_book_file_train_50 == list_order_book_file_train_50_old)\r\n",
    "#list(zip(list_order_book_file_train_50,list_order_book_file_train_50_old))"
   ],
   "outputs": [],
   "metadata": {}
  },
  {
   "cell_type": "code",
   "execution_count": 25,
   "source": [
    "# df_order_book_50 = pd.DataFrame()\r\n",
    "# df_trade_book_50 = pd.DataFrame()\r\n",
    "# for file in list_order_book_file_train_50:\r\n",
    "#      df_stock_book = pd.read_parquet(file)\r\n",
    "#      df_stock_book['stock_id'] = file.split('=')[1]\r\n",
    "#      df_order_book_50 = pd.concat([df_order_book_50,df_stock_book])\r\n",
    "\r\n",
    "\r\n",
    "\r\n",
    "df_order_book_5 = pd.DataFrame()\r\n",
    "for file in list_order_book_file_train_50[:5]:\r\n",
    "     df_stock_book = pd.read_parquet(file)\r\n",
    "     df_stock_book['stock_id'] = file.split('=')[1]\r\n",
    "     df_order_book_5 = pd.concat([df_order_book_5,df_stock_book])\r\n",
    "\r\n",
    "\r\n",
    "df_trade_book_5 = pd.DataFrame()\r\n",
    "for file in list_trade_book_file_train_50[:5]:\r\n",
    "     df_stock_book = pd.read_parquet(file)\r\n",
    "     df_stock_book['stock_id'] = file.split('=')[1]\r\n",
    "     df_trade_book_5 = pd.concat([df_trade_book_5,df_stock_book])\r\n"
   ],
   "outputs": [],
   "metadata": {}
  },
  {
   "cell_type": "code",
   "execution_count": 28,
   "source": [
    "df_order_book_5.stock_id.unique(),df_trade_book_5.stock_id.unique()\r\n"
   ],
   "outputs": [
    {
     "output_type": "execute_result",
     "data": {
      "text/plain": [
       "(array(['68', '111', '100', '81', '2'], dtype=object),\n",
       " array(['68', '111', '100', '81', '2'], dtype=object))"
      ]
     },
     "metadata": {},
     "execution_count": 28
    }
   ],
   "metadata": {}
  },
  {
   "cell_type": "code",
   "execution_count": 29,
   "source": [
    "# df_order_book = pd.DataFrame()\r\n",
    "# for file in list_order_book_file_train:\r\n",
    "#      df_stock_book = pd.read_parquet(file)\r\n",
    "#      df_stock_book['stock_id'] = file.split('=')[1]\r\n",
    "#      df_order_book = pd.concat([df_order_book,df_stock_book])\r\n",
    "\r\n",
    "\r\n",
    "# df_trade_book = pd.DataFrame()\r\n",
    "# for file in list_trade_book_file_train:\r\n",
    "#      df_stock_book = pd.read_parquet(file)\r\n",
    "#      df_stock_book['stock_id'] = file.split('=')[1]\r\n",
    "#      df_trade_book = pd.concat([df_trade_book,df_stock_book])\r\n"
   ],
   "outputs": [],
   "metadata": {}
  },
  {
   "cell_type": "code",
   "execution_count": null,
   "source": [
    "#grouped.filter(a_lt_112)\r\n",
    "#len(df_order_book_50.loc[df_order_book_50.seconds_in_bucket == 0])\r\n",
    "#print(df_order_book_50.time_id.nunique(),df_order_book_50.stock_id.nunique(),df_order_book_50.seconds_in_bucket.nunique())\r\n",
    "#There are a total of 3830 time series, 112 stocks and 600 seconds bucket \r\n",
    "# In this 3830 Times Ids there are a maximum possible order booking of 3830*600 = 2,298,000. But the actual is  "
   ],
   "outputs": [],
   "metadata": {}
  },
  {
   "cell_type": "code",
   "execution_count": 30,
   "source": [
    "# with open('book_index.csv','w+') as f:\r\n",
    "#     for items in list(df_order_book_50.index):\r\n",
    "#         f.write('%s\\n' %items)\r\n",
    "#new_index\r\n",
    "df_order_book_5.reset_index(inplace=True,drop=True)\r\n",
    "df_trade_book_5.reset_index(inplace=True,drop=True)\r\n",
    "\r\n",
    "# df_order_book.reset_index(inplace=True,drop=True)\r\n",
    "# df_trade_book.reset_index(inplace=True,drop=True)\r\n",
    "\r\n",
    "#df_order_book_50.head(-1)\r\n",
    "#df_order_book_50[df_order_book_50.index != df_order_book_50['index']]\r\n",
    "#(72311913, 11)"
   ],
   "outputs": [],
   "metadata": {}
  },
  {
   "cell_type": "code",
   "execution_count": 31,
   "source": [
    "#df_order_book_5.index\r\n",
    "df_order_book_5_idxed = df_order_book_5.copy()\r\n",
    "df_trade_book_5_idxed = df_trade_book_5.copy()\r\n"
   ],
   "outputs": [],
   "metadata": {}
  },
  {
   "cell_type": "code",
   "execution_count": 32,
   "source": [
    "# df_order_book_50_idxed.drop(columns=['index', 'bid_price1', 'ask_price1',\r\n",
    "#        'bid_price2', 'ask_price2', 'bid_size1', 'ask_size1', 'bid_size2',\r\n",
    "#        'ask_size2'],inplace=True)"
   ],
   "outputs": [],
   "metadata": {}
  },
  {
   "cell_type": "code",
   "execution_count": 33,
   "source": [
    "new_index = pd.Index(np.arange(0,600), name=\"seconds_in_bucket\")"
   ],
   "outputs": [],
   "metadata": {}
  },
  {
   "cell_type": "code",
   "execution_count": 34,
   "source": [
    "print(df_order_book_5_idxed.shape, df_trade_book_5_idxed.shape)"
   ],
   "outputs": [
    {
     "output_type": "stream",
     "name": "stdout",
     "text": [
      "(8459607, 11) (2095924, 6)\n"
     ]
    }
   ],
   "metadata": {}
  },
  {
   "cell_type": "code",
   "execution_count": 35,
   "source": [
    "df_order_book_5_idxed.stock_id.unique()"
   ],
   "outputs": [
    {
     "output_type": "execute_result",
     "data": {
      "text/plain": [
       "array(['68', '111', '100', '81', '2'], dtype=object)"
      ]
     },
     "metadata": {},
     "execution_count": 35
    }
   ],
   "metadata": {}
  },
  {
   "cell_type": "code",
   "execution_count": 36,
   "source": [
    "df_trade_book_5_idxed.stock_id.unique()"
   ],
   "outputs": [
    {
     "output_type": "execute_result",
     "data": {
      "text/plain": [
       "array(['68', '111', '100', '81', '2'], dtype=object)"
      ]
     },
     "metadata": {},
     "execution_count": 36
    }
   ],
   "metadata": {}
  },
  {
   "cell_type": "code",
   "execution_count": null,
   "source": [
    "#df_order_book_50_idxed.reindex( pd.MultiIndex.from_product([df_order_book_50_idxed['time_id'],df_order_book_50_idxed['stock_id'],new_index], names=['time_id', 'stock_id','seconds_in_bucket']))\r\n",
    "#df_order_book_50_idxed.reindex(pd.MultiIndex.from_frame(df_order_book_50_idxed[['time_id','stock_id','seconds_in_bucket']]))"
   ],
   "outputs": [],
   "metadata": {}
  },
  {
   "cell_type": "code",
   "execution_count": null,
   "source": [
    "#print(df_order_book_50_idxed.time_id.nunique(),df_order_book_50_idxed.stock_id.nunique(),df_order_book_50_idxed.seconds_in_bucket.nunique())\r\n",
    "#df_order_book_50_idxed.set_index(['time_id','stock_id'],inplace=True)\r\n",
    "#72311913 rows × 9 columns\r\n",
    "# 72312513\r\n",
    "# 2,202,009,600"
   ],
   "outputs": [],
   "metadata": {}
  },
  {
   "cell_type": "code",
   "execution_count": null,
   "source": [
    "#for a given time_id and stiock_id itself, the number of \"seconds_in_bucket\" is not the same. THis is the same across\r\n",
    "#df_order_book_50_idxed.reindex(new_index,level=2)"
   ],
   "outputs": [],
   "metadata": {}
  },
  {
   "cell_type": "code",
   "execution_count": 37,
   "source": [
    "df_order_trade_merged = pd.merge(\r\n",
    "    df_order_book_5_idxed,\r\n",
    "    df_trade_book_5_idxed,\r\n",
    "    how=\"outer\",\r\n",
    "    on=['time_id','stock_id','seconds_in_bucket'],\r\n",
    "    sort=True,\r\n",
    "    suffixes=(\"_x\", \"_y\"),\r\n",
    "    copy=True,\r\n",
    "    indicator=False,\r\n",
    "    validate=\"m:m\"\r\n",
    ")"
   ],
   "outputs": [],
   "metadata": {}
  },
  {
   "cell_type": "code",
   "execution_count": 38,
   "source": [
    "df_order_trade_merged.head()"
   ],
   "outputs": [
    {
     "output_type": "execute_result",
     "data": {
      "text/plain": [
       "   time_id  seconds_in_bucket  bid_price1  ask_price1  bid_price2  ask_price2  \\\n",
       "0        5                  0    0.999077    1.000103    0.999009    1.000239   \n",
       "1        5                  4    0.999214    1.000103    0.999145    1.000239   \n",
       "2        5                  5    0.999282    1.000239    0.999214    1.000376   \n",
       "3        5                  6    0.999487    1.000786    0.999419    1.000855   \n",
       "4        5                  7    0.999624    1.000786    0.999556    1.000855   \n",
       "\n",
       "   bid_size1  ask_size1  bid_size2  ask_size2 stock_id     price   size  \\\n",
       "0        100          7         64        100      100       NaN    NaN   \n",
       "1        300          7        310        100      100       NaN    NaN   \n",
       "2        700        201        400         36      100  1.000103    7.0   \n",
       "3        100        101         10         50      100  1.000239  201.0   \n",
       "4        200        101        100         50      100       NaN    NaN   \n",
       "\n",
       "   order_count  \n",
       "0          NaN  \n",
       "1          NaN  \n",
       "2          2.0  \n",
       "3          4.0  \n",
       "4          NaN  "
      ],
      "text/html": [
       "<div>\n",
       "<style scoped>\n",
       "    .dataframe tbody tr th:only-of-type {\n",
       "        vertical-align: middle;\n",
       "    }\n",
       "\n",
       "    .dataframe tbody tr th {\n",
       "        vertical-align: top;\n",
       "    }\n",
       "\n",
       "    .dataframe thead th {\n",
       "        text-align: right;\n",
       "    }\n",
       "</style>\n",
       "<table border=\"1\" class=\"dataframe\">\n",
       "  <thead>\n",
       "    <tr style=\"text-align: right;\">\n",
       "      <th></th>\n",
       "      <th>time_id</th>\n",
       "      <th>seconds_in_bucket</th>\n",
       "      <th>bid_price1</th>\n",
       "      <th>ask_price1</th>\n",
       "      <th>bid_price2</th>\n",
       "      <th>ask_price2</th>\n",
       "      <th>bid_size1</th>\n",
       "      <th>ask_size1</th>\n",
       "      <th>bid_size2</th>\n",
       "      <th>ask_size2</th>\n",
       "      <th>stock_id</th>\n",
       "      <th>price</th>\n",
       "      <th>size</th>\n",
       "      <th>order_count</th>\n",
       "    </tr>\n",
       "  </thead>\n",
       "  <tbody>\n",
       "    <tr>\n",
       "      <th>0</th>\n",
       "      <td>5</td>\n",
       "      <td>0</td>\n",
       "      <td>0.999077</td>\n",
       "      <td>1.000103</td>\n",
       "      <td>0.999009</td>\n",
       "      <td>1.000239</td>\n",
       "      <td>100</td>\n",
       "      <td>7</td>\n",
       "      <td>64</td>\n",
       "      <td>100</td>\n",
       "      <td>100</td>\n",
       "      <td>NaN</td>\n",
       "      <td>NaN</td>\n",
       "      <td>NaN</td>\n",
       "    </tr>\n",
       "    <tr>\n",
       "      <th>1</th>\n",
       "      <td>5</td>\n",
       "      <td>4</td>\n",
       "      <td>0.999214</td>\n",
       "      <td>1.000103</td>\n",
       "      <td>0.999145</td>\n",
       "      <td>1.000239</td>\n",
       "      <td>300</td>\n",
       "      <td>7</td>\n",
       "      <td>310</td>\n",
       "      <td>100</td>\n",
       "      <td>100</td>\n",
       "      <td>NaN</td>\n",
       "      <td>NaN</td>\n",
       "      <td>NaN</td>\n",
       "    </tr>\n",
       "    <tr>\n",
       "      <th>2</th>\n",
       "      <td>5</td>\n",
       "      <td>5</td>\n",
       "      <td>0.999282</td>\n",
       "      <td>1.000239</td>\n",
       "      <td>0.999214</td>\n",
       "      <td>1.000376</td>\n",
       "      <td>700</td>\n",
       "      <td>201</td>\n",
       "      <td>400</td>\n",
       "      <td>36</td>\n",
       "      <td>100</td>\n",
       "      <td>1.000103</td>\n",
       "      <td>7.0</td>\n",
       "      <td>2.0</td>\n",
       "    </tr>\n",
       "    <tr>\n",
       "      <th>3</th>\n",
       "      <td>5</td>\n",
       "      <td>6</td>\n",
       "      <td>0.999487</td>\n",
       "      <td>1.000786</td>\n",
       "      <td>0.999419</td>\n",
       "      <td>1.000855</td>\n",
       "      <td>100</td>\n",
       "      <td>101</td>\n",
       "      <td>10</td>\n",
       "      <td>50</td>\n",
       "      <td>100</td>\n",
       "      <td>1.000239</td>\n",
       "      <td>201.0</td>\n",
       "      <td>4.0</td>\n",
       "    </tr>\n",
       "    <tr>\n",
       "      <th>4</th>\n",
       "      <td>5</td>\n",
       "      <td>7</td>\n",
       "      <td>0.999624</td>\n",
       "      <td>1.000786</td>\n",
       "      <td>0.999556</td>\n",
       "      <td>1.000855</td>\n",
       "      <td>200</td>\n",
       "      <td>101</td>\n",
       "      <td>100</td>\n",
       "      <td>50</td>\n",
       "      <td>100</td>\n",
       "      <td>NaN</td>\n",
       "      <td>NaN</td>\n",
       "      <td>NaN</td>\n",
       "    </tr>\n",
       "  </tbody>\n",
       "</table>\n",
       "</div>"
      ]
     },
     "metadata": {},
     "execution_count": 38
    }
   ],
   "metadata": {}
  },
  {
   "cell_type": "code",
   "execution_count": 39,
   "source": [
    "#df_order_trade_merged_5.info()\r\n",
    "#book_example.info()\r\n",
    "#trade_example.info()\r\n",
    "df_order_trade_merged.stock_id.unique()\r\n"
   ],
   "outputs": [
    {
     "output_type": "execute_result",
     "data": {
      "text/plain": [
       "array(['100', '111', '2', '68', '81'], dtype=object)"
      ]
     },
     "metadata": {},
     "execution_count": 39
    }
   ],
   "metadata": {}
  },
  {
   "cell_type": "code",
   "execution_count": 40,
   "source": [
    "df_order_trade_merged['stock_id'] = df_order_trade_merged['stock_id'].astype('int8')"
   ],
   "outputs": [],
   "metadata": {}
  },
  {
   "cell_type": "code",
   "execution_count": 41,
   "source": [
    "grouped = df_order_trade_merged.groupby(['time_id','stock_id'])\r\n",
    "#df_order_book_50_idxed.index.levels[2]"
   ],
   "outputs": [],
   "metadata": {}
  },
  {
   "cell_type": "code",
   "execution_count": 140,
   "source": [
    "#grouped.seconds_in_bucket.max()\r\n",
    "#pd.concat([df_order_book_50_idxed],keys=new_index,names=['secs_in_bucket'])\r\n",
    "#nw_idx = pd.MultiIndex.append(df_order_book_50_idxed.index,other=new_index)\r\n",
    "#72312513\r\n",
    "#df_order_book_50_idxed.reset_index(pd.MultiIndex.from_arrays(arrays=[df_order_book_50_idxed.index.levels[0],df_order_book_50_idxed.index.levels[1],new_index]))\r\n",
    "#grouped.count()\r\n",
    "#191,473\r\n",
    "#191,500 (3830 time_id * 50 stocks). 27 rows are missing where some stock_id is not present for all time_ids.\r\n",
    "#114,883,800 rows should be there ideally  (191473 * 600). Actual number of rows are 72,311,913. There is a missing number of 42,571,887 rows during due to the missing secods_in_bucket\r\n",
    "#df_order_book_50_idxed.shape\r\n",
    "#len(df_order_book_50_idxed.index.levels[0]) * len(df_order_book_50_idxed.index.levels[1]) * len(new_index)\r\n",
    "#df_order_book_50_idxed.index.get_level_values(1)\r\n",
    "#df_order_book_50_idxed.reindex(pd.MultiIndex.from_product([df_order_book_50_idxed.index,new_index],names=['time_id', 'stock_id','secs_in_bucket']),method='nearest')\r\n",
    "#s=grouped.apply(lambda x : x.set_index('seconds_in_bucket').reindex(new_index).reset_index().ffill()).reset_index(drop=True)\r\n",
    "\r\n",
    "#s1=grouped.apply(lambda x : x.set_index('seconds_in_bucket'))\r\n",
    "# converts the column \"seconds_in_bucket\" into an index along with the other 2 index introduced by the GroupBy operation \r\n",
    "# it is as good as groupby (['time_id', 'stock_id','seconds_in_bucket'])\r\n",
    "# No use because the missing sequences is not introduced yet\r\n",
    "\r\n",
    "s2=grouped.apply(lambda x : x.set_index('seconds_in_bucket').reindex(new_index))\r\n",
    "# the best of all\r\n",
    "# creates a multiindex(['time_id', 'stock_id','seconds_in_bucket']) and also does not reintroduce the column \"seconds_in_bucket\" as a normal column into the dataframe\r\n",
    "\r\n",
    "#s3=grouped.apply(lambda x : x.set_index('seconds_in_bucket').reindex(new_index).reset_index())\r\n",
    "# creates a multiindex(['time_id', 'stock_id','seconds_in_bucket']) but reintroduces the column \"seconds_in_bucket\" as a normal column into the dataframe\r\n",
    "# 2nd best\r\n",
    "\r\n",
    "#s5=grouped.apply(lambda x : x.set_index('seconds_in_bucket').reindex(new_index).reset_index(drop=True))\r\n",
    "# creates a multiindex(['time_id', 'stock_id',None]). The \"seconds_in_bucket\" is used for the new sequential ordering but it is removed as index column name and also as removed a normal column. \r\n",
    "# the sequence introduced by the new_index only is used in the multiindex\r\n",
    "\r\n",
    "#s4=grouped.apply(lambda x : x.set_index('seconds_in_bucket').reindex(new_index).reset_index()).reset_index(drop=True)\r\n",
    "# resets the indx back to the original rangeIndex but introduces the sequential order. \r\n",
    "\r\n",
    "#s6=grouped.apply(lambda x : x.reindex(new_index))\r\n",
    "#introduce a new index as per names and values of \"new_index\" and the existing columns ['time_id', 'stock_id','seconds_in_bucket'] stay as it is.\r\n",
    "# BADLY resets all the values of all the columns in the dataframe to null (except of coursse the Index column values)\r\n",
    "\r\n",
    "#We can use the drop parameter to avoid the old index being added as a column:\r\n",
    "\r\n"
   ],
   "outputs": [],
   "metadata": {}
  },
  {
   "cell_type": "code",
   "execution_count": 141,
   "source": [
    "s2.drop(columns=['time_id','stock_id'],inplace=True)"
   ],
   "outputs": [],
   "metadata": {}
  },
  {
   "cell_type": "code",
   "execution_count": 44,
   "source": [
    "s2.info()"
   ],
   "outputs": [
    {
     "output_type": "stream",
     "name": "stdout",
     "text": [
      "<class 'pandas.core.frame.DataFrame'>\n",
      "MultiIndex: 11489400 entries, (5, 2, 0) to (32767, 111, 599)\n",
      "Data columns (total 11 columns):\n",
      " #   Column       Dtype  \n",
      "---  ------       -----  \n",
      " 0   bid_price1   float32\n",
      " 1   ask_price1   float32\n",
      " 2   bid_price2   float32\n",
      " 3   ask_price2   float32\n",
      " 4   bid_size1    float64\n",
      " 5   ask_size1    float64\n",
      " 6   bid_size2    float64\n",
      " 7   ask_size2    float64\n",
      " 8   price        float32\n",
      " 9   size         float64\n",
      " 10  order_count  float64\n",
      "dtypes: float32(5), float64(6)\n",
      "memory usage: 800.0 MB\n"
     ]
    }
   ],
   "metadata": {}
  },
  {
   "cell_type": "code",
   "execution_count": 45,
   "source": [
    "print(s2.shape)"
   ],
   "outputs": [
    {
     "output_type": "stream",
     "name": "stdout",
     "text": [
      "(11489400, 11)\n"
     ]
    }
   ],
   "metadata": {}
  },
  {
   "cell_type": "code",
   "execution_count": 46,
   "source": [
    "print(s2.index)"
   ],
   "outputs": [
    {
     "output_type": "stream",
     "name": "stdout",
     "text": [
      "MultiIndex([(    5,   2,   0),\n",
      "            (    5,   2,   1),\n",
      "            (    5,   2,   2),\n",
      "            (    5,   2,   3),\n",
      "            (    5,   2,   4),\n",
      "            (    5,   2,   5),\n",
      "            (    5,   2,   6),\n",
      "            (    5,   2,   7),\n",
      "            (    5,   2,   8),\n",
      "            (    5,   2,   9),\n",
      "            ...\n",
      "            (32767, 111, 590),\n",
      "            (32767, 111, 591),\n",
      "            (32767, 111, 592),\n",
      "            (32767, 111, 593),\n",
      "            (32767, 111, 594),\n",
      "            (32767, 111, 595),\n",
      "            (32767, 111, 596),\n",
      "            (32767, 111, 597),\n",
      "            (32767, 111, 598),\n",
      "            (32767, 111, 599)],\n",
      "           names=['time_id', 'stock_id', 'seconds_in_bucket'], length=11489400)\n"
     ]
    }
   ],
   "metadata": {}
  },
  {
   "cell_type": "code",
   "execution_count": 47,
   "source": [
    "#s2[['bid_size1','ask_size1','bid_size2','ask_size2']] = s2[['bid_size1','ask_size1','bid_size2','ask_size2']].astype('int16')\r\n",
    "#s2['stock_id'] = s2['stock_id'].astype('int8')\r\n",
    "# s.info()\r\n",
    "# #s = s.reindex(columns=['time_id','stock_id','seconds_in_bucket'])"
   ],
   "outputs": [],
   "metadata": {}
  },
  {
   "cell_type": "code",
   "execution_count": 48,
   "source": [
    "s2.head()"
   ],
   "outputs": [
    {
     "output_type": "execute_result",
     "data": {
      "text/plain": [
       "                                    bid_price1  ask_price1  bid_price2  \\\n",
       "time_id stock_id seconds_in_bucket                                       \n",
       "5       2        0                    1.000607    1.000769    1.000526   \n",
       "                 1                    1.000526    1.000769    1.000445   \n",
       "                 2                    1.000526    1.000769    1.000364   \n",
       "                 3                    1.000607    1.000769    1.000526   \n",
       "                 4                    1.000526    1.000769    1.000445   \n",
       "\n",
       "                                    ask_price2  bid_size1  ask_size1  \\\n",
       "time_id stock_id seconds_in_bucket                                     \n",
       "5       2        0                     1.00085      100.0      200.0   \n",
       "                 1                     1.00085        1.0      200.0   \n",
       "                 2                     1.00085        1.0      300.0   \n",
       "                 3                     1.00085      100.0      300.0   \n",
       "                 4                     1.00085        1.0      300.0   \n",
       "\n",
       "                                    bid_size2  ask_size2     price   size  \\\n",
       "time_id stock_id seconds_in_bucket                                          \n",
       "5       2        0                        1.0        1.0  1.000688  101.0   \n",
       "                 1                      100.0      101.0       NaN    NaN   \n",
       "                 2                      112.0      101.0       NaN    NaN   \n",
       "                 3                        1.0        1.0       NaN    NaN   \n",
       "                 4                      300.0      101.0       NaN    NaN   \n",
       "\n",
       "                                    order_count  \n",
       "time_id stock_id seconds_in_bucket               \n",
       "5       2        0                          2.0  \n",
       "                 1                          NaN  \n",
       "                 2                          NaN  \n",
       "                 3                          NaN  \n",
       "                 4                          NaN  "
      ],
      "text/html": [
       "<div>\n",
       "<style scoped>\n",
       "    .dataframe tbody tr th:only-of-type {\n",
       "        vertical-align: middle;\n",
       "    }\n",
       "\n",
       "    .dataframe tbody tr th {\n",
       "        vertical-align: top;\n",
       "    }\n",
       "\n",
       "    .dataframe thead th {\n",
       "        text-align: right;\n",
       "    }\n",
       "</style>\n",
       "<table border=\"1\" class=\"dataframe\">\n",
       "  <thead>\n",
       "    <tr style=\"text-align: right;\">\n",
       "      <th></th>\n",
       "      <th></th>\n",
       "      <th></th>\n",
       "      <th>bid_price1</th>\n",
       "      <th>ask_price1</th>\n",
       "      <th>bid_price2</th>\n",
       "      <th>ask_price2</th>\n",
       "      <th>bid_size1</th>\n",
       "      <th>ask_size1</th>\n",
       "      <th>bid_size2</th>\n",
       "      <th>ask_size2</th>\n",
       "      <th>price</th>\n",
       "      <th>size</th>\n",
       "      <th>order_count</th>\n",
       "    </tr>\n",
       "    <tr>\n",
       "      <th>time_id</th>\n",
       "      <th>stock_id</th>\n",
       "      <th>seconds_in_bucket</th>\n",
       "      <th></th>\n",
       "      <th></th>\n",
       "      <th></th>\n",
       "      <th></th>\n",
       "      <th></th>\n",
       "      <th></th>\n",
       "      <th></th>\n",
       "      <th></th>\n",
       "      <th></th>\n",
       "      <th></th>\n",
       "      <th></th>\n",
       "    </tr>\n",
       "  </thead>\n",
       "  <tbody>\n",
       "    <tr>\n",
       "      <th rowspan=\"5\" valign=\"top\">5</th>\n",
       "      <th rowspan=\"5\" valign=\"top\">2</th>\n",
       "      <th>0</th>\n",
       "      <td>1.000607</td>\n",
       "      <td>1.000769</td>\n",
       "      <td>1.000526</td>\n",
       "      <td>1.00085</td>\n",
       "      <td>100.0</td>\n",
       "      <td>200.0</td>\n",
       "      <td>1.0</td>\n",
       "      <td>1.0</td>\n",
       "      <td>1.000688</td>\n",
       "      <td>101.0</td>\n",
       "      <td>2.0</td>\n",
       "    </tr>\n",
       "    <tr>\n",
       "      <th>1</th>\n",
       "      <td>1.000526</td>\n",
       "      <td>1.000769</td>\n",
       "      <td>1.000445</td>\n",
       "      <td>1.00085</td>\n",
       "      <td>1.0</td>\n",
       "      <td>200.0</td>\n",
       "      <td>100.0</td>\n",
       "      <td>101.0</td>\n",
       "      <td>NaN</td>\n",
       "      <td>NaN</td>\n",
       "      <td>NaN</td>\n",
       "    </tr>\n",
       "    <tr>\n",
       "      <th>2</th>\n",
       "      <td>1.000526</td>\n",
       "      <td>1.000769</td>\n",
       "      <td>1.000364</td>\n",
       "      <td>1.00085</td>\n",
       "      <td>1.0</td>\n",
       "      <td>300.0</td>\n",
       "      <td>112.0</td>\n",
       "      <td>101.0</td>\n",
       "      <td>NaN</td>\n",
       "      <td>NaN</td>\n",
       "      <td>NaN</td>\n",
       "    </tr>\n",
       "    <tr>\n",
       "      <th>3</th>\n",
       "      <td>1.000607</td>\n",
       "      <td>1.000769</td>\n",
       "      <td>1.000526</td>\n",
       "      <td>1.00085</td>\n",
       "      <td>100.0</td>\n",
       "      <td>300.0</td>\n",
       "      <td>1.0</td>\n",
       "      <td>1.0</td>\n",
       "      <td>NaN</td>\n",
       "      <td>NaN</td>\n",
       "      <td>NaN</td>\n",
       "    </tr>\n",
       "    <tr>\n",
       "      <th>4</th>\n",
       "      <td>1.000526</td>\n",
       "      <td>1.000769</td>\n",
       "      <td>1.000445</td>\n",
       "      <td>1.00085</td>\n",
       "      <td>1.0</td>\n",
       "      <td>300.0</td>\n",
       "      <td>300.0</td>\n",
       "      <td>101.0</td>\n",
       "      <td>NaN</td>\n",
       "      <td>NaN</td>\n",
       "      <td>NaN</td>\n",
       "    </tr>\n",
       "  </tbody>\n",
       "</table>\n",
       "</div>"
      ]
     },
     "metadata": {},
     "execution_count": 48
    }
   ],
   "metadata": {}
  },
  {
   "cell_type": "code",
   "execution_count": 142,
   "source": [
    "s2.isnull().sum()\r\n",
    "#3029793"
   ],
   "outputs": [
    {
     "output_type": "execute_result",
     "data": {
      "text/plain": [
       "bid_price1     3029793\n",
       "ask_price1     3029793\n",
       "bid_price2     3029793\n",
       "ask_price2     3029793\n",
       "bid_size1      3029793\n",
       "ask_size1      3029793\n",
       "bid_size2      3029793\n",
       "ask_size2      3029793\n",
       "price          9393476\n",
       "size           9393476\n",
       "order_count    9393476\n",
       "dtype: int64"
      ]
     },
     "metadata": {},
     "execution_count": 142
    }
   ],
   "metadata": {}
  },
  {
   "cell_type": "code",
   "execution_count": 103,
   "source": [
    "# #s.drop(columns=['index'],inplace=True)\r\n",
    "# nw_idx = pd.MultiIndex.from_frame(s[['time_id', 'stock_id','seconds_in_bucket']])\r\n",
    "# nw_idx.set_axis(nw_idx,axis = 1, inplace = False)\r\n",
    "# s.reindex(index=nw_idx, columns = ['bid_price1','ask_price1','bid_price2','ask_price2','bid_size1','ask_size1','bid_size2','ask_size2'],copy=False)\r\n",
    "#s.set_index(['time_id', 'stock_id','seconds_in_bucket'],inplace=True)"
   ],
   "outputs": [],
   "metadata": {}
  },
  {
   "cell_type": "code",
   "execution_count": 143,
   "source": [
    "s2[['size','order_count']] = s2[['size','order_count']].fillna(0) \r\n"
   ],
   "outputs": [],
   "metadata": {}
  },
  {
   "cell_type": "code",
   "execution_count": 144,
   "source": [
    "s2.isna().sum()"
   ],
   "outputs": [
    {
     "output_type": "execute_result",
     "data": {
      "text/plain": [
       "bid_price1     3029793\n",
       "ask_price1     3029793\n",
       "bid_price2     3029793\n",
       "ask_price2     3029793\n",
       "bid_size1      3029793\n",
       "ask_size1      3029793\n",
       "bid_size2      3029793\n",
       "ask_size2      3029793\n",
       "price          9393476\n",
       "size                 0\n",
       "order_count          0\n",
       "dtype: int64"
      ]
     },
     "metadata": {},
     "execution_count": 144
    }
   ],
   "metadata": {}
  },
  {
   "cell_type": "code",
   "execution_count": 52,
   "source": [
    "s2.index"
   ],
   "outputs": [
    {
     "output_type": "execute_result",
     "data": {
      "text/plain": [
       "MultiIndex([(    5,   2,   0),\n",
       "            (    5,   2,   1),\n",
       "            (    5,   2,   2),\n",
       "            (    5,   2,   3),\n",
       "            (    5,   2,   4),\n",
       "            (    5,   2,   5),\n",
       "            (    5,   2,   6),\n",
       "            (    5,   2,   7),\n",
       "            (    5,   2,   8),\n",
       "            (    5,   2,   9),\n",
       "            ...\n",
       "            (32767, 111, 590),\n",
       "            (32767, 111, 591),\n",
       "            (32767, 111, 592),\n",
       "            (32767, 111, 593),\n",
       "            (32767, 111, 594),\n",
       "            (32767, 111, 595),\n",
       "            (32767, 111, 596),\n",
       "            (32767, 111, 597),\n",
       "            (32767, 111, 598),\n",
       "            (32767, 111, 599)],\n",
       "           names=['time_id', 'stock_id', 'seconds_in_bucket'], length=11489400)"
      ]
     },
     "metadata": {},
     "execution_count": 52
    }
   ],
   "metadata": {}
  },
  {
   "cell_type": "code",
   "execution_count": 171,
   "source": [
    "#s2[s2.loc[:,:,0].isna().sum]\r\n",
    "#s2.shape\r\n",
    "s2.loc[:,:,0].isna().sum()"
   ],
   "outputs": [
    {
     "output_type": "execute_result",
     "data": {
      "text/plain": [
       "bid_price1     0\n",
       "ask_price1     0\n",
       "bid_price2     0\n",
       "ask_price2     0\n",
       "bid_size1      0\n",
       "ask_size1      0\n",
       "bid_size2      0\n",
       "ask_size2      0\n",
       "price          0\n",
       "size           0\n",
       "order_count    0\n",
       "dtype: int64"
      ]
     },
     "metadata": {},
     "execution_count": 171
    }
   ],
   "metadata": {}
  },
  {
   "cell_type": "code",
   "execution_count": 172,
   "source": [
    "s2.loc[:,:,0][s2.loc[:,:,0]['price'].isna()]"
   ],
   "outputs": [
    {
     "output_type": "execute_result",
     "data": {
      "text/plain": [
       "Empty DataFrame\n",
       "Columns: [bid_price1, ask_price1, bid_price2, ask_price2, bid_size1, ask_size1, bid_size2, ask_size2, price, size, order_count]\n",
       "Index: []"
      ],
      "text/html": [
       "<div>\n",
       "<style scoped>\n",
       "    .dataframe tbody tr th:only-of-type {\n",
       "        vertical-align: middle;\n",
       "    }\n",
       "\n",
       "    .dataframe tbody tr th {\n",
       "        vertical-align: top;\n",
       "    }\n",
       "\n",
       "    .dataframe thead th {\n",
       "        text-align: right;\n",
       "    }\n",
       "</style>\n",
       "<table border=\"1\" class=\"dataframe\">\n",
       "  <thead>\n",
       "    <tr style=\"text-align: right;\">\n",
       "      <th></th>\n",
       "      <th></th>\n",
       "      <th></th>\n",
       "      <th>bid_price1</th>\n",
       "      <th>ask_price1</th>\n",
       "      <th>bid_price2</th>\n",
       "      <th>ask_price2</th>\n",
       "      <th>bid_size1</th>\n",
       "      <th>ask_size1</th>\n",
       "      <th>bid_size2</th>\n",
       "      <th>ask_size2</th>\n",
       "      <th>price</th>\n",
       "      <th>size</th>\n",
       "      <th>order_count</th>\n",
       "    </tr>\n",
       "    <tr>\n",
       "      <th>time_id</th>\n",
       "      <th>stock_id</th>\n",
       "      <th>seconds_in_bucket</th>\n",
       "      <th></th>\n",
       "      <th></th>\n",
       "      <th></th>\n",
       "      <th></th>\n",
       "      <th></th>\n",
       "      <th></th>\n",
       "      <th></th>\n",
       "      <th></th>\n",
       "      <th></th>\n",
       "      <th></th>\n",
       "      <th></th>\n",
       "    </tr>\n",
       "  </thead>\n",
       "  <tbody>\n",
       "  </tbody>\n",
       "</table>\n",
       "</div>"
      ]
     },
     "metadata": {},
     "execution_count": 172
    }
   ],
   "metadata": {}
  },
  {
   "cell_type": "code",
   "execution_count": 123,
   "source": [
    "s2.head(10)"
   ],
   "outputs": [
    {
     "output_type": "execute_result",
     "data": {
      "text/plain": [
       "                                    bid_price1  ask_price1  bid_price2  \\\n",
       "time_id stock_id seconds_in_bucket                                       \n",
       "5       2        0                    1.000607    1.000769    1.000526   \n",
       "                 1                    1.000526    1.000769    1.000445   \n",
       "                 2                    1.000526    1.000769    1.000364   \n",
       "                 3                    1.000607    1.000769    1.000526   \n",
       "                 4                    1.000526    1.000769    1.000445   \n",
       "                 5                    1.000445    1.000607    1.000364   \n",
       "                 6                    1.000607    1.000688    1.000526   \n",
       "                 7                    1.000526    1.000688    1.000445   \n",
       "                 8                    1.000445    1.000526    1.000364   \n",
       "                 9                    1.000445    1.000526    1.000364   \n",
       "\n",
       "                                    ask_price2  bid_size1  ask_size1  \\\n",
       "time_id stock_id seconds_in_bucket                                     \n",
       "5       2        0                    1.000850      100.0      200.0   \n",
       "                 1                    1.000850        1.0      200.0   \n",
       "                 2                    1.000850        1.0      300.0   \n",
       "                 3                    1.000850      100.0      300.0   \n",
       "                 4                    1.000850        1.0      300.0   \n",
       "                 5                    1.000688      101.0      100.0   \n",
       "                 6                    1.000769        1.0      100.0   \n",
       "                 7                    1.000769      100.0      100.0   \n",
       "                 8                    1.000607        1.0      101.0   \n",
       "                 9                    1.000607      101.0        1.0   \n",
       "\n",
       "                                    bid_size2  ask_size2     price   size  \\\n",
       "time_id stock_id seconds_in_bucket                                          \n",
       "5       2        0                        1.0        1.0  1.000688  101.0   \n",
       "                 1                      100.0      101.0       NaN    0.0   \n",
       "                 2                      112.0      101.0       NaN    0.0   \n",
       "                 3                        1.0        1.0       NaN    0.0   \n",
       "                 4                      300.0      101.0       NaN    0.0   \n",
       "                 5                      112.0      101.0  1.000607    3.0   \n",
       "                 6                      300.0      200.0       NaN    0.0   \n",
       "                 7                        1.0      300.0       NaN    0.0   \n",
       "                 8                      213.0      401.0  1.000526  100.0   \n",
       "                 9                      213.0      201.0       NaN    0.0   \n",
       "\n",
       "                                    order_count  \n",
       "time_id stock_id seconds_in_bucket               \n",
       "5       2        0                          2.0  \n",
       "                 1                          0.0  \n",
       "                 2                          0.0  \n",
       "                 3                          0.0  \n",
       "                 4                          0.0  \n",
       "                 5                          2.0  \n",
       "                 6                          0.0  \n",
       "                 7                          0.0  \n",
       "                 8                          1.0  \n",
       "                 9                          0.0  "
      ],
      "text/html": [
       "<div>\n",
       "<style scoped>\n",
       "    .dataframe tbody tr th:only-of-type {\n",
       "        vertical-align: middle;\n",
       "    }\n",
       "\n",
       "    .dataframe tbody tr th {\n",
       "        vertical-align: top;\n",
       "    }\n",
       "\n",
       "    .dataframe thead th {\n",
       "        text-align: right;\n",
       "    }\n",
       "</style>\n",
       "<table border=\"1\" class=\"dataframe\">\n",
       "  <thead>\n",
       "    <tr style=\"text-align: right;\">\n",
       "      <th></th>\n",
       "      <th></th>\n",
       "      <th></th>\n",
       "      <th>bid_price1</th>\n",
       "      <th>ask_price1</th>\n",
       "      <th>bid_price2</th>\n",
       "      <th>ask_price2</th>\n",
       "      <th>bid_size1</th>\n",
       "      <th>ask_size1</th>\n",
       "      <th>bid_size2</th>\n",
       "      <th>ask_size2</th>\n",
       "      <th>price</th>\n",
       "      <th>size</th>\n",
       "      <th>order_count</th>\n",
       "    </tr>\n",
       "    <tr>\n",
       "      <th>time_id</th>\n",
       "      <th>stock_id</th>\n",
       "      <th>seconds_in_bucket</th>\n",
       "      <th></th>\n",
       "      <th></th>\n",
       "      <th></th>\n",
       "      <th></th>\n",
       "      <th></th>\n",
       "      <th></th>\n",
       "      <th></th>\n",
       "      <th></th>\n",
       "      <th></th>\n",
       "      <th></th>\n",
       "      <th></th>\n",
       "    </tr>\n",
       "  </thead>\n",
       "  <tbody>\n",
       "    <tr>\n",
       "      <th rowspan=\"10\" valign=\"top\">5</th>\n",
       "      <th rowspan=\"10\" valign=\"top\">2</th>\n",
       "      <th>0</th>\n",
       "      <td>1.000607</td>\n",
       "      <td>1.000769</td>\n",
       "      <td>1.000526</td>\n",
       "      <td>1.000850</td>\n",
       "      <td>100.0</td>\n",
       "      <td>200.0</td>\n",
       "      <td>1.0</td>\n",
       "      <td>1.0</td>\n",
       "      <td>1.000688</td>\n",
       "      <td>101.0</td>\n",
       "      <td>2.0</td>\n",
       "    </tr>\n",
       "    <tr>\n",
       "      <th>1</th>\n",
       "      <td>1.000526</td>\n",
       "      <td>1.000769</td>\n",
       "      <td>1.000445</td>\n",
       "      <td>1.000850</td>\n",
       "      <td>1.0</td>\n",
       "      <td>200.0</td>\n",
       "      <td>100.0</td>\n",
       "      <td>101.0</td>\n",
       "      <td>NaN</td>\n",
       "      <td>0.0</td>\n",
       "      <td>0.0</td>\n",
       "    </tr>\n",
       "    <tr>\n",
       "      <th>2</th>\n",
       "      <td>1.000526</td>\n",
       "      <td>1.000769</td>\n",
       "      <td>1.000364</td>\n",
       "      <td>1.000850</td>\n",
       "      <td>1.0</td>\n",
       "      <td>300.0</td>\n",
       "      <td>112.0</td>\n",
       "      <td>101.0</td>\n",
       "      <td>NaN</td>\n",
       "      <td>0.0</td>\n",
       "      <td>0.0</td>\n",
       "    </tr>\n",
       "    <tr>\n",
       "      <th>3</th>\n",
       "      <td>1.000607</td>\n",
       "      <td>1.000769</td>\n",
       "      <td>1.000526</td>\n",
       "      <td>1.000850</td>\n",
       "      <td>100.0</td>\n",
       "      <td>300.0</td>\n",
       "      <td>1.0</td>\n",
       "      <td>1.0</td>\n",
       "      <td>NaN</td>\n",
       "      <td>0.0</td>\n",
       "      <td>0.0</td>\n",
       "    </tr>\n",
       "    <tr>\n",
       "      <th>4</th>\n",
       "      <td>1.000526</td>\n",
       "      <td>1.000769</td>\n",
       "      <td>1.000445</td>\n",
       "      <td>1.000850</td>\n",
       "      <td>1.0</td>\n",
       "      <td>300.0</td>\n",
       "      <td>300.0</td>\n",
       "      <td>101.0</td>\n",
       "      <td>NaN</td>\n",
       "      <td>0.0</td>\n",
       "      <td>0.0</td>\n",
       "    </tr>\n",
       "    <tr>\n",
       "      <th>5</th>\n",
       "      <td>1.000445</td>\n",
       "      <td>1.000607</td>\n",
       "      <td>1.000364</td>\n",
       "      <td>1.000688</td>\n",
       "      <td>101.0</td>\n",
       "      <td>100.0</td>\n",
       "      <td>112.0</td>\n",
       "      <td>101.0</td>\n",
       "      <td>1.000607</td>\n",
       "      <td>3.0</td>\n",
       "      <td>2.0</td>\n",
       "    </tr>\n",
       "    <tr>\n",
       "      <th>6</th>\n",
       "      <td>1.000607</td>\n",
       "      <td>1.000688</td>\n",
       "      <td>1.000526</td>\n",
       "      <td>1.000769</td>\n",
       "      <td>1.0</td>\n",
       "      <td>100.0</td>\n",
       "      <td>300.0</td>\n",
       "      <td>200.0</td>\n",
       "      <td>NaN</td>\n",
       "      <td>0.0</td>\n",
       "      <td>0.0</td>\n",
       "    </tr>\n",
       "    <tr>\n",
       "      <th>7</th>\n",
       "      <td>1.000526</td>\n",
       "      <td>1.000688</td>\n",
       "      <td>1.000445</td>\n",
       "      <td>1.000769</td>\n",
       "      <td>100.0</td>\n",
       "      <td>100.0</td>\n",
       "      <td>1.0</td>\n",
       "      <td>300.0</td>\n",
       "      <td>NaN</td>\n",
       "      <td>0.0</td>\n",
       "      <td>0.0</td>\n",
       "    </tr>\n",
       "    <tr>\n",
       "      <th>8</th>\n",
       "      <td>1.000445</td>\n",
       "      <td>1.000526</td>\n",
       "      <td>1.000364</td>\n",
       "      <td>1.000607</td>\n",
       "      <td>1.0</td>\n",
       "      <td>101.0</td>\n",
       "      <td>213.0</td>\n",
       "      <td>401.0</td>\n",
       "      <td>1.000526</td>\n",
       "      <td>100.0</td>\n",
       "      <td>1.0</td>\n",
       "    </tr>\n",
       "    <tr>\n",
       "      <th>9</th>\n",
       "      <td>1.000445</td>\n",
       "      <td>1.000526</td>\n",
       "      <td>1.000364</td>\n",
       "      <td>1.000607</td>\n",
       "      <td>101.0</td>\n",
       "      <td>1.0</td>\n",
       "      <td>213.0</td>\n",
       "      <td>201.0</td>\n",
       "      <td>NaN</td>\n",
       "      <td>0.0</td>\n",
       "      <td>0.0</td>\n",
       "    </tr>\n",
       "  </tbody>\n",
       "</table>\n",
       "</div>"
      ]
     },
     "metadata": {},
     "execution_count": 123
    }
   ],
   "metadata": {}
  },
  {
   "cell_type": "code",
   "execution_count": 173,
   "source": [
    "s2.loc[32767,2,:].head(10)"
   ],
   "outputs": [
    {
     "output_type": "execute_result",
     "data": {
      "text/plain": [
       "                                    bid_price1  ask_price1  bid_price2  \\\n",
       "time_id stock_id seconds_in_bucket                                       \n",
       "32767   2        0                    0.999298    0.999454    0.999220   \n",
       "                 1                    0.999298    0.999454    0.999220   \n",
       "                 2                         NaN         NaN         NaN   \n",
       "                 3                    0.999298    0.999376    0.999220   \n",
       "                 4                    0.999298    0.999376    0.999220   \n",
       "                 5                    0.999298    0.999376    0.999220   \n",
       "                 6                    0.999220    0.999298    0.999143   \n",
       "                 7                    0.999220    0.999298    0.999143   \n",
       "                 8                    0.999220    0.999298    0.999143   \n",
       "                 9                    0.999220    0.999298    0.999143   \n",
       "\n",
       "                                    ask_price2  bid_size1  ask_size1  \\\n",
       "time_id stock_id seconds_in_bucket                                     \n",
       "32767   2        0                    0.999532      408.0      300.0   \n",
       "                 1                    0.999532      408.0      400.0   \n",
       "                 2                         NaN        NaN        NaN   \n",
       "                 3                    0.999454      108.0      300.0   \n",
       "                 4                    0.999454      308.0      200.0   \n",
       "                 5                    0.999454      208.0      200.0   \n",
       "                 6                    0.999376      118.0      200.0   \n",
       "                 7                    0.999376      108.0      300.0   \n",
       "                 8                    0.999376      108.0      200.0   \n",
       "                 9                    0.999376      208.0      200.0   \n",
       "\n",
       "                                    bid_size2  ask_size2     price   size  \\\n",
       "time_id stock_id seconds_in_bucket                                          \n",
       "32767   2        0                      600.0      500.0  0.999298    0.0   \n",
       "                 1                      600.0      500.0       NaN    0.0   \n",
       "                 2                        NaN        NaN       NaN    0.0   \n",
       "                 3                      600.0      600.0       NaN    0.0   \n",
       "                 4                      600.0      600.0  0.999298   99.0   \n",
       "                 5                      600.0      800.0       NaN    0.0   \n",
       "                 6                      400.0      400.0  0.999298  308.0   \n",
       "                 7                      400.0      600.0       NaN    0.0   \n",
       "                 8                      400.0      700.0       NaN    0.0   \n",
       "                 9                      400.0      700.0       NaN    0.0   \n",
       "\n",
       "                                    order_count  \n",
       "time_id stock_id seconds_in_bucket               \n",
       "32767   2        0                          0.0  \n",
       "                 1                          0.0  \n",
       "                 2                          0.0  \n",
       "                 3                          0.0  \n",
       "                 4                          1.0  \n",
       "                 5                          0.0  \n",
       "                 6                          6.0  \n",
       "                 7                          0.0  \n",
       "                 8                          0.0  \n",
       "                 9                          0.0  "
      ],
      "text/html": [
       "<div>\n",
       "<style scoped>\n",
       "    .dataframe tbody tr th:only-of-type {\n",
       "        vertical-align: middle;\n",
       "    }\n",
       "\n",
       "    .dataframe tbody tr th {\n",
       "        vertical-align: top;\n",
       "    }\n",
       "\n",
       "    .dataframe thead th {\n",
       "        text-align: right;\n",
       "    }\n",
       "</style>\n",
       "<table border=\"1\" class=\"dataframe\">\n",
       "  <thead>\n",
       "    <tr style=\"text-align: right;\">\n",
       "      <th></th>\n",
       "      <th></th>\n",
       "      <th></th>\n",
       "      <th>bid_price1</th>\n",
       "      <th>ask_price1</th>\n",
       "      <th>bid_price2</th>\n",
       "      <th>ask_price2</th>\n",
       "      <th>bid_size1</th>\n",
       "      <th>ask_size1</th>\n",
       "      <th>bid_size2</th>\n",
       "      <th>ask_size2</th>\n",
       "      <th>price</th>\n",
       "      <th>size</th>\n",
       "      <th>order_count</th>\n",
       "    </tr>\n",
       "    <tr>\n",
       "      <th>time_id</th>\n",
       "      <th>stock_id</th>\n",
       "      <th>seconds_in_bucket</th>\n",
       "      <th></th>\n",
       "      <th></th>\n",
       "      <th></th>\n",
       "      <th></th>\n",
       "      <th></th>\n",
       "      <th></th>\n",
       "      <th></th>\n",
       "      <th></th>\n",
       "      <th></th>\n",
       "      <th></th>\n",
       "      <th></th>\n",
       "    </tr>\n",
       "  </thead>\n",
       "  <tbody>\n",
       "    <tr>\n",
       "      <th rowspan=\"10\" valign=\"top\">32767</th>\n",
       "      <th rowspan=\"10\" valign=\"top\">2</th>\n",
       "      <th>0</th>\n",
       "      <td>0.999298</td>\n",
       "      <td>0.999454</td>\n",
       "      <td>0.999220</td>\n",
       "      <td>0.999532</td>\n",
       "      <td>408.0</td>\n",
       "      <td>300.0</td>\n",
       "      <td>600.0</td>\n",
       "      <td>500.0</td>\n",
       "      <td>0.999298</td>\n",
       "      <td>0.0</td>\n",
       "      <td>0.0</td>\n",
       "    </tr>\n",
       "    <tr>\n",
       "      <th>1</th>\n",
       "      <td>0.999298</td>\n",
       "      <td>0.999454</td>\n",
       "      <td>0.999220</td>\n",
       "      <td>0.999532</td>\n",
       "      <td>408.0</td>\n",
       "      <td>400.0</td>\n",
       "      <td>600.0</td>\n",
       "      <td>500.0</td>\n",
       "      <td>NaN</td>\n",
       "      <td>0.0</td>\n",
       "      <td>0.0</td>\n",
       "    </tr>\n",
       "    <tr>\n",
       "      <th>2</th>\n",
       "      <td>NaN</td>\n",
       "      <td>NaN</td>\n",
       "      <td>NaN</td>\n",
       "      <td>NaN</td>\n",
       "      <td>NaN</td>\n",
       "      <td>NaN</td>\n",
       "      <td>NaN</td>\n",
       "      <td>NaN</td>\n",
       "      <td>NaN</td>\n",
       "      <td>0.0</td>\n",
       "      <td>0.0</td>\n",
       "    </tr>\n",
       "    <tr>\n",
       "      <th>3</th>\n",
       "      <td>0.999298</td>\n",
       "      <td>0.999376</td>\n",
       "      <td>0.999220</td>\n",
       "      <td>0.999454</td>\n",
       "      <td>108.0</td>\n",
       "      <td>300.0</td>\n",
       "      <td>600.0</td>\n",
       "      <td>600.0</td>\n",
       "      <td>NaN</td>\n",
       "      <td>0.0</td>\n",
       "      <td>0.0</td>\n",
       "    </tr>\n",
       "    <tr>\n",
       "      <th>4</th>\n",
       "      <td>0.999298</td>\n",
       "      <td>0.999376</td>\n",
       "      <td>0.999220</td>\n",
       "      <td>0.999454</td>\n",
       "      <td>308.0</td>\n",
       "      <td>200.0</td>\n",
       "      <td>600.0</td>\n",
       "      <td>600.0</td>\n",
       "      <td>0.999298</td>\n",
       "      <td>99.0</td>\n",
       "      <td>1.0</td>\n",
       "    </tr>\n",
       "    <tr>\n",
       "      <th>5</th>\n",
       "      <td>0.999298</td>\n",
       "      <td>0.999376</td>\n",
       "      <td>0.999220</td>\n",
       "      <td>0.999454</td>\n",
       "      <td>208.0</td>\n",
       "      <td>200.0</td>\n",
       "      <td>600.0</td>\n",
       "      <td>800.0</td>\n",
       "      <td>NaN</td>\n",
       "      <td>0.0</td>\n",
       "      <td>0.0</td>\n",
       "    </tr>\n",
       "    <tr>\n",
       "      <th>6</th>\n",
       "      <td>0.999220</td>\n",
       "      <td>0.999298</td>\n",
       "      <td>0.999143</td>\n",
       "      <td>0.999376</td>\n",
       "      <td>118.0</td>\n",
       "      <td>200.0</td>\n",
       "      <td>400.0</td>\n",
       "      <td>400.0</td>\n",
       "      <td>0.999298</td>\n",
       "      <td>308.0</td>\n",
       "      <td>6.0</td>\n",
       "    </tr>\n",
       "    <tr>\n",
       "      <th>7</th>\n",
       "      <td>0.999220</td>\n",
       "      <td>0.999298</td>\n",
       "      <td>0.999143</td>\n",
       "      <td>0.999376</td>\n",
       "      <td>108.0</td>\n",
       "      <td>300.0</td>\n",
       "      <td>400.0</td>\n",
       "      <td>600.0</td>\n",
       "      <td>NaN</td>\n",
       "      <td>0.0</td>\n",
       "      <td>0.0</td>\n",
       "    </tr>\n",
       "    <tr>\n",
       "      <th>8</th>\n",
       "      <td>0.999220</td>\n",
       "      <td>0.999298</td>\n",
       "      <td>0.999143</td>\n",
       "      <td>0.999376</td>\n",
       "      <td>108.0</td>\n",
       "      <td>200.0</td>\n",
       "      <td>400.0</td>\n",
       "      <td>700.0</td>\n",
       "      <td>NaN</td>\n",
       "      <td>0.0</td>\n",
       "      <td>0.0</td>\n",
       "    </tr>\n",
       "    <tr>\n",
       "      <th>9</th>\n",
       "      <td>0.999220</td>\n",
       "      <td>0.999298</td>\n",
       "      <td>0.999143</td>\n",
       "      <td>0.999376</td>\n",
       "      <td>208.0</td>\n",
       "      <td>200.0</td>\n",
       "      <td>400.0</td>\n",
       "      <td>700.0</td>\n",
       "      <td>NaN</td>\n",
       "      <td>0.0</td>\n",
       "      <td>0.0</td>\n",
       "    </tr>\n",
       "  </tbody>\n",
       "</table>\n",
       "</div>"
      ]
     },
     "metadata": {},
     "execution_count": 173
    }
   ],
   "metadata": {}
  },
  {
   "cell_type": "code",
   "execution_count": 174,
   "source": [
    "s2.loc[32767,68,:].head(10)"
   ],
   "outputs": [
    {
     "output_type": "execute_result",
     "data": {
      "text/plain": [
       "                                    bid_price1  ask_price1  bid_price2  \\\n",
       "time_id stock_id seconds_in_bucket                                       \n",
       "32767   68       0                    1.000636    1.000764    1.000509   \n",
       "                 1                         NaN         NaN         NaN   \n",
       "                 2                    1.000636    1.000764    1.000509   \n",
       "                 3                         NaN         NaN         NaN   \n",
       "                 4                    1.000636    1.000764    1.000509   \n",
       "                 5                         NaN         NaN         NaN   \n",
       "                 6                    1.000764    1.000891    1.000636   \n",
       "                 7                    1.000764    1.000891    1.000636   \n",
       "                 8                         NaN         NaN         NaN   \n",
       "                 9                    1.000764    1.000891    1.000636   \n",
       "\n",
       "                                    ask_price2  bid_size1  ask_size1  \\\n",
       "time_id stock_id seconds_in_bucket                                     \n",
       "32767   68       0                    1.000891      300.0      211.0   \n",
       "                 1                         NaN        NaN        NaN   \n",
       "                 2                    1.000891      300.0      311.0   \n",
       "                 3                         NaN        NaN        NaN   \n",
       "                 4                    1.000891      300.0      311.0   \n",
       "                 5                         NaN        NaN        NaN   \n",
       "                 6                    1.001145      100.0      207.0   \n",
       "                 7                    1.001018      100.0      207.0   \n",
       "                 8                         NaN        NaN        NaN   \n",
       "                 9                    1.001145      300.0      207.0   \n",
       "\n",
       "                                    bid_size2  ask_size2     price   size  \\\n",
       "time_id stock_id seconds_in_bucket                                          \n",
       "32767   68       0                      400.0        8.0  1.000764    0.0   \n",
       "                 1                        NaN        NaN       NaN    0.0   \n",
       "                 2                      400.0        8.0       NaN    0.0   \n",
       "                 3                        NaN        NaN       NaN    0.0   \n",
       "                 4                      400.0      108.0       NaN    0.0   \n",
       "                 5                        NaN        NaN       NaN    0.0   \n",
       "                 6                      600.0      120.0  1.000764  311.0   \n",
       "                 7                      500.0      100.0       NaN    0.0   \n",
       "                 8                        NaN        NaN       NaN    0.0   \n",
       "                 9                      600.0      120.0       NaN    0.0   \n",
       "\n",
       "                                    order_count  \n",
       "time_id stock_id seconds_in_bucket               \n",
       "32767   68       0                          0.0  \n",
       "                 1                          0.0  \n",
       "                 2                          0.0  \n",
       "                 3                          0.0  \n",
       "                 4                          0.0  \n",
       "                 5                          0.0  \n",
       "                 6                          5.0  \n",
       "                 7                          0.0  \n",
       "                 8                          0.0  \n",
       "                 9                          0.0  "
      ],
      "text/html": [
       "<div>\n",
       "<style scoped>\n",
       "    .dataframe tbody tr th:only-of-type {\n",
       "        vertical-align: middle;\n",
       "    }\n",
       "\n",
       "    .dataframe tbody tr th {\n",
       "        vertical-align: top;\n",
       "    }\n",
       "\n",
       "    .dataframe thead th {\n",
       "        text-align: right;\n",
       "    }\n",
       "</style>\n",
       "<table border=\"1\" class=\"dataframe\">\n",
       "  <thead>\n",
       "    <tr style=\"text-align: right;\">\n",
       "      <th></th>\n",
       "      <th></th>\n",
       "      <th></th>\n",
       "      <th>bid_price1</th>\n",
       "      <th>ask_price1</th>\n",
       "      <th>bid_price2</th>\n",
       "      <th>ask_price2</th>\n",
       "      <th>bid_size1</th>\n",
       "      <th>ask_size1</th>\n",
       "      <th>bid_size2</th>\n",
       "      <th>ask_size2</th>\n",
       "      <th>price</th>\n",
       "      <th>size</th>\n",
       "      <th>order_count</th>\n",
       "    </tr>\n",
       "    <tr>\n",
       "      <th>time_id</th>\n",
       "      <th>stock_id</th>\n",
       "      <th>seconds_in_bucket</th>\n",
       "      <th></th>\n",
       "      <th></th>\n",
       "      <th></th>\n",
       "      <th></th>\n",
       "      <th></th>\n",
       "      <th></th>\n",
       "      <th></th>\n",
       "      <th></th>\n",
       "      <th></th>\n",
       "      <th></th>\n",
       "      <th></th>\n",
       "    </tr>\n",
       "  </thead>\n",
       "  <tbody>\n",
       "    <tr>\n",
       "      <th rowspan=\"10\" valign=\"top\">32767</th>\n",
       "      <th rowspan=\"10\" valign=\"top\">68</th>\n",
       "      <th>0</th>\n",
       "      <td>1.000636</td>\n",
       "      <td>1.000764</td>\n",
       "      <td>1.000509</td>\n",
       "      <td>1.000891</td>\n",
       "      <td>300.0</td>\n",
       "      <td>211.0</td>\n",
       "      <td>400.0</td>\n",
       "      <td>8.0</td>\n",
       "      <td>1.000764</td>\n",
       "      <td>0.0</td>\n",
       "      <td>0.0</td>\n",
       "    </tr>\n",
       "    <tr>\n",
       "      <th>1</th>\n",
       "      <td>NaN</td>\n",
       "      <td>NaN</td>\n",
       "      <td>NaN</td>\n",
       "      <td>NaN</td>\n",
       "      <td>NaN</td>\n",
       "      <td>NaN</td>\n",
       "      <td>NaN</td>\n",
       "      <td>NaN</td>\n",
       "      <td>NaN</td>\n",
       "      <td>0.0</td>\n",
       "      <td>0.0</td>\n",
       "    </tr>\n",
       "    <tr>\n",
       "      <th>2</th>\n",
       "      <td>1.000636</td>\n",
       "      <td>1.000764</td>\n",
       "      <td>1.000509</td>\n",
       "      <td>1.000891</td>\n",
       "      <td>300.0</td>\n",
       "      <td>311.0</td>\n",
       "      <td>400.0</td>\n",
       "      <td>8.0</td>\n",
       "      <td>NaN</td>\n",
       "      <td>0.0</td>\n",
       "      <td>0.0</td>\n",
       "    </tr>\n",
       "    <tr>\n",
       "      <th>3</th>\n",
       "      <td>NaN</td>\n",
       "      <td>NaN</td>\n",
       "      <td>NaN</td>\n",
       "      <td>NaN</td>\n",
       "      <td>NaN</td>\n",
       "      <td>NaN</td>\n",
       "      <td>NaN</td>\n",
       "      <td>NaN</td>\n",
       "      <td>NaN</td>\n",
       "      <td>0.0</td>\n",
       "      <td>0.0</td>\n",
       "    </tr>\n",
       "    <tr>\n",
       "      <th>4</th>\n",
       "      <td>1.000636</td>\n",
       "      <td>1.000764</td>\n",
       "      <td>1.000509</td>\n",
       "      <td>1.000891</td>\n",
       "      <td>300.0</td>\n",
       "      <td>311.0</td>\n",
       "      <td>400.0</td>\n",
       "      <td>108.0</td>\n",
       "      <td>NaN</td>\n",
       "      <td>0.0</td>\n",
       "      <td>0.0</td>\n",
       "    </tr>\n",
       "    <tr>\n",
       "      <th>5</th>\n",
       "      <td>NaN</td>\n",
       "      <td>NaN</td>\n",
       "      <td>NaN</td>\n",
       "      <td>NaN</td>\n",
       "      <td>NaN</td>\n",
       "      <td>NaN</td>\n",
       "      <td>NaN</td>\n",
       "      <td>NaN</td>\n",
       "      <td>NaN</td>\n",
       "      <td>0.0</td>\n",
       "      <td>0.0</td>\n",
       "    </tr>\n",
       "    <tr>\n",
       "      <th>6</th>\n",
       "      <td>1.000764</td>\n",
       "      <td>1.000891</td>\n",
       "      <td>1.000636</td>\n",
       "      <td>1.001145</td>\n",
       "      <td>100.0</td>\n",
       "      <td>207.0</td>\n",
       "      <td>600.0</td>\n",
       "      <td>120.0</td>\n",
       "      <td>1.000764</td>\n",
       "      <td>311.0</td>\n",
       "      <td>5.0</td>\n",
       "    </tr>\n",
       "    <tr>\n",
       "      <th>7</th>\n",
       "      <td>1.000764</td>\n",
       "      <td>1.000891</td>\n",
       "      <td>1.000636</td>\n",
       "      <td>1.001018</td>\n",
       "      <td>100.0</td>\n",
       "      <td>207.0</td>\n",
       "      <td>500.0</td>\n",
       "      <td>100.0</td>\n",
       "      <td>NaN</td>\n",
       "      <td>0.0</td>\n",
       "      <td>0.0</td>\n",
       "    </tr>\n",
       "    <tr>\n",
       "      <th>8</th>\n",
       "      <td>NaN</td>\n",
       "      <td>NaN</td>\n",
       "      <td>NaN</td>\n",
       "      <td>NaN</td>\n",
       "      <td>NaN</td>\n",
       "      <td>NaN</td>\n",
       "      <td>NaN</td>\n",
       "      <td>NaN</td>\n",
       "      <td>NaN</td>\n",
       "      <td>0.0</td>\n",
       "      <td>0.0</td>\n",
       "    </tr>\n",
       "    <tr>\n",
       "      <th>9</th>\n",
       "      <td>1.000764</td>\n",
       "      <td>1.000891</td>\n",
       "      <td>1.000636</td>\n",
       "      <td>1.001145</td>\n",
       "      <td>300.0</td>\n",
       "      <td>207.0</td>\n",
       "      <td>600.0</td>\n",
       "      <td>120.0</td>\n",
       "      <td>NaN</td>\n",
       "      <td>0.0</td>\n",
       "      <td>0.0</td>\n",
       "    </tr>\n",
       "  </tbody>\n",
       "</table>\n",
       "</div>"
      ]
     },
     "metadata": {},
     "execution_count": 174
    }
   ],
   "metadata": {}
  },
  {
   "cell_type": "code",
   "execution_count": 175,
   "source": [
    "s2.loc[32767,81,:].head(40)"
   ],
   "outputs": [
    {
     "output_type": "execute_result",
     "data": {
      "text/plain": [
       "                                    bid_price1  ask_price1  bid_price2  \\\n",
       "time_id stock_id seconds_in_bucket                                       \n",
       "32767   81       0                    0.998934    0.999645    0.998815   \n",
       "                 1                    0.999052    0.999645    0.998815   \n",
       "                 2                    0.999052    0.999645    0.998815   \n",
       "                 3                    0.998934    0.999645    0.998815   \n",
       "                 4                    0.999052    0.999645    0.998815   \n",
       "                 5                    0.998934    0.999645    0.998815   \n",
       "                 6                    0.999052    0.999645    0.998815   \n",
       "                 7                    0.999052    0.999645    0.998815   \n",
       "                 8                    0.998815    0.999645    0.998697   \n",
       "                 9                    0.998815    0.999645    0.998697   \n",
       "                 10                        NaN         NaN         NaN   \n",
       "                 11                   0.998934    0.999645    0.998815   \n",
       "                 12                   0.998934    0.999645    0.998815   \n",
       "                 13                        NaN         NaN         NaN   \n",
       "                 14                   0.998815    0.999645    0.998697   \n",
       "                 15                   0.998815    0.999645    0.998697   \n",
       "                 16                   0.998815    0.999408    0.998697   \n",
       "                 17                        NaN         NaN         NaN   \n",
       "                 18                   0.998934    0.999408    0.998815   \n",
       "                 19                   0.998934    0.999408    0.998815   \n",
       "                 20                   0.998815    0.999408    0.998697   \n",
       "                 21                        NaN         NaN         NaN   \n",
       "                 22                        NaN         NaN         NaN   \n",
       "                 23                        NaN         NaN         NaN   \n",
       "                 24                        NaN         NaN         NaN   \n",
       "                 25                        NaN         NaN         NaN   \n",
       "                 26                        NaN         NaN         NaN   \n",
       "                 27                        NaN         NaN         NaN   \n",
       "                 28                        NaN         NaN         NaN   \n",
       "                 29                   0.998934    0.999408    0.998815   \n",
       "                 30                        NaN         NaN         NaN   \n",
       "                 31                        NaN         NaN         NaN   \n",
       "                 32                        NaN         NaN         NaN   \n",
       "                 33                        NaN         NaN         NaN   \n",
       "                 34                        NaN         NaN         NaN   \n",
       "                 35                        NaN         NaN         NaN   \n",
       "                 36                        NaN         NaN         NaN   \n",
       "                 37                   0.999052    0.999408    0.998815   \n",
       "                 38                   0.999289    0.999526    0.999171   \n",
       "                 39                   0.999408    0.999882    0.999289   \n",
       "\n",
       "                                    ask_price2  bid_size1  ask_size1  \\\n",
       "time_id stock_id seconds_in_bucket                                     \n",
       "32767   81       0                    0.999763      100.0      200.0   \n",
       "                 1                    0.999763      100.0      237.0   \n",
       "                 2                    0.999763      100.0      237.0   \n",
       "                 3                    0.999763      100.0      237.0   \n",
       "                 4                    0.999763      100.0      237.0   \n",
       "                 5                    0.999763      100.0      237.0   \n",
       "                 6                    0.999763      100.0      237.0   \n",
       "                 7                    0.999763      100.0      237.0   \n",
       "                 8                    0.999763      300.0      237.0   \n",
       "                 9                    0.999763      100.0      237.0   \n",
       "                 10                        NaN        NaN        NaN   \n",
       "                 11                   0.999763      100.0      237.0   \n",
       "                 12                   0.999763      100.0      237.0   \n",
       "                 13                        NaN        NaN        NaN   \n",
       "                 14                   0.999882      200.0      237.0   \n",
       "                 15                   0.999882      100.0      237.0   \n",
       "                 16                   0.999526      200.0      300.0   \n",
       "                 17                        NaN        NaN        NaN   \n",
       "                 18                   0.999526      100.0      300.0   \n",
       "                 19                   0.999526      100.0      337.0   \n",
       "                 20                   0.999526      200.0      437.0   \n",
       "                 21                        NaN        NaN        NaN   \n",
       "                 22                        NaN        NaN        NaN   \n",
       "                 23                        NaN        NaN        NaN   \n",
       "                 24                        NaN        NaN        NaN   \n",
       "                 25                        NaN        NaN        NaN   \n",
       "                 26                        NaN        NaN        NaN   \n",
       "                 27                        NaN        NaN        NaN   \n",
       "                 28                        NaN        NaN        NaN   \n",
       "                 29                   0.999526      100.0      437.0   \n",
       "                 30                        NaN        NaN        NaN   \n",
       "                 31                        NaN        NaN        NaN   \n",
       "                 32                        NaN        NaN        NaN   \n",
       "                 33                        NaN        NaN        NaN   \n",
       "                 34                        NaN        NaN        NaN   \n",
       "                 35                        NaN        NaN        NaN   \n",
       "                 36                        NaN        NaN        NaN   \n",
       "                 37                   0.999526      100.0      237.0   \n",
       "                 38                   0.999882      300.0       45.0   \n",
       "                 39                   1.000118      200.0      200.0   \n",
       "\n",
       "                                    bid_size2  ask_size2     price   size  \\\n",
       "time_id stock_id seconds_in_bucket                                          \n",
       "32767   81       0                      300.0      100.0  0.999430    0.0   \n",
       "                 1                      300.0      100.0       NaN    0.0   \n",
       "                 2                      300.0      100.0       NaN    0.0   \n",
       "                 3                      300.0      100.0       NaN    0.0   \n",
       "                 4                      300.0      100.0       NaN    0.0   \n",
       "                 5                      300.0      100.0       NaN    0.0   \n",
       "                 6                      300.0      100.0       NaN    0.0   \n",
       "                 7                      300.0      100.0       NaN    0.0   \n",
       "                 8                       20.0      100.0       NaN    0.0   \n",
       "                 9                       20.0      100.0       NaN    0.0   \n",
       "                 10                       NaN        NaN       NaN    0.0   \n",
       "                 11                     200.0      100.0       NaN    0.0   \n",
       "                 12                     200.0      100.0       NaN    0.0   \n",
       "                 13                       NaN        NaN       NaN    0.0   \n",
       "                 14                      20.0      600.0       NaN    0.0   \n",
       "                 15                      20.0      600.0       NaN    0.0   \n",
       "                 16                      20.0      300.0       NaN    0.0   \n",
       "                 17                       NaN        NaN       NaN    0.0   \n",
       "                 18                     200.0      300.0       NaN    0.0   \n",
       "                 19                     200.0      300.0       NaN    0.0   \n",
       "                 20                      20.0      300.0       NaN    0.0   \n",
       "                 21                       NaN        NaN       NaN    0.0   \n",
       "                 22                       NaN        NaN       NaN    0.0   \n",
       "                 23                       NaN        NaN       NaN    0.0   \n",
       "                 24                       NaN        NaN       NaN    0.0   \n",
       "                 25                       NaN        NaN       NaN    0.0   \n",
       "                 26                       NaN        NaN       NaN    0.0   \n",
       "                 27                       NaN        NaN       NaN    0.0   \n",
       "                 28                       NaN        NaN       NaN    0.0   \n",
       "                 29                     200.0      300.0       NaN    0.0   \n",
       "                 30                       NaN        NaN       NaN    0.0   \n",
       "                 31                       NaN        NaN       NaN    0.0   \n",
       "                 32                       NaN        NaN       NaN    0.0   \n",
       "                 33                       NaN        NaN       NaN    0.0   \n",
       "                 34                       NaN        NaN       NaN    0.0   \n",
       "                 35                       NaN        NaN       NaN    0.0   \n",
       "                 36                       NaN        NaN       NaN    0.0   \n",
       "                 37                     200.0      300.0       NaN    0.0   \n",
       "                 38                     200.0      300.0  0.999430  292.0   \n",
       "                 39                     200.0      135.0  0.999526   45.0   \n",
       "\n",
       "                                    order_count  \n",
       "time_id stock_id seconds_in_bucket               \n",
       "32767   81       0                          0.0  \n",
       "                 1                          0.0  \n",
       "                 2                          0.0  \n",
       "                 3                          0.0  \n",
       "                 4                          0.0  \n",
       "                 5                          0.0  \n",
       "                 6                          0.0  \n",
       "                 7                          0.0  \n",
       "                 8                          0.0  \n",
       "                 9                          0.0  \n",
       "                 10                         0.0  \n",
       "                 11                         0.0  \n",
       "                 12                         0.0  \n",
       "                 13                         0.0  \n",
       "                 14                         0.0  \n",
       "                 15                         0.0  \n",
       "                 16                         0.0  \n",
       "                 17                         0.0  \n",
       "                 18                         0.0  \n",
       "                 19                         0.0  \n",
       "                 20                         0.0  \n",
       "                 21                         0.0  \n",
       "                 22                         0.0  \n",
       "                 23                         0.0  \n",
       "                 24                         0.0  \n",
       "                 25                         0.0  \n",
       "                 26                         0.0  \n",
       "                 27                         0.0  \n",
       "                 28                         0.0  \n",
       "                 29                         0.0  \n",
       "                 30                         0.0  \n",
       "                 31                         0.0  \n",
       "                 32                         0.0  \n",
       "                 33                         0.0  \n",
       "                 34                         0.0  \n",
       "                 35                         0.0  \n",
       "                 36                         0.0  \n",
       "                 37                         0.0  \n",
       "                 38                         9.0  \n",
       "                 39                         1.0  "
      ],
      "text/html": [
       "<div>\n",
       "<style scoped>\n",
       "    .dataframe tbody tr th:only-of-type {\n",
       "        vertical-align: middle;\n",
       "    }\n",
       "\n",
       "    .dataframe tbody tr th {\n",
       "        vertical-align: top;\n",
       "    }\n",
       "\n",
       "    .dataframe thead th {\n",
       "        text-align: right;\n",
       "    }\n",
       "</style>\n",
       "<table border=\"1\" class=\"dataframe\">\n",
       "  <thead>\n",
       "    <tr style=\"text-align: right;\">\n",
       "      <th></th>\n",
       "      <th></th>\n",
       "      <th></th>\n",
       "      <th>bid_price1</th>\n",
       "      <th>ask_price1</th>\n",
       "      <th>bid_price2</th>\n",
       "      <th>ask_price2</th>\n",
       "      <th>bid_size1</th>\n",
       "      <th>ask_size1</th>\n",
       "      <th>bid_size2</th>\n",
       "      <th>ask_size2</th>\n",
       "      <th>price</th>\n",
       "      <th>size</th>\n",
       "      <th>order_count</th>\n",
       "    </tr>\n",
       "    <tr>\n",
       "      <th>time_id</th>\n",
       "      <th>stock_id</th>\n",
       "      <th>seconds_in_bucket</th>\n",
       "      <th></th>\n",
       "      <th></th>\n",
       "      <th></th>\n",
       "      <th></th>\n",
       "      <th></th>\n",
       "      <th></th>\n",
       "      <th></th>\n",
       "      <th></th>\n",
       "      <th></th>\n",
       "      <th></th>\n",
       "      <th></th>\n",
       "    </tr>\n",
       "  </thead>\n",
       "  <tbody>\n",
       "    <tr>\n",
       "      <th rowspan=\"40\" valign=\"top\">32767</th>\n",
       "      <th rowspan=\"40\" valign=\"top\">81</th>\n",
       "      <th>0</th>\n",
       "      <td>0.998934</td>\n",
       "      <td>0.999645</td>\n",
       "      <td>0.998815</td>\n",
       "      <td>0.999763</td>\n",
       "      <td>100.0</td>\n",
       "      <td>200.0</td>\n",
       "      <td>300.0</td>\n",
       "      <td>100.0</td>\n",
       "      <td>0.999430</td>\n",
       "      <td>0.0</td>\n",
       "      <td>0.0</td>\n",
       "    </tr>\n",
       "    <tr>\n",
       "      <th>1</th>\n",
       "      <td>0.999052</td>\n",
       "      <td>0.999645</td>\n",
       "      <td>0.998815</td>\n",
       "      <td>0.999763</td>\n",
       "      <td>100.0</td>\n",
       "      <td>237.0</td>\n",
       "      <td>300.0</td>\n",
       "      <td>100.0</td>\n",
       "      <td>NaN</td>\n",
       "      <td>0.0</td>\n",
       "      <td>0.0</td>\n",
       "    </tr>\n",
       "    <tr>\n",
       "      <th>2</th>\n",
       "      <td>0.999052</td>\n",
       "      <td>0.999645</td>\n",
       "      <td>0.998815</td>\n",
       "      <td>0.999763</td>\n",
       "      <td>100.0</td>\n",
       "      <td>237.0</td>\n",
       "      <td>300.0</td>\n",
       "      <td>100.0</td>\n",
       "      <td>NaN</td>\n",
       "      <td>0.0</td>\n",
       "      <td>0.0</td>\n",
       "    </tr>\n",
       "    <tr>\n",
       "      <th>3</th>\n",
       "      <td>0.998934</td>\n",
       "      <td>0.999645</td>\n",
       "      <td>0.998815</td>\n",
       "      <td>0.999763</td>\n",
       "      <td>100.0</td>\n",
       "      <td>237.0</td>\n",
       "      <td>300.0</td>\n",
       "      <td>100.0</td>\n",
       "      <td>NaN</td>\n",
       "      <td>0.0</td>\n",
       "      <td>0.0</td>\n",
       "    </tr>\n",
       "    <tr>\n",
       "      <th>4</th>\n",
       "      <td>0.999052</td>\n",
       "      <td>0.999645</td>\n",
       "      <td>0.998815</td>\n",
       "      <td>0.999763</td>\n",
       "      <td>100.0</td>\n",
       "      <td>237.0</td>\n",
       "      <td>300.0</td>\n",
       "      <td>100.0</td>\n",
       "      <td>NaN</td>\n",
       "      <td>0.0</td>\n",
       "      <td>0.0</td>\n",
       "    </tr>\n",
       "    <tr>\n",
       "      <th>5</th>\n",
       "      <td>0.998934</td>\n",
       "      <td>0.999645</td>\n",
       "      <td>0.998815</td>\n",
       "      <td>0.999763</td>\n",
       "      <td>100.0</td>\n",
       "      <td>237.0</td>\n",
       "      <td>300.0</td>\n",
       "      <td>100.0</td>\n",
       "      <td>NaN</td>\n",
       "      <td>0.0</td>\n",
       "      <td>0.0</td>\n",
       "    </tr>\n",
       "    <tr>\n",
       "      <th>6</th>\n",
       "      <td>0.999052</td>\n",
       "      <td>0.999645</td>\n",
       "      <td>0.998815</td>\n",
       "      <td>0.999763</td>\n",
       "      <td>100.0</td>\n",
       "      <td>237.0</td>\n",
       "      <td>300.0</td>\n",
       "      <td>100.0</td>\n",
       "      <td>NaN</td>\n",
       "      <td>0.0</td>\n",
       "      <td>0.0</td>\n",
       "    </tr>\n",
       "    <tr>\n",
       "      <th>7</th>\n",
       "      <td>0.999052</td>\n",
       "      <td>0.999645</td>\n",
       "      <td>0.998815</td>\n",
       "      <td>0.999763</td>\n",
       "      <td>100.0</td>\n",
       "      <td>237.0</td>\n",
       "      <td>300.0</td>\n",
       "      <td>100.0</td>\n",
       "      <td>NaN</td>\n",
       "      <td>0.0</td>\n",
       "      <td>0.0</td>\n",
       "    </tr>\n",
       "    <tr>\n",
       "      <th>8</th>\n",
       "      <td>0.998815</td>\n",
       "      <td>0.999645</td>\n",
       "      <td>0.998697</td>\n",
       "      <td>0.999763</td>\n",
       "      <td>300.0</td>\n",
       "      <td>237.0</td>\n",
       "      <td>20.0</td>\n",
       "      <td>100.0</td>\n",
       "      <td>NaN</td>\n",
       "      <td>0.0</td>\n",
       "      <td>0.0</td>\n",
       "    </tr>\n",
       "    <tr>\n",
       "      <th>9</th>\n",
       "      <td>0.998815</td>\n",
       "      <td>0.999645</td>\n",
       "      <td>0.998697</td>\n",
       "      <td>0.999763</td>\n",
       "      <td>100.0</td>\n",
       "      <td>237.0</td>\n",
       "      <td>20.0</td>\n",
       "      <td>100.0</td>\n",
       "      <td>NaN</td>\n",
       "      <td>0.0</td>\n",
       "      <td>0.0</td>\n",
       "    </tr>\n",
       "    <tr>\n",
       "      <th>10</th>\n",
       "      <td>NaN</td>\n",
       "      <td>NaN</td>\n",
       "      <td>NaN</td>\n",
       "      <td>NaN</td>\n",
       "      <td>NaN</td>\n",
       "      <td>NaN</td>\n",
       "      <td>NaN</td>\n",
       "      <td>NaN</td>\n",
       "      <td>NaN</td>\n",
       "      <td>0.0</td>\n",
       "      <td>0.0</td>\n",
       "    </tr>\n",
       "    <tr>\n",
       "      <th>11</th>\n",
       "      <td>0.998934</td>\n",
       "      <td>0.999645</td>\n",
       "      <td>0.998815</td>\n",
       "      <td>0.999763</td>\n",
       "      <td>100.0</td>\n",
       "      <td>237.0</td>\n",
       "      <td>200.0</td>\n",
       "      <td>100.0</td>\n",
       "      <td>NaN</td>\n",
       "      <td>0.0</td>\n",
       "      <td>0.0</td>\n",
       "    </tr>\n",
       "    <tr>\n",
       "      <th>12</th>\n",
       "      <td>0.998934</td>\n",
       "      <td>0.999645</td>\n",
       "      <td>0.998815</td>\n",
       "      <td>0.999763</td>\n",
       "      <td>100.0</td>\n",
       "      <td>237.0</td>\n",
       "      <td>200.0</td>\n",
       "      <td>100.0</td>\n",
       "      <td>NaN</td>\n",
       "      <td>0.0</td>\n",
       "      <td>0.0</td>\n",
       "    </tr>\n",
       "    <tr>\n",
       "      <th>13</th>\n",
       "      <td>NaN</td>\n",
       "      <td>NaN</td>\n",
       "      <td>NaN</td>\n",
       "      <td>NaN</td>\n",
       "      <td>NaN</td>\n",
       "      <td>NaN</td>\n",
       "      <td>NaN</td>\n",
       "      <td>NaN</td>\n",
       "      <td>NaN</td>\n",
       "      <td>0.0</td>\n",
       "      <td>0.0</td>\n",
       "    </tr>\n",
       "    <tr>\n",
       "      <th>14</th>\n",
       "      <td>0.998815</td>\n",
       "      <td>0.999645</td>\n",
       "      <td>0.998697</td>\n",
       "      <td>0.999882</td>\n",
       "      <td>200.0</td>\n",
       "      <td>237.0</td>\n",
       "      <td>20.0</td>\n",
       "      <td>600.0</td>\n",
       "      <td>NaN</td>\n",
       "      <td>0.0</td>\n",
       "      <td>0.0</td>\n",
       "    </tr>\n",
       "    <tr>\n",
       "      <th>15</th>\n",
       "      <td>0.998815</td>\n",
       "      <td>0.999645</td>\n",
       "      <td>0.998697</td>\n",
       "      <td>0.999882</td>\n",
       "      <td>100.0</td>\n",
       "      <td>237.0</td>\n",
       "      <td>20.0</td>\n",
       "      <td>600.0</td>\n",
       "      <td>NaN</td>\n",
       "      <td>0.0</td>\n",
       "      <td>0.0</td>\n",
       "    </tr>\n",
       "    <tr>\n",
       "      <th>16</th>\n",
       "      <td>0.998815</td>\n",
       "      <td>0.999408</td>\n",
       "      <td>0.998697</td>\n",
       "      <td>0.999526</td>\n",
       "      <td>200.0</td>\n",
       "      <td>300.0</td>\n",
       "      <td>20.0</td>\n",
       "      <td>300.0</td>\n",
       "      <td>NaN</td>\n",
       "      <td>0.0</td>\n",
       "      <td>0.0</td>\n",
       "    </tr>\n",
       "    <tr>\n",
       "      <th>17</th>\n",
       "      <td>NaN</td>\n",
       "      <td>NaN</td>\n",
       "      <td>NaN</td>\n",
       "      <td>NaN</td>\n",
       "      <td>NaN</td>\n",
       "      <td>NaN</td>\n",
       "      <td>NaN</td>\n",
       "      <td>NaN</td>\n",
       "      <td>NaN</td>\n",
       "      <td>0.0</td>\n",
       "      <td>0.0</td>\n",
       "    </tr>\n",
       "    <tr>\n",
       "      <th>18</th>\n",
       "      <td>0.998934</td>\n",
       "      <td>0.999408</td>\n",
       "      <td>0.998815</td>\n",
       "      <td>0.999526</td>\n",
       "      <td>100.0</td>\n",
       "      <td>300.0</td>\n",
       "      <td>200.0</td>\n",
       "      <td>300.0</td>\n",
       "      <td>NaN</td>\n",
       "      <td>0.0</td>\n",
       "      <td>0.0</td>\n",
       "    </tr>\n",
       "    <tr>\n",
       "      <th>19</th>\n",
       "      <td>0.998934</td>\n",
       "      <td>0.999408</td>\n",
       "      <td>0.998815</td>\n",
       "      <td>0.999526</td>\n",
       "      <td>100.0</td>\n",
       "      <td>337.0</td>\n",
       "      <td>200.0</td>\n",
       "      <td>300.0</td>\n",
       "      <td>NaN</td>\n",
       "      <td>0.0</td>\n",
       "      <td>0.0</td>\n",
       "    </tr>\n",
       "    <tr>\n",
       "      <th>20</th>\n",
       "      <td>0.998815</td>\n",
       "      <td>0.999408</td>\n",
       "      <td>0.998697</td>\n",
       "      <td>0.999526</td>\n",
       "      <td>200.0</td>\n",
       "      <td>437.0</td>\n",
       "      <td>20.0</td>\n",
       "      <td>300.0</td>\n",
       "      <td>NaN</td>\n",
       "      <td>0.0</td>\n",
       "      <td>0.0</td>\n",
       "    </tr>\n",
       "    <tr>\n",
       "      <th>21</th>\n",
       "      <td>NaN</td>\n",
       "      <td>NaN</td>\n",
       "      <td>NaN</td>\n",
       "      <td>NaN</td>\n",
       "      <td>NaN</td>\n",
       "      <td>NaN</td>\n",
       "      <td>NaN</td>\n",
       "      <td>NaN</td>\n",
       "      <td>NaN</td>\n",
       "      <td>0.0</td>\n",
       "      <td>0.0</td>\n",
       "    </tr>\n",
       "    <tr>\n",
       "      <th>22</th>\n",
       "      <td>NaN</td>\n",
       "      <td>NaN</td>\n",
       "      <td>NaN</td>\n",
       "      <td>NaN</td>\n",
       "      <td>NaN</td>\n",
       "      <td>NaN</td>\n",
       "      <td>NaN</td>\n",
       "      <td>NaN</td>\n",
       "      <td>NaN</td>\n",
       "      <td>0.0</td>\n",
       "      <td>0.0</td>\n",
       "    </tr>\n",
       "    <tr>\n",
       "      <th>23</th>\n",
       "      <td>NaN</td>\n",
       "      <td>NaN</td>\n",
       "      <td>NaN</td>\n",
       "      <td>NaN</td>\n",
       "      <td>NaN</td>\n",
       "      <td>NaN</td>\n",
       "      <td>NaN</td>\n",
       "      <td>NaN</td>\n",
       "      <td>NaN</td>\n",
       "      <td>0.0</td>\n",
       "      <td>0.0</td>\n",
       "    </tr>\n",
       "    <tr>\n",
       "      <th>24</th>\n",
       "      <td>NaN</td>\n",
       "      <td>NaN</td>\n",
       "      <td>NaN</td>\n",
       "      <td>NaN</td>\n",
       "      <td>NaN</td>\n",
       "      <td>NaN</td>\n",
       "      <td>NaN</td>\n",
       "      <td>NaN</td>\n",
       "      <td>NaN</td>\n",
       "      <td>0.0</td>\n",
       "      <td>0.0</td>\n",
       "    </tr>\n",
       "    <tr>\n",
       "      <th>25</th>\n",
       "      <td>NaN</td>\n",
       "      <td>NaN</td>\n",
       "      <td>NaN</td>\n",
       "      <td>NaN</td>\n",
       "      <td>NaN</td>\n",
       "      <td>NaN</td>\n",
       "      <td>NaN</td>\n",
       "      <td>NaN</td>\n",
       "      <td>NaN</td>\n",
       "      <td>0.0</td>\n",
       "      <td>0.0</td>\n",
       "    </tr>\n",
       "    <tr>\n",
       "      <th>26</th>\n",
       "      <td>NaN</td>\n",
       "      <td>NaN</td>\n",
       "      <td>NaN</td>\n",
       "      <td>NaN</td>\n",
       "      <td>NaN</td>\n",
       "      <td>NaN</td>\n",
       "      <td>NaN</td>\n",
       "      <td>NaN</td>\n",
       "      <td>NaN</td>\n",
       "      <td>0.0</td>\n",
       "      <td>0.0</td>\n",
       "    </tr>\n",
       "    <tr>\n",
       "      <th>27</th>\n",
       "      <td>NaN</td>\n",
       "      <td>NaN</td>\n",
       "      <td>NaN</td>\n",
       "      <td>NaN</td>\n",
       "      <td>NaN</td>\n",
       "      <td>NaN</td>\n",
       "      <td>NaN</td>\n",
       "      <td>NaN</td>\n",
       "      <td>NaN</td>\n",
       "      <td>0.0</td>\n",
       "      <td>0.0</td>\n",
       "    </tr>\n",
       "    <tr>\n",
       "      <th>28</th>\n",
       "      <td>NaN</td>\n",
       "      <td>NaN</td>\n",
       "      <td>NaN</td>\n",
       "      <td>NaN</td>\n",
       "      <td>NaN</td>\n",
       "      <td>NaN</td>\n",
       "      <td>NaN</td>\n",
       "      <td>NaN</td>\n",
       "      <td>NaN</td>\n",
       "      <td>0.0</td>\n",
       "      <td>0.0</td>\n",
       "    </tr>\n",
       "    <tr>\n",
       "      <th>29</th>\n",
       "      <td>0.998934</td>\n",
       "      <td>0.999408</td>\n",
       "      <td>0.998815</td>\n",
       "      <td>0.999526</td>\n",
       "      <td>100.0</td>\n",
       "      <td>437.0</td>\n",
       "      <td>200.0</td>\n",
       "      <td>300.0</td>\n",
       "      <td>NaN</td>\n",
       "      <td>0.0</td>\n",
       "      <td>0.0</td>\n",
       "    </tr>\n",
       "    <tr>\n",
       "      <th>30</th>\n",
       "      <td>NaN</td>\n",
       "      <td>NaN</td>\n",
       "      <td>NaN</td>\n",
       "      <td>NaN</td>\n",
       "      <td>NaN</td>\n",
       "      <td>NaN</td>\n",
       "      <td>NaN</td>\n",
       "      <td>NaN</td>\n",
       "      <td>NaN</td>\n",
       "      <td>0.0</td>\n",
       "      <td>0.0</td>\n",
       "    </tr>\n",
       "    <tr>\n",
       "      <th>31</th>\n",
       "      <td>NaN</td>\n",
       "      <td>NaN</td>\n",
       "      <td>NaN</td>\n",
       "      <td>NaN</td>\n",
       "      <td>NaN</td>\n",
       "      <td>NaN</td>\n",
       "      <td>NaN</td>\n",
       "      <td>NaN</td>\n",
       "      <td>NaN</td>\n",
       "      <td>0.0</td>\n",
       "      <td>0.0</td>\n",
       "    </tr>\n",
       "    <tr>\n",
       "      <th>32</th>\n",
       "      <td>NaN</td>\n",
       "      <td>NaN</td>\n",
       "      <td>NaN</td>\n",
       "      <td>NaN</td>\n",
       "      <td>NaN</td>\n",
       "      <td>NaN</td>\n",
       "      <td>NaN</td>\n",
       "      <td>NaN</td>\n",
       "      <td>NaN</td>\n",
       "      <td>0.0</td>\n",
       "      <td>0.0</td>\n",
       "    </tr>\n",
       "    <tr>\n",
       "      <th>33</th>\n",
       "      <td>NaN</td>\n",
       "      <td>NaN</td>\n",
       "      <td>NaN</td>\n",
       "      <td>NaN</td>\n",
       "      <td>NaN</td>\n",
       "      <td>NaN</td>\n",
       "      <td>NaN</td>\n",
       "      <td>NaN</td>\n",
       "      <td>NaN</td>\n",
       "      <td>0.0</td>\n",
       "      <td>0.0</td>\n",
       "    </tr>\n",
       "    <tr>\n",
       "      <th>34</th>\n",
       "      <td>NaN</td>\n",
       "      <td>NaN</td>\n",
       "      <td>NaN</td>\n",
       "      <td>NaN</td>\n",
       "      <td>NaN</td>\n",
       "      <td>NaN</td>\n",
       "      <td>NaN</td>\n",
       "      <td>NaN</td>\n",
       "      <td>NaN</td>\n",
       "      <td>0.0</td>\n",
       "      <td>0.0</td>\n",
       "    </tr>\n",
       "    <tr>\n",
       "      <th>35</th>\n",
       "      <td>NaN</td>\n",
       "      <td>NaN</td>\n",
       "      <td>NaN</td>\n",
       "      <td>NaN</td>\n",
       "      <td>NaN</td>\n",
       "      <td>NaN</td>\n",
       "      <td>NaN</td>\n",
       "      <td>NaN</td>\n",
       "      <td>NaN</td>\n",
       "      <td>0.0</td>\n",
       "      <td>0.0</td>\n",
       "    </tr>\n",
       "    <tr>\n",
       "      <th>36</th>\n",
       "      <td>NaN</td>\n",
       "      <td>NaN</td>\n",
       "      <td>NaN</td>\n",
       "      <td>NaN</td>\n",
       "      <td>NaN</td>\n",
       "      <td>NaN</td>\n",
       "      <td>NaN</td>\n",
       "      <td>NaN</td>\n",
       "      <td>NaN</td>\n",
       "      <td>0.0</td>\n",
       "      <td>0.0</td>\n",
       "    </tr>\n",
       "    <tr>\n",
       "      <th>37</th>\n",
       "      <td>0.999052</td>\n",
       "      <td>0.999408</td>\n",
       "      <td>0.998815</td>\n",
       "      <td>0.999526</td>\n",
       "      <td>100.0</td>\n",
       "      <td>237.0</td>\n",
       "      <td>200.0</td>\n",
       "      <td>300.0</td>\n",
       "      <td>NaN</td>\n",
       "      <td>0.0</td>\n",
       "      <td>0.0</td>\n",
       "    </tr>\n",
       "    <tr>\n",
       "      <th>38</th>\n",
       "      <td>0.999289</td>\n",
       "      <td>0.999526</td>\n",
       "      <td>0.999171</td>\n",
       "      <td>0.999882</td>\n",
       "      <td>300.0</td>\n",
       "      <td>45.0</td>\n",
       "      <td>200.0</td>\n",
       "      <td>300.0</td>\n",
       "      <td>0.999430</td>\n",
       "      <td>292.0</td>\n",
       "      <td>9.0</td>\n",
       "    </tr>\n",
       "    <tr>\n",
       "      <th>39</th>\n",
       "      <td>0.999408</td>\n",
       "      <td>0.999882</td>\n",
       "      <td>0.999289</td>\n",
       "      <td>1.000118</td>\n",
       "      <td>200.0</td>\n",
       "      <td>200.0</td>\n",
       "      <td>200.0</td>\n",
       "      <td>135.0</td>\n",
       "      <td>0.999526</td>\n",
       "      <td>45.0</td>\n",
       "      <td>1.0</td>\n",
       "    </tr>\n",
       "  </tbody>\n",
       "</table>\n",
       "</div>"
      ]
     },
     "metadata": {},
     "execution_count": 175
    }
   ],
   "metadata": {}
  },
  {
   "cell_type": "code",
   "execution_count": 110,
   "source": [
    "s2.loc[32767,100,:].head(1)"
   ],
   "outputs": [
    {
     "output_type": "execute_result",
     "data": {
      "text/plain": [
       "                                    bid_price1  ask_price1  bid_price2  \\\n",
       "time_id stock_id seconds_in_bucket                                       \n",
       "32767   100      0                    0.999429    0.999772    0.999315   \n",
       "\n",
       "                                    ask_price2  bid_size1  ask_size1  \\\n",
       "time_id stock_id seconds_in_bucket                                     \n",
       "32767   100      0                    0.999886      200.0      200.0   \n",
       "\n",
       "                                    bid_size2  ask_size2     price   size  \\\n",
       "time_id stock_id seconds_in_bucket                                          \n",
       "32767   100      0                      200.0       41.0  0.999315  102.0   \n",
       "\n",
       "                                    order_count  \n",
       "time_id stock_id seconds_in_bucket               \n",
       "32767   100      0                          2.0  "
      ],
      "text/html": [
       "<div>\n",
       "<style scoped>\n",
       "    .dataframe tbody tr th:only-of-type {\n",
       "        vertical-align: middle;\n",
       "    }\n",
       "\n",
       "    .dataframe tbody tr th {\n",
       "        vertical-align: top;\n",
       "    }\n",
       "\n",
       "    .dataframe thead th {\n",
       "        text-align: right;\n",
       "    }\n",
       "</style>\n",
       "<table border=\"1\" class=\"dataframe\">\n",
       "  <thead>\n",
       "    <tr style=\"text-align: right;\">\n",
       "      <th></th>\n",
       "      <th></th>\n",
       "      <th></th>\n",
       "      <th>bid_price1</th>\n",
       "      <th>ask_price1</th>\n",
       "      <th>bid_price2</th>\n",
       "      <th>ask_price2</th>\n",
       "      <th>bid_size1</th>\n",
       "      <th>ask_size1</th>\n",
       "      <th>bid_size2</th>\n",
       "      <th>ask_size2</th>\n",
       "      <th>price</th>\n",
       "      <th>size</th>\n",
       "      <th>order_count</th>\n",
       "    </tr>\n",
       "    <tr>\n",
       "      <th>time_id</th>\n",
       "      <th>stock_id</th>\n",
       "      <th>seconds_in_bucket</th>\n",
       "      <th></th>\n",
       "      <th></th>\n",
       "      <th></th>\n",
       "      <th></th>\n",
       "      <th></th>\n",
       "      <th></th>\n",
       "      <th></th>\n",
       "      <th></th>\n",
       "      <th></th>\n",
       "      <th></th>\n",
       "      <th></th>\n",
       "    </tr>\n",
       "  </thead>\n",
       "  <tbody>\n",
       "    <tr>\n",
       "      <th>32767</th>\n",
       "      <th>100</th>\n",
       "      <th>0</th>\n",
       "      <td>0.999429</td>\n",
       "      <td>0.999772</td>\n",
       "      <td>0.999315</td>\n",
       "      <td>0.999886</td>\n",
       "      <td>200.0</td>\n",
       "      <td>200.0</td>\n",
       "      <td>200.0</td>\n",
       "      <td>41.0</td>\n",
       "      <td>0.999315</td>\n",
       "      <td>102.0</td>\n",
       "      <td>2.0</td>\n",
       "    </tr>\n",
       "  </tbody>\n",
       "</table>\n",
       "</div>"
      ]
     },
     "metadata": {},
     "execution_count": 110
    }
   ],
   "metadata": {}
  },
  {
   "cell_type": "code",
   "execution_count": 111,
   "source": [
    "s2.loc[32767,111,:].head(1)"
   ],
   "outputs": [
    {
     "output_type": "execute_result",
     "data": {
      "text/plain": [
       "                                    bid_price1  ask_price1  bid_price2  \\\n",
       "time_id stock_id seconds_in_bucket                                       \n",
       "32767   111      0                    0.999899    1.000101    0.999697   \n",
       "\n",
       "                                    ask_price2  bid_size1  ask_size1  \\\n",
       "time_id stock_id seconds_in_bucket                                     \n",
       "32767   111      0                    1.000303     3033.0      964.0   \n",
       "\n",
       "                                    bid_size2  ask_size2     price  size  \\\n",
       "time_id stock_id seconds_in_bucket                                         \n",
       "32767   111      0                     2502.0     4600.0  1.000101  63.0   \n",
       "\n",
       "                                    order_count  \n",
       "time_id stock_id seconds_in_bucket               \n",
       "32767   111      0                          1.0  "
      ],
      "text/html": [
       "<div>\n",
       "<style scoped>\n",
       "    .dataframe tbody tr th:only-of-type {\n",
       "        vertical-align: middle;\n",
       "    }\n",
       "\n",
       "    .dataframe tbody tr th {\n",
       "        vertical-align: top;\n",
       "    }\n",
       "\n",
       "    .dataframe thead th {\n",
       "        text-align: right;\n",
       "    }\n",
       "</style>\n",
       "<table border=\"1\" class=\"dataframe\">\n",
       "  <thead>\n",
       "    <tr style=\"text-align: right;\">\n",
       "      <th></th>\n",
       "      <th></th>\n",
       "      <th></th>\n",
       "      <th>bid_price1</th>\n",
       "      <th>ask_price1</th>\n",
       "      <th>bid_price2</th>\n",
       "      <th>ask_price2</th>\n",
       "      <th>bid_size1</th>\n",
       "      <th>ask_size1</th>\n",
       "      <th>bid_size2</th>\n",
       "      <th>ask_size2</th>\n",
       "      <th>price</th>\n",
       "      <th>size</th>\n",
       "      <th>order_count</th>\n",
       "    </tr>\n",
       "    <tr>\n",
       "      <th>time_id</th>\n",
       "      <th>stock_id</th>\n",
       "      <th>seconds_in_bucket</th>\n",
       "      <th></th>\n",
       "      <th></th>\n",
       "      <th></th>\n",
       "      <th></th>\n",
       "      <th></th>\n",
       "      <th></th>\n",
       "      <th></th>\n",
       "      <th></th>\n",
       "      <th></th>\n",
       "      <th></th>\n",
       "      <th></th>\n",
       "    </tr>\n",
       "  </thead>\n",
       "  <tbody>\n",
       "    <tr>\n",
       "      <th>32767</th>\n",
       "      <th>111</th>\n",
       "      <th>0</th>\n",
       "      <td>0.999899</td>\n",
       "      <td>1.000101</td>\n",
       "      <td>0.999697</td>\n",
       "      <td>1.000303</td>\n",
       "      <td>3033.0</td>\n",
       "      <td>964.0</td>\n",
       "      <td>2502.0</td>\n",
       "      <td>4600.0</td>\n",
       "      <td>1.000101</td>\n",
       "      <td>63.0</td>\n",
       "      <td>1.0</td>\n",
       "    </tr>\n",
       "  </tbody>\n",
       "</table>\n",
       "</div>"
      ]
     },
     "metadata": {},
     "execution_count": 111
    }
   ],
   "metadata": {}
  },
  {
   "cell_type": "code",
   "execution_count": 69,
   "source": [
    "s2.index"
   ],
   "outputs": [
    {
     "output_type": "execute_result",
     "data": {
      "text/plain": [
       "MultiIndex([(    5,   2,   0),\n",
       "            (    5,   2,   1),\n",
       "            (    5,   2,   2),\n",
       "            (    5,   2,   3),\n",
       "            (    5,   2,   4),\n",
       "            (    5,   2,   5),\n",
       "            (    5,   2,   6),\n",
       "            (    5,   2,   7),\n",
       "            (    5,   2,   8),\n",
       "            (    5,   2,   9),\n",
       "            ...\n",
       "            (32767, 111, 590),\n",
       "            (32767, 111, 591),\n",
       "            (32767, 111, 592),\n",
       "            (32767, 111, 593),\n",
       "            (32767, 111, 594),\n",
       "            (32767, 111, 595),\n",
       "            (32767, 111, 596),\n",
       "            (32767, 111, 597),\n",
       "            (32767, 111, 598),\n",
       "            (32767, 111, 599)],\n",
       "           names=['time_id', 'stock_id', 'seconds_in_bucket'], length=11489400)"
      ]
     },
     "metadata": {},
     "execution_count": 69
    }
   ],
   "metadata": {}
  },
  {
   "cell_type": "code",
   "execution_count": 131,
   "source": [
    "# s2.fillna(method='bfill',limit=1,inplace=True,axis=0)"
   ],
   "outputs": [],
   "metadata": {}
  },
  {
   "cell_type": "code",
   "execution_count": 147,
   "source": [
    "bf = s2.groupby(['time_id','stock_id'])"
   ],
   "outputs": [],
   "metadata": {}
  },
  {
   "cell_type": "code",
   "execution_count": 152,
   "source": [
    "bf['price'].first()"
   ],
   "outputs": [
    {
     "output_type": "execute_result",
     "data": {
      "text/plain": [
       "time_id  stock_id\n",
       "5        2           1.000688\n",
       "         68          1.000585\n",
       "         81          1.003518\n",
       "         100         1.000103\n",
       "         111         1.002161\n",
       "                       ...   \n",
       "32767    2           0.999298\n",
       "         68          1.000764\n",
       "         81          0.999430\n",
       "         100         0.999315\n",
       "         111         1.000101\n",
       "Name: price, Length: 19149, dtype: float32"
      ]
     },
     "metadata": {},
     "execution_count": 152
    }
   ],
   "metadata": {}
  },
  {
   "cell_type": "code",
   "execution_count": 169,
   "source": [
    "#s2.loc[(:,:,0),'price'] = bf['price'].first()\r\n",
    "s2.loc[s2.index.get_level_values(2)==0,'price'] = bf['price'].first()"
   ],
   "outputs": [],
   "metadata": {}
  },
  {
   "cell_type": "code",
   "execution_count": 170,
   "source": [
    "s2.loc[5,111,:].head(10)"
   ],
   "outputs": [
    {
     "output_type": "execute_result",
     "data": {
      "text/plain": [
       "                                    bid_price1  ask_price1  bid_price2  \\\n",
       "time_id stock_id seconds_in_bucket                                       \n",
       "5       111      0                    1.001884    1.002048    1.001720   \n",
       "                 1                    1.001884    1.002048    1.001720   \n",
       "                 2                    1.001884    1.002048    1.001720   \n",
       "                 3                    1.001884    1.002048    1.001720   \n",
       "                 4                    1.002048    1.002211    1.001884   \n",
       "                 5                    1.002048    1.002211    1.001884   \n",
       "                 6                    1.002048    1.002211    1.001884   \n",
       "                 7                    1.002048    1.002211    1.001884   \n",
       "                 8                    1.002048    1.002211    1.001884   \n",
       "                 9                    1.002048    1.002211    1.001884   \n",
       "\n",
       "                                    ask_price2  bid_size1  ask_size1  \\\n",
       "time_id stock_id seconds_in_bucket                                     \n",
       "5       111      0                    1.002211      500.0      509.0   \n",
       "                 1                    1.002211      500.0      409.0   \n",
       "                 2                    1.002211      400.0      624.0   \n",
       "                 3                    1.002211      400.0      735.0   \n",
       "                 4                    1.002375      810.0      415.0   \n",
       "                 5                    1.002375      910.0      415.0   \n",
       "                 6                    1.002375      400.0     1094.0   \n",
       "                 7                    1.002375      510.0      724.0   \n",
       "                 8                    1.002375      500.0      894.0   \n",
       "                 9                    1.002375      400.0     1231.0   \n",
       "\n",
       "                                    bid_size2  ask_size2     price    size  \\\n",
       "time_id stock_id seconds_in_bucket                                           \n",
       "5       111      0                      710.0     2091.0  1.002161     0.0   \n",
       "                 1                      610.0     1960.0       NaN     0.0   \n",
       "                 2                      610.0     1960.0       NaN     0.0   \n",
       "                 3                      610.0     2060.0       NaN     0.0   \n",
       "                 4                      810.0     1114.0  1.002161  2015.0   \n",
       "                 5                      810.0     1214.0       NaN     0.0   \n",
       "                 6                      810.0     1314.0       NaN     0.0   \n",
       "                 7                      810.0     1314.0       NaN     0.0   \n",
       "                 8                      810.0     1414.0       NaN     0.0   \n",
       "                 9                      810.0     1414.0       NaN     0.0   \n",
       "\n",
       "                                    order_count  \n",
       "time_id stock_id seconds_in_bucket               \n",
       "5       111      0                          0.0  \n",
       "                 1                          0.0  \n",
       "                 2                          0.0  \n",
       "                 3                          0.0  \n",
       "                 4                         26.0  \n",
       "                 5                          0.0  \n",
       "                 6                          0.0  \n",
       "                 7                          0.0  \n",
       "                 8                          0.0  \n",
       "                 9                          0.0  "
      ],
      "text/html": [
       "<div>\n",
       "<style scoped>\n",
       "    .dataframe tbody tr th:only-of-type {\n",
       "        vertical-align: middle;\n",
       "    }\n",
       "\n",
       "    .dataframe tbody tr th {\n",
       "        vertical-align: top;\n",
       "    }\n",
       "\n",
       "    .dataframe thead th {\n",
       "        text-align: right;\n",
       "    }\n",
       "</style>\n",
       "<table border=\"1\" class=\"dataframe\">\n",
       "  <thead>\n",
       "    <tr style=\"text-align: right;\">\n",
       "      <th></th>\n",
       "      <th></th>\n",
       "      <th></th>\n",
       "      <th>bid_price1</th>\n",
       "      <th>ask_price1</th>\n",
       "      <th>bid_price2</th>\n",
       "      <th>ask_price2</th>\n",
       "      <th>bid_size1</th>\n",
       "      <th>ask_size1</th>\n",
       "      <th>bid_size2</th>\n",
       "      <th>ask_size2</th>\n",
       "      <th>price</th>\n",
       "      <th>size</th>\n",
       "      <th>order_count</th>\n",
       "    </tr>\n",
       "    <tr>\n",
       "      <th>time_id</th>\n",
       "      <th>stock_id</th>\n",
       "      <th>seconds_in_bucket</th>\n",
       "      <th></th>\n",
       "      <th></th>\n",
       "      <th></th>\n",
       "      <th></th>\n",
       "      <th></th>\n",
       "      <th></th>\n",
       "      <th></th>\n",
       "      <th></th>\n",
       "      <th></th>\n",
       "      <th></th>\n",
       "      <th></th>\n",
       "    </tr>\n",
       "  </thead>\n",
       "  <tbody>\n",
       "    <tr>\n",
       "      <th rowspan=\"10\" valign=\"top\">5</th>\n",
       "      <th rowspan=\"10\" valign=\"top\">111</th>\n",
       "      <th>0</th>\n",
       "      <td>1.001884</td>\n",
       "      <td>1.002048</td>\n",
       "      <td>1.001720</td>\n",
       "      <td>1.002211</td>\n",
       "      <td>500.0</td>\n",
       "      <td>509.0</td>\n",
       "      <td>710.0</td>\n",
       "      <td>2091.0</td>\n",
       "      <td>1.002161</td>\n",
       "      <td>0.0</td>\n",
       "      <td>0.0</td>\n",
       "    </tr>\n",
       "    <tr>\n",
       "      <th>1</th>\n",
       "      <td>1.001884</td>\n",
       "      <td>1.002048</td>\n",
       "      <td>1.001720</td>\n",
       "      <td>1.002211</td>\n",
       "      <td>500.0</td>\n",
       "      <td>409.0</td>\n",
       "      <td>610.0</td>\n",
       "      <td>1960.0</td>\n",
       "      <td>NaN</td>\n",
       "      <td>0.0</td>\n",
       "      <td>0.0</td>\n",
       "    </tr>\n",
       "    <tr>\n",
       "      <th>2</th>\n",
       "      <td>1.001884</td>\n",
       "      <td>1.002048</td>\n",
       "      <td>1.001720</td>\n",
       "      <td>1.002211</td>\n",
       "      <td>400.0</td>\n",
       "      <td>624.0</td>\n",
       "      <td>610.0</td>\n",
       "      <td>1960.0</td>\n",
       "      <td>NaN</td>\n",
       "      <td>0.0</td>\n",
       "      <td>0.0</td>\n",
       "    </tr>\n",
       "    <tr>\n",
       "      <th>3</th>\n",
       "      <td>1.001884</td>\n",
       "      <td>1.002048</td>\n",
       "      <td>1.001720</td>\n",
       "      <td>1.002211</td>\n",
       "      <td>400.0</td>\n",
       "      <td>735.0</td>\n",
       "      <td>610.0</td>\n",
       "      <td>2060.0</td>\n",
       "      <td>NaN</td>\n",
       "      <td>0.0</td>\n",
       "      <td>0.0</td>\n",
       "    </tr>\n",
       "    <tr>\n",
       "      <th>4</th>\n",
       "      <td>1.002048</td>\n",
       "      <td>1.002211</td>\n",
       "      <td>1.001884</td>\n",
       "      <td>1.002375</td>\n",
       "      <td>810.0</td>\n",
       "      <td>415.0</td>\n",
       "      <td>810.0</td>\n",
       "      <td>1114.0</td>\n",
       "      <td>1.002161</td>\n",
       "      <td>2015.0</td>\n",
       "      <td>26.0</td>\n",
       "    </tr>\n",
       "    <tr>\n",
       "      <th>5</th>\n",
       "      <td>1.002048</td>\n",
       "      <td>1.002211</td>\n",
       "      <td>1.001884</td>\n",
       "      <td>1.002375</td>\n",
       "      <td>910.0</td>\n",
       "      <td>415.0</td>\n",
       "      <td>810.0</td>\n",
       "      <td>1214.0</td>\n",
       "      <td>NaN</td>\n",
       "      <td>0.0</td>\n",
       "      <td>0.0</td>\n",
       "    </tr>\n",
       "    <tr>\n",
       "      <th>6</th>\n",
       "      <td>1.002048</td>\n",
       "      <td>1.002211</td>\n",
       "      <td>1.001884</td>\n",
       "      <td>1.002375</td>\n",
       "      <td>400.0</td>\n",
       "      <td>1094.0</td>\n",
       "      <td>810.0</td>\n",
       "      <td>1314.0</td>\n",
       "      <td>NaN</td>\n",
       "      <td>0.0</td>\n",
       "      <td>0.0</td>\n",
       "    </tr>\n",
       "    <tr>\n",
       "      <th>7</th>\n",
       "      <td>1.002048</td>\n",
       "      <td>1.002211</td>\n",
       "      <td>1.001884</td>\n",
       "      <td>1.002375</td>\n",
       "      <td>510.0</td>\n",
       "      <td>724.0</td>\n",
       "      <td>810.0</td>\n",
       "      <td>1314.0</td>\n",
       "      <td>NaN</td>\n",
       "      <td>0.0</td>\n",
       "      <td>0.0</td>\n",
       "    </tr>\n",
       "    <tr>\n",
       "      <th>8</th>\n",
       "      <td>1.002048</td>\n",
       "      <td>1.002211</td>\n",
       "      <td>1.001884</td>\n",
       "      <td>1.002375</td>\n",
       "      <td>500.0</td>\n",
       "      <td>894.0</td>\n",
       "      <td>810.0</td>\n",
       "      <td>1414.0</td>\n",
       "      <td>NaN</td>\n",
       "      <td>0.0</td>\n",
       "      <td>0.0</td>\n",
       "    </tr>\n",
       "    <tr>\n",
       "      <th>9</th>\n",
       "      <td>1.002048</td>\n",
       "      <td>1.002211</td>\n",
       "      <td>1.001884</td>\n",
       "      <td>1.002375</td>\n",
       "      <td>400.0</td>\n",
       "      <td>1231.0</td>\n",
       "      <td>810.0</td>\n",
       "      <td>1414.0</td>\n",
       "      <td>NaN</td>\n",
       "      <td>0.0</td>\n",
       "      <td>0.0</td>\n",
       "    </tr>\n",
       "  </tbody>\n",
       "</table>\n",
       "</div>"
      ]
     },
     "metadata": {},
     "execution_count": 170
    }
   ],
   "metadata": {}
  },
  {
   "cell_type": "code",
   "execution_count": 112,
   "source": [
    "#s2.loc[:,:,1:] = s2.loc[:,:,1:].fillna(method='ffill')\r\n",
    "#s2.loc[:,:,1:].fillna(method='ffill',inplace=True)\r\n",
    "s2.fillna(method='ffill',inplace=True)"
   ],
   "outputs": [],
   "metadata": {}
  },
  {
   "cell_type": "code",
   "execution_count": 113,
   "source": [
    "s2.isna().sum()"
   ],
   "outputs": [
    {
     "output_type": "execute_result",
     "data": {
      "text/plain": [
       "bid_price1     0\n",
       "ask_price1     0\n",
       "bid_price2     0\n",
       "ask_price2     0\n",
       "bid_size1      0\n",
       "ask_size1      0\n",
       "bid_size2      0\n",
       "ask_size2      0\n",
       "price          0\n",
       "size           0\n",
       "order_count    0\n",
       "dtype: int64"
      ]
     },
     "metadata": {},
     "execution_count": 113
    }
   ],
   "metadata": {}
  },
  {
   "cell_type": "markdown",
   "source": [
    "Looping through each individual stocks, we can get the past realized volatility as prediction for each individual stocks."
   ],
   "metadata": {}
  },
  {
   "cell_type": "code",
   "execution_count": null,
   "source": [
    "s2['order_count'] = s2['order_count'].astype('int16')\r\n",
    "s2[['bid_size1','ask_size1','bid_size2','ask_size2','size']] = s2[['bid_size1','ask_size1','bid_size2','ask_size2','size']].astype('int32')\r\n"
   ],
   "outputs": [],
   "metadata": {}
  },
  {
   "cell_type": "code",
   "execution_count": null,
   "source": [
    "s2.info()"
   ],
   "outputs": [],
   "metadata": {}
  },
  {
   "cell_type": "code",
   "execution_count": null,
   "source": [
    "# s2['bid_size'] = (s2['bid_size1'] + s2['bid_size2'])\r\n",
    "# s2['bid_price'] = (s2['bid_price1'] * s2['bid_size1'] + s2['bid_price2'] * s2['bid_size2'])/(s2['bid_size1'] + s2['bid_size2'])\r\n",
    "\r\n",
    "# s2['ask_size'] = (s2['ask_size1'] + s2['ask_size2'])\r\n",
    "# s2['ask_price'] = (s2['ask_price1'] * s2['ask_size1'] + s2['ask_price2'] * s2['ask_size2'])/(s2['ask_size1'] + s2['ask_size2'])\r\n",
    "\r\n",
    "#s2['wap'] = (((s2['bid_price1'] * s2['bid_size1'] + s2['bid_price2'] * s2['bid_size2'])/(s2['bid_size1'] + s2['bid_size2']) * (s2['ask_size1'] + s2['ask_size2'])) + ((s2['ask_price1'] * s2['ask_size1'] + s2['ask_price2'] * s2['ask_size2'])/(s2['ask_size1'] + s2['ask_size2'])) * (s2['bid_size1'] + s2['bid_size2'])) / ((s2['bid_size1'] + s2['bid_size2']) +  (s2['ask_size1'] + s2['ask_size2']))\r\n",
    "\r\n",
    "s2['order_wap'] = (((s2['bid_price1'] * s2['bid_size1'] + s2['bid_price2'] * s2['bid_size2'])/(s2['bid_size1'] + s2['bid_size2']) * (s2['ask_size1'] + s2['ask_size2'])) + ((s2['ask_price1'] * s2['ask_size1'] + s2['ask_price2'] * s2['ask_size2'])/(s2['ask_size1'] + s2['ask_size2'])) * (s2['bid_size1'] + s2['bid_size2'])) / ((s2['bid_size1'] + s2['bid_size2']) +  (s2['ask_size1'] + s2['ask_size2']))\r\n"
   ],
   "outputs": [],
   "metadata": {}
  },
  {
   "cell_type": "code",
   "execution_count": null,
   "source": [
    "s2['trade_wap'] = s2.groupby(['time_id','stock_id'])['price'].apply(lambda x: x - x.mean())\r\n",
    "#s2['trade_wap_sq'] = s2.groupby(['time_id','stock_id'])['price'].apply(lambda x: x - x.mean())"
   ],
   "outputs": [],
   "metadata": {}
  },
  {
   "cell_type": "code",
   "execution_count": null,
   "source": [
    "pd.options.display.float_format = '{:,.16f}'.format"
   ],
   "outputs": [],
   "metadata": {}
  },
  {
   "cell_type": "code",
   "execution_count": null,
   "source": [
    "s2['log_return'] = s2.groupby(['time_id','stock_id'])['order_wap'].apply(log_return)"
   ],
   "outputs": [],
   "metadata": {}
  },
  {
   "cell_type": "code",
   "execution_count": null,
   "source": [
    "s2['log_return'].isna().sum()"
   ],
   "outputs": [],
   "metadata": {}
  },
  {
   "cell_type": "code",
   "execution_count": null,
   "source": [
    "def log_return(list_stock_prices):\r\n",
    "    return np.log(list_stock_prices).diff()\r\n",
    "\r\n",
    "def trade_volatility(trade_wap_prices):\r\n",
    "    return np.sqrt(np.sum(trade_wap_prices**2)/len(trade_wap_prices))\r\n",
    "\r\n",
    "def order_volatility(series_log_return):\r\n",
    "    return np.sqrt(np.sum(series_log_return**2))"
   ],
   "outputs": [],
   "metadata": {}
  },
  {
   "cell_type": "code",
   "execution_count": null,
   "source": [
    "#remove the rows with null values of log return\r\n",
    "#s2[~s2['log_return'].isnull()]['log_return']\r\n",
    "df_realized_vol_per_stock =  pd.DataFrame(s2[~s2['log_return'].isnull()]['log_return'].groupby(['time_id','stock_id']).agg(order_volatility))"
   ],
   "outputs": [],
   "metadata": {}
  },
  {
   "cell_type": "code",
   "execution_count": null,
   "source": [
    "df_realized_vol_per_stock.isna().sum()"
   ],
   "outputs": [],
   "metadata": {}
  },
  {
   "cell_type": "code",
   "execution_count": null,
   "source": [
    "# find the volatility values without converting or removing the null values   \r\n",
    "df_realized_vol_per_stock1 =  pd.DataFrame(s2['log_return'].groupby(['time_id','stock_id']).agg(order_volatility))"
   ],
   "outputs": [],
   "metadata": {}
  },
  {
   "cell_type": "code",
   "execution_count": null,
   "source": [
    "assert df_realized_vol_per_stock1.values == df_realized_vol_per_stock.values"
   ],
   "outputs": [],
   "metadata": {}
  },
  {
   "cell_type": "code",
   "execution_count": null,
   "source": [
    "\r\n",
    "np.testing.assert_array_equal(df_realized_vol_per_stock1.values, df_realized_vol_per_stock.values, err_msg='not matching', verbose=True)"
   ],
   "outputs": [],
   "metadata": {}
  },
  {
   "cell_type": "markdown",
   "source": [
    "Max absolute difference: 3.7252903e-09\r\n",
    "Max relative difference: 1.6754667e-07\r\n",
    "\r\n",
    "This error is ignorable. So we will leave the null values as it is in the log return"
   ],
   "metadata": {}
  },
  {
   "cell_type": "code",
   "execution_count": null,
   "source": [
    "#converting all null values to zeros\r\n",
    "df_realized_vol_per_stock2 =  pd.DataFrame(s2['log_return'].fillna(0).groupby(['time_id','stock_id']).agg(order_volatility))"
   ],
   "outputs": [],
   "metadata": {}
  },
  {
   "cell_type": "code",
   "execution_count": null,
   "source": [
    "np.testing.assert_array_equal(df_realized_vol_per_stock1,df_realized_vol_per_stock2) "
   ],
   "outputs": [],
   "metadata": {}
  },
  {
   "cell_type": "code",
   "execution_count": null,
   "source": [
    "np.testing.assert_array_equal(df_realized_vol_per_stock,df_realized_vol_per_stock2) "
   ],
   "outputs": [],
   "metadata": {}
  },
  {
   "cell_type": "code",
   "execution_count": null,
   "source": [
    "df_realized_vol_per_stock"
   ],
   "outputs": [],
   "metadata": {}
  },
  {
   "cell_type": "code",
   "execution_count": null,
   "source": [
    "df_realized_vol_per_stock.index.get_level_values(0)"
   ],
   "outputs": [],
   "metadata": {}
  },
  {
   "cell_type": "code",
   "execution_count": null,
   "source": [
    "df_realized_vol_per_stock.drop(columns='row_id',inplace=True)"
   ],
   "outputs": [],
   "metadata": {}
  },
  {
   "cell_type": "code",
   "execution_count": null,
   "source": [
    "#df_realized_vol_per_stock['row_id'] = df_realized_vol_per_stock.apply(lambda x: fff(x.index.get_level_values(1),x.index.get_level_values(0)), axis=1 )\r\n",
    "#df_realized_vol_per_stock['row_id'] = df_realized_vol_per_stock.apply(lambda x: x.index.get_level_values(1)+x.index.get_level_values(0))\r\n",
    "df_realized_vol_per_stock['row_id'] = df_realized_vol_per_stock.apply(lambda x: x.index.get_level_values(1).astype(str) + \"-\" + x.index.get_level_values(0).astype(str))\r\n",
    "\r\n",
    "#f'{stock_id}-{x}'"
   ],
   "outputs": [],
   "metadata": {}
  },
  {
   "cell_type": "code",
   "execution_count": null,
   "source": [
    "df_realized_vol_per_stock['trade_return'] = pd.DataFrame(s2['trade_wap'].groupby(['time_id','stock_id']).agg(trade_volatility))\r\n"
   ],
   "outputs": [],
   "metadata": {}
  },
  {
   "cell_type": "code",
   "execution_count": null,
   "source": [
    "df_realized_vol_per_stock"
   ],
   "outputs": [],
   "metadata": {}
  },
  {
   "cell_type": "code",
   "execution_count": null,
   "source": [
    "# def past_realized_volatility_per_stock(list_file,prediction_column_name):\r\n",
    "#     df_past_realized = pd.DataFrame()\r\n",
    "#     for file in list_file:\r\n",
    "#         df_past_realized = pd.concat([df_past_realized,\r\n",
    "#                                      realized_volatility_per_time_id(file,prediction_column_name)])\r\n",
    "#     return df_past_realized\r\n",
    "# df_past_realized_train = past_realized_volatility_per_stock(list_file=list_order_book_file_train,\r\n",
    "#                                                            prediction_column_name='pred')"
   ],
   "outputs": [],
   "metadata": {
    "tags": []
   }
  },
  {
   "cell_type": "markdown",
   "source": [
    "Let's join the output dataframe with train.csv to see the performance of the naive prediction on training set."
   ],
   "metadata": {}
  },
  {
   "cell_type": "code",
   "execution_count": null,
   "source": [
    "train['row_id'] = train['stock_id'].astype(str) + '-' + train['time_id'].astype(str)\r\n",
    "train = train[['row_id','target']]\r\n"
   ],
   "outputs": [],
   "metadata": {}
  },
  {
   "cell_type": "markdown",
   "source": [
    "We will evaluate the naive prediction result by two metrics: RMSPE and R squared."
   ],
   "metadata": {}
  },
  {
   "cell_type": "code",
   "execution_count": null,
   "source": [
    "df_joined = train.merge(df_realized_vol_per_stock, on = ['row_id'], how = 'inner')"
   ],
   "outputs": [],
   "metadata": {}
  },
  {
   "cell_type": "code",
   "execution_count": null,
   "source": [
    "df_joined"
   ],
   "outputs": [],
   "metadata": {}
  },
  {
   "cell_type": "code",
   "execution_count": null,
   "source": [
    "from sklearn.metrics import r2_score\r\n",
    "def rmspe(y_true, y_pred):\r\n",
    "    return  (np.sqrt(np.mean(np.square((y_true - y_pred) / y_true)))) * 100"
   ],
   "outputs": [],
   "metadata": {}
  },
  {
   "cell_type": "code",
   "execution_count": null,
   "source": [
    "R2 = round(r2_score(y_true = df_joined['target'], y_pred = df_joined['log_return']),3)\r\n",
    "RMSPE = round(rmspe(y_true = df_joined['target'], y_pred = df_joined['log_return']),3)\r\n",
    "print(f'Performance of the naive prediction: R2 score: {R2}, RMSPE: {RMSPE}%')"
   ],
   "outputs": [],
   "metadata": {}
  },
  {
   "cell_type": "code",
   "execution_count": null,
   "source": [
    "R2 = round(r2_score(y_true = df_joined['target'], y_pred = df_joined['log_return'] + np.sqrt(df_joined['trade_return'])),3)\r\n",
    "RMSPE = round(rmspe(y_true = df_joined['target'], y_pred = df_joined['log_return'] + np.sqrt(df_joined['trade_return'])),3)\r\n",
    "print(f'Performance of the naive prediction: R2 score: {R2}, RMSPE: {RMSPE}%')"
   ],
   "outputs": [],
   "metadata": {}
  },
  {
   "cell_type": "code",
   "execution_count": null,
   "source": [
    "jovian.commit(filename=\"my-zero-to-gbm-proj-assign.ipynb\")"
   ],
   "outputs": [],
   "metadata": {}
  },
  {
   "cell_type": "markdown",
   "source": [
    "## Machine Learning\r\n",
    "\r\n",
    "Now we will start applying ML techniques to predict the volataility of the next 10 minutes window for each time-id/stock-id based on the order book volatility and trade volatility\r\n",
    "\r\n",
    "we will learn the hyper parameters givne using the training targets for the same\r\n",
    "\r\n",
    "we will use 2 different models to do the same"
   ],
   "metadata": {}
  },
  {
   "cell_type": "markdown",
   "source": [
    "## Graident Bossting\r\n",
    "\r\n",
    "We're now ready to train our gradient boosting machine (GBM) model. Here's how a GBM model works:"
   ],
   "metadata": {}
  },
  {
   "cell_type": "code",
   "execution_count": null,
   "source": [
    "from xgboost import XGBRegressor"
   ],
   "outputs": [],
   "metadata": {}
  },
  {
   "cell_type": "markdown",
   "source": [
    "## Intel Extension for Scikit-learn\r\n",
    "\r\n",
    "Intel(R) Extension for Scikit-learn* dynamically patches scikit-learn estimators to use Intel(R) oneAPI Data Analytics Library as the underlying solver, while getting the same solution faster.\r\n",
    "\r\n",
    "To install these Intel-optimized packages for scikit-learn on Windows, Mac, and Linux x86_64, simply:\r\n",
    "\r\n",
    "conda install scikit-learn-intelex\r\n",
    "\r\n",
    "Once installed, there are two ways in which you can enable the replacement patching functionality for scikit-learn. You can enable it when you run your application:\r\n",
    "\r\n",
    "python -m sklearnex my_application.py\r\n",
    "\r\n",
    "Or you can explicitly enable the patching in your code:\r\n",
    "\r\n",
    "from sklearnex import patch_sklearn\r\n",
    "\r\n",
    "patch_sklearn()"
   ],
   "metadata": {}
  },
  {
   "cell_type": "code",
   "execution_count": null,
   "source": [
    "from sklearnex import patch_sklearn\r\n",
    "patch_sklearn()"
   ],
   "outputs": [],
   "metadata": {}
  },
  {
   "cell_type": "markdown",
   "source": [
    "### Cross Validation\r\n",
    "\r\n",
    " create a validation set before training our XGBoost model. We'll use a different validation strategy this time, called <b> ShuffleSplit </b> cross validation (source):"
   ],
   "metadata": {}
  },
  {
   "cell_type": "code",
   "execution_count": null,
   "source": [
    "from sklearn.model_selection import ShuffleSplit"
   ],
   "outputs": [],
   "metadata": {}
  },
  {
   "cell_type": "code",
   "execution_count": null,
   "source": [
    "ss = ShuffleSplit(n_splits = 5, test_size = 0.25, random_state=42)"
   ],
   "outputs": [],
   "metadata": {}
  },
  {
   "cell_type": "markdown",
   "source": [
    "Let's define a helper function train_and_evaluate which trains a model the given parameters and returns the trained model, training error and validation error."
   ],
   "metadata": {}
  },
  {
   "cell_type": "code",
   "execution_count": null,
   "source": [
    "def train_and_evaluate(X_train, train_targets, X_val, val_targets, **params):\r\n",
    "    model = XGBRegressor(random_state=42, n_jobs=-1, **params)\r\n",
    "    model.fit(X_train, train_targets)\r\n",
    "    train_R2 = round(r2_score(train_targets, model.predict(X_train)),3)\r\n",
    "    train_RMSPE = round(rmspe(train_targets, model.predict(X_train)),3)\r\n",
    "    val_R2 = round(r2_score(val_targets, model.predict(X_val)),3)\r\n",
    "    val_RMSPE = round(rmspe(val_targets, model.predict(X_val),),3)\r\n",
    "\r\n",
    "    # train_rmse = rmse(model.predict(X_train), train_targets)\r\n",
    "    # val_rmse = rmse(model.predict(X_val), val_targets)\r\n",
    "    return model, train_R2, train_RMSPE, val_R2, val_RMSPE\r\n",
    "#n_jobs = -1 means that use all the available threads in that machine where the alogorithm is running "
   ],
   "outputs": [],
   "metadata": {}
  },
  {
   "cell_type": "markdown",
   "source": [
    "Now we will train the model for each split data of the ShuffleSplit"
   ],
   "metadata": {}
  },
  {
   "cell_type": "code",
   "execution_count": null,
   "source": [
    "df_joined.info()"
   ],
   "outputs": [],
   "metadata": {}
  },
  {
   "cell_type": "code",
   "execution_count": null,
   "source": [
    "inputs = df_joined[['log_return', 'trade_return']].copy()\r\n",
    "targets = df_joined['target'].copy()"
   ],
   "outputs": [],
   "metadata": {}
  },
  {
   "cell_type": "code",
   "execution_count": null,
   "source": [
    "inputs\r\n",
    "#targets"
   ],
   "outputs": [],
   "metadata": {}
  },
  {
   "cell_type": "code",
   "execution_count": null,
   "source": [
    "models = []\r\n",
    "\r\n",
    "for train_idxs, val_idxs in ss.split(inputs):\r\n",
    "    X_train, train_targets = inputs.iloc[train_idxs], targets.iloc[train_idxs]\r\n",
    "    X_val, val_targets = inputs.iloc[val_idxs], targets.iloc[val_idxs]\r\n",
    "    model, train_R2, train_RMSPE, val_R2, val_RMSPE = train_and_evaluate(X_train, \r\n",
    "                                                     train_targets, \r\n",
    "                                                     X_val, \r\n",
    "                                                     val_targets, \r\n",
    "                                                     max_depth=5, \r\n",
    "                                                     n_estimators=50)\r\n",
    "    models.append(model)\r\n",
    "    print('Train R2: {}, Train RMSPE: {}, Validation R2: {}, Validation RMSPE: {}'.format(train_R2, train_RMSPE, val_R2, val_RMSPE))"
   ],
   "outputs": [],
   "metadata": {}
  },
  {
   "cell_type": "markdown",
   "source": [
    "Let's also define a function to average predictions from the 5 different models."
   ],
   "metadata": {}
  },
  {
   "cell_type": "code",
   "execution_count": null,
   "source": [
    "def predict_avg(models, inputs):\r\n",
    "    return np.mean([model.predict(inputs) for model in models], axis=0)"
   ],
   "outputs": [],
   "metadata": {}
  },
  {
   "cell_type": "code",
   "execution_count": null,
   "source": [
    "preds = predict_avg(models, inputs)"
   ],
   "outputs": [],
   "metadata": {}
  },
  {
   "cell_type": "code",
   "execution_count": null,
   "source": [
    "preds"
   ],
   "outputs": [],
   "metadata": {}
  },
  {
   "cell_type": "code",
   "execution_count": null,
   "source": [
    "# explicitly require this experimental feature\r\n",
    "from sklearn.experimental import enable_halving_search_cv\r\n",
    "# now you can import normally from model_selection\r\n",
    "from sklearn.model_selection import HalvingGridSearchCV"
   ],
   "outputs": [],
   "metadata": {}
  },
  {
   "cell_type": "code",
   "execution_count": null,
   "source": [
    "model = XGBRegressor(random_state=42, n_jobs=-1)\r\n",
    "param_grid = {\"max_depth\": [[2, 3, 4, 5, 6, 7, 8, 9, 10, 11, 12, 13, 14, 15, 16, 17, 18, 19, 20, None]],\r\n",
    "              \"n_estimators\" : list(range(10,51,2)),\r\n",
    "              \"learning_rate\": np.logspace(-3,3,100),\r\n",
    "              # \"booster\": ['gbtree', 'gblinear','dart'],\r\n",
    "              # \"gamma\": np.logspace(-1,1,100),\r\n",
    "              \"subsample\": np.linspace(0.1,1.0,9, endpoint=False),\r\n",
    "              # \"num_parallel_tree\": range(1,6,1),\r\n",
    "              # \"reg_alpha\": np.logspace(-3,3,300),\r\n",
    "              # \"reg_lambda\": np.logspace(-3,3,300)\r\n",
    "            }\r\n"
   ],
   "outputs": [],
   "metadata": {}
  },
  {
   "cell_type": "code",
   "execution_count": null,
   "source": [
    "models = []\r\n",
    "for train_idxs, val_idxs in ss.split(inputs):\r\n",
    "    X_train, train_targets = inputs.iloc[train_idxs], targets.iloc[train_idxs]\r\n",
    "    X_val, val_targets = inputs.iloc[val_idxs], targets.iloc[val_idxs]\r\n",
    "    grid_search = HalvingGridSearchCV(model, param_grid, random_state=42).fit(X_train, train_targets)\r\n",
    "    model, train_R2, train_RMSPE, val_R2, val_RMSPE = train_and_evaluate(X_train, \r\n",
    "                                                    train_targets, \r\n",
    "                                                    X_val, \r\n",
    "                                                    val_targets, \r\n",
    "                                                    **grid_search.best_params_)\r\n",
    "    models.append(model)\r\n",
    "    print('Train R2: {}, Train RMSPE: {}, Validation R2: {}, Validation RMSPE: {}'.format(train_R2, train_RMSPE, val_R2, val_RMSPE))\r\n"
   ],
   "outputs": [],
   "metadata": {}
  },
  {
   "cell_type": "code",
   "execution_count": null,
   "source": [
    "grid_search.best_params_"
   ],
   "outputs": [],
   "metadata": {}
  },
  {
   "cell_type": "markdown",
   "source": [
    "Discussion on cross validation designs\r\n",
    "\r\n",
    "https://www.kaggle.com/vishnurapps/undersanding-kfold-stratifiedkfold-and-groupkfold"
   ],
   "metadata": {}
  },
  {
   "cell_type": "markdown",
   "source": [],
   "metadata": {}
  }
 ],
 "metadata": {
  "interpreter": {
   "hash": "b3ba2566441a7c06988d0923437866b63cedc61552a5af99d1f4fb67d367b25f"
  },
  "kernelspec": {
   "name": "python3",
   "display_name": "Python 3.8.11 64-bit ('base': conda)"
  },
  "language_info": {
   "codemirror_mode": {
    "name": "ipython",
    "version": 3
   },
   "file_extension": ".py",
   "mimetype": "text/x-python",
   "name": "python",
   "nbconvert_exporter": "python",
   "pygments_lexer": "ipython3",
   "version": "3.8.11"
  }
 },
 "nbformat": 4,
 "nbformat_minor": 4
}