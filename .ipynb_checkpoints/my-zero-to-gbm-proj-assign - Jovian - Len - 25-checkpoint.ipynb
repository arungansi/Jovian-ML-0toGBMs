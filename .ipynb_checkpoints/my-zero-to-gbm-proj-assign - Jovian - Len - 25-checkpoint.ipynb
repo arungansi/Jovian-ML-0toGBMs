{
 "cells": [
  {
   "cell_type": "markdown",
   "source": [
    "##### my-zero-to-gbm-proj-assign"
   ],
   "metadata": {}
  },
  {
   "cell_type": "markdown",
   "source": [
    "## Optiver Realized Volatility Prediction"
   ],
   "metadata": {}
  },
  {
   "cell_type": "markdown",
   "source": [
    "This dataset contains stock market data relevant to the practical execution of trades in the financial markets. In particular, it includes order book snapshots and executed trades. With one second resolution, it provides a uniquely fine grained look at the micro-structure of modern financial markets.\r\n",
    "\r\n",
    "This is a code competition where only the first few rows of the test set are available for download. The rows that are visible are intended to illustrate the hidden test set format and folder structure. The remainder will only be available to your notebook when it is submitted. The hidden test set contains data that can be used to construct features to predict roughly 150,000 target values. Loading the entire dataset will take slightly more than 3 GB of memory, by our estimation.\r\n",
    "\r\n",
    "This is also a forecasting competition, where the final private leaderboard will be determined using data gathered after the training period closes, which means that the public and private leaderboards will have zero overlap. During the active training stage of the competition a large fraction of the test data will be filler, intended only to ensure the hidden dataset has approximately the same size as the actual test data. The filler data will be removed entirely during the forecasting phase of the competition and replaced with real"
   ],
   "metadata": {}
  },
  {
   "cell_type": "code",
   "execution_count": null,
   "source": [
    "!pip install jovian --upgrade --quiet"
   ],
   "outputs": [],
   "metadata": {}
  },
  {
   "cell_type": "code",
   "execution_count": null,
   "source": [
    "import jovian"
   ],
   "outputs": [],
   "metadata": {}
  },
  {
   "cell_type": "markdown",
   "source": [
    "#### Data Description\r\n",
    "\r\n",
    "book_[train/test].parquet A parquet file partitioned by stock_id. Provides order book data on the most competitive buy and sell orders entered into the market. The top two levels of the book are shared. The first level of the book will be more competitive in price terms, it will then receive execution priority over the second level.\r\n",
    "\r\n",
    "stock_id - ID code for the stock. Not all stock IDs exist in every time bucket. Parquet coerces this column to the categorical data type when loaded; you may wish to convert it to int8.\r\n",
    "time_id - ID code for the time bucket. Time IDs are not necessarily sequential but are consistent across all stocks.\r\n",
    "seconds_in_bucket - Number of seconds from the start of the bucket, always starting from 0.\r\n",
    "bid_price[1/2] - Normalized prices of the most/second most competitive buy level.\r\n",
    "ask_price[1/2] - Normalized prices of the most/second most competitive sell level.\r\n",
    "bid_size[1/2] - The number of shares on the most/second most competitive buy level.\r\n",
    "ask_size[1/2] - The number of shares on the most/second most competitive sell level.\r\n",
    "trade_[train/test].parquet A parquet file partitioned by stock_id. Contains data on trades that actually executed. Usually, in the market, there are more passive buy/sell intention updates (book updates) than actual trades, therefore one may expect this file to be more sparse than the order book.\r\n",
    "\r\n",
    "stock_id - Same as above.\r\n",
    "time_id - Same as above.\r\n",
    "seconds_in_bucket - Same as above. Note that since trade and book data are taken from the same time window and trade data is more sparse in general, this field is not necessarily starting from 0.\r\n",
    "price - The average price of executed transactions happening in one second. Prices have been normalized and the average has been weighted by the number of shares traded in each transaction.\r\n",
    "size - The sum number of shares traded.\r\n",
    "order_count - The number of unique trade orders taking place.\r\n",
    "train.csv The ground truth values for the training set.\r\n",
    "\r\n",
    "stock_id - Same as above, but since this is a csv the column will load as an integer instead of categorical.\r\n",
    "time_id - Same as above.\r\n",
    "target - The realized volatility computed over the 10 minute window following the feature data under the same stock/time_id. There is no overlap between feature and target data. You can find more info in our tutorial notebook.\r\n",
    "test.csv Provides the mapping between the other data files and the submission file. As with other test files, most of the data is only available to your notebook upon submission with just the first few rows available for download.\r\n",
    "\r\n",
    "stock_id - Same as above.\r\n",
    "time_id - Same as above.\r\n",
    "row_id - Unique identifier for the submission row. There is one row for each existing time ID/stock ID pair. Each time window is not necessarily containing every individual stock.\r\n",
    "sample_submission.csv - A sample submission file in the correct format.\r\n",
    "\r\n",
    "row_id - Same as in test.csv.\r\n",
    "target - Same definition as in train.csv. The benchmark is using the median target value from train.csv."
   ],
   "metadata": {}
  },
  {
   "cell_type": "code",
   "execution_count": null,
   "source": [
    "# Execute this to save new versions of the notebook\r\n",
    "#jovian.commit(project=\"my-zero-to-gbm-proj-assign\")\r\n",
    "jovian.commit(filename=\"my-zero-to-gbm-proj-assign.ipynb\")"
   ],
   "outputs": [],
   "metadata": {}
  },
  {
   "cell_type": "code",
   "execution_count": 1,
   "source": [
    "import pandas as pd\r\n",
    "import numpy as np\r\n",
    "import plotly.express as px\r\n",
    "#train = pd.read_csv('../../../data/optiver-realized-volatility-prediction/train.csv')\r\n",
    "train = pd.read_csv('c:\\\\optiver-realized-volatility-prediction\\\\train.csv')"
   ],
   "outputs": [],
   "metadata": {}
  },
  {
   "cell_type": "code",
   "execution_count": null,
   "source": [
    "train.info()"
   ],
   "outputs": [],
   "metadata": {}
  },
  {
   "cell_type": "markdown",
   "source": [
    "## Points to be addressed before ML modeling\r\n",
    "\r\n",
    "1. stock_id - ID code for the stock. <font color='red'> Not all stock IDs exist in every time bucket </font>. Parquet coerces this column to the categorical data type when loaded;  <font color='red'> you may wish to convert it to int8 </font>\r\n",
    "2. We have missing “seconds_in_bucket” field?.A: That means there is no related market activities during the last second. For book data you can also assume the top-2 level book shape stays the same as the last available book update within the gap seconds, or, in another word, <font color='red'> you can forward fill the missing data point for all field in book data.</font>\r\n",
    "3. I'm trying to make trade data fixed sized. Since missing seconds_in_bucket implies no trade happening within that one-second window, is it technically correct to resample trade data to 600 seconds and fill it with zeros?. Hi, it is correct to assume 0 for order count and size. Some assumptions are required for the price, though. A price of 0 might cause issues.\r\n",
    "4. the trade data at T seconds contains a 1-second aggregation of executed orders between [T, T+1 second]\r\n",
    "5. One time_id represents a unique 20-minutes trading window which is consistent across all stocks As an example, let’s say time_id = 1 is representing a window between 1900-01-01 12:00:00 and 1900-01-01 12:20:00, then the book data of all stocks for that time_id are is taken from the same window. The data in the first 10 minutes window is shared with all of you, while the order book data of the second 10-minutes is used to build the target for you to predict. The dataset is rolling in such a way that feature and target data will always have zero overlap. Note that time_id is randomly shuffled, so it will not contain any information other than serving as a bridge between different dataset.\r\n",
    "6. We can demonstrate the data structure in below way:\r\n",
    "<img src = https://www.optiver.com/wp-content/uploads/2021/05/DataBucketing.png>\r\n",
    "7. In our competition, we shared the last snapshot of order book for each second. Imagine you have a time_id starting from 1900-01-01 12:00:00, the book update data on seconds_in_bucket = 1 represents the last snapshot of order book update between 12:00:00 and 12:00:01. Similarly to order book data in terms of granularity, but the trade data represents the aggregation of all individual orders happened within one second.\r\n",
    "8. So per stock, under the same time_id, the trade data on seconds_in_bucket = 1 represents the aggregation of all individual executed orders between 12:00:00 and 12:00:01. The size is the sum of the size in each individual order, while the price is aggregated as a volume weighted average price of all trades. A straightforward WAP formula can be found on Investopedia.\r\n",
    "9. Q: Why we have missing “seconds_in_bucket” field?\r\n",
    "A: That means there is no related market activities during the last second.\r\n",
    "\r\n",
    "For book data you can also assume the top-2 level book shape stays the same as the last available book update within the gap seconds, or, in another word, you can forward fill the missing data point for all field in book data. For trade data, it implies no trade happening within that one-second window. One thing to note that trade data tends to be more sparse than book data in many cases.\r\n",
    "\r\n",
    "10. \r\n"
   ],
   "metadata": {}
  },
  {
   "cell_type": "markdown",
   "source": [
    "Taking the first row of data, it implies that the realized vol of the target bucket for time_id 5, stock_id 0 is 0.004136. How does the book and trade data in feature bucket look like for us to build signals?"
   ],
   "metadata": {}
  },
  {
   "cell_type": "code",
   "execution_count": null,
   "source": [
    "book_example = pd.read_parquet('D:\\\\Edu\\\\Kaggle\\\\optiver-realized-volatility-prediction\\\\book_train.parquet/stock_id=0')\r\n",
    "trade_example =  pd.read_parquet('D:\\\\Edu\\\\Kaggle\\\\optiver-realized-volatility-prediction\\\\trade_train.parquet/stock_id=0')\r\n",
    "stock_id = '0'\r\n",
    "book_example = book_example[book_example['time_id']==5]\r\n",
    "book_example.loc[:,'stock_id'] = stock_id\r\n",
    "trade_example = trade_example[trade_example['time_id']==5]\r\n",
    "trade_example.loc[:,'stock_id'] = stock_id"
   ],
   "outputs": [],
   "metadata": {}
  },
  {
   "cell_type": "markdown",
   "source": [
    "#### Book data snapshot"
   ],
   "metadata": {}
  },
  {
   "cell_type": "code",
   "execution_count": null,
   "source": [
    "book_example.info()"
   ],
   "outputs": [],
   "metadata": {}
  },
  {
   "cell_type": "markdown",
   "source": [
    "### Trade Book Snapshot"
   ],
   "metadata": {}
  },
  {
   "cell_type": "code",
   "execution_count": null,
   "source": [
    "trade_example.info()"
   ],
   "outputs": [],
   "metadata": {}
  },
  {
   "cell_type": "markdown",
   "source": [
    "##### Realized volatility calculation\r\n",
    "\r\n",
    "our target is to predict short-term realized volatility. Although the order book and trade data for the target cannot be shared, we can still present the realized volatility calculation using the feature data we provided.\r\n",
    "\r\n",
    "As realized volatility is a statistical measure of price changes on a given stock, to calculate the price change we first need to have a stock valuation at the fixed interval (1 second). We will use weighted averaged price, or WAP, of the order book data we provided."
   ],
   "metadata": {}
  },
  {
   "cell_type": "code",
   "execution_count": null,
   "source": [
    "book_example['bid_size'] = (book_example['bid_size1'] + book_example['bid_size2'])\r\n",
    "book_example['bid_price'] = (book_example['bid_price1'] * book_example['bid_size1'] + book_example['bid_price2'] * book_example['bid_size2'])/book_example['bid_size']\r\n",
    "\r\n",
    "book_example['ask_size'] = (book_example['ask_size1'] + book_example['ask_size2'])\r\n",
    "book_example['ask_price'] = (book_example['ask_price1'] * book_example['ask_size1'] + book_example['ask_price2'] * book_example['ask_size2'])/(book_example['ask_size1'] + book_example['ask_size2'])\r\n",
    "\r\n",
    "book_example['wap'] = (book_example['bid_price'] * book_example['ask_size'] + book_example['ask_price'] * book_example['bid_size']) / (book_example['bid_size'] +  book_example['ask_size'])\r\n",
    "\r\n",
    "book_example['wap1'] = (book_example['bid_price1'] * book_example['ask_size1'] + book_example['ask_price1'] * book_example['bid_size1']) / (book_example['bid_size1'] +  book_example['ask_size1'])\r\n",
    "\r\n",
    "book_example['wap2'] = (book_example['bid_price2'] * book_example['ask_size2'] + book_example['ask_price2'] * book_example['bid_size2']) / (book_example['bid_size2'] +  book_example['ask_size2'])\r\n"
   ],
   "outputs": [],
   "metadata": {}
  },
  {
   "cell_type": "markdown",
   "source": [
    "The WAP of the stock is plotted below"
   ],
   "metadata": {}
  },
  {
   "cell_type": "code",
   "execution_count": null,
   "source": [
    "fig = px.line(book_example, x=\"seconds_in_bucket\", y=\"wap\", title='WAP of stock_id_0, time_id_5')\r\n",
    "fig.show()"
   ],
   "outputs": [],
   "metadata": {}
  },
  {
   "cell_type": "markdown",
   "source": [
    "### Log returns\n",
    "\n",
    "How can we compare the price of a stock between yesterday and today?\n",
    "\n",
    "The easiest method would be to just take the difference. This is definitely the most intuitive way, however price differences are not always comparable across stocks. For example, let's assume that we have invested \\$ 1000 in both stock A and stock B and that stock A moves from  \\$ 100 to  \\$ 102 and stock B moves from  \\$ 10 to  \\$ 11. We had a total of 10 shares of A ( \\$1000 / \\$100=10 ) which led to a profit of  10⋅(\\$102−\\$100)=\\$20  and a total of 100 shares of B that yielded \\$100. So the price increase was larger for stock A, although the move was proportionally much larger for stock B.\n",
    "\n",
    "We can solve the above problem by dividing the move by the starting price of the stock, effectively computing the percentage change in price, also known as the stock return. In our example, the return for stock A was  \\$102−\\$100/\\$100=2% , while for stock B it was  \\$11−\\$10/\\$10=10% . The stock return coincides with the percentage change in our invested capital.\n",
    "\n",
    "Returns are widely used in finance, however log returns are preferred whenever some mathematical modelling is required. Calling  St  the price of the stock  S  at time  t , we can define the log return between  t1  and  t2  as:\n",
    "\n",
    " - r(t1,t2)=log(St2/St1)\n",
    " \n",
    "Usually, we look at log returns over fixed time intervals, so with 10-minute log return we mean  rt=rt−10min,t .\n",
    "\n",
    "Log returns present several advantages, for example:\n",
    "\n",
    "- they are additive across time  r(t1,t2) + r(t2,t3) = (rt1,t3) \n",
    "- regular returns cannot go below -100%, while log returns are not bounded\n",
    "\n",
    "Next we will compute the log return\n",
    "\n",
    "To compute the Log Return, we will simply take the logarithm of the ratio between two consecutive WAP. The first row will have an empty return as the previous book update is unknown, therefore the empty return data point will be dropped."
   ],
   "metadata": {}
  },
  {
   "cell_type": "code",
   "execution_count": null,
   "source": [
    "def log_return(list_stock_prices):\r\n",
    "    return np.log(list_stock_prices).diff()"
   ],
   "outputs": [],
   "metadata": {}
  },
  {
   "cell_type": "code",
   "execution_count": null,
   "source": [
    "book_example.loc[:,'log_return'] = log_return(book_example['wap'])\r\n"
   ],
   "outputs": [],
   "metadata": {}
  },
  {
   "cell_type": "code",
   "execution_count": null,
   "source": [
    "book_example['log_return'] = book_example['log_return'].fillna(book_example['log_return'].mean())"
   ],
   "outputs": [],
   "metadata": {}
  },
  {
   "cell_type": "code",
   "execution_count": null,
   "source": [
    "book_example.head()"
   ],
   "outputs": [],
   "metadata": {}
  },
  {
   "cell_type": "code",
   "execution_count": null,
   "source": [
    "#~ means NOT \r\n",
    "# also the null condition is applied because when we .diff() method the first row will have empty value as we cannot have diff of return with respect to the previous time id as the first row is the very first time id\r\n",
    "book_example = book_example[~book_example['log_return'].isnull()]"
   ],
   "outputs": [],
   "metadata": {}
  },
  {
   "cell_type": "code",
   "execution_count": null,
   "source": [
    "book_example['log_return'].isnull().sum()"
   ],
   "outputs": [],
   "metadata": {}
  },
  {
   "cell_type": "markdown",
   "source": [
    "Let's plot the tick-to-tick return of this instrument over this time bucket"
   ],
   "metadata": {}
  },
  {
   "cell_type": "code",
   "execution_count": null,
   "source": [
    "fig = px.line(book_example, x=\"seconds_in_bucket\", y=\"log_return\", title='Log return of stock_id_0, time_id_5')\r\n",
    "fig.show()"
   ],
   "outputs": [],
   "metadata": {}
  },
  {
   "cell_type": "markdown",
   "source": [
    "###Realized volatility\r\n",
    "\r\n",
    "When we trade options, a valuable input to our models is the standard deviation of the stock log returns. The standard deviation will be different for log returns computed over longer or shorter intervals, for this reason it is usually normalized to a 1-year period and the annualized standard deviation is called volatility.\r\n",
    "\r\n",
    "In this competition, you will be given 10 minutes of book data and we ask you to predict what the volatility will be in the following 10 minutes. Volatility will be measured as follows:\r\n",
    "\r\n",
    "We will compute the log returns over all consecutive book updates and we define the realized volatility,  σ , as the squared root of the sum of squared log returns.\r\n",
    "\r\n",
    "\\sigma = \\sqrt{\\sum_{t}r_{t-1, t}^2}\r\n",
    " \r\n",
    "Where we use WAP as price of the stock to compute log returns.\r\n",
    "\r\n",
    "We want to keep definitions as simple and clear as possible, so that Kagglers without financial knowledge will not be penalized. So we are not annualizing the volatility and we are assuming that log returns have 0 mean.\r\n",
    "\r\n",
    "\r\n",
    "The realized vol of stock 0 in this feature bucket, will be:"
   ],
   "metadata": {}
  },
  {
   "cell_type": "code",
   "execution_count": null,
   "source": [
    "def realized_volatility(series_log_return):\r\n",
    "    return np.sqrt(np.sum(series_log_return**2))\r\n",
    "\r\n",
    "realized_vol = realized_volatility(book_example['log_return'])\r\n",
    "print(f'Realized volatility for stock_id 0 on time_id 5 is {realized_vol}')"
   ],
   "outputs": [],
   "metadata": {}
  },
  {
   "cell_type": "markdown",
   "source": [
    "### Naive prediction: using past realized volatility as target\n",
    "\n",
    "A commonly known fact about volatility is that it tends to be autocorrelated. We can use this property to implement a naive model that just \"predicts\" realized volatility by using whatever the realized volatility was in the initial 10 minutes.\n",
    "\n",
    "Let's calculate the past realized volatility across the training set to see how predictive a single naive signal can be."
   ],
   "metadata": {}
  },
  {
   "cell_type": "code",
   "execution_count": 2,
   "source": [
    "import glob\r\n",
    "list_order_book_file_train = glob.glob('c:\\\\optiver-realized-volatility-prediction\\\\book_train.parquet/*')\r\n",
    "list_trade_book_file_train = glob.glob('c:\\\\optiver-realized-volatility-prediction\\\\trade_train.parquet/*')\r\n",
    "#list_order_book_file_train"
   ],
   "outputs": [],
   "metadata": {}
  },
  {
   "cell_type": "markdown",
   "source": [
    "As the data is partitioned by stock_id (each stock id is one folder), we try to calculcate realized volatility stock by stock and combine them into one target file. Note that the stock id as the partition column is not present if we load the single file so we will remedy that manually. We will reuse the log return and realized volatility functions defined in the previous session."
   ],
   "metadata": {}
  },
  {
   "cell_type": "code",
   "execution_count": 3,
   "source": [
    "def compute_wap(df_stock_book):\r\n",
    "       df_stock_book['bid_price'] = (df_stock_book['bid_price1'] * df_stock_book['bid_size1'] + df_stock_book['bid_price2'] * df_stock_book['bid_size2'])/(df_stock_book['bid_size1'] + df_stock_book['bid_size2'])\r\n",
    "       df_stock_book['bid_size'] = (df_stock_book['bid_size1'] + df_stock_book['bid_size2'])\r\n",
    "\r\n",
    "       df_stock_book['ask_price'] = (df_stock_book['ask_price1'] * df_stock_book['ask_size1'] + df_stock_book['ask_price2'] * df_stock_book['ask_size2'])/(df_stock_book['ask_size1'] + df_stock_book['ask_size2'])\r\n",
    "       df_stock_book['ask_size'] = (df_stock_book['ask_size1'] + df_stock_book['ask_size2'])\r\n",
    "\r\n",
    "       df_stock_book['wap'] = (df_stock_book['bid_price'] * df_stock_book['ask_size'] + df_stock_book['ask_price'] * df_stock_book['bid_size']) / (df_stock_book['bid_size'] +  df_stock_book['ask_size'])\r\n",
    "       return df_stock_book['wap']"
   ],
   "outputs": [],
   "metadata": {}
  },
  {
   "cell_type": "code",
   "execution_count": 3,
   "source": [
    "# def realized_volatility_per_time_id(file_path, prediction_column_name):\r\n",
    "#     df_book_data = pd.read_parquet(file_path)\r\n",
    "# #    df_book_data['wap'] = (df_book_data['bid_price1'] * df_book_data['ask_size1']+df_book_data['ask_price1'] * df_book_data['bid_size1'])  / (\r\n",
    "# #                                     df_book_data['bid_size1']+ df_book_data[\r\n",
    "# #                                  'ask_size1'])\r\n",
    "#     df_book_data['wap'] = compute_wap(df_book_data)\r\n",
    "#     df_book_data['log_return'] = df_book_data.groupby(['time_id'])['wap'].apply(log_return)\r\n",
    "#     df_book_data = df_book_data[~df_book_data['log_return'].isnull()]\r\n",
    "#     df_realized_vol_per_stock =  pd.DataFrame(df_book_data.groupby(['time_id'])['log_return'].agg(realized_volatility)).reset_index()\r\n",
    "#     df_realized_vol_per_stock = df_realized_vol_per_stock.rename(columns = {'log_return':prediction_column_name})\r\n",
    "#     stock_id = file_path.split('=')[1]\r\n",
    "#     df_realized_vol_per_stock['row_id'] = df_realized_vol_per_stock['time_id'].apply(lambda x:f'{stock_id}-{x}')\r\n",
    "#     return df_realized_vol_per_stock[['row_id',prediction_column_name]]"
   ],
   "outputs": [],
   "metadata": {}
  },
  {
   "cell_type": "code",
   "execution_count": 4,
   "source": [
    "# df_order_book = pd.DataFrame()\r\n",
    "# for file in list_order_book_file_train:\r\n",
    "#      df_stock_book = pd.read_parquet(file)\r\n",
    "#      df_stock_book['stock_id'] = file.split('=')[1]\r\n",
    "#      df_order_book = pd.concat([df_order_book,df_stock_book])\r\n"
   ],
   "outputs": [],
   "metadata": {}
  },
  {
   "cell_type": "code",
   "execution_count": 4,
   "source": [
    "import random\r\n",
    "# # Get current state and store\r\n",
    "# state = random.getstate()\r\n",
    "# # set current state\r\n",
    "# random.setstate(state)\r\n",
    "random.seed(42)\r\n",
    "list_order_book_file_train_25 = random.sample(list_order_book_file_train, 25)\r\n",
    "list_trade_book_file_train_25 = [ l.replace('book','trade') for l in list_order_book_file_train_25]\r\n",
    "#list_trade_book_file_train_50 = random.sample(list_trade_book_file_train, 50)\r\n",
    "# list_order_book_file_train_50_old = list_order_book_file_train_50\r\n",
    "# random.seed(42)\r\n",
    "# list_order_book_file_train_50 = random.sample(list_order_book_file_train, 5)\r\n",
    "# assert(list_order_book_file_train_50 == list_order_book_file_train_50_old)\r\n",
    "#list(zip(list_order_book_file_train_50,list_order_book_file_train_50_old))"
   ],
   "outputs": [],
   "metadata": {}
  },
  {
   "cell_type": "code",
   "execution_count": 6,
   "source": [
    "!pip install pyarrow"
   ],
   "outputs": [
    {
     "output_type": "stream",
     "name": "stdout",
     "text": [
      "Requirement already satisfied: pyarrow in c:\\programdata\\anaconda3\\lib\\site-packages (4.0.0)\n",
      "Requirement already satisfied: numpy>=1.16.6 in c:\\programdata\\anaconda3\\lib\\site-packages (from pyarrow) (1.19.1)\n"
     ]
    }
   ],
   "metadata": {}
  },
  {
   "cell_type": "code",
   "execution_count": null,
   "source": [
    "pd.io.parquet.get_engine('auto')\r\n",
    "pd.io.parquet.PyArrowImpl()"
   ],
   "outputs": [],
   "metadata": {}
  },
  {
   "cell_type": "code",
   "execution_count": 5,
   "source": [
    "# df_order_book_50 = pd.DataFrame()\r\n",
    "# df_trade_book_50 = pd.DataFrame()\r\n",
    "# for file in list_order_book_file_train_50:\r\n",
    "#      df_stock_book = pd.read_parquet(file)\r\n",
    "#      df_stock_book['stock_id'] = file.split('=')[1]\r\n",
    "#      df_order_book_50 = pd.concat([df_order_book_50,df_stock_book])\r\n",
    "\r\n",
    "\r\n",
    "\r\n",
    "df_order_book_25 = pd.DataFrame()\r\n",
    "for file in list_order_book_file_train_25:\r\n",
    "     df_stock_book = pd.read_parquet(file)\r\n",
    "     df_stock_book['stock_id'] = file.split('=')[1]\r\n",
    "     df_order_book_25 = pd.concat([df_order_book_25,df_stock_book])\r\n",
    "\r\n",
    "\r\n",
    "df_trade_book_25 = pd.DataFrame()\r\n",
    "for file in list_trade_book_file_train_25:\r\n",
    "     df_stock_book = pd.read_parquet(file)\r\n",
    "     df_stock_book['stock_id'] = file.split('=')[1]\r\n",
    "     df_trade_book_25 = pd.concat([df_trade_book_25,df_stock_book])\r\n"
   ],
   "outputs": [],
   "metadata": {}
  },
  {
   "cell_type": "code",
   "execution_count": 10,
   "source": [
    "df_order_book_25.stock_id.unique(),df_trade_book_25.stock_id.unique()\r\n"
   ],
   "outputs": [
    {
     "output_type": "execute_result",
     "data": {
      "text/plain": [
       "(array(['68', '111', '100', '81', '2', '16', '13', '114', '96', '110',\n",
       "        '73', '9', '55', '109', '61', '39', '101', '97', '85', '126', '14',\n",
       "        '5', '63', '87', '58'], dtype=object),\n",
       " array(['68', '111', '100', '81', '2', '16', '13', '114', '96', '110',\n",
       "        '73', '9', '55', '109', '61', '39', '101', '97', '85', '126', '14',\n",
       "        '5', '63', '87', '58'], dtype=object))"
      ]
     },
     "metadata": {},
     "execution_count": 10
    }
   ],
   "metadata": {}
  },
  {
   "cell_type": "code",
   "execution_count": 11,
   "source": [
    "df_order_book_25.shape,df_trade_book_25.shape"
   ],
   "outputs": [
    {
     "output_type": "execute_result",
     "data": {
      "text/plain": [
       "((36889097, 11), (8110555, 6))"
      ]
     },
     "metadata": {},
     "execution_count": 11
    }
   ],
   "metadata": {}
  },
  {
   "cell_type": "code",
   "execution_count": null,
   "source": [
    "# df_order_book = pd.DataFrame()\r\n",
    "# for file in list_order_book_file_train:\r\n",
    "#      df_stock_book = pd.read_parquet(file)\r\n",
    "#      df_stock_book['stock_id'] = file.split('=')[1]\r\n",
    "#      df_order_book = pd.concat([df_order_book,df_stock_book])\r\n",
    "\r\n",
    "\r\n",
    "# df_trade_book = pd.DataFrame()\r\n",
    "# for file in list_trade_book_file_train:\r\n",
    "#      df_stock_book = pd.read_parquet(file)\r\n",
    "#      df_stock_book['stock_id'] = file.split('=')[1]\r\n",
    "#      df_trade_book = pd.concat([df_trade_book,df_stock_book])\r\n"
   ],
   "outputs": [],
   "metadata": {}
  },
  {
   "cell_type": "code",
   "execution_count": null,
   "source": [
    "#grouped.filter(a_lt_112)\r\n",
    "#len(df_order_book_50.loc[df_order_book_50.seconds_in_bucket == 0])\r\n",
    "#print(df_order_book_50.time_id.nunique(),df_order_book_50.stock_id.nunique(),df_order_book_50.seconds_in_bucket.nunique())\r\n",
    "#There are a total of 3830 time series, 112 stocks and 600 seconds bucket \r\n",
    "# In this 3830 Times Ids there are a maximum possible order booking of 3830*600 = 2,298,000. But the actual is  "
   ],
   "outputs": [],
   "metadata": {}
  },
  {
   "cell_type": "code",
   "execution_count": 6,
   "source": [
    "# with open('book_index.csv','w+') as f:\r\n",
    "#     for items in list(df_order_book_50.index):\r\n",
    "#         f.write('%s\\n' %items)\r\n",
    "#new_index\r\n",
    "df_order_book_25.reset_index(inplace=True,drop=True)\r\n",
    "df_trade_book_25.reset_index(inplace=True,drop=True)\r\n",
    "\r\n",
    "# df_order_book.reset_index(inplace=True,drop=True)\r\n",
    "# df_trade_book.reset_index(inplace=True,drop=True)\r\n",
    "\r\n",
    "#df_order_book_50.head(-1)\r\n",
    "#df_order_book_50[df_order_book_50.index != df_order_book_50['index']]\r\n",
    "#(72311913, 11)"
   ],
   "outputs": [],
   "metadata": {}
  },
  {
   "cell_type": "code",
   "execution_count": 13,
   "source": [
    "# #df_order_book_5.index\r\n",
    "# df_order_book_5_idxed = df_order_book_5.copy()\r\n",
    "# df_trade_book_5_idxed = df_trade_book_5.copy()\r\n"
   ],
   "outputs": [],
   "metadata": {}
  },
  {
   "cell_type": "code",
   "execution_count": 14,
   "source": [
    "# df_order_book_50_idxed.drop(columns=['index', 'bid_price1', 'ask_price1',\r\n",
    "#        'bid_price2', 'ask_price2', 'bid_size1', 'ask_size1', 'bid_size2',\r\n",
    "#        'ask_size2'],inplace=True)"
   ],
   "outputs": [],
   "metadata": {}
  },
  {
   "cell_type": "code",
   "execution_count": 7,
   "source": [
    "new_index = pd.Index(np.arange(0,600), name=\"seconds_in_bucket\")"
   ],
   "outputs": [],
   "metadata": {}
  },
  {
   "cell_type": "code",
   "execution_count": null,
   "source": [
    "print(df_order_book_5_idxed.shape, df_trade_book_5_idxed.shape)"
   ],
   "outputs": [],
   "metadata": {}
  },
  {
   "cell_type": "code",
   "execution_count": 30,
   "source": [
    "df_order_book_5_idxed.stock_id.unique()"
   ],
   "outputs": [
    {
     "output_type": "error",
     "ename": "NameError",
     "evalue": "name 'df_order_book_5_idxed' is not defined",
     "traceback": [
      "\u001b[1;31m---------------------------------------------------------------------------\u001b[0m",
      "\u001b[1;31mNameError\u001b[0m                                 Traceback (most recent call last)",
      "\u001b[1;32m~\\AppData\\Local\\Temp/ipykernel_10944/2888166430.py\u001b[0m in \u001b[0;36m<module>\u001b[1;34m\u001b[0m\n\u001b[1;32m----> 1\u001b[1;33m \u001b[0mdf_order_book_5_idxed\u001b[0m\u001b[1;33m.\u001b[0m\u001b[0mstock_id\u001b[0m\u001b[1;33m.\u001b[0m\u001b[0munique\u001b[0m\u001b[1;33m(\u001b[0m\u001b[1;33m)\u001b[0m\u001b[1;33m\u001b[0m\u001b[1;33m\u001b[0m\u001b[0m\n\u001b[0m",
      "\u001b[1;31mNameError\u001b[0m: name 'df_order_book_5_idxed' is not defined"
     ]
    }
   ],
   "metadata": {}
  },
  {
   "cell_type": "code",
   "execution_count": 31,
   "source": [
    "df_trade_book_5_idxed.stock_id.unique()"
   ],
   "outputs": [
    {
     "output_type": "error",
     "ename": "NameError",
     "evalue": "name 'df_trade_book_5_idxed' is not defined",
     "traceback": [
      "\u001b[1;31m---------------------------------------------------------------------------\u001b[0m",
      "\u001b[1;31mNameError\u001b[0m                                 Traceback (most recent call last)",
      "\u001b[1;32m~\\AppData\\Local\\Temp/ipykernel_10944/4184735005.py\u001b[0m in \u001b[0;36m<module>\u001b[1;34m\u001b[0m\n\u001b[1;32m----> 1\u001b[1;33m \u001b[0mdf_trade_book_5_idxed\u001b[0m\u001b[1;33m.\u001b[0m\u001b[0mstock_id\u001b[0m\u001b[1;33m.\u001b[0m\u001b[0munique\u001b[0m\u001b[1;33m(\u001b[0m\u001b[1;33m)\u001b[0m\u001b[1;33m\u001b[0m\u001b[1;33m\u001b[0m\u001b[0m\n\u001b[0m",
      "\u001b[1;31mNameError\u001b[0m: name 'df_trade_book_5_idxed' is not defined"
     ]
    }
   ],
   "metadata": {}
  },
  {
   "cell_type": "code",
   "execution_count": null,
   "source": [
    "#df_order_book_50_idxed.reindex( pd.MultiIndex.from_product([df_order_book_50_idxed['time_id'],df_order_book_50_idxed['stock_id'],new_index], names=['time_id', 'stock_id','seconds_in_bucket']))\r\n",
    "#df_order_book_50_idxed.reindex(pd.MultiIndex.from_frame(df_order_book_50_idxed[['time_id','stock_id','seconds_in_bucket']]))"
   ],
   "outputs": [],
   "metadata": {}
  },
  {
   "cell_type": "code",
   "execution_count": null,
   "source": [
    "#print(df_order_book_50_idxed.time_id.nunique(),df_order_book_50_idxed.stock_id.nunique(),df_order_book_50_idxed.seconds_in_bucket.nunique())\r\n",
    "#df_order_book_50_idxed.set_index(['time_id','stock_id'],inplace=True)\r\n",
    "#72311913 rows × 9 columns\r\n",
    "# 72312513\r\n",
    "# 2,202,009,600"
   ],
   "outputs": [],
   "metadata": {}
  },
  {
   "cell_type": "code",
   "execution_count": null,
   "source": [
    "#for a given time_id and stiock_id itself, the number of \"seconds_in_bucket\" is not the same. THis is the same across\r\n",
    "#df_order_book_50_idxed.reindex(new_index,level=2)"
   ],
   "outputs": [],
   "metadata": {}
  },
  {
   "cell_type": "code",
   "execution_count": 8,
   "source": [
    "df_order_trade_merged = pd.merge(\r\n",
    "    df_order_book_25,\r\n",
    "    df_trade_book_25,\r\n",
    "    how=\"outer\",\r\n",
    "    on=['time_id','stock_id','seconds_in_bucket'],\r\n",
    "    sort=True,\r\n",
    "    suffixes=(\"_x\", \"_y\"),\r\n",
    "    copy=True,\r\n",
    "    indicator=False,\r\n",
    "    validate=\"m:m\"\r\n",
    ")"
   ],
   "outputs": [],
   "metadata": {}
  },
  {
   "cell_type": "code",
   "execution_count": 17,
   "source": [
    "df_order_trade_merged.shape"
   ],
   "outputs": [
    {
     "output_type": "execute_result",
     "data": {
      "text/plain": [
       "(36889098, 14)"
      ]
     },
     "metadata": {},
     "execution_count": 17
    }
   ],
   "metadata": {}
  },
  {
   "cell_type": "code",
   "execution_count": 18,
   "source": [
    "#df_order_trade_merged_5.info()\r\n",
    "#book_example.info()\r\n",
    "#trade_example.info()\r\n",
    "df_order_trade_merged.stock_id.unique()\r\n"
   ],
   "outputs": [
    {
     "output_type": "execute_result",
     "data": {
      "text/plain": [
       "array(['100', '101', '109', '110', '111', '114', '126', '13', '14', '16',\n",
       "       '2', '39', '5', '55', '58', '61', '63', '68', '73', '81', '85',\n",
       "       '87', '9', '96', '97'], dtype=object)"
      ]
     },
     "metadata": {},
     "execution_count": 18
    }
   ],
   "metadata": {}
  },
  {
   "cell_type": "code",
   "execution_count": 9,
   "source": [
    "df_order_trade_merged['stock_id'] = df_order_trade_merged['stock_id'].astype('int8')"
   ],
   "outputs": [],
   "metadata": {}
  },
  {
   "cell_type": "code",
   "execution_count": 10,
   "source": [
    "grouped = df_order_trade_merged.groupby(['time_id','stock_id'])\r\n",
    "#df_order_book_50_idxed.index.levels[2]"
   ],
   "outputs": [],
   "metadata": {}
  },
  {
   "cell_type": "code",
   "execution_count": 21,
   "source": [
    "grouped.count()"
   ],
   "outputs": [
    {
     "output_type": "execute_result",
     "data": {
      "text/html": [
       "<div>\n",
       "<style scoped>\n",
       "    .dataframe tbody tr th:only-of-type {\n",
       "        vertical-align: middle;\n",
       "    }\n",
       "\n",
       "    .dataframe tbody tr th {\n",
       "        vertical-align: top;\n",
       "    }\n",
       "\n",
       "    .dataframe thead th {\n",
       "        text-align: right;\n",
       "    }\n",
       "</style>\n",
       "<table border=\"1\" class=\"dataframe\">\n",
       "  <thead>\n",
       "    <tr style=\"text-align: right;\">\n",
       "      <th></th>\n",
       "      <th></th>\n",
       "      <th>seconds_in_bucket</th>\n",
       "      <th>bid_price1</th>\n",
       "      <th>ask_price1</th>\n",
       "      <th>bid_price2</th>\n",
       "      <th>ask_price2</th>\n",
       "      <th>bid_size1</th>\n",
       "      <th>ask_size1</th>\n",
       "      <th>bid_size2</th>\n",
       "      <th>ask_size2</th>\n",
       "      <th>price</th>\n",
       "      <th>size</th>\n",
       "      <th>order_count</th>\n",
       "    </tr>\n",
       "    <tr>\n",
       "      <th>time_id</th>\n",
       "      <th>stock_id</th>\n",
       "      <th></th>\n",
       "      <th></th>\n",
       "      <th></th>\n",
       "      <th></th>\n",
       "      <th></th>\n",
       "      <th></th>\n",
       "      <th></th>\n",
       "      <th></th>\n",
       "      <th></th>\n",
       "      <th></th>\n",
       "      <th></th>\n",
       "      <th></th>\n",
       "    </tr>\n",
       "  </thead>\n",
       "  <tbody>\n",
       "    <tr>\n",
       "      <th rowspan=\"5\" valign=\"top\">5</th>\n",
       "      <th>2</th>\n",
       "      <td>583</td>\n",
       "      <td>583</td>\n",
       "      <td>583</td>\n",
       "      <td>583</td>\n",
       "      <td>583</td>\n",
       "      <td>583</td>\n",
       "      <td>583</td>\n",
       "      <td>583</td>\n",
       "      <td>583</td>\n",
       "      <td>159</td>\n",
       "      <td>159</td>\n",
       "      <td>159</td>\n",
       "    </tr>\n",
       "    <tr>\n",
       "      <th>5</th>\n",
       "      <td>250</td>\n",
       "      <td>250</td>\n",
       "      <td>250</td>\n",
       "      <td>250</td>\n",
       "      <td>250</td>\n",
       "      <td>250</td>\n",
       "      <td>250</td>\n",
       "      <td>250</td>\n",
       "      <td>250</td>\n",
       "      <td>36</td>\n",
       "      <td>36</td>\n",
       "      <td>36</td>\n",
       "    </tr>\n",
       "    <tr>\n",
       "      <th>9</th>\n",
       "      <td>265</td>\n",
       "      <td>265</td>\n",
       "      <td>265</td>\n",
       "      <td>265</td>\n",
       "      <td>265</td>\n",
       "      <td>265</td>\n",
       "      <td>265</td>\n",
       "      <td>265</td>\n",
       "      <td>265</td>\n",
       "      <td>40</td>\n",
       "      <td>40</td>\n",
       "      <td>40</td>\n",
       "    </tr>\n",
       "    <tr>\n",
       "      <th>13</th>\n",
       "      <td>502</td>\n",
       "      <td>502</td>\n",
       "      <td>502</td>\n",
       "      <td>502</td>\n",
       "      <td>502</td>\n",
       "      <td>502</td>\n",
       "      <td>502</td>\n",
       "      <td>502</td>\n",
       "      <td>502</td>\n",
       "      <td>74</td>\n",
       "      <td>74</td>\n",
       "      <td>74</td>\n",
       "    </tr>\n",
       "    <tr>\n",
       "      <th>14</th>\n",
       "      <td>591</td>\n",
       "      <td>591</td>\n",
       "      <td>591</td>\n",
       "      <td>591</td>\n",
       "      <td>591</td>\n",
       "      <td>591</td>\n",
       "      <td>591</td>\n",
       "      <td>591</td>\n",
       "      <td>591</td>\n",
       "      <td>276</td>\n",
       "      <td>276</td>\n",
       "      <td>276</td>\n",
       "    </tr>\n",
       "    <tr>\n",
       "      <th>...</th>\n",
       "      <th>...</th>\n",
       "      <td>...</td>\n",
       "      <td>...</td>\n",
       "      <td>...</td>\n",
       "      <td>...</td>\n",
       "      <td>...</td>\n",
       "      <td>...</td>\n",
       "      <td>...</td>\n",
       "      <td>...</td>\n",
       "      <td>...</td>\n",
       "      <td>...</td>\n",
       "      <td>...</td>\n",
       "      <td>...</td>\n",
       "    </tr>\n",
       "    <tr>\n",
       "      <th rowspan=\"5\" valign=\"top\">32767</th>\n",
       "      <th>109</th>\n",
       "      <td>257</td>\n",
       "      <td>257</td>\n",
       "      <td>257</td>\n",
       "      <td>257</td>\n",
       "      <td>257</td>\n",
       "      <td>257</td>\n",
       "      <td>257</td>\n",
       "      <td>257</td>\n",
       "      <td>257</td>\n",
       "      <td>39</td>\n",
       "      <td>39</td>\n",
       "      <td>39</td>\n",
       "    </tr>\n",
       "    <tr>\n",
       "      <th>110</th>\n",
       "      <td>157</td>\n",
       "      <td>157</td>\n",
       "      <td>157</td>\n",
       "      <td>157</td>\n",
       "      <td>157</td>\n",
       "      <td>157</td>\n",
       "      <td>157</td>\n",
       "      <td>157</td>\n",
       "      <td>157</td>\n",
       "      <td>20</td>\n",
       "      <td>20</td>\n",
       "      <td>20</td>\n",
       "    </tr>\n",
       "    <tr>\n",
       "      <th>111</th>\n",
       "      <td>572</td>\n",
       "      <td>572</td>\n",
       "      <td>572</td>\n",
       "      <td>572</td>\n",
       "      <td>572</td>\n",
       "      <td>572</td>\n",
       "      <td>572</td>\n",
       "      <td>572</td>\n",
       "      <td>572</td>\n",
       "      <td>80</td>\n",
       "      <td>80</td>\n",
       "      <td>80</td>\n",
       "    </tr>\n",
       "    <tr>\n",
       "      <th>114</th>\n",
       "      <td>277</td>\n",
       "      <td>277</td>\n",
       "      <td>277</td>\n",
       "      <td>277</td>\n",
       "      <td>277</td>\n",
       "      <td>277</td>\n",
       "      <td>277</td>\n",
       "      <td>277</td>\n",
       "      <td>277</td>\n",
       "      <td>52</td>\n",
       "      <td>52</td>\n",
       "      <td>52</td>\n",
       "    </tr>\n",
       "    <tr>\n",
       "      <th>126</th>\n",
       "      <td>217</td>\n",
       "      <td>217</td>\n",
       "      <td>217</td>\n",
       "      <td>217</td>\n",
       "      <td>217</td>\n",
       "      <td>217</td>\n",
       "      <td>217</td>\n",
       "      <td>217</td>\n",
       "      <td>217</td>\n",
       "      <td>36</td>\n",
       "      <td>36</td>\n",
       "      <td>36</td>\n",
       "    </tr>\n",
       "  </tbody>\n",
       "</table>\n",
       "<p>95748 rows × 12 columns</p>\n",
       "</div>"
      ],
      "text/plain": [
       "                  seconds_in_bucket  bid_price1  ask_price1  bid_price2  \\\n",
       "time_id stock_id                                                          \n",
       "5       2                       583         583         583         583   \n",
       "        5                       250         250         250         250   \n",
       "        9                       265         265         265         265   \n",
       "        13                      502         502         502         502   \n",
       "        14                      591         591         591         591   \n",
       "...                             ...         ...         ...         ...   \n",
       "32767   109                     257         257         257         257   \n",
       "        110                     157         157         157         157   \n",
       "        111                     572         572         572         572   \n",
       "        114                     277         277         277         277   \n",
       "        126                     217         217         217         217   \n",
       "\n",
       "                  ask_price2  bid_size1  ask_size1  bid_size2  ask_size2  \\\n",
       "time_id stock_id                                                           \n",
       "5       2                583        583        583        583        583   \n",
       "        5                250        250        250        250        250   \n",
       "        9                265        265        265        265        265   \n",
       "        13               502        502        502        502        502   \n",
       "        14               591        591        591        591        591   \n",
       "...                      ...        ...        ...        ...        ...   \n",
       "32767   109              257        257        257        257        257   \n",
       "        110              157        157        157        157        157   \n",
       "        111              572        572        572        572        572   \n",
       "        114              277        277        277        277        277   \n",
       "        126              217        217        217        217        217   \n",
       "\n",
       "                  price  size  order_count  \n",
       "time_id stock_id                            \n",
       "5       2           159   159          159  \n",
       "        5            36    36           36  \n",
       "        9            40    40           40  \n",
       "        13           74    74           74  \n",
       "        14          276   276          276  \n",
       "...                 ...   ...          ...  \n",
       "32767   109          39    39           39  \n",
       "        110          20    20           20  \n",
       "        111          80    80           80  \n",
       "        114          52    52           52  \n",
       "        126          36    36           36  \n",
       "\n",
       "[95748 rows x 12 columns]"
      ]
     },
     "metadata": {},
     "execution_count": 21
    }
   ],
   "metadata": {}
  },
  {
   "cell_type": "code",
   "execution_count": 11,
   "source": [
    "#grouped.seconds_in_bucket.max()\r\n",
    "#pd.concat([df_order_book_50_idxed],keys=new_index,names=['secs_in_bucket'])\r\n",
    "#nw_idx = pd.MultiIndex.append(df_order_book_50_idxed.index,other=new_index)\r\n",
    "#72312513\r\n",
    "#df_order_book_50_idxed.reset_index(pd.MultiIndex.from_arrays(arrays=[df_order_book_50_idxed.index.levels[0],df_order_book_50_idxed.index.levels[1],new_index]))\r\n",
    "#grouped.count()\r\n",
    "#191,473\r\n",
    "#191,500 (3830 time_id * 50 stocks). 27 rows are missing where some stock_id is not present for all time_ids.\r\n",
    "#114,883,800 rows should be there ideally  (191473 * 600). Actual number of rows are 72,311,913. There is a missing number of 42,571,887 rows during due to the missing secods_in_bucket\r\n",
    "#df_order_book_50_idxed.shape\r\n",
    "#len(df_order_book_50_idxed.index.levels[0]) * len(df_order_book_50_idxed.index.levels[1]) * len(new_index)\r\n",
    "#df_order_book_50_idxed.index.get_level_values(1)\r\n",
    "#df_order_book_50_idxed.reindex(pd.MultiIndex.from_product([df_order_book_50_idxed.index,new_index],names=['time_id', 'stock_id','secs_in_bucket']),method='nearest')\r\n",
    "#s=grouped.apply(lambda x : x.set_index('seconds_in_bucket').reindex(new_index).reset_index().ffill()).reset_index(drop=True)\r\n",
    "\r\n",
    "#s1=grouped.apply(lambda x : x.set_index('seconds_in_bucket'))\r\n",
    "# converts the column \"seconds_in_bucket\" into an index along with the other 2 index introduced by the GroupBy operation \r\n",
    "# it is as good as groupby (['time_id', 'stock_id','seconds_in_bucket'])\r\n",
    "# No use because the missing sequences is not introduced yet\r\n",
    "\r\n",
    "s2=grouped.apply(lambda x : x.set_index('seconds_in_bucket').reindex(new_index))\r\n",
    "# the best of all\r\n",
    "# creates a multiindex(['time_id', 'stock_id','seconds_in_bucket']) and also does not reintroduce the column \"seconds_in_bucket\" as a normal column into the dataframe\r\n",
    "\r\n",
    "#s3=grouped.apply(lambda x : x.set_index('seconds_in_bucket').reindex(new_index).reset_index())\r\n",
    "# creates a multiindex(['time_id', 'stock_id','seconds_in_bucket']) but reintroduces the column \"seconds_in_bucket\" as a normal column into the dataframe\r\n",
    "# 2nd best\r\n",
    "\r\n",
    "#s5=grouped.apply(lambda x : x.set_index('seconds_in_bucket').reindex(new_index).reset_index(drop=True))\r\n",
    "# creates a multiindex(['time_id', 'stock_id',None]). The \"seconds_in_bucket\" is used for the new sequential ordering but it is removed as index column name and also as removed a normal column. \r\n",
    "# the sequence introduced by the new_index only is used in the multiindex\r\n",
    "\r\n",
    "#s4=grouped.apply(lambda x : x.set_index('seconds_in_bucket').reindex(new_index).reset_index()).reset_index(drop=True)\r\n",
    "# resets the indx back to the original rangeIndex but introduces the sequential order. \r\n",
    "\r\n",
    "#s6=grouped.apply(lambda x : x.reindex(new_index))\r\n",
    "#introduce a new index as per names and values of \"new_index\" and the existing columns ['time_id', 'stock_id','seconds_in_bucket'] stay as it is.\r\n",
    "# BADLY resets all the values of all the columns in the dataframe to null (except of coursse the Index column values)\r\n",
    "\r\n",
    "#We can use the drop parameter to avoid the old index being added as a column:\r\n",
    "\r\n"
   ],
   "outputs": [],
   "metadata": {}
  },
  {
   "cell_type": "code",
   "execution_count": 12,
   "source": [
    "s2.drop(columns=['time_id','stock_id'],inplace=True)"
   ],
   "outputs": [],
   "metadata": {}
  },
  {
   "cell_type": "code",
   "execution_count": 24,
   "source": [
    "s2.info()"
   ],
   "outputs": [
    {
     "output_type": "stream",
     "name": "stdout",
     "text": [
      "<class 'pandas.core.frame.DataFrame'>\n",
      "MultiIndex: 57448800 entries, (5, 2, 0) to (32767, 126, 599)\n",
      "Data columns (total 11 columns):\n",
      " #   Column       Dtype  \n",
      "---  ------       -----  \n",
      " 0   bid_price1   float32\n",
      " 1   ask_price1   float32\n",
      " 2   bid_price2   float32\n",
      " 3   ask_price2   float32\n",
      " 4   bid_size1    float64\n",
      " 5   ask_size1    float64\n",
      " 6   bid_size2    float64\n",
      " 7   ask_size2    float64\n",
      " 8   price        float32\n",
      " 9   size         float64\n",
      " 10  order_count  float64\n",
      "dtypes: float32(5), float64(6)\n",
      "memory usage: 3.9 GB\n"
     ]
    }
   ],
   "metadata": {}
  },
  {
   "cell_type": "code",
   "execution_count": 25,
   "source": [
    "print(s2.shape)"
   ],
   "outputs": [
    {
     "output_type": "stream",
     "name": "stdout",
     "text": [
      "(57448800, 11)\n"
     ]
    }
   ],
   "metadata": {}
  },
  {
   "cell_type": "code",
   "execution_count": 36,
   "source": [
    "print(s2.index)"
   ],
   "outputs": [
    {
     "output_type": "stream",
     "name": "stdout",
     "text": [
      "MultiIndex([(    5,   2,   0),\n",
      "            (    5,   2,   1),\n",
      "            (    5,   2,   2),\n",
      "            (    5,   2,   3),\n",
      "            (    5,   2,   4),\n",
      "            (    5,   2,   5),\n",
      "            (    5,   2,   6),\n",
      "            (    5,   2,   7),\n",
      "            (    5,   2,   8),\n",
      "            (    5,   2,   9),\n",
      "            ...\n",
      "            (32767, 126, 590),\n",
      "            (32767, 126, 591),\n",
      "            (32767, 126, 592),\n",
      "            (32767, 126, 593),\n",
      "            (32767, 126, 594),\n",
      "            (32767, 126, 595),\n",
      "            (32767, 126, 596),\n",
      "            (32767, 126, 597),\n",
      "            (32767, 126, 598),\n",
      "            (32767, 126, 599)],\n",
      "           names=['time_id', 'stock_id', 'seconds_in_bucket'], length=57448800)\n"
     ]
    }
   ],
   "metadata": {}
  },
  {
   "cell_type": "code",
   "execution_count": 59,
   "source": [
    "#s2[['bid_size1','ask_size1','bid_size2','ask_size2']] = s2[['bid_size1','ask_size1','bid_size2','ask_size2']].astype('int16')\r\n",
    "#s2['stock_id'] = s2['stock_id'].astype('int8')\r\n",
    "# s.info()\r\n",
    "# #s = s.reindex(columns=['time_id','stock_id','seconds_in_bucket'])"
   ],
   "outputs": [],
   "metadata": {}
  },
  {
   "cell_type": "code",
   "execution_count": 60,
   "source": [
    "s2.head()"
   ],
   "outputs": [
    {
     "output_type": "execute_result",
     "data": {
      "text/html": [
       "<div>\n",
       "<style scoped>\n",
       "    .dataframe tbody tr th:only-of-type {\n",
       "        vertical-align: middle;\n",
       "    }\n",
       "\n",
       "    .dataframe tbody tr th {\n",
       "        vertical-align: top;\n",
       "    }\n",
       "\n",
       "    .dataframe thead th {\n",
       "        text-align: right;\n",
       "    }\n",
       "</style>\n",
       "<table border=\"1\" class=\"dataframe\">\n",
       "  <thead>\n",
       "    <tr style=\"text-align: right;\">\n",
       "      <th></th>\n",
       "      <th></th>\n",
       "      <th></th>\n",
       "      <th>bid_price1</th>\n",
       "      <th>ask_price1</th>\n",
       "      <th>bid_price2</th>\n",
       "      <th>ask_price2</th>\n",
       "      <th>bid_size1</th>\n",
       "      <th>ask_size1</th>\n",
       "      <th>bid_size2</th>\n",
       "      <th>ask_size2</th>\n",
       "      <th>price</th>\n",
       "      <th>size</th>\n",
       "      <th>order_count</th>\n",
       "    </tr>\n",
       "    <tr>\n",
       "      <th>time_id</th>\n",
       "      <th>stock_id</th>\n",
       "      <th>seconds_in_bucket</th>\n",
       "      <th></th>\n",
       "      <th></th>\n",
       "      <th></th>\n",
       "      <th></th>\n",
       "      <th></th>\n",
       "      <th></th>\n",
       "      <th></th>\n",
       "      <th></th>\n",
       "      <th></th>\n",
       "      <th></th>\n",
       "      <th></th>\n",
       "    </tr>\n",
       "  </thead>\n",
       "  <tbody>\n",
       "    <tr>\n",
       "      <th rowspan=\"5\" valign=\"top\">5</th>\n",
       "      <th rowspan=\"5\" valign=\"top\">2</th>\n",
       "      <th>0</th>\n",
       "      <td>1.000607</td>\n",
       "      <td>1.000769</td>\n",
       "      <td>1.000526</td>\n",
       "      <td>1.00085</td>\n",
       "      <td>100.0</td>\n",
       "      <td>200.0</td>\n",
       "      <td>1.0</td>\n",
       "      <td>1.0</td>\n",
       "      <td>1.000688</td>\n",
       "      <td>101.0</td>\n",
       "      <td>2.0</td>\n",
       "    </tr>\n",
       "    <tr>\n",
       "      <th>1</th>\n",
       "      <td>1.000526</td>\n",
       "      <td>1.000769</td>\n",
       "      <td>1.000445</td>\n",
       "      <td>1.00085</td>\n",
       "      <td>1.0</td>\n",
       "      <td>200.0</td>\n",
       "      <td>100.0</td>\n",
       "      <td>101.0</td>\n",
       "      <td>NaN</td>\n",
       "      <td>NaN</td>\n",
       "      <td>NaN</td>\n",
       "    </tr>\n",
       "    <tr>\n",
       "      <th>2</th>\n",
       "      <td>1.000526</td>\n",
       "      <td>1.000769</td>\n",
       "      <td>1.000364</td>\n",
       "      <td>1.00085</td>\n",
       "      <td>1.0</td>\n",
       "      <td>300.0</td>\n",
       "      <td>112.0</td>\n",
       "      <td>101.0</td>\n",
       "      <td>NaN</td>\n",
       "      <td>NaN</td>\n",
       "      <td>NaN</td>\n",
       "    </tr>\n",
       "    <tr>\n",
       "      <th>3</th>\n",
       "      <td>1.000607</td>\n",
       "      <td>1.000769</td>\n",
       "      <td>1.000526</td>\n",
       "      <td>1.00085</td>\n",
       "      <td>100.0</td>\n",
       "      <td>300.0</td>\n",
       "      <td>1.0</td>\n",
       "      <td>1.0</td>\n",
       "      <td>NaN</td>\n",
       "      <td>NaN</td>\n",
       "      <td>NaN</td>\n",
       "    </tr>\n",
       "    <tr>\n",
       "      <th>4</th>\n",
       "      <td>1.000526</td>\n",
       "      <td>1.000769</td>\n",
       "      <td>1.000445</td>\n",
       "      <td>1.00085</td>\n",
       "      <td>1.0</td>\n",
       "      <td>300.0</td>\n",
       "      <td>300.0</td>\n",
       "      <td>101.0</td>\n",
       "      <td>NaN</td>\n",
       "      <td>NaN</td>\n",
       "      <td>NaN</td>\n",
       "    </tr>\n",
       "  </tbody>\n",
       "</table>\n",
       "</div>"
      ],
      "text/plain": [
       "                                    bid_price1  ask_price1  bid_price2  \\\n",
       "time_id stock_id seconds_in_bucket                                       \n",
       "5       2        0                    1.000607    1.000769    1.000526   \n",
       "                 1                    1.000526    1.000769    1.000445   \n",
       "                 2                    1.000526    1.000769    1.000364   \n",
       "                 3                    1.000607    1.000769    1.000526   \n",
       "                 4                    1.000526    1.000769    1.000445   \n",
       "\n",
       "                                    ask_price2  bid_size1  ask_size1  \\\n",
       "time_id stock_id seconds_in_bucket                                     \n",
       "5       2        0                     1.00085      100.0      200.0   \n",
       "                 1                     1.00085        1.0      200.0   \n",
       "                 2                     1.00085        1.0      300.0   \n",
       "                 3                     1.00085      100.0      300.0   \n",
       "                 4                     1.00085        1.0      300.0   \n",
       "\n",
       "                                    bid_size2  ask_size2     price   size  \\\n",
       "time_id stock_id seconds_in_bucket                                          \n",
       "5       2        0                        1.0        1.0  1.000688  101.0   \n",
       "                 1                      100.0      101.0       NaN    NaN   \n",
       "                 2                      112.0      101.0       NaN    NaN   \n",
       "                 3                        1.0        1.0       NaN    NaN   \n",
       "                 4                      300.0      101.0       NaN    NaN   \n",
       "\n",
       "                                    order_count  \n",
       "time_id stock_id seconds_in_bucket               \n",
       "5       2        0                          2.0  \n",
       "                 1                          NaN  \n",
       "                 2                          NaN  \n",
       "                 3                          NaN  \n",
       "                 4                          NaN  "
      ]
     },
     "metadata": {},
     "execution_count": 60
    }
   ],
   "metadata": {}
  },
  {
   "cell_type": "code",
   "execution_count": 26,
   "source": [
    "s2.isnull().sum()\r\n",
    "#3029793"
   ],
   "outputs": [
    {
     "output_type": "execute_result",
     "data": {
      "text/plain": [
       "bid_price1     20559703\n",
       "ask_price1     20559703\n",
       "bid_price2     20559703\n",
       "ask_price2     20559703\n",
       "bid_size1      20559703\n",
       "ask_size1      20559703\n",
       "bid_size2      20559703\n",
       "ask_size2      20559703\n",
       "price          49338245\n",
       "size           49338245\n",
       "order_count    49338245\n",
       "dtype: int64"
      ]
     },
     "metadata": {},
     "execution_count": 26
    }
   ],
   "metadata": {}
  },
  {
   "cell_type": "code",
   "execution_count": 27,
   "source": [
    "# #s.drop(columns=['index'],inplace=True)\r\n",
    "# nw_idx = pd.MultiIndex.from_frame(s[['time_id', 'stock_id','seconds_in_bucket']])\r\n",
    "# nw_idx.set_axis(nw_idx,axis = 1, inplace = False)\r\n",
    "# s.reindex(index=nw_idx, columns = ['bid_price1','ask_price1','bid_price2','ask_price2','bid_size1','ask_size1','bid_size2','ask_size2'],copy=False)\r\n",
    "#s.set_index(['time_id', 'stock_id','seconds_in_bucket'],inplace=True)"
   ],
   "outputs": [],
   "metadata": {}
  },
  {
   "cell_type": "code",
   "execution_count": 13,
   "source": [
    "s2[['size','order_count']] = s2[['size','order_count']].fillna(0) \r\n"
   ],
   "outputs": [],
   "metadata": {}
  },
  {
   "cell_type": "code",
   "execution_count": 29,
   "source": [
    "s2.isna().sum()"
   ],
   "outputs": [
    {
     "output_type": "execute_result",
     "data": {
      "text/plain": [
       "bid_price1     20559703\n",
       "ask_price1     20559703\n",
       "bid_price2     20559703\n",
       "ask_price2     20559703\n",
       "bid_size1      20559703\n",
       "ask_size1      20559703\n",
       "bid_size2      20559703\n",
       "ask_size2      20559703\n",
       "price          49338245\n",
       "size                  0\n",
       "order_count           0\n",
       "dtype: int64"
      ]
     },
     "metadata": {},
     "execution_count": 29
    }
   ],
   "metadata": {}
  },
  {
   "cell_type": "code",
   "execution_count": 30,
   "source": [
    "s2.loc(axis=0)[:,:,0].isna().sum()\r\n"
   ],
   "outputs": [
    {
     "output_type": "execute_result",
     "data": {
      "text/plain": [
       "bid_price1         0\n",
       "ask_price1         0\n",
       "bid_price2         0\n",
       "ask_price2         0\n",
       "bid_size1          0\n",
       "ask_size1          0\n",
       "bid_size2          0\n",
       "ask_size2          0\n",
       "price          75233\n",
       "size               0\n",
       "order_count        0\n",
       "dtype: int64"
      ]
     },
     "metadata": {},
     "execution_count": 30
    }
   ],
   "metadata": {}
  },
  {
   "cell_type": "code",
   "execution_count": 70,
   "source": [
    "s2.loc(axis=0)[:,:,0][s2.loc(axis=0)[:,:,0]['price'].isna()]"
   ],
   "outputs": [
    {
     "output_type": "execute_result",
     "data": {
      "text/html": [
       "<div>\n",
       "<style scoped>\n",
       "    .dataframe tbody tr th:only-of-type {\n",
       "        vertical-align: middle;\n",
       "    }\n",
       "\n",
       "    .dataframe tbody tr th {\n",
       "        vertical-align: top;\n",
       "    }\n",
       "\n",
       "    .dataframe thead th {\n",
       "        text-align: right;\n",
       "    }\n",
       "</style>\n",
       "<table border=\"1\" class=\"dataframe\">\n",
       "  <thead>\n",
       "    <tr style=\"text-align: right;\">\n",
       "      <th></th>\n",
       "      <th></th>\n",
       "      <th></th>\n",
       "      <th>bid_price1</th>\n",
       "      <th>ask_price1</th>\n",
       "      <th>bid_price2</th>\n",
       "      <th>ask_price2</th>\n",
       "      <th>bid_size1</th>\n",
       "      <th>ask_size1</th>\n",
       "      <th>bid_size2</th>\n",
       "      <th>ask_size2</th>\n",
       "      <th>price</th>\n",
       "      <th>size</th>\n",
       "      <th>order_count</th>\n",
       "    </tr>\n",
       "    <tr>\n",
       "      <th>time_id</th>\n",
       "      <th>stock_id</th>\n",
       "      <th>seconds_in_bucket</th>\n",
       "      <th></th>\n",
       "      <th></th>\n",
       "      <th></th>\n",
       "      <th></th>\n",
       "      <th></th>\n",
       "      <th></th>\n",
       "      <th></th>\n",
       "      <th></th>\n",
       "      <th></th>\n",
       "      <th></th>\n",
       "      <th></th>\n",
       "    </tr>\n",
       "  </thead>\n",
       "  <tbody>\n",
       "    <tr>\n",
       "      <th rowspan=\"3\" valign=\"top\">5</th>\n",
       "      <th>68</th>\n",
       "      <th>0</th>\n",
       "      <td>1.000354</td>\n",
       "      <td>1.000472</td>\n",
       "      <td>1.000236</td>\n",
       "      <td>1.000591</td>\n",
       "      <td>101.0</td>\n",
       "      <td>40.0</td>\n",
       "      <td>201.0</td>\n",
       "      <td>321.0</td>\n",
       "      <td>NaN</td>\n",
       "      <td>0.0</td>\n",
       "      <td>0.0</td>\n",
       "    </tr>\n",
       "    <tr>\n",
       "      <th>100</th>\n",
       "      <th>0</th>\n",
       "      <td>0.999077</td>\n",
       "      <td>1.000103</td>\n",
       "      <td>0.999009</td>\n",
       "      <td>1.000239</td>\n",
       "      <td>100.0</td>\n",
       "      <td>7.0</td>\n",
       "      <td>64.0</td>\n",
       "      <td>100.0</td>\n",
       "      <td>NaN</td>\n",
       "      <td>0.0</td>\n",
       "      <td>0.0</td>\n",
       "    </tr>\n",
       "    <tr>\n",
       "      <th>111</th>\n",
       "      <th>0</th>\n",
       "      <td>1.001884</td>\n",
       "      <td>1.002048</td>\n",
       "      <td>1.001720</td>\n",
       "      <td>1.002211</td>\n",
       "      <td>500.0</td>\n",
       "      <td>509.0</td>\n",
       "      <td>710.0</td>\n",
       "      <td>2091.0</td>\n",
       "      <td>NaN</td>\n",
       "      <td>0.0</td>\n",
       "      <td>0.0</td>\n",
       "    </tr>\n",
       "    <tr>\n",
       "      <th rowspan=\"2\" valign=\"top\">11</th>\n",
       "      <th>68</th>\n",
       "      <th>0</th>\n",
       "      <td>0.999941</td>\n",
       "      <td>1.000059</td>\n",
       "      <td>0.999824</td>\n",
       "      <td>1.000176</td>\n",
       "      <td>100.0</td>\n",
       "      <td>200.0</td>\n",
       "      <td>200.0</td>\n",
       "      <td>300.0</td>\n",
       "      <td>NaN</td>\n",
       "      <td>0.0</td>\n",
       "      <td>0.0</td>\n",
       "    </tr>\n",
       "    <tr>\n",
       "      <th>81</th>\n",
       "      <th>0</th>\n",
       "      <td>0.996471</td>\n",
       "      <td>0.996785</td>\n",
       "      <td>0.996419</td>\n",
       "      <td>0.997569</td>\n",
       "      <td>286.0</td>\n",
       "      <td>201.0</td>\n",
       "      <td>20.0</td>\n",
       "      <td>100.0</td>\n",
       "      <td>NaN</td>\n",
       "      <td>0.0</td>\n",
       "      <td>0.0</td>\n",
       "    </tr>\n",
       "    <tr>\n",
       "      <th>...</th>\n",
       "      <th>...</th>\n",
       "      <th>...</th>\n",
       "      <td>...</td>\n",
       "      <td>...</td>\n",
       "      <td>...</td>\n",
       "      <td>...</td>\n",
       "      <td>...</td>\n",
       "      <td>...</td>\n",
       "      <td>...</td>\n",
       "      <td>...</td>\n",
       "      <td>...</td>\n",
       "      <td>...</td>\n",
       "      <td>...</td>\n",
       "    </tr>\n",
       "    <tr>\n",
       "      <th rowspan=\"2\" valign=\"top\">32763</th>\n",
       "      <th>68</th>\n",
       "      <th>0</th>\n",
       "      <td>0.998702</td>\n",
       "      <td>0.998975</td>\n",
       "      <td>0.998565</td>\n",
       "      <td>0.999112</td>\n",
       "      <td>123.0</td>\n",
       "      <td>201.0</td>\n",
       "      <td>396.0</td>\n",
       "      <td>100.0</td>\n",
       "      <td>NaN</td>\n",
       "      <td>0.0</td>\n",
       "      <td>0.0</td>\n",
       "    </tr>\n",
       "    <tr>\n",
       "      <th>100</th>\n",
       "      <th>0</th>\n",
       "      <td>1.004087</td>\n",
       "      <td>1.004697</td>\n",
       "      <td>1.003721</td>\n",
       "      <td>1.004941</td>\n",
       "      <td>100.0</td>\n",
       "      <td>9.0</td>\n",
       "      <td>200.0</td>\n",
       "      <td>200.0</td>\n",
       "      <td>NaN</td>\n",
       "      <td>0.0</td>\n",
       "      <td>0.0</td>\n",
       "    </tr>\n",
       "    <tr>\n",
       "      <th rowspan=\"3\" valign=\"top\">32767</th>\n",
       "      <th>2</th>\n",
       "      <th>0</th>\n",
       "      <td>0.999298</td>\n",
       "      <td>0.999454</td>\n",
       "      <td>0.999220</td>\n",
       "      <td>0.999532</td>\n",
       "      <td>408.0</td>\n",
       "      <td>300.0</td>\n",
       "      <td>600.0</td>\n",
       "      <td>500.0</td>\n",
       "      <td>NaN</td>\n",
       "      <td>0.0</td>\n",
       "      <td>0.0</td>\n",
       "    </tr>\n",
       "    <tr>\n",
       "      <th>68</th>\n",
       "      <th>0</th>\n",
       "      <td>1.000636</td>\n",
       "      <td>1.000764</td>\n",
       "      <td>1.000509</td>\n",
       "      <td>1.000891</td>\n",
       "      <td>300.0</td>\n",
       "      <td>211.0</td>\n",
       "      <td>400.0</td>\n",
       "      <td>8.0</td>\n",
       "      <td>NaN</td>\n",
       "      <td>0.0</td>\n",
       "      <td>0.0</td>\n",
       "    </tr>\n",
       "    <tr>\n",
       "      <th>81</th>\n",
       "      <th>0</th>\n",
       "      <td>0.998934</td>\n",
       "      <td>0.999645</td>\n",
       "      <td>0.998815</td>\n",
       "      <td>0.999763</td>\n",
       "      <td>100.0</td>\n",
       "      <td>200.0</td>\n",
       "      <td>300.0</td>\n",
       "      <td>100.0</td>\n",
       "      <td>NaN</td>\n",
       "      <td>0.0</td>\n",
       "      <td>0.0</td>\n",
       "    </tr>\n",
       "  </tbody>\n",
       "</table>\n",
       "<p>14413 rows × 11 columns</p>\n",
       "</div>"
      ],
      "text/plain": [
       "                                    bid_price1  ask_price1  bid_price2  \\\n",
       "time_id stock_id seconds_in_bucket                                       \n",
       "5       68       0                    1.000354    1.000472    1.000236   \n",
       "        100      0                    0.999077    1.000103    0.999009   \n",
       "        111      0                    1.001884    1.002048    1.001720   \n",
       "11      68       0                    0.999941    1.000059    0.999824   \n",
       "        81       0                    0.996471    0.996785    0.996419   \n",
       "...                                        ...         ...         ...   \n",
       "32763   68       0                    0.998702    0.998975    0.998565   \n",
       "        100      0                    1.004087    1.004697    1.003721   \n",
       "32767   2        0                    0.999298    0.999454    0.999220   \n",
       "        68       0                    1.000636    1.000764    1.000509   \n",
       "        81       0                    0.998934    0.999645    0.998815   \n",
       "\n",
       "                                    ask_price2  bid_size1  ask_size1  \\\n",
       "time_id stock_id seconds_in_bucket                                     \n",
       "5       68       0                    1.000591      101.0       40.0   \n",
       "        100      0                    1.000239      100.0        7.0   \n",
       "        111      0                    1.002211      500.0      509.0   \n",
       "11      68       0                    1.000176      100.0      200.0   \n",
       "        81       0                    0.997569      286.0      201.0   \n",
       "...                                        ...        ...        ...   \n",
       "32763   68       0                    0.999112      123.0      201.0   \n",
       "        100      0                    1.004941      100.0        9.0   \n",
       "32767   2        0                    0.999532      408.0      300.0   \n",
       "        68       0                    1.000891      300.0      211.0   \n",
       "        81       0                    0.999763      100.0      200.0   \n",
       "\n",
       "                                    bid_size2  ask_size2  price  size  \\\n",
       "time_id stock_id seconds_in_bucket                                      \n",
       "5       68       0                      201.0      321.0    NaN   0.0   \n",
       "        100      0                       64.0      100.0    NaN   0.0   \n",
       "        111      0                      710.0     2091.0    NaN   0.0   \n",
       "11      68       0                      200.0      300.0    NaN   0.0   \n",
       "        81       0                       20.0      100.0    NaN   0.0   \n",
       "...                                       ...        ...    ...   ...   \n",
       "32763   68       0                      396.0      100.0    NaN   0.0   \n",
       "        100      0                      200.0      200.0    NaN   0.0   \n",
       "32767   2        0                      600.0      500.0    NaN   0.0   \n",
       "        68       0                      400.0        8.0    NaN   0.0   \n",
       "        81       0                      300.0      100.0    NaN   0.0   \n",
       "\n",
       "                                    order_count  \n",
       "time_id stock_id seconds_in_bucket               \n",
       "5       68       0                          0.0  \n",
       "        100      0                          0.0  \n",
       "        111      0                          0.0  \n",
       "11      68       0                          0.0  \n",
       "        81       0                          0.0  \n",
       "...                                         ...  \n",
       "32763   68       0                          0.0  \n",
       "        100      0                          0.0  \n",
       "32767   2        0                          0.0  \n",
       "        68       0                          0.0  \n",
       "        81       0                          0.0  \n",
       "\n",
       "[14413 rows x 11 columns]"
      ]
     },
     "metadata": {},
     "execution_count": 70
    }
   ],
   "metadata": {}
  },
  {
   "cell_type": "code",
   "execution_count": null,
   "source": [
    "s2.head(10)"
   ],
   "outputs": [],
   "metadata": {}
  },
  {
   "cell_type": "code",
   "execution_count": 67,
   "source": [
    "s2.loc[32767,2,:].head(10)"
   ],
   "outputs": [
    {
     "output_type": "execute_result",
     "data": {
      "text/html": [
       "<div>\n",
       "<style scoped>\n",
       "    .dataframe tbody tr th:only-of-type {\n",
       "        vertical-align: middle;\n",
       "    }\n",
       "\n",
       "    .dataframe tbody tr th {\n",
       "        vertical-align: top;\n",
       "    }\n",
       "\n",
       "    .dataframe thead th {\n",
       "        text-align: right;\n",
       "    }\n",
       "</style>\n",
       "<table border=\"1\" class=\"dataframe\">\n",
       "  <thead>\n",
       "    <tr style=\"text-align: right;\">\n",
       "      <th></th>\n",
       "      <th></th>\n",
       "      <th></th>\n",
       "      <th>bid_price1</th>\n",
       "      <th>ask_price1</th>\n",
       "      <th>bid_price2</th>\n",
       "      <th>ask_price2</th>\n",
       "      <th>bid_size1</th>\n",
       "      <th>ask_size1</th>\n",
       "      <th>bid_size2</th>\n",
       "      <th>ask_size2</th>\n",
       "      <th>price</th>\n",
       "      <th>size</th>\n",
       "      <th>order_count</th>\n",
       "    </tr>\n",
       "    <tr>\n",
       "      <th>time_id</th>\n",
       "      <th>stock_id</th>\n",
       "      <th>seconds_in_bucket</th>\n",
       "      <th></th>\n",
       "      <th></th>\n",
       "      <th></th>\n",
       "      <th></th>\n",
       "      <th></th>\n",
       "      <th></th>\n",
       "      <th></th>\n",
       "      <th></th>\n",
       "      <th></th>\n",
       "      <th></th>\n",
       "      <th></th>\n",
       "    </tr>\n",
       "  </thead>\n",
       "  <tbody>\n",
       "    <tr>\n",
       "      <th rowspan=\"10\" valign=\"top\">32767</th>\n",
       "      <th rowspan=\"10\" valign=\"top\">2</th>\n",
       "      <th>0</th>\n",
       "      <td>0.999298</td>\n",
       "      <td>0.999454</td>\n",
       "      <td>0.999220</td>\n",
       "      <td>0.999532</td>\n",
       "      <td>408.0</td>\n",
       "      <td>300.0</td>\n",
       "      <td>600.0</td>\n",
       "      <td>500.0</td>\n",
       "      <td>NaN</td>\n",
       "      <td>0.0</td>\n",
       "      <td>0.0</td>\n",
       "    </tr>\n",
       "    <tr>\n",
       "      <th>1</th>\n",
       "      <td>0.999298</td>\n",
       "      <td>0.999454</td>\n",
       "      <td>0.999220</td>\n",
       "      <td>0.999532</td>\n",
       "      <td>408.0</td>\n",
       "      <td>400.0</td>\n",
       "      <td>600.0</td>\n",
       "      <td>500.0</td>\n",
       "      <td>NaN</td>\n",
       "      <td>0.0</td>\n",
       "      <td>0.0</td>\n",
       "    </tr>\n",
       "    <tr>\n",
       "      <th>2</th>\n",
       "      <td>NaN</td>\n",
       "      <td>NaN</td>\n",
       "      <td>NaN</td>\n",
       "      <td>NaN</td>\n",
       "      <td>NaN</td>\n",
       "      <td>NaN</td>\n",
       "      <td>NaN</td>\n",
       "      <td>NaN</td>\n",
       "      <td>NaN</td>\n",
       "      <td>0.0</td>\n",
       "      <td>0.0</td>\n",
       "    </tr>\n",
       "    <tr>\n",
       "      <th>3</th>\n",
       "      <td>0.999298</td>\n",
       "      <td>0.999376</td>\n",
       "      <td>0.999220</td>\n",
       "      <td>0.999454</td>\n",
       "      <td>108.0</td>\n",
       "      <td>300.0</td>\n",
       "      <td>600.0</td>\n",
       "      <td>600.0</td>\n",
       "      <td>NaN</td>\n",
       "      <td>0.0</td>\n",
       "      <td>0.0</td>\n",
       "    </tr>\n",
       "    <tr>\n",
       "      <th>4</th>\n",
       "      <td>0.999298</td>\n",
       "      <td>0.999376</td>\n",
       "      <td>0.999220</td>\n",
       "      <td>0.999454</td>\n",
       "      <td>308.0</td>\n",
       "      <td>200.0</td>\n",
       "      <td>600.0</td>\n",
       "      <td>600.0</td>\n",
       "      <td>0.999298</td>\n",
       "      <td>99.0</td>\n",
       "      <td>1.0</td>\n",
       "    </tr>\n",
       "    <tr>\n",
       "      <th>5</th>\n",
       "      <td>0.999298</td>\n",
       "      <td>0.999376</td>\n",
       "      <td>0.999220</td>\n",
       "      <td>0.999454</td>\n",
       "      <td>208.0</td>\n",
       "      <td>200.0</td>\n",
       "      <td>600.0</td>\n",
       "      <td>800.0</td>\n",
       "      <td>NaN</td>\n",
       "      <td>0.0</td>\n",
       "      <td>0.0</td>\n",
       "    </tr>\n",
       "    <tr>\n",
       "      <th>6</th>\n",
       "      <td>0.999220</td>\n",
       "      <td>0.999298</td>\n",
       "      <td>0.999143</td>\n",
       "      <td>0.999376</td>\n",
       "      <td>118.0</td>\n",
       "      <td>200.0</td>\n",
       "      <td>400.0</td>\n",
       "      <td>400.0</td>\n",
       "      <td>0.999298</td>\n",
       "      <td>308.0</td>\n",
       "      <td>6.0</td>\n",
       "    </tr>\n",
       "    <tr>\n",
       "      <th>7</th>\n",
       "      <td>0.999220</td>\n",
       "      <td>0.999298</td>\n",
       "      <td>0.999143</td>\n",
       "      <td>0.999376</td>\n",
       "      <td>108.0</td>\n",
       "      <td>300.0</td>\n",
       "      <td>400.0</td>\n",
       "      <td>600.0</td>\n",
       "      <td>NaN</td>\n",
       "      <td>0.0</td>\n",
       "      <td>0.0</td>\n",
       "    </tr>\n",
       "    <tr>\n",
       "      <th>8</th>\n",
       "      <td>0.999220</td>\n",
       "      <td>0.999298</td>\n",
       "      <td>0.999143</td>\n",
       "      <td>0.999376</td>\n",
       "      <td>108.0</td>\n",
       "      <td>200.0</td>\n",
       "      <td>400.0</td>\n",
       "      <td>700.0</td>\n",
       "      <td>NaN</td>\n",
       "      <td>0.0</td>\n",
       "      <td>0.0</td>\n",
       "    </tr>\n",
       "    <tr>\n",
       "      <th>9</th>\n",
       "      <td>0.999220</td>\n",
       "      <td>0.999298</td>\n",
       "      <td>0.999143</td>\n",
       "      <td>0.999376</td>\n",
       "      <td>208.0</td>\n",
       "      <td>200.0</td>\n",
       "      <td>400.0</td>\n",
       "      <td>700.0</td>\n",
       "      <td>NaN</td>\n",
       "      <td>0.0</td>\n",
       "      <td>0.0</td>\n",
       "    </tr>\n",
       "  </tbody>\n",
       "</table>\n",
       "</div>"
      ],
      "text/plain": [
       "                                    bid_price1  ask_price1  bid_price2  \\\n",
       "time_id stock_id seconds_in_bucket                                       \n",
       "32767   2        0                    0.999298    0.999454    0.999220   \n",
       "                 1                    0.999298    0.999454    0.999220   \n",
       "                 2                         NaN         NaN         NaN   \n",
       "                 3                    0.999298    0.999376    0.999220   \n",
       "                 4                    0.999298    0.999376    0.999220   \n",
       "                 5                    0.999298    0.999376    0.999220   \n",
       "                 6                    0.999220    0.999298    0.999143   \n",
       "                 7                    0.999220    0.999298    0.999143   \n",
       "                 8                    0.999220    0.999298    0.999143   \n",
       "                 9                    0.999220    0.999298    0.999143   \n",
       "\n",
       "                                    ask_price2  bid_size1  ask_size1  \\\n",
       "time_id stock_id seconds_in_bucket                                     \n",
       "32767   2        0                    0.999532      408.0      300.0   \n",
       "                 1                    0.999532      408.0      400.0   \n",
       "                 2                         NaN        NaN        NaN   \n",
       "                 3                    0.999454      108.0      300.0   \n",
       "                 4                    0.999454      308.0      200.0   \n",
       "                 5                    0.999454      208.0      200.0   \n",
       "                 6                    0.999376      118.0      200.0   \n",
       "                 7                    0.999376      108.0      300.0   \n",
       "                 8                    0.999376      108.0      200.0   \n",
       "                 9                    0.999376      208.0      200.0   \n",
       "\n",
       "                                    bid_size2  ask_size2     price   size  \\\n",
       "time_id stock_id seconds_in_bucket                                          \n",
       "32767   2        0                      600.0      500.0       NaN    0.0   \n",
       "                 1                      600.0      500.0       NaN    0.0   \n",
       "                 2                        NaN        NaN       NaN    0.0   \n",
       "                 3                      600.0      600.0       NaN    0.0   \n",
       "                 4                      600.0      600.0  0.999298   99.0   \n",
       "                 5                      600.0      800.0       NaN    0.0   \n",
       "                 6                      400.0      400.0  0.999298  308.0   \n",
       "                 7                      400.0      600.0       NaN    0.0   \n",
       "                 8                      400.0      700.0       NaN    0.0   \n",
       "                 9                      400.0      700.0       NaN    0.0   \n",
       "\n",
       "                                    order_count  \n",
       "time_id stock_id seconds_in_bucket               \n",
       "32767   2        0                          0.0  \n",
       "                 1                          0.0  \n",
       "                 2                          0.0  \n",
       "                 3                          0.0  \n",
       "                 4                          1.0  \n",
       "                 5                          0.0  \n",
       "                 6                          6.0  \n",
       "                 7                          0.0  \n",
       "                 8                          0.0  \n",
       "                 9                          0.0  "
      ]
     },
     "metadata": {},
     "execution_count": 67
    }
   ],
   "metadata": {}
  },
  {
   "cell_type": "code",
   "execution_count": null,
   "source": [
    "s2.loc[32767,68,:].head(10)"
   ],
   "outputs": [],
   "metadata": {}
  },
  {
   "cell_type": "code",
   "execution_count": null,
   "source": [
    "s2.loc[32767,81,:].head(40)"
   ],
   "outputs": [],
   "metadata": {}
  },
  {
   "cell_type": "code",
   "execution_count": null,
   "source": [
    "s2.loc[32767,100,:].head(1)"
   ],
   "outputs": [],
   "metadata": {}
  },
  {
   "cell_type": "code",
   "execution_count": null,
   "source": [
    "s2.loc[32767,111,:].head(1)"
   ],
   "outputs": [],
   "metadata": {}
  },
  {
   "cell_type": "code",
   "execution_count": null,
   "source": [
    "s2.index"
   ],
   "outputs": [],
   "metadata": {}
  },
  {
   "cell_type": "code",
   "execution_count": null,
   "source": [
    "# s2.fillna(method='bfill',limit=1,inplace=True,axis=0)"
   ],
   "outputs": [],
   "metadata": {}
  },
  {
   "cell_type": "code",
   "execution_count": 14,
   "source": [
    "bf = s2.groupby(['time_id','stock_id'])"
   ],
   "outputs": [],
   "metadata": {}
  },
  {
   "cell_type": "code",
   "execution_count": 15,
   "source": [
    "bf['price'].first()"
   ],
   "outputs": [
    {
     "output_type": "execute_result",
     "data": {
      "text/plain": [
       "time_id  stock_id\n",
       "5        2           1.000688\n",
       "         5           1.001091\n",
       "         9           1.005213\n",
       "         13          1.000129\n",
       "         14          1.000811\n",
       "                       ...   \n",
       "32767    109         0.999982\n",
       "         110         0.999921\n",
       "         111         1.000101\n",
       "         114         0.999952\n",
       "         126         1.000481\n",
       "Name: price, Length: 95748, dtype: float32"
      ]
     },
     "metadata": {},
     "execution_count": 15
    }
   ],
   "metadata": {}
  },
  {
   "cell_type": "code",
   "execution_count": 16,
   "source": [
    "#s2.loc[(:,:,0),'price'] = bf['price'].first()\r\n",
    "s2.loc[s2.index.get_level_values(2)==0,'price'] = bf['price'].first()"
   ],
   "outputs": [],
   "metadata": {}
  },
  {
   "cell_type": "code",
   "execution_count": null,
   "source": [
    "s2.loc[5,111,:].head(10)"
   ],
   "outputs": [],
   "metadata": {}
  },
  {
   "cell_type": "code",
   "execution_count": 17,
   "source": [
    "s2.isna().sum()"
   ],
   "outputs": [
    {
     "output_type": "execute_result",
     "data": {
      "text/plain": [
       "bid_price1     20559703\n",
       "ask_price1     20559703\n",
       "bid_price2     20559703\n",
       "ask_price2     20559703\n",
       "bid_size1      20559703\n",
       "ask_size1      20559703\n",
       "bid_size2      20559703\n",
       "ask_size2      20559703\n",
       "price          49263012\n",
       "size                  0\n",
       "order_count           0\n",
       "dtype: int64"
      ]
     },
     "metadata": {},
     "execution_count": 17
    }
   ],
   "metadata": {}
  },
  {
   "cell_type": "code",
   "execution_count": 18,
   "source": [
    "#s2.loc[:,:,1:] = s2.loc[:,:,1:].fillna(method='ffill')\r\n",
    "#s2.loc[:,:,1:].fillna(method='ffill',inplace=True)\r\n",
    "s2.fillna(method='ffill',inplace=True)"
   ],
   "outputs": [],
   "metadata": {}
  },
  {
   "cell_type": "code",
   "execution_count": 19,
   "source": [
    "s2.isna().sum()"
   ],
   "outputs": [
    {
     "output_type": "execute_result",
     "data": {
      "text/plain": [
       "bid_price1     0\n",
       "ask_price1     0\n",
       "bid_price2     0\n",
       "ask_price2     0\n",
       "bid_size1      0\n",
       "ask_size1      0\n",
       "bid_size2      0\n",
       "ask_size2      0\n",
       "price          0\n",
       "size           0\n",
       "order_count    0\n",
       "dtype: int64"
      ]
     },
     "metadata": {},
     "execution_count": 19
    }
   ],
   "metadata": {}
  },
  {
   "cell_type": "markdown",
   "source": [
    "Looping through each individual stocks, we can get the past realized volatility as prediction for each individual stocks."
   ],
   "metadata": {}
  },
  {
   "cell_type": "code",
   "execution_count": 20,
   "source": [
    "s2['order_count'] = s2['order_count'].astype('int16')\r\n",
    "s2[['bid_size1','ask_size1','bid_size2','ask_size2','size']] = s2[['bid_size1','ask_size1','bid_size2','ask_size2','size']].astype('int32')\r\n"
   ],
   "outputs": [],
   "metadata": {}
  },
  {
   "cell_type": "code",
   "execution_count": 38,
   "source": [
    "s2.info()"
   ],
   "outputs": [
    {
     "output_type": "stream",
     "name": "stdout",
     "text": [
      "<class 'pandas.core.frame.DataFrame'>\n",
      "MultiIndex: 57448800 entries, (5, 2, 0) to (32767, 126, 599)\n",
      "Data columns (total 11 columns):\n",
      " #   Column       Dtype  \n",
      "---  ------       -----  \n",
      " 0   bid_price1   float32\n",
      " 1   ask_price1   float32\n",
      " 2   bid_price2   float32\n",
      " 3   ask_price2   float32\n",
      " 4   bid_size1    int32  \n",
      " 5   ask_size1    int32  \n",
      " 6   bid_size2    int32  \n",
      " 7   ask_size2    int32  \n",
      " 8   price        float32\n",
      " 9   size         int32  \n",
      " 10  order_count  int16  \n",
      "dtypes: float32(5), int16(1), int32(5)\n",
      "memory usage: 2.5 GB\n"
     ]
    }
   ],
   "metadata": {}
  },
  {
   "cell_type": "code",
   "execution_count": 21,
   "source": [
    "# s2['bid_size'] = (s2['bid_size1'] + s2['bid_size2'])\r\n",
    "# s2['bid_price'] = (s2['bid_price1'] * s2['bid_size1'] + s2['bid_price2'] * s2['bid_size2'])/(s2['bid_size1'] + s2['bid_size2'])\r\n",
    "\r\n",
    "# s2['ask_size'] = (s2['ask_size1'] + s2['ask_size2'])\r\n",
    "# s2['ask_price'] = (s2['ask_price1'] * s2['ask_size1'] + s2['ask_price2'] * s2['ask_size2'])/(s2['ask_size1'] + s2['ask_size2'])\r\n",
    "\r\n",
    "#s2['wap'] = (((s2['bid_price1'] * s2['bid_size1'] + s2['bid_price2'] * s2['bid_size2'])/(s2['bid_size1'] + s2['bid_size2']) * (s2['ask_size1'] + s2['ask_size2'])) + ((s2['ask_price1'] * s2['ask_size1'] + s2['ask_price2'] * s2['ask_size2'])/(s2['ask_size1'] + s2['ask_size2'])) * (s2['bid_size1'] + s2['bid_size2'])) / ((s2['bid_size1'] + s2['bid_size2']) +  (s2['ask_size1'] + s2['ask_size2']))\r\n",
    "\r\n",
    "s2['order_wap'] = (((s2['bid_price1'] * s2['bid_size1'] + s2['bid_price2'] * s2['bid_size2'])/(s2['bid_size1'] + s2['bid_size2']) * (s2['ask_size1'] + s2['ask_size2'])) + ((s2['ask_price1'] * s2['ask_size1'] + s2['ask_price2'] * s2['ask_size2'])/(s2['ask_size1'] + s2['ask_size2'])) * (s2['bid_size1'] + s2['bid_size2'])) / ((s2['bid_size1'] + s2['bid_size2']) +  (s2['ask_size1'] + s2['ask_size2']))\r\n"
   ],
   "outputs": [],
   "metadata": {}
  },
  {
   "cell_type": "code",
   "execution_count": 22,
   "source": [
    "s2['trade_wap'] = s2.groupby(['time_id','stock_id'])['price'].apply(lambda x: x - x.mean())\r\n",
    "#s2['trade_wap_sq'] = s2.groupby(['time_id','stock_id'])['price'].apply(lambda x: x - x.mean())"
   ],
   "outputs": [],
   "metadata": {}
  },
  {
   "cell_type": "code",
   "execution_count": 23,
   "source": [
    "pd.options.display.float_format = '{:,.16f}'.format"
   ],
   "outputs": [],
   "metadata": {}
  },
  {
   "cell_type": "code",
   "execution_count": 24,
   "source": [
    "def log_return(list_stock_prices):\r\n",
    "    return np.log(list_stock_prices).diff()\r\n",
    "\r\n",
    "def trade_volatility(trade_wap_prices):\r\n",
    "    return np.sqrt(np.sum(trade_wap_prices**2)/len(trade_wap_prices))\r\n",
    "\r\n",
    "def order_volatility(series_log_return):\r\n",
    "    return np.sqrt(np.sum(series_log_return**2))"
   ],
   "outputs": [],
   "metadata": {}
  },
  {
   "cell_type": "code",
   "execution_count": 25,
   "source": [
    "s2['log_return'] = s2.groupby(['time_id','stock_id'])['order_wap'].apply(log_return)"
   ],
   "outputs": [],
   "metadata": {}
  },
  {
   "cell_type": "code",
   "execution_count": 26,
   "source": [
    "s2['log_return'].isna().sum()"
   ],
   "outputs": [
    {
     "output_type": "execute_result",
     "data": {
      "text/plain": [
       "95748"
      ]
     },
     "metadata": {},
     "execution_count": 26
    }
   ],
   "metadata": {}
  },
  {
   "cell_type": "code",
   "execution_count": 27,
   "source": [
    "#remove the rows with null values of log return\r\n",
    "#s2[~s2['log_return'].isnull()]['log_return']\r\n",
    "df_realized_vol_per_stock =  pd.DataFrame(s2[~s2['log_return'].isnull()]['log_return'].groupby(['time_id','stock_id']).agg(order_volatility))"
   ],
   "outputs": [],
   "metadata": {}
  },
  {
   "cell_type": "code",
   "execution_count": 28,
   "source": [
    "df_realized_vol_per_stock.isna().sum()"
   ],
   "outputs": [
    {
     "output_type": "execute_result",
     "data": {
      "text/plain": [
       "log_return    0\n",
       "dtype: int64"
      ]
     },
     "metadata": {},
     "execution_count": 28
    }
   ],
   "metadata": {}
  },
  {
   "cell_type": "code",
   "execution_count": null,
   "source": [
    "# find the volatility values without converting or removing the null values   \r\n",
    "df_realized_vol_per_stock1 =  pd.DataFrame(s2['log_return'].groupby(['time_id','stock_id']).agg(order_volatility))"
   ],
   "outputs": [],
   "metadata": {}
  },
  {
   "cell_type": "code",
   "execution_count": null,
   "source": [
    "assert df_realized_vol_per_stock1.values == df_realized_vol_per_stock.values"
   ],
   "outputs": [],
   "metadata": {}
  },
  {
   "cell_type": "code",
   "execution_count": null,
   "source": [
    "\r\n",
    "np.testing.assert_array_equal(df_realized_vol_per_stock1.values, df_realized_vol_per_stock.values, err_msg='not matching', verbose=True)"
   ],
   "outputs": [],
   "metadata": {}
  },
  {
   "cell_type": "markdown",
   "source": [
    "Max absolute difference: 3.7252903e-09\r\n",
    "Max relative difference: 1.6754667e-07\r\n",
    "\r\n",
    "This error is ignorable. So we will leave the null values as it is in the log return"
   ],
   "metadata": {}
  },
  {
   "cell_type": "code",
   "execution_count": null,
   "source": [
    "#converting all null values to zeros\r\n",
    "df_realized_vol_per_stock2 =  pd.DataFrame(s2['log_return'].fillna(0).groupby(['time_id','stock_id']).agg(order_volatility))"
   ],
   "outputs": [],
   "metadata": {}
  },
  {
   "cell_type": "code",
   "execution_count": null,
   "source": [
    "np.testing.assert_array_equal(df_realized_vol_per_stock1,df_realized_vol_per_stock2) "
   ],
   "outputs": [],
   "metadata": {}
  },
  {
   "cell_type": "code",
   "execution_count": null,
   "source": [
    "np.testing.assert_array_equal(df_realized_vol_per_stock,df_realized_vol_per_stock2) "
   ],
   "outputs": [],
   "metadata": {}
  },
  {
   "cell_type": "code",
   "execution_count": 29,
   "source": [
    "df_realized_vol_per_stock"
   ],
   "outputs": [
    {
     "output_type": "execute_result",
     "data": {
      "text/html": [
       "<div>\n",
       "<style scoped>\n",
       "    .dataframe tbody tr th:only-of-type {\n",
       "        vertical-align: middle;\n",
       "    }\n",
       "\n",
       "    .dataframe tbody tr th {\n",
       "        vertical-align: top;\n",
       "    }\n",
       "\n",
       "    .dataframe thead th {\n",
       "        text-align: right;\n",
       "    }\n",
       "</style>\n",
       "<table border=\"1\" class=\"dataframe\">\n",
       "  <thead>\n",
       "    <tr style=\"text-align: right;\">\n",
       "      <th></th>\n",
       "      <th></th>\n",
       "      <th>log_return</th>\n",
       "    </tr>\n",
       "    <tr>\n",
       "      <th>time_id</th>\n",
       "      <th>stock_id</th>\n",
       "      <th></th>\n",
       "    </tr>\n",
       "  </thead>\n",
       "  <tbody>\n",
       "    <tr>\n",
       "      <th rowspan=\"5\" valign=\"top\">5</th>\n",
       "      <th>2</th>\n",
       "      <td>0.0018733931133985</td>\n",
       "    </tr>\n",
       "    <tr>\n",
       "      <th>5</th>\n",
       "      <td>0.0046020650922247</td>\n",
       "    </tr>\n",
       "    <tr>\n",
       "      <th>9</th>\n",
       "      <td>0.0046338109373034</td>\n",
       "    </tr>\n",
       "    <tr>\n",
       "      <th>13</th>\n",
       "      <td>0.0026797857956245</td>\n",
       "    </tr>\n",
       "    <tr>\n",
       "      <th>14</th>\n",
       "      <td>0.0023218195527523</td>\n",
       "    </tr>\n",
       "    <tr>\n",
       "      <th>...</th>\n",
       "      <th>...</th>\n",
       "      <td>...</td>\n",
       "    </tr>\n",
       "    <tr>\n",
       "      <th rowspan=\"5\" valign=\"top\">32767</th>\n",
       "      <th>109</th>\n",
       "      <td>0.0014521782031812</td>\n",
       "    </tr>\n",
       "    <tr>\n",
       "      <th>110</th>\n",
       "      <td>0.0029210978362278</td>\n",
       "    </tr>\n",
       "    <tr>\n",
       "      <th>111</th>\n",
       "      <td>0.0012556054605663</td>\n",
       "    </tr>\n",
       "    <tr>\n",
       "      <th>114</th>\n",
       "      <td>0.0018004372357146</td>\n",
       "    </tr>\n",
       "    <tr>\n",
       "      <th>126</th>\n",
       "      <td>0.0019009303332175</td>\n",
       "    </tr>\n",
       "  </tbody>\n",
       "</table>\n",
       "<p>95748 rows × 1 columns</p>\n",
       "</div>"
      ],
      "text/plain": [
       "                         log_return\n",
       "time_id stock_id                   \n",
       "5       2        0.0018733931133985\n",
       "        5        0.0046020650922247\n",
       "        9        0.0046338109373034\n",
       "        13       0.0026797857956245\n",
       "        14       0.0023218195527523\n",
       "...                             ...\n",
       "32767   109      0.0014521782031812\n",
       "        110      0.0029210978362278\n",
       "        111      0.0012556054605663\n",
       "        114      0.0018004372357146\n",
       "        126      0.0019009303332175\n",
       "\n",
       "[95748 rows x 1 columns]"
      ]
     },
     "metadata": {},
     "execution_count": 29
    }
   ],
   "metadata": {}
  },
  {
   "cell_type": "code",
   "execution_count": null,
   "source": [
    "df_realized_vol_per_stock.index.get_level_values(0)"
   ],
   "outputs": [],
   "metadata": {}
  },
  {
   "cell_type": "code",
   "execution_count": 30,
   "source": [
    "#df_realized_vol_per_stock['row_id'] = df_realized_vol_per_stock.apply(lambda x: fff(x.index.get_level_values(1),x.index.get_level_values(0)), axis=1 )\r\n",
    "#df_realized_vol_per_stock['row_id'] = df_realized_vol_per_stock.apply(lambda x: x.index.get_level_values(1)+x.index.get_level_values(0))\r\n",
    "df_realized_vol_per_stock['row_id'] = df_realized_vol_per_stock.apply(lambda x: x.index.get_level_values(1).astype(str) + \"-\" + x.index.get_level_values(0).astype(str))\r\n",
    "\r\n",
    "#f'{stock_id}-{x}'"
   ],
   "outputs": [],
   "metadata": {}
  },
  {
   "cell_type": "code",
   "execution_count": 31,
   "source": [
    "df_realized_vol_per_stock['trade_return'] = pd.DataFrame(s2['trade_wap'].groupby(['time_id','stock_id']).agg(trade_volatility))\r\n"
   ],
   "outputs": [],
   "metadata": {}
  },
  {
   "cell_type": "code",
   "execution_count": 32,
   "source": [
    "df_realized_vol_per_stock"
   ],
   "outputs": [
    {
     "output_type": "execute_result",
     "data": {
      "text/html": [
       "<div>\n",
       "<style scoped>\n",
       "    .dataframe tbody tr th:only-of-type {\n",
       "        vertical-align: middle;\n",
       "    }\n",
       "\n",
       "    .dataframe tbody tr th {\n",
       "        vertical-align: top;\n",
       "    }\n",
       "\n",
       "    .dataframe thead th {\n",
       "        text-align: right;\n",
       "    }\n",
       "</style>\n",
       "<table border=\"1\" class=\"dataframe\">\n",
       "  <thead>\n",
       "    <tr style=\"text-align: right;\">\n",
       "      <th></th>\n",
       "      <th></th>\n",
       "      <th>log_return</th>\n",
       "      <th>row_id</th>\n",
       "      <th>trade_return</th>\n",
       "    </tr>\n",
       "    <tr>\n",
       "      <th>time_id</th>\n",
       "      <th>stock_id</th>\n",
       "      <th></th>\n",
       "      <th></th>\n",
       "      <th></th>\n",
       "    </tr>\n",
       "  </thead>\n",
       "  <tbody>\n",
       "    <tr>\n",
       "      <th rowspan=\"5\" valign=\"top\">5</th>\n",
       "      <th>2</th>\n",
       "      <td>0.0018733931133985</td>\n",
       "      <td>2-5</td>\n",
       "      <td>0.0005385612603277</td>\n",
       "    </tr>\n",
       "    <tr>\n",
       "      <th>5</th>\n",
       "      <td>0.0046020650922247</td>\n",
       "      <td>5-5</td>\n",
       "      <td>0.0011968928156421</td>\n",
       "    </tr>\n",
       "    <tr>\n",
       "      <th>9</th>\n",
       "      <td>0.0046338109373034</td>\n",
       "      <td>9-5</td>\n",
       "      <td>0.0019693512003869</td>\n",
       "    </tr>\n",
       "    <tr>\n",
       "      <th>13</th>\n",
       "      <td>0.0026797857956245</td>\n",
       "      <td>13-5</td>\n",
       "      <td>0.0004783140611835</td>\n",
       "    </tr>\n",
       "    <tr>\n",
       "      <th>14</th>\n",
       "      <td>0.0023218195527523</td>\n",
       "      <td>14-5</td>\n",
       "      <td>0.0003629499115050</td>\n",
       "    </tr>\n",
       "    <tr>\n",
       "      <th>...</th>\n",
       "      <th>...</th>\n",
       "      <td>...</td>\n",
       "      <td>...</td>\n",
       "      <td>...</td>\n",
       "    </tr>\n",
       "    <tr>\n",
       "      <th rowspan=\"5\" valign=\"top\">32767</th>\n",
       "      <th>109</th>\n",
       "      <td>0.0014521782031812</td>\n",
       "      <td>109-32767</td>\n",
       "      <td>0.0003046156489290</td>\n",
       "    </tr>\n",
       "    <tr>\n",
       "      <th>110</th>\n",
       "      <td>0.0029210978362278</td>\n",
       "      <td>110-32767</td>\n",
       "      <td>0.0001787937508198</td>\n",
       "    </tr>\n",
       "    <tr>\n",
       "      <th>111</th>\n",
       "      <td>0.0012556054605663</td>\n",
       "      <td>111-32767</td>\n",
       "      <td>0.0003218931669835</td>\n",
       "    </tr>\n",
       "    <tr>\n",
       "      <th>114</th>\n",
       "      <td>0.0018004372357146</td>\n",
       "      <td>114-32767</td>\n",
       "      <td>0.0005063661956228</td>\n",
       "    </tr>\n",
       "    <tr>\n",
       "      <th>126</th>\n",
       "      <td>0.0019009303332175</td>\n",
       "      <td>126-32767</td>\n",
       "      <td>0.0003025897021871</td>\n",
       "    </tr>\n",
       "  </tbody>\n",
       "</table>\n",
       "<p>95748 rows × 3 columns</p>\n",
       "</div>"
      ],
      "text/plain": [
       "                         log_return     row_id       trade_return\n",
       "time_id stock_id                                                 \n",
       "5       2        0.0018733931133985        2-5 0.0005385612603277\n",
       "        5        0.0046020650922247        5-5 0.0011968928156421\n",
       "        9        0.0046338109373034        9-5 0.0019693512003869\n",
       "        13       0.0026797857956245       13-5 0.0004783140611835\n",
       "        14       0.0023218195527523       14-5 0.0003629499115050\n",
       "...                             ...        ...                ...\n",
       "32767   109      0.0014521782031812  109-32767 0.0003046156489290\n",
       "        110      0.0029210978362278  110-32767 0.0001787937508198\n",
       "        111      0.0012556054605663  111-32767 0.0003218931669835\n",
       "        114      0.0018004372357146  114-32767 0.0005063661956228\n",
       "        126      0.0019009303332175  126-32767 0.0003025897021871\n",
       "\n",
       "[95748 rows x 3 columns]"
      ]
     },
     "metadata": {},
     "execution_count": 32
    }
   ],
   "metadata": {}
  },
  {
   "cell_type": "code",
   "execution_count": 33,
   "source": [
    "# def past_realized_volatility_per_stock(list_file,prediction_column_name):\r\n",
    "#     df_past_realized = pd.DataFrame()\r\n",
    "#     for file in list_file:\r\n",
    "#         df_past_realized = pd.concat([df_past_realized,\r\n",
    "#                                      realized_volatility_per_time_id(file,prediction_column_name)])\r\n",
    "#     return df_past_realized\r\n",
    "# df_past_realized_train = past_realized_volatility_per_stock(list_file=list_order_book_file_train,\r\n",
    "#                                                            prediction_column_name='pred')"
   ],
   "outputs": [],
   "metadata": {
    "tags": []
   }
  },
  {
   "cell_type": "markdown",
   "source": [
    "Let's join the output dataframe with train.csv to see the performance of the naive prediction on training set."
   ],
   "metadata": {}
  },
  {
   "cell_type": "code",
   "execution_count": 34,
   "source": [
    "train['row_id'] = train['stock_id'].astype(str) + '-' + train['time_id'].astype(str)\r\n",
    "train = train[['row_id','target']]\r\n"
   ],
   "outputs": [],
   "metadata": {}
  },
  {
   "cell_type": "markdown",
   "source": [
    "We will evaluate the naive prediction result by two metrics: RMSPE and R squared."
   ],
   "metadata": {}
  },
  {
   "cell_type": "code",
   "execution_count": 35,
   "source": [
    "df_joined = train.merge(df_realized_vol_per_stock, on = ['row_id'], how = 'inner')"
   ],
   "outputs": [],
   "metadata": {}
  },
  {
   "cell_type": "code",
   "execution_count": 36,
   "source": [
    "df_joined"
   ],
   "outputs": [
    {
     "output_type": "execute_result",
     "data": {
      "text/html": [
       "<div>\n",
       "<style scoped>\n",
       "    .dataframe tbody tr th:only-of-type {\n",
       "        vertical-align: middle;\n",
       "    }\n",
       "\n",
       "    .dataframe tbody tr th {\n",
       "        vertical-align: top;\n",
       "    }\n",
       "\n",
       "    .dataframe thead th {\n",
       "        text-align: right;\n",
       "    }\n",
       "</style>\n",
       "<table border=\"1\" class=\"dataframe\">\n",
       "  <thead>\n",
       "    <tr style=\"text-align: right;\">\n",
       "      <th></th>\n",
       "      <th>row_id</th>\n",
       "      <th>target</th>\n",
       "      <th>log_return</th>\n",
       "      <th>trade_return</th>\n",
       "    </tr>\n",
       "  </thead>\n",
       "  <tbody>\n",
       "    <tr>\n",
       "      <th>0</th>\n",
       "      <td>2-5</td>\n",
       "      <td>0.0018475460000000</td>\n",
       "      <td>0.0018733931133985</td>\n",
       "      <td>0.0005385612603277</td>\n",
       "    </tr>\n",
       "    <tr>\n",
       "      <th>1</th>\n",
       "      <td>2-11</td>\n",
       "      <td>0.0008059180000000</td>\n",
       "      <td>0.0008151048469293</td>\n",
       "      <td>0.0003309202729724</td>\n",
       "    </tr>\n",
       "    <tr>\n",
       "      <th>2</th>\n",
       "      <td>2-16</td>\n",
       "      <td>0.0015811100000000</td>\n",
       "      <td>0.0012939132651704</td>\n",
       "      <td>0.0002343668165850</td>\n",
       "    </tr>\n",
       "    <tr>\n",
       "      <th>3</th>\n",
       "      <td>2-31</td>\n",
       "      <td>0.0015986860000000</td>\n",
       "      <td>0.0015225304382781</td>\n",
       "      <td>0.0005046058795415</td>\n",
       "    </tr>\n",
       "    <tr>\n",
       "      <th>4</th>\n",
       "      <td>2-62</td>\n",
       "      <td>0.0015032210000000</td>\n",
       "      <td>0.0012425119932203</td>\n",
       "      <td>0.0002491848717909</td>\n",
       "    </tr>\n",
       "    <tr>\n",
       "      <th>...</th>\n",
       "      <td>...</td>\n",
       "      <td>...</td>\n",
       "      <td>...</td>\n",
       "      <td>...</td>\n",
       "    </tr>\n",
       "    <tr>\n",
       "      <th>95743</th>\n",
       "      <td>126-32751</td>\n",
       "      <td>0.0034606180000000</td>\n",
       "      <td>0.0036778605743613</td>\n",
       "      <td>0.0004475484893192</td>\n",
       "    </tr>\n",
       "    <tr>\n",
       "      <th>95744</th>\n",
       "      <td>126-32753</td>\n",
       "      <td>0.0031126940000000</td>\n",
       "      <td>0.0035837945243884</td>\n",
       "      <td>0.0011539208935574</td>\n",
       "    </tr>\n",
       "    <tr>\n",
       "      <th>95745</th>\n",
       "      <td>126-32758</td>\n",
       "      <td>0.0040696760000000</td>\n",
       "      <td>0.0033928137276925</td>\n",
       "      <td>0.0004800513270311</td>\n",
       "    </tr>\n",
       "    <tr>\n",
       "      <th>95746</th>\n",
       "      <td>126-32763</td>\n",
       "      <td>0.0033567180000000</td>\n",
       "      <td>0.0031999062451373</td>\n",
       "      <td>0.0003984423819929</td>\n",
       "    </tr>\n",
       "    <tr>\n",
       "      <th>95747</th>\n",
       "      <td>126-32767</td>\n",
       "      <td>0.0020903640000000</td>\n",
       "      <td>0.0019009303332175</td>\n",
       "      <td>0.0003025897021871</td>\n",
       "    </tr>\n",
       "  </tbody>\n",
       "</table>\n",
       "<p>95748 rows × 4 columns</p>\n",
       "</div>"
      ],
      "text/plain": [
       "          row_id             target         log_return       trade_return\n",
       "0            2-5 0.0018475460000000 0.0018733931133985 0.0005385612603277\n",
       "1           2-11 0.0008059180000000 0.0008151048469293 0.0003309202729724\n",
       "2           2-16 0.0015811100000000 0.0012939132651704 0.0002343668165850\n",
       "3           2-31 0.0015986860000000 0.0015225304382781 0.0005046058795415\n",
       "4           2-62 0.0015032210000000 0.0012425119932203 0.0002491848717909\n",
       "...          ...                ...                ...                ...\n",
       "95743  126-32751 0.0034606180000000 0.0036778605743613 0.0004475484893192\n",
       "95744  126-32753 0.0031126940000000 0.0035837945243884 0.0011539208935574\n",
       "95745  126-32758 0.0040696760000000 0.0033928137276925 0.0004800513270311\n",
       "95746  126-32763 0.0033567180000000 0.0031999062451373 0.0003984423819929\n",
       "95747  126-32767 0.0020903640000000 0.0019009303332175 0.0003025897021871\n",
       "\n",
       "[95748 rows x 4 columns]"
      ]
     },
     "metadata": {},
     "execution_count": 36
    }
   ],
   "metadata": {}
  },
  {
   "cell_type": "code",
   "execution_count": 37,
   "source": [
    "from sklearn.metrics import r2_score, mean_squared_error\r\n",
    "def rmspe(y_true, y_pred):\r\n",
    "#    return  (np.sqrt(np.mean(np.square((y_true - y_pred) / y_true)))) * 100\r\n",
    "    return mean_squared_error(y_true,y_pred,squared=False)"
   ],
   "outputs": [],
   "metadata": {}
  },
  {
   "cell_type": "code",
   "execution_count": 81,
   "source": [
    "# R2 = round(r2_score(y_true = df_joined['target'], y_pred = df_joined['log_return']),3)\r\n",
    "# RMSPE = round(rmspe(y_true = df_joined['target'], y_pred = df_joined['log_return']),3)\r\n",
    "# print(f'Performance of the naive prediction: R2 score: {R2}, RMSPE: {RMSPE}%')"
   ],
   "outputs": [],
   "metadata": {}
  },
  {
   "cell_type": "code",
   "execution_count": 82,
   "source": [
    "# R2 = round(r2_score(y_true = df_joined['target'], y_pred = df_joined['log_return'] + np.sqrt(df_joined['trade_return'])),3)\r\n",
    "# RMSPE = round(rmspe(y_true = df_joined['target'], y_pred = df_joined['log_return'] + np.sqrt(df_joined['trade_return'])),3)\r\n",
    "# print(f'Performance of the naive prediction: R2 score: {R2}, RMSPE: {RMSPE}%')"
   ],
   "outputs": [],
   "metadata": {}
  },
  {
   "cell_type": "code",
   "execution_count": null,
   "source": [
    "jovian.commit(filename=\"my-zero-to-gbm-proj-assign.ipynb\")"
   ],
   "outputs": [],
   "metadata": {}
  },
  {
   "cell_type": "markdown",
   "source": [
    "## Machine Learning\r\n",
    "\r\n",
    "Now we will start applying ML techniques to predict the volataility of the next 10 minutes window for each time-id/stock-id based on the order book volatility and trade volatility\r\n",
    "\r\n",
    "we will learn the hyper parameters givne using the training targets for the same\r\n",
    "\r\n",
    "we will use 2 different models to do the same"
   ],
   "metadata": {}
  },
  {
   "cell_type": "markdown",
   "source": [
    "## Graident Bossting\r\n",
    "\r\n",
    "We're now ready to train our gradient boosting machine (GBM) model. Here's how a GBM model works:"
   ],
   "metadata": {}
  },
  {
   "cell_type": "code",
   "execution_count": 56,
   "source": [
    "from xgboost import XGBRegressor"
   ],
   "outputs": [],
   "metadata": {}
  },
  {
   "cell_type": "markdown",
   "source": [
    "## Intel Extension for Scikit-learn\r\n",
    "\r\n",
    "Intel(R) Extension for Scikit-learn* dynamically patches scikit-learn estimators to use Intel(R) oneAPI Data Analytics Library as the underlying solver, while getting the same solution faster.\r\n",
    "\r\n",
    "To install these Intel-optimized packages for scikit-learn on Windows, Mac, and Linux x86_64, simply:\r\n",
    "\r\n",
    "conda install scikit-learn-intelex\r\n",
    "\r\n",
    "Once installed, there are two ways in which you can enable the replacement patching functionality for scikit-learn. You can enable it when you run your application:\r\n",
    "\r\n",
    "python -m sklearnex my_application.py\r\n",
    "\r\n",
    "Or you can explicitly enable the patching in your code:\r\n",
    "\r\n",
    "from sklearnex import patch_sklearn\r\n",
    "\r\n",
    "patch_sklearn()"
   ],
   "metadata": {}
  },
  {
   "cell_type": "code",
   "execution_count": 39,
   "source": [
    "from sklearnex import patch_sklearn\r\n",
    "patch_sklearn()"
   ],
   "outputs": [
    {
     "output_type": "stream",
     "name": "stderr",
     "text": [
      "Intel(R) Extension for Scikit-learn* enabled (https://github.com/intel/scikit-learn-intelex)\n"
     ]
    }
   ],
   "metadata": {}
  },
  {
   "cell_type": "markdown",
   "source": [
    "### Cross Validation\r\n",
    "\r\n",
    " create a validation set before training our XGBoost model. We'll use a different validation strategy this time, called <b> ShuffleSplit </b> cross validation (source):"
   ],
   "metadata": {}
  },
  {
   "cell_type": "code",
   "execution_count": 40,
   "source": [
    "from sklearn.model_selection import ShuffleSplit"
   ],
   "outputs": [],
   "metadata": {}
  },
  {
   "cell_type": "code",
   "execution_count": 41,
   "source": [
    "ss = ShuffleSplit(n_splits = 5, test_size = 0.25, random_state=42)"
   ],
   "outputs": [],
   "metadata": {}
  },
  {
   "cell_type": "markdown",
   "source": [
    "Let's define a helper function train_and_evaluate which trains a model the given parameters and returns the trained model, training error and validation error."
   ],
   "metadata": {}
  },
  {
   "cell_type": "code",
   "execution_count": 60,
   "source": [
    "def train_and_evaluate(X_train, train_targets, X_val, val_targets, **params):\r\n",
    "    model = XGBRegressor(random_state=11111, n_jobs=-1, **params)\r\n",
    "    model.fit(X_train, train_targets)\r\n",
    "    train_R2 = round(r2_score(train_targets, model.predict(X_train)),3)\r\n",
    "    train_RMSPE = round(rmspe(train_targets, model.predict(X_train)),3)\r\n",
    "    val_R2 = round(r2_score(val_targets, model.predict(X_val)),3)\r\n",
    "    val_RMSPE = round(rmspe(val_targets, model.predict(X_val),),3)\r\n",
    "\r\n",
    "    # train_rmse = rmse(model.predict(X_train), train_targets)\r\n",
    "    # val_rmse = rmse(model.predict(X_val), val_targets)\r\n",
    "    return model, train_R2, train_RMSPE, val_R2, val_RMSPE\r\n",
    "#n_jobs = -1 means that use all the available threads in that machine where the alogorithm is running "
   ],
   "outputs": [],
   "metadata": {}
  },
  {
   "cell_type": "markdown",
   "source": [
    "Now we will train the model for each split data of the ShuffleSplit"
   ],
   "metadata": {}
  },
  {
   "cell_type": "code",
   "execution_count": 61,
   "source": [
    "df_joined.info()"
   ],
   "outputs": [
    {
     "output_type": "stream",
     "name": "stdout",
     "text": [
      "<class 'pandas.core.frame.DataFrame'>\n",
      "Int64Index: 95748 entries, 0 to 95747\n",
      "Data columns (total 4 columns):\n",
      " #   Column        Non-Null Count  Dtype  \n",
      "---  ------        --------------  -----  \n",
      " 0   row_id        95748 non-null  object \n",
      " 1   target        95748 non-null  float64\n",
      " 2   log_return    95748 non-null  float64\n",
      " 3   trade_return  95748 non-null  float32\n",
      "dtypes: float32(1), float64(2), object(1)\n",
      "memory usage: 3.3+ MB\n"
     ]
    }
   ],
   "metadata": {}
  },
  {
   "cell_type": "code",
   "execution_count": 42,
   "source": [
    "inputs = df_joined[['log_return', 'trade_return']].copy().astype('float32')\r\n",
    "targets = df_joined['target'].copy().astype('float32')"
   ],
   "outputs": [],
   "metadata": {}
  },
  {
   "cell_type": "code",
   "execution_count": 43,
   "source": [
    "inputs.isna().sum(), targets.isna().sum()"
   ],
   "outputs": [
    {
     "output_type": "execute_result",
     "data": {
      "text/plain": [
       "(log_return      0\n",
       " trade_return    0\n",
       " dtype: int64,\n",
       " 0)"
      ]
     },
     "metadata": {},
     "execution_count": 43
    }
   ],
   "metadata": {}
  },
  {
   "cell_type": "code",
   "execution_count": 44,
   "source": [
    "inputs.info()"
   ],
   "outputs": [
    {
     "output_type": "stream",
     "name": "stdout",
     "text": [
      "<class 'pandas.core.frame.DataFrame'>\n",
      "Int64Index: 95748 entries, 0 to 95747\n",
      "Data columns (total 2 columns):\n",
      " #   Column        Non-Null Count  Dtype  \n",
      "---  ------        --------------  -----  \n",
      " 0   log_return    95748 non-null  float32\n",
      " 1   trade_return  95748 non-null  float32\n",
      "dtypes: float32(2)\n",
      "memory usage: 1.5 MB\n"
     ]
    }
   ],
   "metadata": {}
  },
  {
   "cell_type": "code",
   "execution_count": 45,
   "source": [
    "targets"
   ],
   "outputs": [
    {
     "output_type": "execute_result",
     "data": {
      "text/plain": [
       "0       0.0018475459655747\n",
       "1       0.0008059180108830\n",
       "2       0.0015811099437997\n",
       "3       0.0015986859798431\n",
       "4       0.0015032209921628\n",
       "               ...        \n",
       "95743   0.0034606179688126\n",
       "95744   0.0031126940157264\n",
       "95745   0.0040696761570871\n",
       "95746   0.0033567179925740\n",
       "95747   0.0020903639961034\n",
       "Name: target, Length: 95748, dtype: float32"
      ]
     },
     "metadata": {},
     "execution_count": 45
    }
   ],
   "metadata": {}
  },
  {
   "cell_type": "code",
   "execution_count": 62,
   "source": [
    "from lazypredict.Supervised import LazyRegressor\r\n"
   ],
   "outputs": [
    {
     "output_type": "stream",
     "name": "stderr",
     "text": [
      "C:\\ProgramData\\Anaconda3\\lib\\site-packages\\sklearn\\utils\\deprecation.py:143: FutureWarning: The sklearn.utils.testing module is  deprecated in version 0.22 and will be removed in version 0.24. The corresponding classes / functions should instead be imported from sklearn.utils. Anything that cannot be imported from sklearn.utils is now part of the private API.\n",
      "  warnings.warn(message, FutureWarning)\n"
     ]
    }
   ],
   "metadata": {}
  },
  {
   "cell_type": "code",
   "execution_count": 63,
   "source": [
    "# models = []\r\n",
    "\r\n",
    "# for train_idxs, val_idxs in ss.split(inputs):\r\n",
    "#     X_train, train_targets = inputs.iloc[train_idxs], targets.iloc[train_idxs]\r\n",
    "#     X_val, val_targets = inputs.iloc[val_idxs], targets.iloc[val_idxs]\r\n",
    "#     model, train_R2, train_RMSPE, val_R2, val_RMSPE = train_and_evaluate(X_train, \r\n",
    "#                                                      train_targets, \r\n",
    "#                                                      X_val, \r\n",
    "#                                                      val_targets, \r\n",
    "#                                                      max_depth=5, \r\n",
    "#                                                      n_estimators=50)\r\n",
    "#     models.append(model)\r\n",
    "#     print('Train R2: {}, Train RMSPE: {}, Validation R2: {}, Validation RMSPE: {}'.format(train_R2, train_RMSPE, val_R2, val_RMSPE))"
   ],
   "outputs": [],
   "metadata": {}
  },
  {
   "cell_type": "markdown",
   "source": [
    "Let's also define a function to average predictions from the 5 different models."
   ],
   "metadata": {}
  },
  {
   "cell_type": "code",
   "execution_count": 64,
   "source": [
    "def predict_avg(models, inputs):\r\n",
    "    return np.mean([model.predict(inputs) for model in models], axis=0)"
   ],
   "outputs": [],
   "metadata": {}
  },
  {
   "cell_type": "code",
   "execution_count": 46,
   "source": [
    "# explicitly require this experimental feature\r\n",
    "from sklearn.experimental import enable_hist_gradient_boosting  # noqa\r\n",
    "# now you can import normally from ensemble\r\n",
    "from sklearn.ensemble import HistGradientBoostingRegressor\r\n",
    "#from sklearn.experimental import enable_halving_search_cv\r\n",
    "# now you can import normally from model_selection\r\n",
    "from sklearn.model_selection import RandomizedSearchCV, GridSearchCV"
   ],
   "outputs": [],
   "metadata": {}
  },
  {
   "cell_type": "code",
   "execution_count": 66,
   "source": [
    "model =XGBRegressor(random_state=42,n_jobs=-1)\r\n",
    "param_grid = {#\"max_depth\": [10, 11, 12, 13, 14, 15, 16, 17, 18, 19, 20, None],\r\n",
    "              \"n_estimators\" : list(range(10,51,3)),\r\n",
    "              \"learning_rate\": np.logspace(-3,3,50),\r\n",
    "              \"booster\": ['gbtree', 'gblinear','dart'],\r\n",
    "              # \"gamma\": np.logspace(-1,1,100),\r\n",
    "              # \"subsample\": np.linspace(0.5,1.0,9, endpoint=False),\r\n",
    "              # \"num_parallel_tree\": range(1,6,1),\r\n",
    "              # \"reg_alpha\": np.logspace(-3,3,100),\r\n",
    "              # \"reg_lambda\": np.logspace(-3,3,100)\r\n",
    "            }\r\n"
   ],
   "outputs": [],
   "metadata": {}
  },
  {
   "cell_type": "code",
   "execution_count": null,
   "source": [
    "# models = []\r\n",
    "# for train_idxs, val_idxs in ss.split(inputs):\r\n",
    "#     X_train, train_targets = inputs.iloc[train_idxs], targets.iloc[train_idxs]\r\n",
    "#     X_val, val_targets = inputs.iloc[val_idxs], targets.iloc[val_idxs]\r\n",
    "#     X_train = np.ascontiguousarray(X_train).reshape(-1,2)\r\n",
    "#     train_targets = np.ascontiguousarray(train_targets).reshape(-1,1)\r\n",
    "#     X_val = np.ascontiguousarray(X_val).reshape(-1,2)\r\n",
    "#     val_targets = np.ascontiguousarray(val_targets).reshape(-1,1)\r\n",
    "#     grid_search = HalvingGridSearchCV(model, param_grid, random_state=42).fit(X_train, train_targets)\r\n",
    "#     model, train_R2, train_RMSPE, val_R2, val_RMSPE = train_and_evaluate(X_train, \r\n",
    "#                                                     train_targets, \r\n",
    "#                                                     X_val, \r\n",
    "#                                                     val_targets, \r\n",
    "#                                                     **grid_search.best_params_)\r\n",
    "#     models.append(model)\r\n",
    "#     print('Train R2: {}, Train RMSPE: {}, Validation R2: {}, Validation RMSPE: {}'.format(train_R2, train_RMSPE, val_R2, val_RMSPE))\r\n"
   ],
   "outputs": [],
   "metadata": {}
  },
  {
   "cell_type": "code",
   "execution_count": null,
   "source": [
    "# models = []\r\n",
    "# for train_idxs, val_idxs in ss.split(inputs):\r\n",
    "#     X_train, train_targets = inputs.iloc[train_idxs], targets.iloc[train_idxs]\r\n",
    "#     X_val, val_targets = inputs.iloc[val_idxs], targets.iloc[val_idxs]\r\n",
    "#     X_train = np.ascontiguousarray(X_train).reshape(-1,2)\r\n",
    "#     train_targets = np.ascontiguousarray(train_targets).reshape(-1,1)\r\n",
    "#     X_val = np.ascontiguousarray(X_val).reshape(-1,2)\r\n",
    "#     val_targets = np.ascontiguousarray(val_targets).reshape(-1,1)\r\n",
    "#     reg = LazyRegressor(ignore_warnings=False, random_state=11111, verbose=True)\r\n",
    "#     models, predictions = reg.fit(X_train, X_val, train_targets, val_targets)  # pass all sets\r\n",
    "#     print(models.head(100))\r\n"
   ],
   "outputs": [],
   "metadata": {}
  },
  {
   "cell_type": "code",
   "execution_count": 47,
   "source": [
    "targets >= 0"
   ],
   "outputs": [
    {
     "output_type": "execute_result",
     "data": {
      "text/plain": [
       "0        True\n",
       "1        True\n",
       "2        True\n",
       "3        True\n",
       "4        True\n",
       "         ... \n",
       "95743    True\n",
       "95744    True\n",
       "95745    True\n",
       "95746    True\n",
       "95747    True\n",
       "Name: target, Length: 95748, dtype: bool"
      ]
     },
     "metadata": {},
     "execution_count": 47
    }
   ],
   "metadata": {}
  },
  {
   "cell_type": "code",
   "execution_count": 70,
   "source": [
    "model = HistGradientBoostingRegressor(random_state=11111,scoring='neg_root_mean_squared_error',validation_fraction=0.2,verbose=1,loss='poisson')\r\n",
    "param_grid = {\"max_depth\": [10, 20, 30, 40, 50, None],\r\n",
    "              \"max_leaf_nodes\" : [15,31,63,127],\r\n",
    "              \"learning_rate\": np.logspace(-3,3,50),\r\n",
    "              \"min_samples_leaf\": [10,20,30],\r\n",
    "              \"l2_regularization\": [0.0,0.00001,0.0001,0.001,0.01]\r\n",
    "            }\r\n"
   ],
   "outputs": [],
   "metadata": {}
  },
  {
   "cell_type": "code",
   "execution_count": 48,
   "source": [
    "def train_and_evaluate(X_train, train_targets, X_val, val_targets, **params):\r\n",
    "    model = HistGradientBoostingRegressor(random_state=11111,scoring='neg_root_mean_squared_error',validation_fraction=0.2,verbose=1,loss='poisson', **params)\r\n",
    "    model.fit(X_train, train_targets)\r\n",
    "    train_R2 = round(r2_score(train_targets, model.predict(X_train)),3)\r\n",
    "    train_RMSPE = round(rmspe(train_targets, model.predict(X_train)),3)\r\n",
    "    val_R2 = round(r2_score(val_targets, model.predict(X_val)),3)\r\n",
    "    val_RMSPE = round(rmspe(val_targets, model.predict(X_val),),3)\r\n",
    "\r\n",
    "    # train_rmse = rmse(model.predict(X_train), train_targets)\r\n",
    "    # val_rmse = rmse(model.predict(X_val), val_targets)\r\n",
    "    return model, train_R2, train_RMSPE, val_R2, val_RMSPE\r\n",
    "#n_jobs = -1 means that use all the available threads in that machine where the alogorithm is running "
   ],
   "outputs": [],
   "metadata": {}
  },
  {
   "cell_type": "code",
   "execution_count": 88,
   "source": [
    "# import sklearn.metrics\r\n",
    "# sorted(sklearn.metrics.SCORERS.keys())"
   ],
   "outputs": [],
   "metadata": {}
  },
  {
   "cell_type": "code",
   "execution_count": 86,
   "source": [
    "models = []\r\n",
    "for train_idxs, val_idxs in ss.split(inputs):\r\n",
    "    X_train, train_targets = inputs.iloc[train_idxs], targets.iloc[train_idxs]\r\n",
    "    X_val, val_targets = inputs.iloc[val_idxs], targets.iloc[val_idxs]\r\n",
    "    X_train = np.ascontiguousarray(X_train).reshape(-1,2)\r\n",
    "    train_targets = np.ascontiguousarray(train_targets).reshape(-1,1)\r\n",
    "    X_val = np.ascontiguousarray(X_val).reshape(-1,2)\r\n",
    "    val_targets = np.ascontiguousarray(val_targets).reshape(-1,1)\r\n",
    "    grid_search = RandomizedSearchCV(model, param_grid, random_state=1111, scoring='r2',verbose=1,return_train_score=True,n_jobs=-1,n_iter=20).fit(X_train,train_targets)\r\n",
    "    model, train_R2, train_RMSPE, val_R2, val_RMSPE = train_and_evaluate(X_train, \r\n",
    "                                                        train_targets, \r\n",
    "                                                        X_val, \r\n",
    "                                                        val_targets, \r\n",
    "                                                        **grid_search.best_params_)\r\n",
    "    models.append(model)\r\n",
    "    print('Train R2: {}, Train RMSPE: {}, Validation R2: {}, Validation RMSPE: {}'.format(train_R2, train_RMSPE, val_R2, val_RMSPE))\r\n"
   ],
   "outputs": [
    {
     "output_type": "stream",
     "name": "stdout",
     "text": [
      "Fitting 5 folds for each of 20 candidates, totalling 100 fits\n"
     ]
    },
    {
     "output_type": "stream",
     "name": "stderr",
     "text": [
      "[Parallel(n_jobs=-1)]: Using backend LokyBackend with 4 concurrent workers.\n",
      "[Parallel(n_jobs=-1)]: Done  42 tasks      | elapsed:  1.0min\n",
      "[Parallel(n_jobs=-1)]: Done 100 out of 100 | elapsed:  2.6min finished\n"
     ]
    },
    {
     "output_type": "stream",
     "name": "stdout",
     "text": [
      "Binning 0.001 GB of training data: 0.109 s\n",
      "Binning 0.000 GB of validation data: 0.022 s\n",
      "Fitting gradient boosted rounds:\n",
      "[1/100] 1 tree, 15 leaves, max depth = 4, train score: -0.00214, val score: -0.00213, in 0.163s\n",
      "[2/100] 1 tree, 15 leaves, max depth = 5, train score: -0.00180, val score: -0.00179, in 0.109s\n",
      "[3/100] 1 tree, 15 leaves, max depth = 5, train score: -0.00161, val score: -0.00160, in 0.149s\n",
      "[4/100] 1 tree, 15 leaves, max depth = 5, train score: -0.00150, val score: -0.00149, in 0.133s\n",
      "[5/100] 1 tree, 15 leaves, max depth = 4, train score: -0.00144, val score: -0.00143, in 0.134s\n",
      "[6/100] 1 tree, 15 leaves, max depth = 5, train score: -0.00140, val score: -0.00139, in 0.144s\n",
      "[7/100] 1 tree, 15 leaves, max depth = 7, train score: -0.00139, val score: -0.00138, in 0.153s\n",
      "[8/100] 1 tree, 15 leaves, max depth = 5, train score: -0.00138, val score: -0.00137, in 0.150s\n",
      "[9/100] 1 tree, 15 leaves, max depth = 7, train score: -0.00137, val score: -0.00136, in 0.156s\n",
      "[10/100] 1 tree, 15 leaves, max depth = 6, train score: -0.00137, val score: -0.00136, in 0.156s\n",
      "[11/100] 1 tree, 15 leaves, max depth = 8, train score: -0.00137, val score: -0.00136, in 0.160s\n",
      "[12/100] 1 tree, 15 leaves, max depth = 7, train score: -0.00137, val score: -0.00136, in 0.216s\n",
      "[13/100] 1 tree, 15 leaves, max depth = 6, train score: -0.00137, val score: -0.00136, in 0.204s\n",
      "[14/100] 1 tree, 15 leaves, max depth = 6, train score: -0.00137, val score: -0.00136, in 0.239s\n",
      "[15/100] 1 tree, 15 leaves, max depth = 7, train score: -0.00136, val score: -0.00136, in 0.204s\n",
      "[16/100] 1 tree, 15 leaves, max depth = 7, train score: -0.00136, val score: -0.00136, in 0.182s\n",
      "[17/100] 1 tree, 15 leaves, max depth = 6, train score: -0.00136, val score: -0.00136, in 0.183s\n",
      "[18/100] 1 tree, 15 leaves, max depth = 8, train score: -0.00136, val score: -0.00136, in 0.190s\n",
      "[19/100] 1 tree, 15 leaves, max depth = 7, train score: -0.00136, val score: -0.00136, in 0.193s\n",
      "[20/100] 1 tree, 15 leaves, max depth = 7, train score: -0.00136, val score: -0.00136, in 0.200s\n",
      "[21/100] 1 tree, 15 leaves, max depth = 10, train score: -0.00136, val score: -0.00136, in 0.200s\n",
      "[22/100] 1 tree, 15 leaves, max depth = 6, train score: -0.00136, val score: -0.00136, in 0.206s\n",
      "[23/100] 1 tree, 15 leaves, max depth = 8, train score: -0.00136, val score: -0.00136, in 0.203s\n",
      "[24/100] 1 tree, 15 leaves, max depth = 6, train score: -0.00136, val score: -0.00136, in 0.223s\n",
      "[25/100] 1 tree, 15 leaves, max depth = 7, train score: -0.00136, val score: -0.00136, in 0.285s\n",
      "Fit 25 trees in 6.456 s, (375 total leaves)\n",
      "Time spent computing histograms: 0.218s\n",
      "Time spent finding best splits:  0.046s\n",
      "Time spent applying splits:      0.228s\n",
      "Time spent predicting:           0.010s\n",
      "Binning 0.001 GB of training data: 0.113 s\n",
      "Binning 0.000 GB of validation data: 0.029 s\n",
      "Fitting gradient boosted rounds:\n",
      "[1/100] 1 tree, 15 leaves, max depth = 4, train score: -0.00214, val score: -0.00213, in 0.077s\n",
      "[2/100] 1 tree, 15 leaves, max depth = 5, train score: -0.00180, val score: -0.00179, in 0.124s\n",
      "[3/100] 1 tree, 15 leaves, max depth = 5, train score: -0.00161, val score: -0.00160, in 0.115s\n",
      "[4/100] 1 tree, 15 leaves, max depth = 5, train score: -0.00150, val score: -0.00149, in 0.120s\n",
      "[5/100] 1 tree, 15 leaves, max depth = 4, train score: -0.00144, val score: -0.00143, in 0.145s\n",
      "[6/100] 1 tree, 15 leaves, max depth = 5, train score: -0.00140, val score: -0.00139, in 0.130s\n",
      "[7/100] 1 tree, 15 leaves, max depth = 7, train score: -0.00139, val score: -0.00138, in 0.123s\n",
      "[8/100] 1 tree, 15 leaves, max depth = 5, train score: -0.00138, val score: -0.00137, in 0.132s\n",
      "[9/100] 1 tree, 15 leaves, max depth = 7, train score: -0.00137, val score: -0.00136, in 0.152s\n",
      "[10/100] 1 tree, 15 leaves, max depth = 6, train score: -0.00137, val score: -0.00136, in 0.143s\n",
      "[11/100] 1 tree, 15 leaves, max depth = 8, train score: -0.00137, val score: -0.00136, in 0.151s\n",
      "[12/100] 1 tree, 15 leaves, max depth = 7, train score: -0.00137, val score: -0.00136, in 0.145s\n",
      "[13/100] 1 tree, 15 leaves, max depth = 6, train score: -0.00137, val score: -0.00136, in 0.166s\n",
      "[14/100] 1 tree, 15 leaves, max depth = 6, train score: -0.00137, val score: -0.00136, in 0.154s\n",
      "[15/100] 1 tree, 15 leaves, max depth = 7, train score: -0.00136, val score: -0.00136, in 0.162s\n",
      "[16/100] 1 tree, 15 leaves, max depth = 7, train score: -0.00136, val score: -0.00136, in 0.166s\n",
      "[17/100] 1 tree, 15 leaves, max depth = 6, train score: -0.00136, val score: -0.00136, in 0.175s\n",
      "[18/100] 1 tree, 15 leaves, max depth = 8, train score: -0.00136, val score: -0.00136, in 0.173s\n",
      "[19/100] 1 tree, 15 leaves, max depth = 7, train score: -0.00136, val score: -0.00136, in 0.169s\n",
      "[20/100] 1 tree, 15 leaves, max depth = 7, train score: -0.00136, val score: -0.00136, in 0.184s\n",
      "[21/100] 1 tree, 15 leaves, max depth = 10, train score: -0.00136, val score: -0.00136, in 0.196s\n",
      "[22/100] 1 tree, 15 leaves, max depth = 6, train score: -0.00136, val score: -0.00136, in 0.192s\n",
      "[23/100] 1 tree, 15 leaves, max depth = 8, train score: -0.00136, val score: -0.00136, in 0.199s\n",
      "[24/100] 1 tree, 15 leaves, max depth = 6, train score: -0.00136, val score: -0.00136, in 0.204s\n",
      "[25/100] 1 tree, 15 leaves, max depth = 7, train score: -0.00136, val score: -0.00136, in 0.221s\n",
      "Fit 25 trees in 4.344 s, (375 total leaves)\n",
      "Time spent computing histograms: 0.170s\n",
      "Time spent finding best splits:  0.025s\n",
      "Time spent applying splits:      0.237s\n",
      "Time spent predicting:           0.006s\n",
      "Train R2: 0.77, Train RMSPE: 0.001, Validation R2: 0.759, Validation RMSPE: 0.001\n",
      "Fitting 5 folds for each of 20 candidates, totalling 100 fits\n"
     ]
    },
    {
     "output_type": "stream",
     "name": "stderr",
     "text": [
      "[Parallel(n_jobs=-1)]: Using backend LokyBackend with 4 concurrent workers.\n",
      "[Parallel(n_jobs=-1)]: Done  42 tasks      | elapsed:   58.0s\n"
     ]
    },
    {
     "output_type": "stream",
     "name": "stdout",
     "text": [
      "Binning 0.001 GB of training data: 0.115 s\n",
      "Binning 0.000 GB of validation data: "
     ]
    },
    {
     "output_type": "stream",
     "name": "stderr",
     "text": [
      "[Parallel(n_jobs=-1)]: Done 100 out of 100 | elapsed:  2.7min finished\n"
     ]
    },
    {
     "output_type": "stream",
     "name": "stdout",
     "text": [
      "0.031 s\n",
      "Fitting gradient boosted rounds:\n",
      "[1/100] 1 tree, 31 leaves, max depth = 5, train score: -0.00231, val score: -0.00234, in 0.122s\n",
      "[2/100] 1 tree, 31 leaves, max depth = 6, train score: -0.00198, val score: -0.00202, in 0.166s\n",
      "[3/100] 1 tree, 31 leaves, max depth = 6, train score: -0.00176, val score: -0.00180, in 0.159s\n",
      "[4/100] 1 tree, 31 leaves, max depth = 9, train score: -0.00161, val score: -0.00166, in 0.172s\n",
      "[5/100] 1 tree, 31 leaves, max depth = 7, train score: -0.00152, val score: -0.00156, in 0.186s\n",
      "[6/100] 1 tree, 31 leaves, max depth = 7, train score: -0.00145, val score: -0.00150, in 0.190s\n",
      "[7/100] 1 tree, 31 leaves, max depth = 8, train score: -0.00141, val score: -0.00146, in 0.187s\n",
      "[8/100] 1 tree, 31 leaves, max depth = 9, train score: -0.00139, val score: -0.00143, in 0.198s\n",
      "[9/100] 1 tree, 31 leaves, max depth = 8, train score: -0.00137, val score: -0.00142, in 0.239s\n",
      "[10/100] 1 tree, 31 leaves, max depth = 9, train score: -0.00136, val score: -0.00141, in 0.189s\n",
      "[11/100] 1 tree, 31 leaves, max depth = 9, train score: -0.00135, val score: -0.00140, in 0.198s\n",
      "[12/100] 1 tree, 31 leaves, max depth = 12, train score: -0.00135, val score: -0.00140, in 0.195s\n",
      "[13/100] 1 tree, 31 leaves, max depth = 12, train score: -0.00135, val score: -0.00140, in 0.207s\n",
      "[14/100] 1 tree, 31 leaves, max depth = 15, train score: -0.00134, val score: -0.00140, in 0.213s\n",
      "[15/100] 1 tree, 31 leaves, max depth = 10, train score: -0.00134, val score: -0.00139, in 0.226s\n",
      "[16/100] 1 tree, 31 leaves, max depth = 12, train score: -0.00134, val score: -0.00139, in 0.239s\n",
      "[17/100] 1 tree, 31 leaves, max depth = 11, train score: -0.00134, val score: -0.00139, in 0.246s\n",
      "[18/100] 1 tree, 31 leaves, max depth = 12, train score: -0.00134, val score: -0.00139, in 0.243s\n",
      "[19/100] 1 tree, 31 leaves, max depth = 10, train score: -0.00134, val score: -0.00139, in 0.243s\n",
      "[20/100] 1 tree, 31 leaves, max depth = 10, train score: -0.00134, val score: -0.00139, in 0.259s\n",
      "[21/100] 1 tree, 31 leaves, max depth = 14, train score: -0.00134, val score: -0.00139, in 0.259s\n",
      "[22/100] 1 tree, 31 leaves, max depth = 9, train score: -0.00134, val score: -0.00139, in 0.242s\n",
      "[23/100] 1 tree, 31 leaves, max depth = 13, train score: -0.00134, val score: -0.00139, in 0.268s\n",
      "[24/100] 1 tree, 31 leaves, max depth = 10, train score: -0.00134, val score: -0.00139, in 0.294s\n",
      "[25/100] 1 tree, 31 leaves, max depth = 11, train score: -0.00134, val score: -0.00139, in 0.306s\n",
      "[26/100] 1 tree, 31 leaves, max depth = 9, train score: -0.00134, val score: -0.00139, in 0.313s\n",
      "[27/100] 1 tree, 31 leaves, max depth = 14, train score: -0.00134, val score: -0.00139, in 0.283s\n",
      "Fit 27 trees in 6.478 s, (837 total leaves)\n",
      "Time spent computing histograms: 0.351s\n",
      "Time spent finding best splits:  0.064s\n",
      "Time spent applying splits:      0.317s\n",
      "Time spent predicting:           0.017s\n",
      "Binning 0.001 GB of training data: 0.234 s\n",
      "Binning 0.000 GB of validation data: 0.021 s\n",
      "Fitting gradient boosted rounds:\n",
      "[1/100] 1 tree, 31 leaves, max depth = 5, train score: -0.00231, val score: -0.00234, in 0.101s\n",
      "[2/100] 1 tree, 31 leaves, max depth = 6, train score: -0.00198, val score: -0.00202, in 0.140s\n",
      "[3/100] 1 tree, 31 leaves, max depth = 6, train score: -0.00176, val score: -0.00180, in 0.120s\n",
      "[4/100] 1 tree, 31 leaves, max depth = 9, train score: -0.00161, val score: -0.00166, in 0.188s\n",
      "[5/100] 1 tree, 31 leaves, max depth = 7, train score: -0.00152, val score: -0.00156, in 0.140s\n",
      "[6/100] 1 tree, 31 leaves, max depth = 7, train score: -0.00145, val score: -0.00150, in 0.152s\n",
      "[7/100] 1 tree, 31 leaves, max depth = 8, train score: -0.00141, val score: -0.00146, in 0.160s\n",
      "[8/100] 1 tree, 31 leaves, max depth = 9, train score: -0.00139, val score: -0.00143, in 0.331s\n",
      "[9/100] 1 tree, 31 leaves, max depth = 8, train score: -0.00137, val score: -0.00142, in 0.216s\n",
      "[10/100] 1 tree, 31 leaves, max depth = 9, train score: -0.00136, val score: -0.00141, in 0.190s\n",
      "[11/100] 1 tree, 31 leaves, max depth = 9, train score: -0.00135, val score: -0.00140, in 0.214s\n",
      "[12/100] 1 tree, 31 leaves, max depth = 12, train score: -0.00135, val score: -0.00140, in 0.222s\n",
      "[13/100] 1 tree, 31 leaves, max depth = 12, train score: -0.00135, val score: -0.00140, in 0.212s\n",
      "[14/100] 1 tree, 31 leaves, max depth = 15, train score: -0.00134, val score: -0.00140, in 0.218s\n",
      "[15/100] 1 tree, 31 leaves, max depth = 10, train score: -0.00134, val score: -0.00139, in 0.251s\n",
      "[16/100] 1 tree, 31 leaves, max depth = 12, train score: -0.00134, val score: -0.00139, in 0.244s\n",
      "[17/100] 1 tree, 31 leaves, max depth = 11, train score: -0.00134, val score: -0.00139, in 0.249s\n",
      "[18/100] 1 tree, 31 leaves, max depth = 12, train score: -0.00134, val score: -0.00139, in 0.281s\n",
      "[19/100] 1 tree, 31 leaves, max depth = 10, train score: -0.00134, val score: -0.00139, in 0.290s\n",
      "[20/100] 1 tree, 31 leaves, max depth = 10, train score: -0.00134, val score: -0.00139, in 0.299s\n",
      "[21/100] 1 tree, 31 leaves, max depth = 14, train score: -0.00134, val score: -0.00139, in 0.280s\n",
      "[22/100] 1 tree, 31 leaves, max depth = 9, train score: -0.00134, val score: -0.00139, in 0.287s\n",
      "[23/100] 1 tree, 31 leaves, max depth = 13, train score: -0.00134, val score: -0.00139, in 0.287s\n",
      "[24/100] 1 tree, 31 leaves, max depth = 10, train score: -0.00134, val score: -0.00139, in 0.272s\n",
      "[25/100] 1 tree, 31 leaves, max depth = 11, train score: -0.00134, val score: -0.00139, in 0.289s\n",
      "[26/100] 1 tree, 31 leaves, max depth = 9, train score: -0.00134, val score: -0.00139, in 0.254s\n",
      "[27/100] 1 tree, 31 leaves, max depth = 14, train score: -0.00134, val score: -0.00139, in 0.274s\n",
      "Fit 27 trees in 6.672 s, (837 total leaves)\n",
      "Time spent computing histograms: 0.308s\n",
      "Time spent finding best splits:  0.061s\n",
      "Time spent applying splits:      0.346s\n",
      "Time spent predicting:           0.008s\n",
      "Train R2: 0.773, Train RMSPE: 0.001, Validation R2: 0.757, Validation RMSPE: 0.001\n",
      "Fitting 5 folds for each of 20 candidates, totalling 100 fits\n"
     ]
    },
    {
     "output_type": "stream",
     "name": "stderr",
     "text": [
      "[Parallel(n_jobs=-1)]: Using backend LokyBackend with 4 concurrent workers.\n",
      "[Parallel(n_jobs=-1)]: Done  42 tasks      | elapsed:  1.0min\n"
     ]
    },
    {
     "output_type": "stream",
     "name": "stdout",
     "text": [
      "Binning 0.001 GB of training data: 0.050 s\n",
      "Binning 0.000 GB of validation data: "
     ]
    },
    {
     "output_type": "stream",
     "name": "stderr",
     "text": [
      "[Parallel(n_jobs=-1)]: Done 100 out of 100 | elapsed:  2.7min finished\n"
     ]
    },
    {
     "output_type": "stream",
     "name": "stdout",
     "text": [
      "0.019 s\n",
      "Fitting gradient boosted rounds:\n",
      "[1/100] 1 tree, 15 leaves, max depth = 4, train score: -0.00220, val score: -0.00216, in 0.075s\n",
      "[2/100] 1 tree, 15 leaves, max depth = 5, train score: -0.00185, val score: -0.00182, in 0.096s\n",
      "[3/100] 1 tree, 15 leaves, max depth = 4, train score: -0.00166, val score: -0.00162, in 0.073s\n",
      "[4/100] 1 tree, 15 leaves, max depth = 4, train score: -0.00155, val score: -0.00151, in 0.104s\n",
      "[5/100] 1 tree, 15 leaves, max depth = 5, train score: -0.00149, val score: -0.00145, in 0.143s\n",
      "[6/100] 1 tree, 15 leaves, max depth = 6, train score: -0.00145, val score: -0.00141, in 0.206s\n",
      "[7/100] 1 tree, 15 leaves, max depth = 5, train score: -0.00143, val score: -0.00139, in 0.266s\n",
      "[8/100] 1 tree, 15 leaves, max depth = 7, train score: -0.00142, val score: -0.00138, in 0.238s\n",
      "[9/100] 1 tree, 15 leaves, max depth = 6, train score: -0.00141, val score: -0.00137, in 0.135s\n",
      "[10/100] 1 tree, 15 leaves, max depth = 5, train score: -0.00141, val score: -0.00137, in 0.116s\n",
      "[11/100] 1 tree, 15 leaves, max depth = 6, train score: -0.00141, val score: -0.00137, in 0.118s\n",
      "[12/100] 1 tree, 15 leaves, max depth = 7, train score: -0.00141, val score: -0.00137, in 0.126s\n",
      "[13/100] 1 tree, 15 leaves, max depth = 9, train score: -0.00140, val score: -0.00137, in 0.125s\n",
      "[14/100] 1 tree, 15 leaves, max depth = 7, train score: -0.00140, val score: -0.00137, in 0.188s\n",
      "[15/100] 1 tree, 15 leaves, max depth = 7, train score: -0.00140, val score: -0.00137, in 0.169s\n",
      "[16/100] 1 tree, 15 leaves, max depth = 6, train score: -0.00140, val score: -0.00137, in 0.151s\n",
      "[17/100] 1 tree, 15 leaves, max depth = 9, train score: -0.00140, val score: -0.00137, in 0.203s\n",
      "[18/100] 1 tree, 15 leaves, max depth = 9, train score: -0.00140, val score: -0.00137, in 0.214s\n",
      "[19/100] 1 tree, 15 leaves, max depth = 10, train score: -0.00140, val score: -0.00137, in 0.234s\n",
      "[20/100] 1 tree, 15 leaves, max depth = 10, train score: -0.00140, val score: -0.00137, in 0.153s\n",
      "[21/100] 1 tree, 15 leaves, max depth = 7, train score: -0.00140, val score: -0.00137, in 0.140s\n",
      "[22/100] 1 tree, 15 leaves, max depth = 8, train score: -0.00140, val score: -0.00137, in 0.140s\n",
      "[23/100] 1 tree, 15 leaves, max depth = 7, train score: -0.00140, val score: -0.00137, in 0.347s\n",
      "[24/100] 1 tree, 15 leaves, max depth = 7, train score: -0.00140, val score: -0.00137, in 0.183s\n",
      "[25/100] 1 tree, 15 leaves, max depth = 8, train score: -0.00140, val score: -0.00137, in 0.345s\n",
      "[26/100] 1 tree, 15 leaves, max depth = 6, train score: -0.00140, val score: -0.00137, in 0.299s\n",
      "Fit 26 trees in 4.855 s, (390 total leaves)\n",
      "Time spent computing histograms: 0.162s\n",
      "Time spent finding best splits:  0.034s\n",
      "Time spent applying splits:      0.217s\n",
      "Time spent predicting:           0.011s\n",
      "Binning 0.001 GB of training data: 0.094 s\n",
      "Binning 0.000 GB of validation data: 0.024 s\n",
      "Fitting gradient boosted rounds:\n",
      "[1/100] 1 tree, 15 leaves, max depth = 4, train score: -0.00220, val score: -0.00216, in 0.077s\n",
      "[2/100] 1 tree, 15 leaves, max depth = 5, train score: -0.00185, val score: -0.00182, in 0.080s\n",
      "[3/100] 1 tree, 15 leaves, max depth = 4, train score: -0.00166, val score: -0.00162, in 0.082s\n",
      "[4/100] 1 tree, 15 leaves, max depth = 4, train score: -0.00155, val score: -0.00151, in 0.095s\n",
      "[5/100] 1 tree, 15 leaves, max depth = 5, train score: -0.00149, val score: -0.00145, in 0.088s\n",
      "[6/100] 1 tree, 15 leaves, max depth = 6, train score: -0.00145, val score: -0.00141, in 0.091s\n",
      "[7/100] 1 tree, 15 leaves, max depth = 5, train score: -0.00143, val score: -0.00139, in 0.098s\n",
      "[8/100] 1 tree, 15 leaves, max depth = 7, train score: -0.00142, val score: -0.00138, in 0.113s\n",
      "[9/100] 1 tree, 15 leaves, max depth = 6, train score: -0.00141, val score: -0.00137, in 0.099s\n",
      "[10/100] 1 tree, 15 leaves, max depth = 5, train score: -0.00141, val score: -0.00137, in 0.105s\n",
      "[11/100] 1 tree, 15 leaves, max depth = 6, train score: -0.00141, val score: -0.00137, in 0.105s\n",
      "[12/100] 1 tree, 15 leaves, max depth = 7, train score: -0.00141, val score: -0.00137, in 0.109s\n",
      "[13/100] 1 tree, 15 leaves, max depth = 9, train score: -0.00140, val score: -0.00137, in 0.113s\n",
      "[14/100] 1 tree, 15 leaves, max depth = 7, train score: -0.00140, val score: -0.00137, in 0.129s\n",
      "[15/100] 1 tree, 15 leaves, max depth = 7, train score: -0.00140, val score: -0.00137, in 0.215s\n",
      "[16/100] 1 tree, 15 leaves, max depth = 6, train score: -0.00140, val score: -0.00137, in 0.149s\n",
      "[17/100] 1 tree, 15 leaves, max depth = 9, train score: -0.00140, val score: -0.00137, in 0.168s\n",
      "[18/100] 1 tree, 15 leaves, max depth = 9, train score: -0.00140, val score: -0.00137, in 0.141s\n",
      "[19/100] 1 tree, 15 leaves, max depth = 10, train score: -0.00140, val score: -0.00137, in 0.149s\n",
      "[20/100] 1 tree, 15 leaves, max depth = 10, train score: -0.00140, val score: -0.00137, in 0.182s\n",
      "[21/100] 1 tree, 15 leaves, max depth = 7, train score: -0.00140, val score: -0.00137, in 0.223s\n",
      "[22/100] 1 tree, 15 leaves, max depth = 8, train score: -0.00140, val score: -0.00137, in 0.228s\n",
      "[23/100] 1 tree, 15 leaves, max depth = 7, train score: -0.00140, val score: -0.00137, in 0.194s\n",
      "[24/100] 1 tree, 15 leaves, max depth = 7, train score: -0.00140, val score: -0.00137, in 0.148s\n",
      "[25/100] 1 tree, 15 leaves, max depth = 8, train score: -0.00140, val score: -0.00137, in 0.147s\n",
      "[26/100] 1 tree, 15 leaves, max depth = 6, train score: -0.00140, val score: -0.00137, in 0.145s\n",
      "Fit 26 trees in 3.787 s, (390 total leaves)\n",
      "Time spent computing histograms: 0.186s\n",
      "Time spent finding best splits:  0.033s\n",
      "Time spent applying splits:      0.206s\n",
      "Time spent predicting:           0.006s\n",
      "Train R2: 0.769, Train RMSPE: 0.001, Validation R2: 0.764, Validation RMSPE: 0.001\n",
      "Fitting 5 folds for each of 20 candidates, totalling 100 fits\n"
     ]
    },
    {
     "output_type": "stream",
     "name": "stderr",
     "text": [
      "[Parallel(n_jobs=-1)]: Using backend LokyBackend with 4 concurrent workers.\n",
      "[Parallel(n_jobs=-1)]: Done  42 tasks      | elapsed:   45.4s\n"
     ]
    },
    {
     "output_type": "stream",
     "name": "stdout",
     "text": [
      "Binning 0.001 GB of training data: 0.078 s\n",
      "Binning 0.000 GB of validation data: "
     ]
    },
    {
     "output_type": "stream",
     "name": "stderr",
     "text": [
      "[Parallel(n_jobs=-1)]: Done 100 out of 100 | elapsed:  2.1min finished\n"
     ]
    },
    {
     "output_type": "stream",
     "name": "stdout",
     "text": [
      "0.016 s\n",
      "Fitting gradient boosted rounds:\n",
      "[1/100] 1 tree, 15 leaves, max depth = 4, train score: -0.00214, val score: -0.00216, in 0.121s\n",
      "[2/100] 1 tree, 15 leaves, max depth = 4, train score: -0.00180, val score: -0.00182, in 0.107s\n",
      "[3/100] 1 tree, 15 leaves, max depth = 4, train score: -0.00160, val score: -0.00162, in 0.116s\n",
      "[4/100] 1 tree, 15 leaves, max depth = 5, train score: -0.00150, val score: -0.00152, in 0.116s\n",
      "[5/100] 1 tree, 15 leaves, max depth = 5, train score: -0.00144, val score: -0.00146, in 0.136s\n",
      "[6/100] 1 tree, 15 leaves, max depth = 6, train score: -0.00141, val score: -0.00143, in 0.151s\n",
      "[7/100] 1 tree, 15 leaves, max depth = 5, train score: -0.00139, val score: -0.00141, in 0.156s\n",
      "[8/100] 1 tree, 15 leaves, max depth = 5, train score: -0.00138, val score: -0.00140, in 0.169s\n",
      "[9/100] 1 tree, 15 leaves, max depth = 6, train score: -0.00138, val score: -0.00140, in 0.152s\n",
      "[10/100] 1 tree, 15 leaves, max depth = 6, train score: -0.00138, val score: -0.00140, in 0.139s\n",
      "[11/100] 1 tree, 15 leaves, max depth = 8, train score: -0.00137, val score: -0.00139, in 0.147s\n",
      "[12/100] 1 tree, 15 leaves, max depth = 7, train score: -0.00137, val score: -0.00139, in 0.142s\n",
      "[13/100] 1 tree, 15 leaves, max depth = 6, train score: -0.00137, val score: -0.00139, in 0.147s\n",
      "[14/100] 1 tree, 15 leaves, max depth = 8, train score: -0.00137, val score: -0.00139, in 0.154s\n",
      "[15/100] 1 tree, 15 leaves, max depth = 8, train score: -0.00137, val score: -0.00139, in 0.160s\n",
      "[16/100] 1 tree, 15 leaves, max depth = 8, train score: -0.00137, val score: -0.00139, in 0.158s\n",
      "[17/100] 1 tree, 15 leaves, max depth = 9, train score: -0.00137, val score: -0.00139, in 0.164s\n",
      "[18/100] 1 tree, 15 leaves, max depth = 8, train score: -0.00137, val score: -0.00139, in 0.162s\n",
      "[19/100] 1 tree, 15 leaves, max depth = 9, train score: -0.00137, val score: -0.00139, in 0.188s\n",
      "[20/100] 1 tree, 15 leaves, max depth = 9, train score: -0.00137, val score: -0.00139, in 0.169s\n",
      "[21/100] 1 tree, 15 leaves, max depth = 8, train score: -0.00137, val score: -0.00139, in 0.169s\n",
      "[22/100] 1 tree, 15 leaves, max depth = 10, train score: -0.00137, val score: -0.00139, in 0.181s\n",
      "[23/100] 1 tree, 15 leaves, max depth = 6, train score: -0.00137, val score: -0.00139, in 0.184s\n",
      "Fit 23 trees in 3.743 s, (345 total leaves)\n",
      "Time spent computing histograms: 0.188s\n",
      "Time spent finding best splits:  0.025s\n",
      "Time spent applying splits:      0.291s\n",
      "Time spent predicting:           0.006s\n",
      "Binning 0.001 GB of training data: 0.085 s\n",
      "Binning 0.000 GB of validation data: 0.013 s\n",
      "Fitting gradient boosted rounds:\n",
      "[1/100] 1 tree, 15 leaves, max depth = 4, train score: -0.00214, val score: -0.00216, in 0.072s\n",
      "[2/100] 1 tree, 15 leaves, max depth = 4, train score: -0.00180, val score: -0.00182, in 0.094s\n",
      "[3/100] 1 tree, 15 leaves, max depth = 4, train score: -0.00160, val score: -0.00162, in 0.098s\n",
      "[4/100] 1 tree, 15 leaves, max depth = 5, train score: -0.00150, val score: -0.00152, in 0.110s\n",
      "[5/100] 1 tree, 15 leaves, max depth = 5, train score: -0.00144, val score: -0.00146, in 0.105s\n",
      "[6/100] 1 tree, 15 leaves, max depth = 6, train score: -0.00141, val score: -0.00143, in 0.116s\n",
      "[7/100] 1 tree, 15 leaves, max depth = 5, train score: -0.00139, val score: -0.00141, in 0.115s\n",
      "[8/100] 1 tree, 15 leaves, max depth = 5, train score: -0.00138, val score: -0.00140, in 0.122s\n",
      "[9/100] 1 tree, 15 leaves, max depth = 6, train score: -0.00138, val score: -0.00140, in 0.119s\n",
      "[10/100] 1 tree, 15 leaves, max depth = 6, train score: -0.00138, val score: -0.00140, in 0.128s\n",
      "[11/100] 1 tree, 15 leaves, max depth = 8, train score: -0.00137, val score: -0.00139, in 0.130s\n",
      "[12/100] 1 tree, 15 leaves, max depth = 7, train score: -0.00137, val score: -0.00139, in 0.131s\n",
      "[13/100] 1 tree, 15 leaves, max depth = 6, train score: -0.00137, val score: -0.00139, in 0.138s\n",
      "[14/100] 1 tree, 15 leaves, max depth = 8, train score: -0.00137, val score: -0.00139, in 0.141s\n",
      "[15/100] 1 tree, 15 leaves, max depth = 8, train score: -0.00137, val score: -0.00139, in 0.162s\n",
      "[16/100] 1 tree, 15 leaves, max depth = 8, train score: -0.00137, val score: -0.00139, in 0.194s\n",
      "[17/100] 1 tree, 15 leaves, max depth = 9, train score: -0.00137, val score: -0.00139, in 0.209s\n",
      "[18/100] 1 tree, 15 leaves, max depth = 8, train score: -0.00137, val score: -0.00139, in 0.188s\n",
      "[19/100] 1 tree, 15 leaves, max depth = 9, train score: -0.00137, val score: -0.00139, in 0.150s\n",
      "[20/100] 1 tree, 15 leaves, max depth = 9, train score: -0.00137, val score: -0.00139, in 0.162s\n",
      "[21/100] 1 tree, 15 leaves, max depth = 8, train score: -0.00137, val score: -0.00139, in 0.158s\n",
      "[22/100] 1 tree, 15 leaves, max depth = 10, train score: -0.00137, val score: -0.00139, in 0.170s\n",
      "[23/100] 1 tree, 15 leaves, max depth = 6, train score: -0.00137, val score: -0.00139, in 0.180s\n",
      "Fit 23 trees in 3.485 s, (345 total leaves)\n",
      "Time spent computing histograms: 0.211s\n",
      "Time spent finding best splits:  0.022s\n",
      "Time spent applying splits:      0.225s\n",
      "Time spent predicting:           0.009s\n",
      "Train R2: 0.767, Train RMSPE: 0.001, Validation R2: 0.767, Validation RMSPE: 0.001\n",
      "Fitting 5 folds for each of 20 candidates, totalling 100 fits\n"
     ]
    },
    {
     "output_type": "stream",
     "name": "stderr",
     "text": [
      "[Parallel(n_jobs=-1)]: Using backend LokyBackend with 4 concurrent workers.\n",
      "[Parallel(n_jobs=-1)]: Done  42 tasks      | elapsed:   46.7s\n"
     ]
    },
    {
     "output_type": "stream",
     "name": "stdout",
     "text": [
      "Binning 0.001 GB of training data: 0.111 s\n",
      "Binning 0.000 GB of validation data: "
     ]
    },
    {
     "output_type": "stream",
     "name": "stderr",
     "text": [
      "[Parallel(n_jobs=-1)]: Done 100 out of 100 | elapsed:  2.1min finished\n"
     ]
    },
    {
     "output_type": "stream",
     "name": "stdout",
     "text": [
      "0.019 s\n",
      "Fitting gradient boosted rounds:\n",
      "[1/100] 1 tree, 15 leaves, max depth = 4, train score: -0.00219, val score: -0.00217, in 0.103s\n",
      "[2/100] 1 tree, 15 leaves, max depth = 4, train score: -0.00184, val score: -0.00182, in 0.118s\n",
      "[3/100] 1 tree, 15 leaves, max depth = 4, train score: -0.00164, val score: -0.00163, in 0.143s\n",
      "[4/100] 1 tree, 15 leaves, max depth = 5, train score: -0.00153, val score: -0.00152, in 0.133s\n",
      "[5/100] 1 tree, 15 leaves, max depth = 5, train score: -0.00147, val score: -0.00146, in 0.125s\n",
      "[6/100] 1 tree, 15 leaves, max depth = 6, train score: -0.00143, val score: -0.00143, in 0.182s\n",
      "[7/100] 1 tree, 15 leaves, max depth = 6, train score: -0.00142, val score: -0.00141, in 0.159s\n",
      "[8/100] 1 tree, 15 leaves, max depth = 6, train score: -0.00141, val score: -0.00140, in 0.173s\n",
      "[9/100] 1 tree, 15 leaves, max depth = 8, train score: -0.00140, val score: -0.00139, in 0.165s\n",
      "[10/100] 1 tree, 15 leaves, max depth = 6, train score: -0.00140, val score: -0.00139, in 0.169s\n",
      "[11/100] 1 tree, 15 leaves, max depth = 7, train score: -0.00139, val score: -0.00139, in 0.187s\n",
      "[12/100] 1 tree, 15 leaves, max depth = 8, train score: -0.00139, val score: -0.00139, in 0.182s\n",
      "[13/100] 1 tree, 15 leaves, max depth = 5, train score: -0.00139, val score: -0.00138, in 0.179s\n",
      "[14/100] 1 tree, 15 leaves, max depth = 6, train score: -0.00139, val score: -0.00138, in 0.192s\n",
      "[15/100] 1 tree, 15 leaves, max depth = 7, train score: -0.00139, val score: -0.00138, in 0.195s\n",
      "[16/100] 1 tree, 15 leaves, max depth = 7, train score: -0.00139, val score: -0.00138, in 0.172s\n",
      "[17/100] 1 tree, 15 leaves, max depth = 8, train score: -0.00139, val score: -0.00138, in 0.197s\n",
      "[18/100] 1 tree, 15 leaves, max depth = 6, train score: -0.00139, val score: -0.00138, in 0.199s\n",
      "[19/100] 1 tree, 15 leaves, max depth = 7, train score: -0.00139, val score: -0.00138, in 0.219s\n",
      "[20/100] 1 tree, 15 leaves, max depth = 7, train score: -0.00139, val score: -0.00138, in 0.226s\n",
      "[21/100] 1 tree, 15 leaves, max depth = 5, train score: -0.00139, val score: -0.00138, in 0.222s\n",
      "[22/100] 1 tree, 15 leaves, max depth = 5, train score: -0.00139, val score: -0.00138, in 0.232s\n",
      "[23/100] 1 tree, 15 leaves, max depth = 7, train score: -0.00139, val score: -0.00138, in 0.248s\n",
      "[24/100] 1 tree, 15 leaves, max depth = 6, train score: -0.00139, val score: -0.00138, in 0.240s\n",
      "[25/100] 1 tree, 15 leaves, max depth = 8, train score: -0.00139, val score: -0.00138, in 0.243s\n",
      "[26/100] 1 tree, 15 leaves, max depth = 6, train score: -0.00139, val score: -0.00138, in 0.255s\n",
      "[27/100] 1 tree, 15 leaves, max depth = 7, train score: -0.00139, val score: -0.00138, in 0.247s\n",
      "Fit 27 trees in 5.401 s, (405 total leaves)\n",
      "Time spent computing histograms: 0.275s\n",
      "Time spent finding best splits:  0.025s\n",
      "Time spent applying splits:      0.284s\n",
      "Time spent predicting:           0.006s\n",
      "Binning 0.001 GB of training data: 0.121 s\n",
      "Binning 0.000 GB of validation data: 0.018 s\n",
      "Fitting gradient boosted rounds:\n",
      "[1/100] 1 tree, 15 leaves, max depth = 4, train score: -0.00219, val score: -0.00217, in 0.092s\n",
      "[2/100] 1 tree, 15 leaves, max depth = 4, train score: -0.00184, val score: -0.00182, in 0.125s\n",
      "[3/100] 1 tree, 15 leaves, max depth = 4, train score: -0.00164, val score: -0.00163, in 0.122s\n",
      "[4/100] 1 tree, 15 leaves, max depth = 5, train score: -0.00153, val score: -0.00152, in 0.146s\n",
      "[5/100] 1 tree, 15 leaves, max depth = 5, train score: -0.00147, val score: -0.00146, in 0.143s\n",
      "[6/100] 1 tree, 15 leaves, max depth = 6, train score: -0.00143, val score: -0.00143, in 0.137s\n",
      "[7/100] 1 tree, 15 leaves, max depth = 6, train score: -0.00142, val score: -0.00141, in 0.139s\n",
      "[8/100] 1 tree, 15 leaves, max depth = 6, train score: -0.00141, val score: -0.00140, in 0.149s\n",
      "[9/100] 1 tree, 15 leaves, max depth = 8, train score: -0.00140, val score: -0.00139, in 0.150s\n",
      "[10/100] 1 tree, 15 leaves, max depth = 6, train score: -0.00140, val score: -0.00139, in 0.161s\n",
      "[11/100] 1 tree, 15 leaves, max depth = 7, train score: -0.00139, val score: -0.00139, in 0.143s\n",
      "[12/100] 1 tree, 15 leaves, max depth = 8, train score: -0.00139, val score: -0.00139, in 0.172s\n",
      "[13/100] 1 tree, 15 leaves, max depth = 5, train score: -0.00139, val score: -0.00138, in 0.179s\n",
      "[14/100] 1 tree, 15 leaves, max depth = 6, train score: -0.00139, val score: -0.00138, in 0.174s\n",
      "[15/100] 1 tree, 15 leaves, max depth = 7, train score: -0.00139, val score: -0.00138, in 0.185s\n",
      "[16/100] 1 tree, 15 leaves, max depth = 7, train score: -0.00139, val score: -0.00138, in 0.180s\n",
      "[17/100] 1 tree, 15 leaves, max depth = 8, train score: -0.00139, val score: -0.00138, in 0.198s\n",
      "[18/100] 1 tree, 15 leaves, max depth = 6, train score: -0.00139, val score: -0.00138, in 0.205s\n",
      "[19/100] 1 tree, 15 leaves, max depth = 7, train score: -0.00139, val score: -0.00138, in 0.218s\n",
      "[20/100] 1 tree, 15 leaves, max depth = 7, train score: -0.00139, val score: -0.00138, in 0.211s\n",
      "[21/100] 1 tree, 15 leaves, max depth = 5, train score: -0.00139, val score: -0.00138, in 0.203s\n",
      "[22/100] 1 tree, 15 leaves, max depth = 5, train score: -0.00139, val score: -0.00138, in 0.221s\n",
      "[23/100] 1 tree, 15 leaves, max depth = 7, train score: -0.00139, val score: -0.00138, in 0.244s\n",
      "[24/100] 1 tree, 15 leaves, max depth = 6, train score: -0.00139, val score: -0.00138, in 0.222s\n",
      "[25/100] 1 tree, 15 leaves, max depth = 8, train score: -0.00139, val score: -0.00138, in 0.230s\n",
      "[26/100] 1 tree, 15 leaves, max depth = 6, train score: -0.00139, val score: -0.00138, in 0.261s\n",
      "[27/100] 1 tree, 15 leaves, max depth = 7, train score: -0.00139, val score: -0.00138, in 0.242s\n",
      "Fit 27 trees in 5.237 s, (405 total leaves)\n",
      "Time spent computing histograms: 0.259s\n",
      "Time spent finding best splits:  0.032s\n",
      "Time spent applying splits:      0.253s\n",
      "Time spent predicting:           0.006s\n",
      "Train R2: 0.767, Train RMSPE: 0.001, Validation R2: 0.769, Validation RMSPE: 0.001\n"
     ]
    }
   ],
   "metadata": {}
  },
  {
   "cell_type": "code",
   "execution_count": 87,
   "source": [
    "grid_search.best_params_"
   ],
   "outputs": [
    {
     "output_type": "execute_result",
     "data": {
      "text/plain": [
       "{'min_samples_leaf': 30,\n",
       " 'max_leaf_nodes': 15,\n",
       " 'max_depth': None,\n",
       " 'learning_rate': 0.28117686979742307,\n",
       " 'l2_regularization': 0.0}"
      ]
     },
     "metadata": {},
     "execution_count": 87
    }
   ],
   "metadata": {}
  },
  {
   "cell_type": "code",
   "execution_count": null,
   "source": [
    "preds = predict_avg(models, inputs)"
   ],
   "outputs": [],
   "metadata": {}
  },
  {
   "cell_type": "code",
   "execution_count": 49,
   "source": [
    "model = HistGradientBoostingRegressor(random_state=11111,scoring='neg_root_mean_squared_error',validation_fraction=0.2,verbose=1,loss='least_squares')\r\n",
    "param_grid = {#\"max_depth\": [10, 20, 30, 40, 50, None],\r\n",
    "              \"max_leaf_nodes\" : [7,15,31,63],\r\n",
    "              \"learning_rate\": np.logspace(-1,1,10),\r\n",
    "              \"min_samples_leaf\": [20,30,40,50],\r\n",
    "              #\"l2_regularization\": [0.0,0.00001,0.0001,0.001,0.01]\r\n",
    "            }\r\n"
   ],
   "outputs": [],
   "metadata": {}
  },
  {
   "cell_type": "code",
   "execution_count": 50,
   "source": [
    "models = []\r\n",
    "for train_idxs, val_idxs in ss.split(inputs):\r\n",
    "    X_train, train_targets = inputs.iloc[train_idxs], targets.iloc[train_idxs]\r\n",
    "    X_val, val_targets = inputs.iloc[val_idxs], targets.iloc[val_idxs]\r\n",
    "    X_train = np.ascontiguousarray(X_train).reshape(-1,2)\r\n",
    "    train_targets = np.ascontiguousarray(train_targets).reshape(-1,1)\r\n",
    "    X_val = np.ascontiguousarray(X_val).reshape(-1,2)\r\n",
    "    val_targets = np.ascontiguousarray(val_targets).reshape(-1,1)\r\n",
    "    grid_search = GridSearchCV(model, param_grid,  scoring='r2',verbose=1,return_train_score=True,n_jobs=-1).fit(X_train,train_targets)\r\n",
    "    model, train_R2, train_RMSPE, val_R2, val_RMSPE = train_and_evaluate(X_train, \r\n",
    "                                                        train_targets, \r\n",
    "                                                        X_val, \r\n",
    "                                                        val_targets, \r\n",
    "                                                        **grid_search.best_params_)\r\n",
    "    models.append(model)\r\n",
    "    print('Train R2: {}, Train RMSPE: {}, Validation R2: {}, Validation RMSPE: {}'.format(train_R2, train_RMSPE, val_R2, val_RMSPE))\r\n"
   ],
   "outputs": [
    {
     "output_type": "stream",
     "name": "stdout",
     "text": [
      "Fitting 5 folds for each of 160 candidates, totalling 800 fits\n"
     ]
    },
    {
     "output_type": "stream",
     "name": "stderr",
     "text": [
      "[Parallel(n_jobs=-1)]: Using backend LokyBackend with 4 concurrent workers.\n",
      "[Parallel(n_jobs=-1)]: Done  42 tasks      | elapsed:   36.9s\n",
      "[Parallel(n_jobs=-1)]: Done 192 tasks      | elapsed:  2.0min\n",
      "[Parallel(n_jobs=-1)]: Done 442 tasks      | elapsed:  2.9min\n",
      "[Parallel(n_jobs=-1)]: Done 792 tasks      | elapsed:  3.7min\n",
      "[Parallel(n_jobs=-1)]: Done 800 out of 800 | elapsed:  3.7min finished\n",
      "C:\\ProgramData\\Anaconda3\\lib\\site-packages\\sklearn\\utils\\validation.py:73: DataConversionWarning: A column-vector y was passed when a 1d array was expected. Please change the shape of y to (n_samples, ), for example using ravel().\n",
      "  return f(**kwargs)\n"
     ]
    },
    {
     "output_type": "stream",
     "name": "stdout",
     "text": [
      "Binning 0.001 GB of training data: 0.134 s\n",
      "Binning 0.000 GB of validation data: 0.024 s\n",
      "Fitting gradient boosted rounds:\n",
      "[1/100] 1 tree, 7 leaves, max depth = 3, train score: -0.00248, val score: -0.00248, in 0.150s\n",
      "[2/100] 1 tree, 7 leaves, max depth = 3, train score: -0.00221, val score: -0.00221, in 0.126s\n",
      "[3/100] 1 tree, 7 leaves, max depth = 3, train score: -0.00200, val score: -0.00200, in 0.166s\n",
      "[4/100] 1 tree, 7 leaves, max depth = 3, train score: -0.00184, val score: -0.00183, in 0.146s\n",
      "[5/100] 1 tree, 7 leaves, max depth = 3, train score: -0.00172, val score: -0.00171, in 0.182s\n",
      "[6/100] 1 tree, 7 leaves, max depth = 3, train score: -0.00162, val score: -0.00162, in 0.340s\n",
      "[7/100] 1 tree, 7 leaves, max depth = 3, train score: -0.00156, val score: -0.00155, in 0.204s\n",
      "[8/100] 1 tree, 7 leaves, max depth = 3, train score: -0.00150, val score: -0.00149, in 0.182s\n",
      "[9/100] 1 tree, 7 leaves, max depth = 3, train score: -0.00147, val score: -0.00146, in 0.154s\n",
      "[10/100] 1 tree, 7 leaves, max depth = 3, train score: -0.00144, val score: -0.00143, in 0.192s\n",
      "[11/100] 1 tree, 7 leaves, max depth = 4, train score: -0.00142, val score: -0.00141, in 0.160s\n",
      "[12/100] 1 tree, 7 leaves, max depth = 4, train score: -0.00141, val score: -0.00140, in 0.204s\n",
      "[13/100] 1 tree, 7 leaves, max depth = 3, train score: -0.00139, val score: -0.00138, in 0.181s\n",
      "[14/100] 1 tree, 7 leaves, max depth = 4, train score: -0.00139, val score: -0.00138, in 0.203s\n",
      "[15/100] 1 tree, 7 leaves, max depth = 5, train score: -0.00138, val score: -0.00137, in 0.228s\n",
      "[16/100] 1 tree, 7 leaves, max depth = 3, train score: -0.00138, val score: -0.00137, in 0.232s\n",
      "[17/100] 1 tree, 7 leaves, max depth = 4, train score: -0.00137, val score: -0.00137, in 0.200s\n",
      "[18/100] 1 tree, 7 leaves, max depth = 4, train score: -0.00137, val score: -0.00136, in 0.249s\n",
      "[19/100] 1 tree, 7 leaves, max depth = 4, train score: -0.00137, val score: -0.00136, in 0.243s\n",
      "[20/100] 1 tree, 7 leaves, max depth = 5, train score: -0.00137, val score: -0.00136, in 0.256s\n",
      "[21/100] 1 tree, 7 leaves, max depth = 4, train score: -0.00137, val score: -0.00136, in 0.266s\n",
      "[22/100] 1 tree, 7 leaves, max depth = 5, train score: -0.00137, val score: -0.00136, in 0.262s\n",
      "[23/100] 1 tree, 7 leaves, max depth = 4, train score: -0.00137, val score: -0.00136, in 0.268s\n",
      "[24/100] 1 tree, 7 leaves, max depth = 4, train score: -0.00137, val score: -0.00136, in 0.296s\n",
      "[25/100] 1 tree, 7 leaves, max depth = 4, train score: -0.00136, val score: -0.00136, in 0.292s\n",
      "[26/100] 1 tree, 7 leaves, max depth = 4, train score: -0.00136, val score: -0.00136, in 0.281s\n",
      "[27/100] 1 tree, 7 leaves, max depth = 5, train score: -0.00136, val score: -0.00136, in 0.323s\n",
      "[28/100] 1 tree, 7 leaves, max depth = 4, train score: -0.00136, val score: -0.00136, in 0.325s\n",
      "[29/100] 1 tree, 7 leaves, max depth = 6, train score: -0.00136, val score: -0.00136, in 0.314s\n",
      "[30/100] 1 tree, 7 leaves, max depth = 4, train score: -0.00136, val score: -0.00136, in 0.323s\n",
      "[31/100] 1 tree, 7 leaves, max depth = 4, train score: -0.00136, val score: -0.00136, in 0.329s\n",
      "[32/100] 1 tree, 7 leaves, max depth = 5, train score: -0.00136, val score: -0.00136, in 0.319s\n",
      "[33/100] 1 tree, 7 leaves, max depth = 4, train score: -0.00136, val score: -0.00136, in 0.353s\n",
      "[34/100] 1 tree, 7 leaves, max depth = 5, train score: -0.00136, val score: -0.00136, in 0.345s\n",
      "[35/100] 1 tree, 7 leaves, max depth = 4, train score: -0.00136, val score: -0.00136, in 0.361s\n",
      "[36/100] 1 tree, 7 leaves, max depth = 5, train score: -0.00136, val score: -0.00136, in 0.360s\n",
      "[37/100] 1 tree, 7 leaves, max depth = 4, train score: -0.00136, val score: -0.00136, in 0.370s\n",
      "[38/100] 1 tree, 7 leaves, max depth = 6, train score: -0.00136, val score: -0.00136, in 0.378s\n",
      "[39/100] 1 tree, 7 leaves, max depth = 5, train score: -0.00136, val score: -0.00136, in 0.399s\n",
      "[40/100] 1 tree, 7 leaves, max depth = 4, train score: -0.00136, val score: -0.00136, in 0.391s\n",
      "[41/100] 1 tree, 7 leaves, max depth = 5, train score: -0.00136, val score: -0.00136, in 0.426s\n",
      "Fit 41 trees in 12.178 s, (287 total leaves)\n",
      "Time spent computing histograms: 0.526s\n",
      "Time spent finding best splits:  0.097s\n",
      "Time spent applying splits:      0.422s\n",
      "Time spent predicting:           0.009s\n",
      "Binning 0.001 GB of training data: "
     ]
    },
    {
     "output_type": "stream",
     "name": "stderr",
     "text": [
      "C:\\ProgramData\\Anaconda3\\lib\\site-packages\\sklearn\\utils\\validation.py:73: DataConversionWarning: A column-vector y was passed when a 1d array was expected. Please change the shape of y to (n_samples, ), for example using ravel().\n",
      "  return f(**kwargs)\n"
     ]
    },
    {
     "output_type": "stream",
     "name": "stdout",
     "text": [
      "0.117 s\n",
      "Binning 0.000 GB of validation data: 0.021 s\n",
      "Fitting gradient boosted rounds:\n",
      "[1/100] 1 tree, 7 leaves, max depth = 3, train score: -0.00245, val score: -0.00244, in 0.092s\n",
      "[2/100] 1 tree, 7 leaves, max depth = 3, train score: -0.00217, val score: -0.00217, in 0.136s\n",
      "[3/100] 1 tree, 7 leaves, max depth = 3, train score: -0.00196, val score: -0.00196, in 0.140s\n",
      "[4/100] 1 tree, 7 leaves, max depth = 3, train score: -0.00181, val score: -0.00180, in 0.153s\n",
      "[5/100] 1 tree, 7 leaves, max depth = 3, train score: -0.00169, val score: -0.00168, in 0.159s\n",
      "[6/100] 1 tree, 7 leaves, max depth = 3, train score: -0.00160, val score: -0.00160, in 0.161s\n",
      "[7/100] 1 tree, 7 leaves, max depth = 3, train score: -0.00154, val score: -0.00153, in 0.149s\n",
      "[8/100] 1 tree, 7 leaves, max depth = 3, train score: -0.00149, val score: -0.00149, in 0.191s\n",
      "[9/100] 1 tree, 7 leaves, max depth = 4, train score: -0.00146, val score: -0.00145, in 0.178s\n",
      "[10/100] 1 tree, 7 leaves, max depth = 3, train score: -0.00143, val score: -0.00143, in 0.181s\n",
      "[11/100] 1 tree, 7 leaves, max depth = 3, train score: -0.00142, val score: -0.00141, in 0.160s\n",
      "[12/100] 1 tree, 7 leaves, max depth = 3, train score: -0.00141, val score: -0.00140, in 0.287s\n",
      "[13/100] 1 tree, 7 leaves, max depth = 3, train score: -0.00140, val score: -0.00139, in 0.206s\n",
      "[14/100] 1 tree, 7 leaves, max depth = 3, train score: -0.00139, val score: -0.00138, in 0.186s\n",
      "[15/100] 1 tree, 7 leaves, max depth = 5, train score: -0.00138, val score: -0.00137, in 0.231s\n",
      "[16/100] 1 tree, 7 leaves, max depth = 4, train score: -0.00138, val score: -0.00137, in 0.227s\n",
      "[17/100] 1 tree, 7 leaves, max depth = 3, train score: -0.00138, val score: -0.00137, in 0.233s\n",
      "[18/100] 1 tree, 7 leaves, max depth = 3, train score: -0.00138, val score: -0.00137, in 0.216s\n",
      "[19/100] 1 tree, 7 leaves, max depth = 5, train score: -0.00137, val score: -0.00136, in 0.230s\n",
      "[20/100] 1 tree, 7 leaves, max depth = 5, train score: -0.00137, val score: -0.00136, in 0.222s\n",
      "[21/100] 1 tree, 7 leaves, max depth = 3, train score: -0.00137, val score: -0.00136, in 0.223s\n",
      "[22/100] 1 tree, 7 leaves, max depth = 3, train score: -0.00137, val score: -0.00136, in 0.253s\n",
      "[23/100] 1 tree, 7 leaves, max depth = 4, train score: -0.00137, val score: -0.00136, in 0.306s\n",
      "[24/100] 1 tree, 7 leaves, max depth = 4, train score: -0.00137, val score: -0.00136, in 0.292s\n",
      "[25/100] 1 tree, 7 leaves, max depth = 4, train score: -0.00137, val score: -0.00136, in 0.318s\n",
      "[26/100] 1 tree, 7 leaves, max depth = 5, train score: -0.00137, val score: -0.00136, in 0.268s\n",
      "[27/100] 1 tree, 7 leaves, max depth = 3, train score: -0.00137, val score: -0.00136, in 0.278s\n",
      "[28/100] 1 tree, 7 leaves, max depth = 4, train score: -0.00137, val score: -0.00136, in 0.241s\n",
      "[29/100] 1 tree, 7 leaves, max depth = 5, train score: -0.00137, val score: -0.00136, in 0.285s\n",
      "[30/100] 1 tree, 7 leaves, max depth = 4, train score: -0.00137, val score: -0.00136, in 0.273s\n",
      "[31/100] 1 tree, 7 leaves, max depth = 5, train score: -0.00137, val score: -0.00136, in 0.285s\n",
      "[32/100] 1 tree, 7 leaves, max depth = 4, train score: -0.00137, val score: -0.00136, in 0.299s\n",
      "[33/100] 1 tree, 7 leaves, max depth = 6, train score: -0.00137, val score: -0.00136, in 0.259s\n",
      "[34/100] 1 tree, 7 leaves, max depth = 4, train score: -0.00137, val score: -0.00136, in 0.323s\n",
      "[35/100] 1 tree, 7 leaves, max depth = 4, train score: -0.00137, val score: -0.00136, in 0.253s\n",
      "[36/100] 1 tree, 7 leaves, max depth = 5, train score: -0.00137, val score: -0.00136, in 0.300s\n",
      "[37/100] 1 tree, 7 leaves, max depth = 5, train score: -0.00137, val score: -0.00136, in 0.287s\n",
      "[38/100] 1 tree, 7 leaves, max depth = 4, train score: -0.00137, val score: -0.00136, in 0.340s\n",
      "[39/100] 1 tree, 7 leaves, max depth = 5, train score: -0.00137, val score: -0.00136, in 0.287s\n",
      "[40/100] 1 tree, 7 leaves, max depth = 4, train score: -0.00136, val score: -0.00136, in 0.361s\n",
      "[41/100] 1 tree, 7 leaves, max depth = 4, train score: -0.00136, val score: -0.00136, in 0.408s\n",
      "[42/100] 1 tree, 7 leaves, max depth = 4, train score: -0.00136, val score: -0.00136, in 0.387s\n",
      "[43/100] 1 tree, 7 leaves, max depth = 3, train score: -0.00136, val score: -0.00136, in 0.346s\n",
      "[44/100] 1 tree, 7 leaves, max depth = 4, train score: -0.00136, val score: -0.00136, in 0.382s\n",
      "[45/100] 1 tree, 7 leaves, max depth = 4, train score: -0.00136, val score: -0.00136, in 0.326s\n",
      "[46/100] 1 tree, 7 leaves, max depth = 3, train score: -0.00136, val score: -0.00136, in 0.377s\n",
      "[47/100] 1 tree, 7 leaves, max depth = 4, train score: -0.00136, val score: -0.00136, in 0.373s\n",
      "[48/100] 1 tree, 7 leaves, max depth = 4, train score: -0.00136, val score: -0.00136, in 0.359s\n",
      "[49/100] 1 tree, 7 leaves, max depth = 5, train score: -0.00136, val score: -0.00136, in 0.399s\n",
      "[50/100] 1 tree, 7 leaves, max depth = 5, train score: -0.00136, val score: -0.00136, in 0.440s\n",
      "[51/100] 1 tree, 7 leaves, max depth = 4, train score: -0.00136, val score: -0.00136, in 0.424s\n",
      "[52/100] 1 tree, 7 leaves, max depth = 3, train score: -0.00136, val score: -0.00136, in 0.442s\n",
      "Fit 52 trees in 14.752 s, (364 total leaves)\n",
      "Time spent computing histograms: 0.372s\n",
      "Time spent finding best splits:  0.083s\n",
      "Time spent applying splits:      0.371s\n",
      "Time spent predicting:           0.010s\n",
      "Train R2: 0.769, Train RMSPE: 0.001, Validation R2: 0.759, Validation RMSPE: 0.001\n",
      "Fitting 5 folds for each of 160 candidates, totalling 800 fits\n"
     ]
    },
    {
     "output_type": "stream",
     "name": "stderr",
     "text": [
      "[Parallel(n_jobs=-1)]: Using backend LokyBackend with 4 concurrent workers.\n",
      "[Parallel(n_jobs=-1)]: Done  42 tasks      | elapsed:   47.0s\n",
      "[Parallel(n_jobs=-1)]: Done 192 tasks      | elapsed:  2.6min\n",
      "[Parallel(n_jobs=-1)]: Done 442 tasks      | elapsed:  3.7min\n",
      "[Parallel(n_jobs=-1)]: Done 792 tasks      | elapsed:  4.4min\n"
     ]
    },
    {
     "output_type": "stream",
     "name": "stdout",
     "text": [
      "Binning 0.001 GB of training data: "
     ]
    },
    {
     "output_type": "stream",
     "name": "stderr",
     "text": [
      "[Parallel(n_jobs=-1)]: Done 800 out of 800 | elapsed:  4.4min finished\n",
      "C:\\ProgramData\\Anaconda3\\lib\\site-packages\\sklearn\\model_selection\\_search.py:813: RuntimeWarning: invalid value encountered in subtract\n",
      "  array_stds = np.sqrt(np.average((array -\n",
      "C:\\ProgramData\\Anaconda3\\lib\\site-packages\\sklearn\\utils\\validation.py:73: DataConversionWarning: A column-vector y was passed when a 1d array was expected. Please change the shape of y to (n_samples, ), for example using ravel().\n",
      "  return f(**kwargs)\n"
     ]
    },
    {
     "output_type": "stream",
     "name": "stdout",
     "text": [
      "0.112 s\n",
      "Binning 0.000 GB of validation data: 0.028 s\n",
      "Fitting gradient boosted rounds:\n",
      "[1/100] 1 tree, 15 leaves, max depth = 4, train score: -0.00243, val score: -0.00246, in 0.194s\n",
      "[2/100] 1 tree, 15 leaves, max depth = 4, train score: -0.00215, val score: -0.00218, in 0.178s\n",
      "[3/100] 1 tree, 15 leaves, max depth = 4, train score: -0.00193, val score: -0.00197, in 0.169s\n",
      "[4/100] 1 tree, 15 leaves, max depth = 5, train score: -0.00177, val score: -0.00181, in 0.302s\n",
      "[5/100] 1 tree, 15 leaves, max depth = 5, train score: -0.00165, val score: -0.00169, in 0.200s\n",
      "[6/100] 1 tree, 15 leaves, max depth = 5, train score: -0.00157, val score: -0.00161, in 0.179s\n",
      "[7/100] 1 tree, 15 leaves, max depth = 4, train score: -0.00150, val score: -0.00155, in 0.166s\n",
      "[8/100] 1 tree, 15 leaves, max depth = 5, train score: -0.00146, val score: -0.00150, in 0.160s\n",
      "[9/100] 1 tree, 15 leaves, max depth = 5, train score: -0.00143, val score: -0.00147, in 0.155s\n",
      "[10/100] 1 tree, 15 leaves, max depth = 5, train score: -0.00141, val score: -0.00145, in 0.152s\n",
      "[11/100] 1 tree, 15 leaves, max depth = 5, train score: -0.00139, val score: -0.00143, in 0.152s\n",
      "[12/100] 1 tree, 15 leaves, max depth = 5, train score: -0.00138, val score: -0.00142, in 0.158s\n",
      "[13/100] 1 tree, 15 leaves, max depth = 5, train score: -0.00137, val score: -0.00141, in 0.165s\n",
      "[14/100] 1 tree, 15 leaves, max depth = 5, train score: -0.00136, val score: -0.00141, in 0.160s\n",
      "[15/100] 1 tree, 15 leaves, max depth = 6, train score: -0.00136, val score: -0.00140, in 0.184s\n",
      "[16/100] 1 tree, 15 leaves, max depth = 6, train score: -0.00136, val score: -0.00140, in 0.168s\n",
      "[17/100] 1 tree, 15 leaves, max depth = 7, train score: -0.00135, val score: -0.00140, in 0.173s\n",
      "[18/100] 1 tree, 15 leaves, max depth = 6, train score: -0.00135, val score: -0.00140, in 0.177s\n",
      "[19/100] 1 tree, 15 leaves, max depth = 7, train score: -0.00135, val score: -0.00140, in 0.190s\n",
      "[20/100] 1 tree, 15 leaves, max depth = 6, train score: -0.00135, val score: -0.00140, in 0.191s\n",
      "[21/100] 1 tree, 15 leaves, max depth = 7, train score: -0.00135, val score: -0.00140, in 0.171s\n",
      "[22/100] 1 tree, 15 leaves, max depth = 8, train score: -0.00135, val score: -0.00140, in 0.198s\n",
      "[23/100] 1 tree, 15 leaves, max depth = 7, train score: -0.00135, val score: -0.00140, in 0.209s\n",
      "[24/100] 1 tree, 15 leaves, max depth = 8, train score: -0.00135, val score: -0.00140, in 0.218s\n",
      "[25/100] 1 tree, 15 leaves, max depth = 10, train score: -0.00135, val score: -0.00140, in 0.189s\n",
      "[26/100] 1 tree, 15 leaves, max depth = 6, train score: -0.00135, val score: -0.00140, in 0.222s\n",
      "[27/100] 1 tree, 15 leaves, max depth = 6, train score: -0.00135, val score: -0.00140, in 0.231s\n",
      "[28/100] 1 tree, 15 leaves, max depth = 8, train score: -0.00135, val score: -0.00139, in 0.249s\n",
      "[29/100] 1 tree, 15 leaves, max depth = 6, train score: -0.00135, val score: -0.00139, in 0.255s\n",
      "[30/100] 1 tree, 15 leaves, max depth = 7, train score: -0.00135, val score: -0.00139, in 0.306s\n",
      "[31/100] 1 tree, 15 leaves, max depth = 9, train score: -0.00135, val score: -0.00139, in 0.305s\n",
      "[32/100] 1 tree, 15 leaves, max depth = 9, train score: -0.00134, val score: -0.00139, in 0.269s\n",
      "[33/100] 1 tree, 15 leaves, max depth = 7, train score: -0.00134, val score: -0.00139, in 0.261s\n",
      "[34/100] 1 tree, 15 leaves, max depth = 9, train score: -0.00134, val score: -0.00139, in 0.362s\n",
      "[35/100] 1 tree, 15 leaves, max depth = 8, train score: -0.00134, val score: -0.00139, in 0.261s\n",
      "[36/100] 1 tree, 15 leaves, max depth = 6, train score: -0.00134, val score: -0.00139, in 0.281s\n",
      "[37/100] 1 tree, 15 leaves, max depth = 10, train score: -0.00134, val score: -0.00139, in 0.268s\n",
      "[38/100] 1 tree, 15 leaves, max depth = 6, train score: -0.00134, val score: -0.00139, in 0.281s\n",
      "Fit 38 trees in 8.479 s, (570 total leaves)\n",
      "Time spent computing histograms: 0.515s\n",
      "Time spent finding best splits:  0.141s\n",
      "Time spent applying splits:      0.433s\n",
      "Time spent predicting:           0.025s\n",
      "Binning 0.001 GB of training data: 0.076 s\n"
     ]
    },
    {
     "output_type": "stream",
     "name": "stderr",
     "text": [
      "C:\\ProgramData\\Anaconda3\\lib\\site-packages\\sklearn\\utils\\validation.py:73: DataConversionWarning: A column-vector y was passed when a 1d array was expected. Please change the shape of y to (n_samples, ), for example using ravel().\n",
      "  return f(**kwargs)\n"
     ]
    },
    {
     "output_type": "stream",
     "name": "stdout",
     "text": [
      "Binning 0.000 GB of validation data: 0.017 s\n",
      "Fitting gradient boosted rounds:\n",
      "[1/100] 1 tree, 15 leaves, max depth = 4, train score: -0.00243, val score: -0.00246, in 0.066s\n",
      "[2/100] 1 tree, 15 leaves, max depth = 4, train score: -0.00215, val score: -0.00218, in 0.094s\n",
      "[3/100] 1 tree, 15 leaves, max depth = 4, train score: -0.00193, val score: -0.00197, in 0.098s\n",
      "[4/100] 1 tree, 15 leaves, max depth = 5, train score: -0.00177, val score: -0.00181, in 0.131s\n",
      "[5/100] 1 tree, 15 leaves, max depth = 5, train score: -0.00165, val score: -0.00169, in 0.109s\n",
      "[6/100] 1 tree, 15 leaves, max depth = 5, train score: -0.00157, val score: -0.00161, in 0.117s\n",
      "[7/100] 1 tree, 15 leaves, max depth = 4, train score: -0.00150, val score: -0.00155, in 0.139s\n",
      "[8/100] 1 tree, 15 leaves, max depth = 5, train score: -0.00146, val score: -0.00150, in 0.132s\n",
      "[9/100] 1 tree, 15 leaves, max depth = 5, train score: -0.00143, val score: -0.00147, in 0.132s\n",
      "[10/100] 1 tree, 15 leaves, max depth = 5, train score: -0.00141, val score: -0.00145, in 0.140s\n",
      "[11/100] 1 tree, 15 leaves, max depth = 5, train score: -0.00139, val score: -0.00143, in 0.150s\n",
      "[12/100] 1 tree, 15 leaves, max depth = 5, train score: -0.00138, val score: -0.00142, in 0.134s\n",
      "[13/100] 1 tree, 15 leaves, max depth = 5, train score: -0.00137, val score: -0.00141, in 0.147s\n",
      "[14/100] 1 tree, 15 leaves, max depth = 5, train score: -0.00136, val score: -0.00141, in 0.168s\n",
      "[15/100] 1 tree, 15 leaves, max depth = 6, train score: -0.00136, val score: -0.00140, in 0.193s\n",
      "[16/100] 1 tree, 15 leaves, max depth = 6, train score: -0.00136, val score: -0.00140, in 0.178s\n",
      "[17/100] 1 tree, 15 leaves, max depth = 7, train score: -0.00135, val score: -0.00140, in 0.217s\n",
      "[18/100] 1 tree, 15 leaves, max depth = 6, train score: -0.00135, val score: -0.00140, in 0.233s\n",
      "[19/100] 1 tree, 15 leaves, max depth = 7, train score: -0.00135, val score: -0.00140, in 0.219s\n",
      "[20/100] 1 tree, 15 leaves, max depth = 6, train score: -0.00135, val score: -0.00140, in 0.178s\n",
      "[21/100] 1 tree, 15 leaves, max depth = 7, train score: -0.00135, val score: -0.00140, in 0.200s\n",
      "[22/100] 1 tree, 15 leaves, max depth = 8, train score: -0.00135, val score: -0.00140, in 0.213s\n",
      "[23/100] 1 tree, 15 leaves, max depth = 7, train score: -0.00135, val score: -0.00140, in 0.228s\n",
      "[24/100] 1 tree, 15 leaves, max depth = 8, train score: -0.00135, val score: -0.00140, in 0.221s\n",
      "[25/100] 1 tree, 15 leaves, max depth = 10, train score: -0.00135, val score: -0.00140, in 0.234s\n",
      "[26/100] 1 tree, 15 leaves, max depth = 6, train score: -0.00135, val score: -0.00140, in 0.220s\n",
      "[27/100] 1 tree, 15 leaves, max depth = 6, train score: -0.00135, val score: -0.00140, in 0.246s\n",
      "[28/100] 1 tree, 15 leaves, max depth = 8, train score: -0.00135, val score: -0.00139, in 0.252s\n",
      "[29/100] 1 tree, 15 leaves, max depth = 6, train score: -0.00135, val score: -0.00139, in 0.322s\n",
      "[30/100] 1 tree, 15 leaves, max depth = 7, train score: -0.00135, val score: -0.00139, in 0.329s\n",
      "[31/100] 1 tree, 15 leaves, max depth = 9, train score: -0.00135, val score: -0.00139, in 0.304s\n",
      "[32/100] 1 tree, 15 leaves, max depth = 9, train score: -0.00134, val score: -0.00139, in 0.331s\n",
      "[33/100] 1 tree, 15 leaves, max depth = 7, train score: -0.00134, val score: -0.00139, in 0.270s\n",
      "[34/100] 1 tree, 15 leaves, max depth = 9, train score: -0.00134, val score: -0.00139, in 0.253s\n",
      "[35/100] 1 tree, 15 leaves, max depth = 8, train score: -0.00134, val score: -0.00139, in 0.256s\n",
      "[36/100] 1 tree, 15 leaves, max depth = 6, train score: -0.00134, val score: -0.00139, in 0.257s\n",
      "[37/100] 1 tree, 15 leaves, max depth = 10, train score: -0.00134, val score: -0.00139, in 0.337s\n",
      "[38/100] 1 tree, 15 leaves, max depth = 6, train score: -0.00134, val score: -0.00139, in 0.324s\n",
      "Fit 38 trees in 8.132 s, (570 total leaves)\n",
      "Time spent computing histograms: 0.349s\n",
      "Time spent finding best splits:  0.066s\n",
      "Time spent applying splits:      0.296s\n",
      "Time spent predicting:           0.017s\n",
      "Train R2: 0.771, Train RMSPE: 0.001, Validation R2: 0.757, Validation RMSPE: 0.001\n",
      "Fitting 5 folds for each of 160 candidates, totalling 800 fits\n"
     ]
    },
    {
     "output_type": "stream",
     "name": "stderr",
     "text": [
      "[Parallel(n_jobs=-1)]: Using backend LokyBackend with 4 concurrent workers.\n",
      "[Parallel(n_jobs=-1)]: Done  42 tasks      | elapsed:   58.6s\n",
      "[Parallel(n_jobs=-1)]: Done 192 tasks      | elapsed:  3.3min\n",
      "[Parallel(n_jobs=-1)]: Done 442 tasks      | elapsed:  4.7min\n",
      "[Parallel(n_jobs=-1)]: Done 792 tasks      | elapsed:  5.6min\n"
     ]
    },
    {
     "output_type": "stream",
     "name": "stdout",
     "text": [
      "Binning 0.001 GB of training data: "
     ]
    },
    {
     "output_type": "stream",
     "name": "stderr",
     "text": [
      "[Parallel(n_jobs=-1)]: Done 800 out of 800 | elapsed:  5.6min finished\n",
      "C:\\ProgramData\\Anaconda3\\lib\\site-packages\\sklearn\\model_selection\\_search.py:813: RuntimeWarning: invalid value encountered in subtract\n",
      "  array_stds = np.sqrt(np.average((array -\n",
      "C:\\ProgramData\\Anaconda3\\lib\\site-packages\\sklearn\\model_selection\\_search.py:813: RuntimeWarning: overflow encountered in square\n",
      "  array_stds = np.sqrt(np.average((array -\n",
      "C:\\ProgramData\\Anaconda3\\lib\\site-packages\\sklearn\\utils\\validation.py:73: DataConversionWarning: A column-vector y was passed when a 1d array was expected. Please change the shape of y to (n_samples, ), for example using ravel().\n",
      "  return f(**kwargs)\n"
     ]
    },
    {
     "output_type": "stream",
     "name": "stdout",
     "text": [
      "0.178 s\n",
      "Binning 0.000 GB of validation data: 0.091 s\n",
      "Fitting gradient boosted rounds:\n",
      "[1/100] 1 tree, 7 leaves, max depth = 3, train score: -0.00266, val score: -0.00263, in 0.206s\n",
      "[2/100] 1 tree, 7 leaves, max depth = 3, train score: -0.00247, val score: -0.00244, in 0.230s\n",
      "[3/100] 1 tree, 7 leaves, max depth = 3, train score: -0.00231, val score: -0.00228, in 0.210s\n",
      "[4/100] 1 tree, 7 leaves, max depth = 3, train score: -0.00218, val score: -0.00214, in 0.232s\n",
      "[5/100] 1 tree, 7 leaves, max depth = 3, train score: -0.00206, val score: -0.00202, in 0.245s\n",
      "[6/100] 1 tree, 7 leaves, max depth = 3, train score: -0.00196, val score: -0.00192, in 0.284s\n",
      "[7/100] 1 tree, 7 leaves, max depth = 3, train score: -0.00187, val score: -0.00183, in 0.287s\n",
      "[8/100] 1 tree, 7 leaves, max depth = 3, train score: -0.00180, val score: -0.00176, in 0.300s\n",
      "[9/100] 1 tree, 7 leaves, max depth = 4, train score: -0.00173, val score: -0.00169, in 0.297s\n",
      "[10/100] 1 tree, 7 leaves, max depth = 3, train score: -0.00168, val score: -0.00164, in 0.283s\n",
      "[11/100] 1 tree, 7 leaves, max depth = 3, train score: -0.00164, val score: -0.00160, in 0.318s\n",
      "[12/100] 1 tree, 7 leaves, max depth = 3, train score: -0.00160, val score: -0.00156, in 0.324s\n",
      "[13/100] 1 tree, 7 leaves, max depth = 3, train score: -0.00157, val score: -0.00153, in 0.337s\n",
      "[14/100] 1 tree, 7 leaves, max depth = 3, train score: -0.00154, val score: -0.00150, in 0.291s\n",
      "[15/100] 1 tree, 7 leaves, max depth = 3, train score: -0.00152, val score: -0.00148, in 0.239s\n",
      "[16/100] 1 tree, 7 leaves, max depth = 3, train score: -0.00150, val score: -0.00146, in 0.297s\n",
      "[17/100] 1 tree, 7 leaves, max depth = 4, train score: -0.00149, val score: -0.00144, in 0.288s\n",
      "[18/100] 1 tree, 7 leaves, max depth = 3, train score: -0.00147, val score: -0.00143, in 0.258s\n",
      "[19/100] 1 tree, 7 leaves, max depth = 3, train score: -0.00146, val score: -0.00142, in 0.252s\n",
      "[20/100] 1 tree, 7 leaves, max depth = 3, train score: -0.00145, val score: -0.00141, in 0.272s\n",
      "[21/100] 1 tree, 7 leaves, max depth = 3, train score: -0.00145, val score: -0.00141, in 0.283s\n",
      "[22/100] 1 tree, 7 leaves, max depth = 3, train score: -0.00144, val score: -0.00140, in 0.275s\n",
      "[23/100] 1 tree, 7 leaves, max depth = 4, train score: -0.00144, val score: -0.00139, in 0.302s\n",
      "[24/100] 1 tree, 7 leaves, max depth = 4, train score: -0.00143, val score: -0.00139, in 0.490s\n",
      "[25/100] 1 tree, 7 leaves, max depth = 4, train score: -0.00143, val score: -0.00139, in 0.381s\n",
      "[26/100] 1 tree, 7 leaves, max depth = 3, train score: -0.00142, val score: -0.00138, in 0.326s\n",
      "[27/100] 1 tree, 7 leaves, max depth = 3, train score: -0.00142, val score: -0.00138, in 0.296s\n",
      "[28/100] 1 tree, 7 leaves, max depth = 4, train score: -0.00142, val score: -0.00138, in 0.302s\n",
      "[29/100] 1 tree, 7 leaves, max depth = 5, train score: -0.00142, val score: -0.00138, in 0.499s\n",
      "[30/100] 1 tree, 7 leaves, max depth = 3, train score: -0.00141, val score: -0.00137, in 0.346s\n",
      "[31/100] 1 tree, 7 leaves, max depth = 4, train score: -0.00141, val score: -0.00137, in 0.360s\n",
      "[32/100] 1 tree, 7 leaves, max depth = 4, train score: -0.00141, val score: -0.00137, in 0.366s\n",
      "[33/100] 1 tree, 7 leaves, max depth = 4, train score: -0.00141, val score: -0.00137, in 0.429s\n",
      "[34/100] 1 tree, 7 leaves, max depth = 4, train score: -0.00141, val score: -0.00137, in 0.375s\n",
      "[35/100] 1 tree, 7 leaves, max depth = 4, train score: -0.00141, val score: -0.00137, in 0.423s\n",
      "[36/100] 1 tree, 7 leaves, max depth = 4, train score: -0.00141, val score: -0.00137, in 0.373s\n",
      "[37/100] 1 tree, 7 leaves, max depth = 4, train score: -0.00141, val score: -0.00137, in 0.378s\n",
      "[38/100] 1 tree, 7 leaves, max depth = 3, train score: -0.00141, val score: -0.00137, in 0.385s\n",
      "[39/100] 1 tree, 7 leaves, max depth = 4, train score: -0.00141, val score: -0.00137, in 0.397s\n",
      "[40/100] 1 tree, 7 leaves, max depth = 4, train score: -0.00141, val score: -0.00137, in 0.401s\n",
      "[41/100] 1 tree, 7 leaves, max depth = 4, train score: -0.00141, val score: -0.00137, in 0.401s\n",
      "[42/100] 1 tree, 7 leaves, max depth = 4, train score: -0.00141, val score: -0.00137, in 0.385s\n",
      "[43/100] 1 tree, 7 leaves, max depth = 4, train score: -0.00140, val score: -0.00137, in 0.387s\n",
      "[44/100] 1 tree, 7 leaves, max depth = 3, train score: -0.00140, val score: -0.00137, in 0.521s\n",
      "[45/100] 1 tree, 7 leaves, max depth = 4, train score: -0.00140, val score: -0.00137, in 0.476s\n",
      "[46/100] 1 tree, 7 leaves, max depth = 4, train score: -0.00140, val score: -0.00137, in 0.368s\n",
      "[47/100] 1 tree, 7 leaves, max depth = 3, train score: -0.00140, val score: -0.00137, in 0.464s\n",
      "[48/100] 1 tree, 7 leaves, max depth = 4, train score: -0.00140, val score: -0.00137, in 0.431s\n",
      "[49/100] 1 tree, 7 leaves, max depth = 3, train score: -0.00140, val score: -0.00137, in 0.421s\n",
      "[50/100] 1 tree, 7 leaves, max depth = 4, train score: -0.00140, val score: -0.00137, in 0.425s\n",
      "[51/100] 1 tree, 7 leaves, max depth = 5, train score: -0.00140, val score: -0.00137, in 0.452s\n",
      "[52/100] 1 tree, 7 leaves, max depth = 5, train score: -0.00140, val score: -0.00137, in 0.441s\n",
      "[53/100] 1 tree, 7 leaves, max depth = 4, train score: -0.00140, val score: -0.00137, in 0.396s\n",
      "[54/100] 1 tree, 7 leaves, max depth = 4, train score: -0.00140, val score: -0.00137, in 0.413s\n",
      "[55/100] 1 tree, 7 leaves, max depth = 5, train score: -0.00140, val score: -0.00137, in 0.576s\n",
      "[56/100] 1 tree, 7 leaves, max depth = 4, train score: -0.00140, val score: -0.00137, in 0.495s\n",
      "[57/100] 1 tree, 7 leaves, max depth = 5, train score: -0.00140, val score: -0.00137, in 0.473s\n",
      "[58/100] 1 tree, 7 leaves, max depth = 4, train score: -0.00140, val score: -0.00137, in 0.430s\n",
      "[59/100] 1 tree, 7 leaves, max depth = 4, train score: -0.00140, val score: -0.00137, in 0.501s\n",
      "[60/100] 1 tree, 7 leaves, max depth = 5, train score: -0.00140, val score: -0.00137, in 0.599s\n",
      "Fit 60 trees in 22.569 s, (420 total leaves)\n",
      "Time spent computing histograms: 0.739s\n",
      "Time spent finding best splits:  0.251s\n",
      "Time spent applying splits:      0.909s\n",
      "Time spent predicting:           0.046s\n",
      "Binning 0.001 GB of training data: 0.085 s\n",
      "Binning 0.000 GB of validation data: "
     ]
    },
    {
     "output_type": "stream",
     "name": "stderr",
     "text": [
      "C:\\ProgramData\\Anaconda3\\lib\\site-packages\\sklearn\\utils\\validation.py:73: DataConversionWarning: A column-vector y was passed when a 1d array was expected. Please change the shape of y to (n_samples, ), for example using ravel().\n",
      "  return f(**kwargs)\n"
     ]
    },
    {
     "output_type": "stream",
     "name": "stdout",
     "text": [
      "0.020 s\n",
      "Fitting gradient boosted rounds:\n",
      "[1/100] 1 tree, 7 leaves, max depth = 3, train score: -0.00266, val score: -0.00263, in 0.066s\n",
      "[2/100] 1 tree, 7 leaves, max depth = 3, train score: -0.00247, val score: -0.00244, in 0.117s\n",
      "[3/100] 1 tree, 7 leaves, max depth = 3, train score: -0.00231, val score: -0.00228, in 0.126s\n",
      "[4/100] 1 tree, 7 leaves, max depth = 3, train score: -0.00218, val score: -0.00214, in 0.163s\n",
      "[5/100] 1 tree, 7 leaves, max depth = 3, train score: -0.00206, val score: -0.00202, in 0.166s\n",
      "[6/100] 1 tree, 7 leaves, max depth = 3, train score: -0.00196, val score: -0.00192, in 0.146s\n",
      "[7/100] 1 tree, 7 leaves, max depth = 3, train score: -0.00187, val score: -0.00183, in 0.134s\n",
      "[8/100] 1 tree, 7 leaves, max depth = 3, train score: -0.00180, val score: -0.00176, in 0.147s\n",
      "[9/100] 1 tree, 7 leaves, max depth = 4, train score: -0.00173, val score: -0.00169, in 0.150s\n",
      "[10/100] 1 tree, 7 leaves, max depth = 3, train score: -0.00168, val score: -0.00164, in 0.163s\n",
      "[11/100] 1 tree, 7 leaves, max depth = 3, train score: -0.00164, val score: -0.00160, in 0.172s\n",
      "[12/100] 1 tree, 7 leaves, max depth = 3, train score: -0.00160, val score: -0.00156, in 0.158s\n",
      "[13/100] 1 tree, 7 leaves, max depth = 3, train score: -0.00157, val score: -0.00153, in 0.196s\n",
      "[14/100] 1 tree, 7 leaves, max depth = 3, train score: -0.00154, val score: -0.00150, in 0.240s\n",
      "[15/100] 1 tree, 7 leaves, max depth = 3, train score: -0.00152, val score: -0.00148, in 0.242s\n",
      "[16/100] 1 tree, 7 leaves, max depth = 3, train score: -0.00150, val score: -0.00146, in 0.234s\n",
      "[17/100] 1 tree, 7 leaves, max depth = 4, train score: -0.00149, val score: -0.00144, in 0.254s\n",
      "[18/100] 1 tree, 7 leaves, max depth = 3, train score: -0.00147, val score: -0.00143, in 0.245s\n",
      "[19/100] 1 tree, 7 leaves, max depth = 3, train score: -0.00146, val score: -0.00142, in 0.213s\n",
      "[20/100] 1 tree, 7 leaves, max depth = 3, train score: -0.00145, val score: -0.00141, in 0.244s\n",
      "[21/100] 1 tree, 7 leaves, max depth = 3, train score: -0.00145, val score: -0.00141, in 0.232s\n",
      "[22/100] 1 tree, 7 leaves, max depth = 3, train score: -0.00144, val score: -0.00140, in 0.238s\n",
      "[23/100] 1 tree, 7 leaves, max depth = 4, train score: -0.00144, val score: -0.00139, in 0.239s\n",
      "[24/100] 1 tree, 7 leaves, max depth = 4, train score: -0.00143, val score: -0.00139, in 0.249s\n",
      "[25/100] 1 tree, 7 leaves, max depth = 4, train score: -0.00143, val score: -0.00139, in 0.254s\n",
      "[26/100] 1 tree, 7 leaves, max depth = 3, train score: -0.00142, val score: -0.00138, in 0.249s\n",
      "[27/100] 1 tree, 7 leaves, max depth = 3, train score: -0.00142, val score: -0.00138, in 0.235s\n",
      "[28/100] 1 tree, 7 leaves, max depth = 4, train score: -0.00142, val score: -0.00138, in 0.255s\n",
      "[29/100] 1 tree, 7 leaves, max depth = 5, train score: -0.00142, val score: -0.00138, in 0.257s\n",
      "[30/100] 1 tree, 7 leaves, max depth = 3, train score: -0.00141, val score: -0.00137, in 0.237s\n",
      "[31/100] 1 tree, 7 leaves, max depth = 4, train score: -0.00141, val score: -0.00137, in 0.272s\n",
      "[32/100] 1 tree, 7 leaves, max depth = 4, train score: -0.00141, val score: -0.00137, in 0.254s\n",
      "[33/100] 1 tree, 7 leaves, max depth = 4, train score: -0.00141, val score: -0.00137, in 0.279s\n",
      "[34/100] 1 tree, 7 leaves, max depth = 4, train score: -0.00141, val score: -0.00137, in 0.340s\n",
      "[35/100] 1 tree, 7 leaves, max depth = 4, train score: -0.00141, val score: -0.00137, in 0.291s\n",
      "[36/100] 1 tree, 7 leaves, max depth = 4, train score: -0.00141, val score: -0.00137, in 0.277s\n",
      "[37/100] 1 tree, 7 leaves, max depth = 4, train score: -0.00141, val score: -0.00137, in 0.274s\n",
      "[38/100] 1 tree, 7 leaves, max depth = 3, train score: -0.00141, val score: -0.00137, in 0.263s\n",
      "[39/100] 1 tree, 7 leaves, max depth = 4, train score: -0.00141, val score: -0.00137, in 0.282s\n",
      "[40/100] 1 tree, 7 leaves, max depth = 4, train score: -0.00141, val score: -0.00137, in 0.369s\n",
      "[41/100] 1 tree, 7 leaves, max depth = 4, train score: -0.00141, val score: -0.00137, in 0.371s\n",
      "[42/100] 1 tree, 7 leaves, max depth = 4, train score: -0.00141, val score: -0.00137, in 0.387s\n",
      "[43/100] 1 tree, 7 leaves, max depth = 4, train score: -0.00140, val score: -0.00137, in 0.417s\n",
      "[44/100] 1 tree, 7 leaves, max depth = 3, train score: -0.00140, val score: -0.00137, in 0.389s\n",
      "[45/100] 1 tree, 7 leaves, max depth = 4, train score: -0.00140, val score: -0.00137, in 0.382s\n",
      "[46/100] 1 tree, 7 leaves, max depth = 4, train score: -0.00140, val score: -0.00137, in 0.376s\n",
      "[47/100] 1 tree, 7 leaves, max depth = 3, train score: -0.00140, val score: -0.00137, in 0.351s\n",
      "[48/100] 1 tree, 7 leaves, max depth = 4, train score: -0.00140, val score: -0.00137, in 0.414s\n",
      "[49/100] 1 tree, 7 leaves, max depth = 3, train score: -0.00140, val score: -0.00137, in 0.409s\n",
      "[50/100] 1 tree, 7 leaves, max depth = 4, train score: -0.00140, val score: -0.00137, in 0.397s\n",
      "[51/100] 1 tree, 7 leaves, max depth = 5, train score: -0.00140, val score: -0.00137, in 0.453s\n",
      "[52/100] 1 tree, 7 leaves, max depth = 5, train score: -0.00140, val score: -0.00137, in 0.443s\n",
      "[53/100] 1 tree, 7 leaves, max depth = 4, train score: -0.00140, val score: -0.00137, in 0.520s\n",
      "[54/100] 1 tree, 7 leaves, max depth = 4, train score: -0.00140, val score: -0.00137, in 0.445s\n",
      "[55/100] 1 tree, 7 leaves, max depth = 5, train score: -0.00140, val score: -0.00137, in 0.441s\n",
      "[56/100] 1 tree, 7 leaves, max depth = 4, train score: -0.00140, val score: -0.00137, in 0.424s\n",
      "[57/100] 1 tree, 7 leaves, max depth = 5, train score: -0.00140, val score: -0.00137, in 0.414s\n",
      "[58/100] 1 tree, 7 leaves, max depth = 4, train score: -0.00140, val score: -0.00137, in 0.414s\n",
      "[59/100] 1 tree, 7 leaves, max depth = 4, train score: -0.00140, val score: -0.00137, in 0.461s\n",
      "[60/100] 1 tree, 7 leaves, max depth = 5, train score: -0.00140, val score: -0.00137, in 0.526s\n",
      "Fit 60 trees in 17.828 s, (420 total leaves)\n",
      "Time spent computing histograms: 0.414s\n",
      "Time spent finding best splits:  0.034s\n",
      "Time spent applying splits:      0.461s\n",
      "Time spent predicting:           0.012s\n",
      "Train R2: 0.767, Train RMSPE: 0.001, Validation R2: 0.765, Validation RMSPE: 0.001\n",
      "Fitting 5 folds for each of 160 candidates, totalling 800 fits\n"
     ]
    },
    {
     "output_type": "stream",
     "name": "stderr",
     "text": [
      "[Parallel(n_jobs=-1)]: Using backend LokyBackend with 4 concurrent workers.\n",
      "[Parallel(n_jobs=-1)]: Done  42 tasks      | elapsed:  1.1min\n",
      "[Parallel(n_jobs=-1)]: Done 192 tasks      | elapsed:  3.3min\n",
      "[Parallel(n_jobs=-1)]: Done 442 tasks      | elapsed:  4.6min\n",
      "[Parallel(n_jobs=-1)]: Done 792 tasks      | elapsed:  5.3min\n"
     ]
    },
    {
     "output_type": "stream",
     "name": "stdout",
     "text": [
      "Binning 0.001 GB of training data: "
     ]
    },
    {
     "output_type": "stream",
     "name": "stderr",
     "text": [
      "[Parallel(n_jobs=-1)]: Done 800 out of 800 | elapsed:  5.3min finished\n",
      "C:\\ProgramData\\Anaconda3\\lib\\site-packages\\sklearn\\model_selection\\_search.py:813: RuntimeWarning: invalid value encountered in subtract\n",
      "  array_stds = np.sqrt(np.average((array -\n",
      "C:\\ProgramData\\Anaconda3\\lib\\site-packages\\sklearn\\utils\\validation.py:73: DataConversionWarning: A column-vector y was passed when a 1d array was expected. Please change the shape of y to (n_samples, ), for example using ravel().\n",
      "  return f(**kwargs)\n"
     ]
    },
    {
     "output_type": "stream",
     "name": "stdout",
     "text": [
      "0.133 s\n",
      "Binning 0.000 GB of validation data: 0.024 s\n",
      "Fitting gradient boosted rounds:\n",
      "[1/100] 1 tree, 7 leaves, max depth = 3, train score: -0.00262, val score: -0.00264, in 0.184s\n",
      "[2/100] 1 tree, 7 leaves, max depth = 3, train score: -0.00243, val score: -0.00245, in 0.179s\n",
      "[3/100] 1 tree, 7 leaves, max depth = 3, train score: -0.00227, val score: -0.00229, in 0.210s\n",
      "[4/100] 1 tree, 7 leaves, max depth = 3, train score: -0.00213, val score: -0.00215, in 0.191s\n",
      "[5/100] 1 tree, 7 leaves, max depth = 3, train score: -0.00201, val score: -0.00203, in 0.203s\n",
      "[6/100] 1 tree, 7 leaves, max depth = 3, train score: -0.00191, val score: -0.00193, in 0.240s\n",
      "[7/100] 1 tree, 7 leaves, max depth = 3, train score: -0.00182, val score: -0.00184, in 0.236s\n",
      "[8/100] 1 tree, 7 leaves, max depth = 3, train score: -0.00175, val score: -0.00177, in 0.246s\n",
      "[9/100] 1 tree, 7 leaves, max depth = 3, train score: -0.00169, val score: -0.00170, in 0.236s\n",
      "[10/100] 1 tree, 7 leaves, max depth = 4, train score: -0.00163, val score: -0.00165, in 0.264s\n",
      "[11/100] 1 tree, 7 leaves, max depth = 4, train score: -0.00159, val score: -0.00160, in 0.282s\n",
      "[12/100] 1 tree, 7 leaves, max depth = 3, train score: -0.00155, val score: -0.00157, in 0.282s\n",
      "[13/100] 1 tree, 7 leaves, max depth = 3, train score: -0.00152, val score: -0.00154, in 0.210s\n",
      "[14/100] 1 tree, 7 leaves, max depth = 3, train score: -0.00150, val score: -0.00151, in 0.214s\n",
      "[15/100] 1 tree, 7 leaves, max depth = 3, train score: -0.00147, val score: -0.00149, in 0.218s\n",
      "[16/100] 1 tree, 7 leaves, max depth = 3, train score: -0.00146, val score: -0.00147, in 0.200s\n",
      "[17/100] 1 tree, 7 leaves, max depth = 3, train score: -0.00144, val score: -0.00146, in 0.242s\n",
      "[18/100] 1 tree, 7 leaves, max depth = 4, train score: -0.00143, val score: -0.00145, in 0.226s\n",
      "[19/100] 1 tree, 7 leaves, max depth = 3, train score: -0.00142, val score: -0.00144, in 0.202s\n",
      "[20/100] 1 tree, 7 leaves, max depth = 3, train score: -0.00141, val score: -0.00143, in 0.226s\n",
      "[21/100] 1 tree, 7 leaves, max depth = 3, train score: -0.00141, val score: -0.00142, in 0.222s\n",
      "[22/100] 1 tree, 7 leaves, max depth = 3, train score: -0.00140, val score: -0.00142, in 0.220s\n",
      "[23/100] 1 tree, 7 leaves, max depth = 5, train score: -0.00140, val score: -0.00141, in 0.253s\n",
      "[24/100] 1 tree, 7 leaves, max depth = 4, train score: -0.00139, val score: -0.00141, in 0.269s\n",
      "[25/100] 1 tree, 7 leaves, max depth = 3, train score: -0.00139, val score: -0.00140, in 0.273s\n",
      "[26/100] 1 tree, 7 leaves, max depth = 4, train score: -0.00139, val score: -0.00140, in 0.255s\n",
      "[27/100] 1 tree, 7 leaves, max depth = 3, train score: -0.00138, val score: -0.00140, in 0.301s\n",
      "[28/100] 1 tree, 7 leaves, max depth = 3, train score: -0.00138, val score: -0.00140, in 0.300s\n",
      "[29/100] 1 tree, 7 leaves, max depth = 4, train score: -0.00138, val score: -0.00140, in 0.282s\n",
      "[30/100] 1 tree, 7 leaves, max depth = 4, train score: -0.00138, val score: -0.00140, in 0.292s\n",
      "[31/100] 1 tree, 7 leaves, max depth = 4, train score: -0.00138, val score: -0.00139, in 0.343s\n",
      "[32/100] 1 tree, 7 leaves, max depth = 5, train score: -0.00138, val score: -0.00139, in 0.322s\n",
      "[33/100] 1 tree, 7 leaves, max depth = 3, train score: -0.00138, val score: -0.00139, in 0.300s\n",
      "[34/100] 1 tree, 7 leaves, max depth = 3, train score: -0.00138, val score: -0.00139, in 0.306s\n",
      "[35/100] 1 tree, 7 leaves, max depth = 4, train score: -0.00138, val score: -0.00139, in 0.316s\n",
      "[36/100] 1 tree, 7 leaves, max depth = 3, train score: -0.00138, val score: -0.00139, in 0.300s\n",
      "[37/100] 1 tree, 7 leaves, max depth = 4, train score: -0.00138, val score: -0.00139, in 0.323s\n",
      "[38/100] 1 tree, 7 leaves, max depth = 4, train score: -0.00138, val score: -0.00139, in 0.333s\n",
      "[39/100] 1 tree, 7 leaves, max depth = 3, train score: -0.00137, val score: -0.00139, in 0.328s\n",
      "[40/100] 1 tree, 7 leaves, max depth = 4, train score: -0.00137, val score: -0.00139, in 0.345s\n",
      "[41/100] 1 tree, 7 leaves, max depth = 4, train score: -0.00137, val score: -0.00139, in 0.340s\n",
      "[42/100] 1 tree, 7 leaves, max depth = 4, train score: -0.00137, val score: -0.00139, in 0.360s\n",
      "[43/100] 1 tree, 7 leaves, max depth = 4, train score: -0.00137, val score: -0.00139, in 0.359s\n",
      "[44/100] 1 tree, 7 leaves, max depth = 4, train score: -0.00137, val score: -0.00139, in 0.361s\n",
      "[45/100] 1 tree, 7 leaves, max depth = 4, train score: -0.00137, val score: -0.00139, in 0.397s\n",
      "[46/100] 1 tree, 7 leaves, max depth = 4, train score: -0.00137, val score: -0.00139, in 0.469s\n",
      "[47/100] 1 tree, 7 leaves, max depth = 4, train score: -0.00137, val score: -0.00139, in 0.397s\n",
      "[48/100] 1 tree, 7 leaves, max depth = 5, train score: -0.00137, val score: -0.00139, in 0.369s\n",
      "[49/100] 1 tree, 7 leaves, max depth = 6, train score: -0.00137, val score: -0.00139, in 0.404s\n",
      "[50/100] 1 tree, 7 leaves, max depth = 4, train score: -0.00137, val score: -0.00139, in 0.394s\n",
      "[51/100] 1 tree, 7 leaves, max depth = 4, train score: -0.00137, val score: -0.00139, in 0.414s\n",
      "[52/100] 1 tree, 7 leaves, max depth = 6, train score: -0.00137, val score: -0.00139, in 0.410s\n",
      "[53/100] 1 tree, 7 leaves, max depth = 3, train score: -0.00137, val score: -0.00139, in 0.425s\n",
      "[54/100] 1 tree, 7 leaves, max depth = 5, train score: -0.00137, val score: -0.00139, in 0.407s\n",
      "Fit 54 trees in 16.426 s, (378 total leaves)\n",
      "Time spent computing histograms: 0.601s\n",
      "Time spent finding best splits:  0.124s\n",
      "Time spent applying splits:      0.583s\n",
      "Time spent predicting:           0.032s\n",
      "Binning 0.001 GB of training data: "
     ]
    },
    {
     "output_type": "stream",
     "name": "stderr",
     "text": [
      "C:\\ProgramData\\Anaconda3\\lib\\site-packages\\sklearn\\utils\\validation.py:73: DataConversionWarning: A column-vector y was passed when a 1d array was expected. Please change the shape of y to (n_samples, ), for example using ravel().\n",
      "  return f(**kwargs)\n"
     ]
    },
    {
     "output_type": "stream",
     "name": "stdout",
     "text": [
      "0.090 s\n",
      "Binning 0.000 GB of validation data: 0.015 s\n",
      "Fitting gradient boosted rounds:\n",
      "[1/100] 1 tree, 7 leaves, max depth = 3, train score: -0.00262, val score: -0.00264, in 0.076s\n",
      "[2/100] 1 tree, 7 leaves, max depth = 3, train score: -0.00243, val score: -0.00245, in 0.122s\n",
      "[3/100] 1 tree, 7 leaves, max depth = 3, train score: -0.00227, val score: -0.00229, in 0.128s\n",
      "[4/100] 1 tree, 7 leaves, max depth = 3, train score: -0.00213, val score: -0.00215, in 0.122s\n",
      "[5/100] 1 tree, 7 leaves, max depth = 3, train score: -0.00201, val score: -0.00203, in 0.144s\n",
      "[6/100] 1 tree, 7 leaves, max depth = 3, train score: -0.00191, val score: -0.00193, in 0.131s\n",
      "[7/100] 1 tree, 7 leaves, max depth = 3, train score: -0.00182, val score: -0.00184, in 0.143s\n",
      "[8/100] 1 tree, 7 leaves, max depth = 3, train score: -0.00175, val score: -0.00177, in 0.184s\n",
      "[9/100] 1 tree, 7 leaves, max depth = 3, train score: -0.00169, val score: -0.00170, in 0.171s\n",
      "[10/100] 1 tree, 7 leaves, max depth = 4, train score: -0.00163, val score: -0.00165, in 0.197s\n",
      "[11/100] 1 tree, 7 leaves, max depth = 4, train score: -0.00159, val score: -0.00160, in 0.188s\n",
      "[12/100] 1 tree, 7 leaves, max depth = 3, train score: -0.00155, val score: -0.00157, in 0.154s\n",
      "[13/100] 1 tree, 7 leaves, max depth = 3, train score: -0.00152, val score: -0.00154, in 0.174s\n",
      "[14/100] 1 tree, 7 leaves, max depth = 3, train score: -0.00150, val score: -0.00151, in 0.195s\n",
      "[15/100] 1 tree, 7 leaves, max depth = 3, train score: -0.00147, val score: -0.00149, in 0.183s\n",
      "[16/100] 1 tree, 7 leaves, max depth = 3, train score: -0.00146, val score: -0.00147, in 0.188s\n",
      "[17/100] 1 tree, 7 leaves, max depth = 3, train score: -0.00144, val score: -0.00146, in 0.225s\n",
      "[18/100] 1 tree, 7 leaves, max depth = 4, train score: -0.00143, val score: -0.00145, in 0.222s\n",
      "[19/100] 1 tree, 7 leaves, max depth = 3, train score: -0.00142, val score: -0.00144, in 0.237s\n",
      "[20/100] 1 tree, 7 leaves, max depth = 3, train score: -0.00141, val score: -0.00143, in 0.230s\n",
      "[21/100] 1 tree, 7 leaves, max depth = 3, train score: -0.00141, val score: -0.00142, in 0.239s\n",
      "[22/100] 1 tree, 7 leaves, max depth = 3, train score: -0.00140, val score: -0.00142, in 0.245s\n",
      "[23/100] 1 tree, 7 leaves, max depth = 5, train score: -0.00140, val score: -0.00141, in 0.247s\n",
      "[24/100] 1 tree, 7 leaves, max depth = 4, train score: -0.00139, val score: -0.00141, in 0.257s\n",
      "[25/100] 1 tree, 7 leaves, max depth = 3, train score: -0.00139, val score: -0.00140, in 0.279s\n",
      "[26/100] 1 tree, 7 leaves, max depth = 4, train score: -0.00139, val score: -0.00140, in 0.263s\n",
      "[27/100] 1 tree, 7 leaves, max depth = 3, train score: -0.00138, val score: -0.00140, in 0.270s\n",
      "[28/100] 1 tree, 7 leaves, max depth = 3, train score: -0.00138, val score: -0.00140, in 0.283s\n",
      "[29/100] 1 tree, 7 leaves, max depth = 4, train score: -0.00138, val score: -0.00140, in 0.306s\n",
      "[30/100] 1 tree, 7 leaves, max depth = 4, train score: -0.00138, val score: -0.00140, in 0.357s\n",
      "[31/100] 1 tree, 7 leaves, max depth = 4, train score: -0.00138, val score: -0.00139, in 0.336s\n",
      "[32/100] 1 tree, 7 leaves, max depth = 5, train score: -0.00138, val score: -0.00139, in 0.317s\n",
      "[33/100] 1 tree, 7 leaves, max depth = 3, train score: -0.00138, val score: -0.00139, in 0.302s\n",
      "[34/100] 1 tree, 7 leaves, max depth = 3, train score: -0.00138, val score: -0.00139, in 0.320s\n",
      "[35/100] 1 tree, 7 leaves, max depth = 4, train score: -0.00138, val score: -0.00139, in 0.320s\n",
      "[36/100] 1 tree, 7 leaves, max depth = 3, train score: -0.00138, val score: -0.00139, in 0.313s\n",
      "[37/100] 1 tree, 7 leaves, max depth = 4, train score: -0.00138, val score: -0.00139, in 0.316s\n",
      "[38/100] 1 tree, 7 leaves, max depth = 4, train score: -0.00138, val score: -0.00139, in 0.299s\n",
      "[39/100] 1 tree, 7 leaves, max depth = 3, train score: -0.00137, val score: -0.00139, in 0.337s\n",
      "[40/100] 1 tree, 7 leaves, max depth = 4, train score: -0.00137, val score: -0.00139, in 0.334s\n",
      "[41/100] 1 tree, 7 leaves, max depth = 4, train score: -0.00137, val score: -0.00139, in 0.353s\n",
      "[42/100] 1 tree, 7 leaves, max depth = 4, train score: -0.00137, val score: -0.00139, in 0.364s\n",
      "[43/100] 1 tree, 7 leaves, max depth = 4, train score: -0.00137, val score: -0.00139, in 0.368s\n",
      "[44/100] 1 tree, 7 leaves, max depth = 4, train score: -0.00137, val score: -0.00139, in 0.345s\n",
      "[45/100] 1 tree, 7 leaves, max depth = 4, train score: -0.00137, val score: -0.00139, in 0.474s\n",
      "[46/100] 1 tree, 7 leaves, max depth = 4, train score: -0.00137, val score: -0.00139, in 0.394s\n",
      "[47/100] 1 tree, 7 leaves, max depth = 4, train score: -0.00137, val score: -0.00139, in 0.377s\n",
      "[48/100] 1 tree, 7 leaves, max depth = 5, train score: -0.00137, val score: -0.00139, in 0.382s\n",
      "[49/100] 1 tree, 7 leaves, max depth = 6, train score: -0.00137, val score: -0.00139, in 0.382s\n",
      "[50/100] 1 tree, 7 leaves, max depth = 4, train score: -0.00137, val score: -0.00139, in 0.407s\n",
      "[51/100] 1 tree, 7 leaves, max depth = 4, train score: -0.00137, val score: -0.00139, in 0.402s\n",
      "[52/100] 1 tree, 7 leaves, max depth = 6, train score: -0.00137, val score: -0.00139, in 0.408s\n",
      "[53/100] 1 tree, 7 leaves, max depth = 3, train score: -0.00137, val score: -0.00139, in 0.426s\n",
      "[54/100] 1 tree, 7 leaves, max depth = 5, train score: -0.00137, val score: -0.00139, in 0.427s\n",
      "Fit 54 trees in 15.327 s, (378 total leaves)\n",
      "Time spent computing histograms: 0.319s\n",
      "Time spent finding best splits:  0.020s\n",
      "Time spent applying splits:      0.387s\n",
      "Time spent predicting:           0.019s\n",
      "Train R2: 0.766, Train RMSPE: 0.001, Validation R2: 0.768, Validation RMSPE: 0.001\n",
      "Fitting 5 folds for each of 160 candidates, totalling 800 fits\n"
     ]
    },
    {
     "output_type": "stream",
     "name": "stderr",
     "text": [
      "[Parallel(n_jobs=-1)]: Using backend LokyBackend with 4 concurrent workers.\n",
      "[Parallel(n_jobs=-1)]: Done  42 tasks      | elapsed:  1.0min\n",
      "[Parallel(n_jobs=-1)]: Done 192 tasks      | elapsed:  3.4min\n",
      "[Parallel(n_jobs=-1)]: Done 442 tasks      | elapsed:  4.7min\n",
      "[Parallel(n_jobs=-1)]: Done 792 tasks      | elapsed:  5.4min\n"
     ]
    },
    {
     "output_type": "stream",
     "name": "stdout",
     "text": [
      "Binning 0.001 GB of training data: 0.098 s\n",
      "Binning 0.000 GB of validation data: "
     ]
    },
    {
     "output_type": "stream",
     "name": "stderr",
     "text": [
      "[Parallel(n_jobs=-1)]: Done 800 out of 800 | elapsed:  5.4min finished\n",
      "C:\\ProgramData\\Anaconda3\\lib\\site-packages\\sklearn\\model_selection\\_search.py:813: RuntimeWarning: invalid value encountered in subtract\n",
      "  array_stds = np.sqrt(np.average((array -\n",
      "C:\\ProgramData\\Anaconda3\\lib\\site-packages\\sklearn\\utils\\validation.py:73: DataConversionWarning: A column-vector y was passed when a 1d array was expected. Please change the shape of y to (n_samples, ), for example using ravel().\n",
      "  return f(**kwargs)\n"
     ]
    },
    {
     "output_type": "stream",
     "name": "stdout",
     "text": [
      "0.028 s\n",
      "Fitting gradient boosted rounds:\n",
      "[1/100] 1 tree, 7 leaves, max depth = 3, train score: -0.00267, val score: -0.00264, in 0.194s\n",
      "[2/100] 1 tree, 7 leaves, max depth = 3, train score: -0.00248, val score: -0.00245, in 0.192s\n",
      "[3/100] 1 tree, 7 leaves, max depth = 3, train score: -0.00232, val score: -0.00229, in 0.180s\n",
      "[4/100] 1 tree, 7 leaves, max depth = 3, train score: -0.00218, val score: -0.00215, in 0.196s\n",
      "[5/100] 1 tree, 7 leaves, max depth = 3, train score: -0.00206, val score: -0.00203, in 0.189s\n",
      "[6/100] 1 tree, 7 leaves, max depth = 3, train score: -0.00196, val score: -0.00193, in 0.207s\n",
      "[7/100] 1 tree, 7 leaves, max depth = 3, train score: -0.00187, val score: -0.00184, in 0.179s\n",
      "[8/100] 1 tree, 7 leaves, max depth = 3, train score: -0.00180, val score: -0.00177, in 0.206s\n",
      "[9/100] 1 tree, 7 leaves, max depth = 4, train score: -0.00173, val score: -0.00170, in 0.210s\n",
      "[10/100] 1 tree, 7 leaves, max depth = 4, train score: -0.00168, val score: -0.00165, in 0.192s\n",
      "[11/100] 1 tree, 7 leaves, max depth = 3, train score: -0.00163, val score: -0.00160, in 0.195s\n",
      "[12/100] 1 tree, 7 leaves, max depth = 3, train score: -0.00160, val score: -0.00157, in 0.226s\n",
      "[13/100] 1 tree, 7 leaves, max depth = 3, train score: -0.00156, val score: -0.00154, in 0.141s\n",
      "[14/100] 1 tree, 7 leaves, max depth = 3, train score: -0.00154, val score: -0.00151, in 0.153s\n",
      "[15/100] 1 tree, 7 leaves, max depth = 3, train score: -0.00151, val score: -0.00149, in 0.202s\n",
      "[16/100] 1 tree, 7 leaves, max depth = 4, train score: -0.00150, val score: -0.00147, in 0.195s\n",
      "[17/100] 1 tree, 7 leaves, max depth = 3, train score: -0.00148, val score: -0.00145, in 0.228s\n",
      "[18/100] 1 tree, 7 leaves, max depth = 3, train score: -0.00147, val score: -0.00144, in 0.188s\n",
      "[19/100] 1 tree, 7 leaves, max depth = 4, train score: -0.00145, val score: -0.00143, in 0.191s\n",
      "[20/100] 1 tree, 7 leaves, max depth = 4, train score: -0.00144, val score: -0.00142, in 0.155s\n",
      "[21/100] 1 tree, 7 leaves, max depth = 4, train score: -0.00144, val score: -0.00141, in 0.160s\n",
      "[22/100] 1 tree, 7 leaves, max depth = 3, train score: -0.00143, val score: -0.00141, in 0.170s\n",
      "[23/100] 1 tree, 7 leaves, max depth = 4, train score: -0.00143, val score: -0.00140, in 0.167s\n",
      "[24/100] 1 tree, 7 leaves, max depth = 4, train score: -0.00142, val score: -0.00140, in 0.159s\n",
      "[25/100] 1 tree, 7 leaves, max depth = 5, train score: -0.00142, val score: -0.00139, in 0.208s\n",
      "[26/100] 1 tree, 7 leaves, max depth = 3, train score: -0.00141, val score: -0.00139, in 0.243s\n",
      "[27/100] 1 tree, 7 leaves, max depth = 3, train score: -0.00141, val score: -0.00139, in 0.253s\n",
      "[28/100] 1 tree, 7 leaves, max depth = 5, train score: -0.00141, val score: -0.00139, in 0.260s\n",
      "[29/100] 1 tree, 7 leaves, max depth = 3, train score: -0.00141, val score: -0.00139, in 0.231s\n",
      "[30/100] 1 tree, 7 leaves, max depth = 4, train score: -0.00140, val score: -0.00138, in 0.200s\n",
      "[31/100] 1 tree, 7 leaves, max depth = 4, train score: -0.00140, val score: -0.00138, in 0.238s\n",
      "[32/100] 1 tree, 7 leaves, max depth = 3, train score: -0.00140, val score: -0.00138, in 0.197s\n",
      "[33/100] 1 tree, 7 leaves, max depth = 4, train score: -0.00140, val score: -0.00138, in 0.206s\n",
      "[34/100] 1 tree, 7 leaves, max depth = 4, train score: -0.00140, val score: -0.00138, in 0.226s\n",
      "[35/100] 1 tree, 7 leaves, max depth = 4, train score: -0.00140, val score: -0.00138, in 0.207s\n",
      "[36/100] 1 tree, 7 leaves, max depth = 4, train score: -0.00140, val score: -0.00138, in 0.196s\n",
      "[37/100] 1 tree, 7 leaves, max depth = 3, train score: -0.00140, val score: -0.00138, in 0.226s\n",
      "[38/100] 1 tree, 7 leaves, max depth = 3, train score: -0.00140, val score: -0.00138, in 0.321s\n",
      "[39/100] 1 tree, 7 leaves, max depth = 4, train score: -0.00140, val score: -0.00138, in 0.349s\n",
      "[40/100] 1 tree, 7 leaves, max depth = 4, train score: -0.00140, val score: -0.00138, in 0.362s\n",
      "[41/100] 1 tree, 7 leaves, max depth = 3, train score: -0.00140, val score: -0.00138, in 0.371s\n",
      "[42/100] 1 tree, 7 leaves, max depth = 4, train score: -0.00140, val score: -0.00138, in 0.379s\n",
      "[43/100] 1 tree, 7 leaves, max depth = 3, train score: -0.00140, val score: -0.00138, in 0.383s\n",
      "[44/100] 1 tree, 7 leaves, max depth = 3, train score: -0.00140, val score: -0.00138, in 0.384s\n",
      "[45/100] 1 tree, 7 leaves, max depth = 3, train score: -0.00140, val score: -0.00138, in 0.371s\n",
      "[46/100] 1 tree, 7 leaves, max depth = 3, train score: -0.00140, val score: -0.00138, in 0.379s\n",
      "[47/100] 1 tree, 7 leaves, max depth = 4, train score: -0.00140, val score: -0.00138, in 0.415s\n",
      "[48/100] 1 tree, 7 leaves, max depth = 4, train score: -0.00140, val score: -0.00138, in 0.411s\n",
      "[49/100] 1 tree, 7 leaves, max depth = 4, train score: -0.00140, val score: -0.00138, in 0.393s\n",
      "[50/100] 1 tree, 7 leaves, max depth = 3, train score: -0.00140, val score: -0.00138, in 0.372s\n",
      "[51/100] 1 tree, 7 leaves, max depth = 4, train score: -0.00140, val score: -0.00138, in 0.317s\n",
      "[52/100] 1 tree, 7 leaves, max depth = 4, train score: -0.00139, val score: -0.00138, in 0.313s\n",
      "[53/100] 1 tree, 7 leaves, max depth = 5, train score: -0.00139, val score: -0.00138, in 0.305s\n",
      "[54/100] 1 tree, 7 leaves, max depth = 5, train score: -0.00139, val score: -0.00138, in 0.318s\n",
      "[55/100] 1 tree, 7 leaves, max depth = 6, train score: -0.00139, val score: -0.00138, in 0.264s\n",
      "[56/100] 1 tree, 7 leaves, max depth = 5, train score: -0.00139, val score: -0.00138, in 0.324s\n",
      "[57/100] 1 tree, 7 leaves, max depth = 5, train score: -0.00139, val score: -0.00138, in 0.271s\n",
      "[58/100] 1 tree, 7 leaves, max depth = 5, train score: -0.00139, val score: -0.00138, in 0.349s\n",
      "[59/100] 1 tree, 7 leaves, max depth = 6, train score: -0.00139, val score: -0.00138, in 0.313s\n",
      "[60/100] 1 tree, 7 leaves, max depth = 5, train score: -0.00139, val score: -0.00138, in 0.461s\n",
      "[61/100] 1 tree, 7 leaves, max depth = 5, train score: -0.00139, val score: -0.00138, in 0.412s\n",
      "Fit 61 trees in 16.328 s, (427 total leaves)\n",
      "Time spent computing histograms: 0.639s\n",
      "Time spent finding best splits:  0.161s\n",
      "Time spent applying splits:      0.521s\n",
      "Time spent predicting:           0.020s\n",
      "Binning 0.001 GB of training data: 0.068 s\n",
      "Binning 0.000 GB of validation data: "
     ]
    },
    {
     "output_type": "stream",
     "name": "stderr",
     "text": [
      "C:\\ProgramData\\Anaconda3\\lib\\site-packages\\sklearn\\utils\\validation.py:73: DataConversionWarning: A column-vector y was passed when a 1d array was expected. Please change the shape of y to (n_samples, ), for example using ravel().\n",
      "  return f(**kwargs)\n"
     ]
    },
    {
     "output_type": "stream",
     "name": "stdout",
     "text": [
      "0.023 s\n",
      "Fitting gradient boosted rounds:\n",
      "[1/100] 1 tree, 7 leaves, max depth = 3, train score: -0.00267, val score: -0.00264, in 0.056s\n",
      "[2/100] 1 tree, 7 leaves, max depth = 3, train score: -0.00248, val score: -0.00245, in 0.053s\n",
      "[3/100] 1 tree, 7 leaves, max depth = 3, train score: -0.00232, val score: -0.00229, in 0.081s\n",
      "[4/100] 1 tree, 7 leaves, max depth = 3, train score: -0.00218, val score: -0.00215, in 0.090s\n",
      "[5/100] 1 tree, 7 leaves, max depth = 3, train score: -0.00206, val score: -0.00203, in 0.108s\n",
      "[6/100] 1 tree, 7 leaves, max depth = 3, train score: -0.00196, val score: -0.00193, in 0.096s\n",
      "[7/100] 1 tree, 7 leaves, max depth = 3, train score: -0.00187, val score: -0.00184, in 0.087s\n",
      "[8/100] 1 tree, 7 leaves, max depth = 3, train score: -0.00180, val score: -0.00177, in 0.102s\n",
      "[9/100] 1 tree, 7 leaves, max depth = 4, train score: -0.00173, val score: -0.00170, in 0.082s\n",
      "[10/100] 1 tree, 7 leaves, max depth = 4, train score: -0.00168, val score: -0.00165, in 0.108s\n",
      "[11/100] 1 tree, 7 leaves, max depth = 3, train score: -0.00163, val score: -0.00160, in 0.113s\n",
      "[12/100] 1 tree, 7 leaves, max depth = 3, train score: -0.00160, val score: -0.00157, in 0.129s\n",
      "[13/100] 1 tree, 7 leaves, max depth = 3, train score: -0.00156, val score: -0.00154, in 0.140s\n",
      "[14/100] 1 tree, 7 leaves, max depth = 3, train score: -0.00154, val score: -0.00151, in 0.113s\n",
      "[15/100] 1 tree, 7 leaves, max depth = 3, train score: -0.00151, val score: -0.00149, in 0.175s\n",
      "[16/100] 1 tree, 7 leaves, max depth = 4, train score: -0.00150, val score: -0.00147, in 0.151s\n",
      "[17/100] 1 tree, 7 leaves, max depth = 3, train score: -0.00148, val score: -0.00145, in 0.158s\n",
      "[18/100] 1 tree, 7 leaves, max depth = 3, train score: -0.00147, val score: -0.00144, in 0.141s\n",
      "[19/100] 1 tree, 7 leaves, max depth = 4, train score: -0.00145, val score: -0.00143, in 0.161s\n",
      "[20/100] 1 tree, 7 leaves, max depth = 4, train score: -0.00144, val score: -0.00142, in 0.164s\n",
      "[21/100] 1 tree, 7 leaves, max depth = 4, train score: -0.00144, val score: -0.00141, in 0.177s\n",
      "[22/100] 1 tree, 7 leaves, max depth = 3, train score: -0.00143, val score: -0.00141, in 0.150s\n",
      "[23/100] 1 tree, 7 leaves, max depth = 4, train score: -0.00143, val score: -0.00140, in 0.177s\n",
      "[24/100] 1 tree, 7 leaves, max depth = 4, train score: -0.00142, val score: -0.00140, in 0.184s\n",
      "[25/100] 1 tree, 7 leaves, max depth = 5, train score: -0.00142, val score: -0.00139, in 0.198s\n",
      "[26/100] 1 tree, 7 leaves, max depth = 3, train score: -0.00141, val score: -0.00139, in 0.149s\n",
      "[27/100] 1 tree, 7 leaves, max depth = 3, train score: -0.00141, val score: -0.00139, in 0.202s\n",
      "[28/100] 1 tree, 7 leaves, max depth = 5, train score: -0.00141, val score: -0.00139, in 0.201s\n",
      "[29/100] 1 tree, 7 leaves, max depth = 3, train score: -0.00141, val score: -0.00139, in 0.173s\n",
      "[30/100] 1 tree, 7 leaves, max depth = 4, train score: -0.00140, val score: -0.00138, in 0.240s\n",
      "[31/100] 1 tree, 7 leaves, max depth = 4, train score: -0.00140, val score: -0.00138, in 0.296s\n",
      "[32/100] 1 tree, 7 leaves, max depth = 3, train score: -0.00140, val score: -0.00138, in 0.303s\n",
      "[33/100] 1 tree, 7 leaves, max depth = 4, train score: -0.00140, val score: -0.00138, in 0.245s\n",
      "[34/100] 1 tree, 7 leaves, max depth = 4, train score: -0.00140, val score: -0.00138, in 0.233s\n",
      "[35/100] 1 tree, 7 leaves, max depth = 4, train score: -0.00140, val score: -0.00138, in 0.205s\n",
      "[36/100] 1 tree, 7 leaves, max depth = 4, train score: -0.00140, val score: -0.00138, in 0.221s\n",
      "[37/100] 1 tree, 7 leaves, max depth = 3, train score: -0.00140, val score: -0.00138, in 0.215s\n",
      "[38/100] 1 tree, 7 leaves, max depth = 3, train score: -0.00140, val score: -0.00138, in 0.203s\n",
      "[39/100] 1 tree, 7 leaves, max depth = 4, train score: -0.00140, val score: -0.00138, in 0.228s\n",
      "[40/100] 1 tree, 7 leaves, max depth = 4, train score: -0.00140, val score: -0.00138, in 0.245s\n",
      "[41/100] 1 tree, 7 leaves, max depth = 3, train score: -0.00140, val score: -0.00138, in 0.202s\n",
      "[42/100] 1 tree, 7 leaves, max depth = 4, train score: -0.00140, val score: -0.00138, in 0.265s\n",
      "[43/100] 1 tree, 7 leaves, max depth = 3, train score: -0.00140, val score: -0.00138, in 0.240s\n",
      "[44/100] 1 tree, 7 leaves, max depth = 3, train score: -0.00140, val score: -0.00138, in 0.352s\n",
      "[45/100] 1 tree, 7 leaves, max depth = 3, train score: -0.00140, val score: -0.00138, in 0.395s\n",
      "[46/100] 1 tree, 7 leaves, max depth = 3, train score: -0.00140, val score: -0.00138, in 0.331s\n",
      "[47/100] 1 tree, 7 leaves, max depth = 4, train score: -0.00140, val score: -0.00138, in 0.280s\n",
      "[48/100] 1 tree, 7 leaves, max depth = 4, train score: -0.00140, val score: -0.00138, in 0.266s\n",
      "[49/100] 1 tree, 7 leaves, max depth = 4, train score: -0.00140, val score: -0.00138, in 0.325s\n",
      "[50/100] 1 tree, 7 leaves, max depth = 3, train score: -0.00140, val score: -0.00138, in 0.370s\n",
      "[51/100] 1 tree, 7 leaves, max depth = 4, train score: -0.00140, val score: -0.00138, in 0.295s\n",
      "[52/100] 1 tree, 7 leaves, max depth = 4, train score: -0.00139, val score: -0.00138, in 0.314s\n",
      "[53/100] 1 tree, 7 leaves, max depth = 5, train score: -0.00139, val score: -0.00138, in 0.297s\n",
      "[54/100] 1 tree, 7 leaves, max depth = 5, train score: -0.00139, val score: -0.00138, in 0.286s\n",
      "[55/100] 1 tree, 7 leaves, max depth = 6, train score: -0.00139, val score: -0.00138, in 0.293s\n",
      "[56/100] 1 tree, 7 leaves, max depth = 5, train score: -0.00139, val score: -0.00138, in 0.285s\n",
      "[57/100] 1 tree, 7 leaves, max depth = 5, train score: -0.00139, val score: -0.00138, in 0.312s\n",
      "[58/100] 1 tree, 7 leaves, max depth = 5, train score: -0.00139, val score: -0.00138, in 0.308s\n",
      "[59/100] 1 tree, 7 leaves, max depth = 6, train score: -0.00139, val score: -0.00138, in 0.305s\n",
      "[60/100] 1 tree, 7 leaves, max depth = 5, train score: -0.00139, val score: -0.00138, in 0.322s\n",
      "[61/100] 1 tree, 7 leaves, max depth = 5, train score: -0.00139, val score: -0.00138, in 0.310s\n",
      "Fit 61 trees in 13.234 s, (427 total leaves)\n",
      "Time spent computing histograms: 0.408s\n",
      "Time spent finding best splits:  0.064s\n",
      "Time spent applying splits:      0.305s\n",
      "Time spent predicting:           0.013s\n",
      "Train R2: 0.766, Train RMSPE: 0.001, Validation R2: 0.77, Validation RMSPE: 0.001\n"
     ]
    }
   ],
   "metadata": {}
  },
  {
   "cell_type": "markdown",
   "source": [
    "Discussion on cross validation designs\r\n",
    "\r\n",
    "https://www.kaggle.com/vishnurapps/undersanding-kfold-stratifiedkfold-and-groupkfold"
   ],
   "metadata": {}
  },
  {
   "cell_type": "markdown",
   "source": [],
   "metadata": {}
  }
 ],
 "metadata": {
  "interpreter": {
   "hash": "b3ba2566441a7c06988d0923437866b63cedc61552a5af99d1f4fb67d367b25f"
  },
  "kernelspec": {
   "name": "python3",
   "display_name": "Python 3.8.11 64-bit"
  },
  "language_info": {
   "codemirror_mode": {
    "name": "ipython",
    "version": 3
   },
   "file_extension": ".py",
   "mimetype": "text/x-python",
   "name": "python",
   "nbconvert_exporter": "python",
   "pygments_lexer": "ipython3",
   "version": "3.8.11"
  }
 },
 "nbformat": 4,
 "nbformat_minor": 4
}